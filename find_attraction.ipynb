{
 "cells": [
  {
   "cell_type": "markdown",
   "id": "b303e521-a01f-410c-aceb-06551da4d624",
   "metadata": {},
   "source": [
    "### ライブラリのインポート"
   ]
  },
  {
   "cell_type": "code",
   "execution_count": 105,
   "id": "73a882b2-c6ca-4885-8e2c-e1dd6aa36107",
   "metadata": {},
   "outputs": [],
   "source": [
    "import pandas as pd\n",
    "import re\n",
    "import MeCab\n",
    "from sklearn.feature_extraction.text import TfidfVectorizer\n",
    "from sklearn.metrics.pairwise import cosine_similarity\n",
    "\n",
    "# アトラクション名の辞書\n",
    "attractions = {\n",
    "    0: 'ソアリン',\n",
    "    1: 'トイストーリーマニア',\n",
    "    2: 'タワーオブテラー',\n",
    "    3: 'センターオブジアース',\n",
    "    4: 'インディージョーンズ',\n",
    "    5: 'レイジングスピリッツ',\n",
    "    6: 'マジックランプシアター',\n",
    "    7: 'タートルトーク'\n",
    "}"
   ]
  },
  {
   "cell_type": "markdown",
   "id": "9f181200-072d-4215-9672-03272051d684",
   "metadata": {},
   "source": [
    "### dfの読み込み・ソート・成形"
   ]
  },
  {
   "cell_type": "code",
   "execution_count": 106,
   "id": "55480b36-7e60-4774-a787-ea1abea72ad1",
   "metadata": {},
   "outputs": [
    {
     "data": {
      "text/html": [
       "<div>\n",
       "<style scoped>\n",
       "    .dataframe tbody tr th:only-of-type {\n",
       "        vertical-align: middle;\n",
       "    }\n",
       "\n",
       "    .dataframe tbody tr th {\n",
       "        vertical-align: top;\n",
       "    }\n",
       "\n",
       "    .dataframe thead th {\n",
       "        text-align: right;\n",
       "    }\n",
       "</style>\n",
       "<table border=\"1\" class=\"dataframe\">\n",
       "  <thead>\n",
       "    <tr style=\"text-align: right;\">\n",
       "      <th></th>\n",
       "      <th>attraction_id</th>\n",
       "      <th>attraction_name</th>\n",
       "      <th>all_reviews</th>\n",
       "    </tr>\n",
       "  </thead>\n",
       "  <tbody>\n",
       "    <tr>\n",
       "      <th>1</th>\n",
       "      <td>0</td>\n",
       "      <td>ソアリン</td>\n",
       "      <td>ラインカットぎりぎりで並べたソアリン。\\n\\nネタバレしない程度にオススメします。\\n世界で...</td>\n",
       "    </tr>\n",
       "    <tr>\n",
       "      <th>0</th>\n",
       "      <td>1</td>\n",
       "      <td>トイストーリーマニア</td>\n",
       "      <td>パークの営業が再開した7月最初の日曜日にインしてきました。\\n久しぶりすぎるトイマニ体験\\n...</td>\n",
       "    </tr>\n",
       "    <tr>\n",
       "      <th>2</th>\n",
       "      <td>2</td>\n",
       "      <td>タワーオブテラー</td>\n",
       "      <td>1万人の人数制限中のタワーオブテラー\\n待ち時間\\n　1万人の人数制限中のため、インディージ...</td>\n",
       "    </tr>\n",
       "    <tr>\n",
       "      <th>3</th>\n",
       "      <td>3</td>\n",
       "      <td>センターオブジアース</td>\n",
       "      <td>このアトラクションは絶叫嫌いの人にはキツいけど、好きな人には楽しい。\\n最後、加速し落下。加...</td>\n",
       "    </tr>\n",
       "    <tr>\n",
       "      <th>4</th>\n",
       "      <td>4</td>\n",
       "      <td>インディージョーンズ</td>\n",
       "      <td>私は7月の平日にディズニーシーでこのアトラクションに乗りました!\\n私がいつもディズニーシー...</td>\n",
       "    </tr>\n",
       "    <tr>\n",
       "      <th>5</th>\n",
       "      <td>5</td>\n",
       "      <td>レイジングスピリッツ</td>\n",
       "      <td>バッググラウンドに思いを馳せて\\nもう何年も乗ってるレイジングスピリッツ。待ち時間に暇だから...</td>\n",
       "    </tr>\n",
       "    <tr>\n",
       "      <th>6</th>\n",
       "      <td>6</td>\n",
       "      <td>マジックランプシアター</td>\n",
       "      <td>面白い！\\nアシーム君が可愛く、シャバーンのしゃべりが面白くってあっという間でした！\\n\\n...</td>\n",
       "    </tr>\n",
       "    <tr>\n",
       "      <th>7</th>\n",
       "      <td>7</td>\n",
       "      <td>タートルトーク</td>\n",
       "      <td>５月１２日よりドリーのキャラクターが登場したと言うことで行ってきました。\\n\\nネタバレあり...</td>\n",
       "    </tr>\n",
       "  </tbody>\n",
       "</table>\n",
       "</div>"
      ],
      "text/plain": [
       "   attraction_id attraction_name  \\\n",
       "1              0            ソアリン   \n",
       "0              1      トイストーリーマニア   \n",
       "2              2        タワーオブテラー   \n",
       "3              3      センターオブジアース   \n",
       "4              4      インディージョーンズ   \n",
       "5              5      レイジングスピリッツ   \n",
       "6              6     マジックランプシアター   \n",
       "7              7         タートルトーク   \n",
       "\n",
       "                                         all_reviews  \n",
       "1  ラインカットぎりぎりで並べたソアリン。\\n\\nネタバレしない程度にオススメします。\\n世界で...  \n",
       "0  パークの営業が再開した7月最初の日曜日にインしてきました。\\n久しぶりすぎるトイマニ体験\\n...  \n",
       "2  1万人の人数制限中のタワーオブテラー\\n待ち時間\\n　1万人の人数制限中のため、インディージ...  \n",
       "3  このアトラクションは絶叫嫌いの人にはキツいけど、好きな人には楽しい。\\n最後、加速し落下。加...  \n",
       "4  私は7月の平日にディズニーシーでこのアトラクションに乗りました!\\n私がいつもディズニーシー...  \n",
       "5  バッググラウンドに思いを馳せて\\nもう何年も乗ってるレイジングスピリッツ。待ち時間に暇だから...  \n",
       "6  面白い！\\nアシーム君が可愛く、シャバーンのしゃべりが面白くってあっという間でした！\\n\\n...  \n",
       "7  ５月１２日よりドリーのキャラクターが登場したと言うことで行ってきました。\\n\\nネタバレあり...  "
      ]
     },
     "metadata": {},
     "output_type": "display_data"
    }
   ],
   "source": [
    "# CSVファイルの読み込み\n",
    "df = pd.read_csv('data/review/review.csv')\n",
    "df = df.sort_values(by='attraction_id')\n",
    "\n",
    "# レビュー列を抽出して1つのテキストに結合\n",
    "df['all_reviews'] = df.apply(lambda row: ' '.join([str(row[col]) for col in df.columns[2:] if pd.notna(row[col])]), axis=1)\n",
    "df_reviews = df[['attraction_id','attraction_name','all_reviews']]\n",
    "df_reviews = df_reviews.head(8)\n",
    "df_reviews['attraction_id'] = df_reviews['attraction_id'].astype(int)\n",
    "display(df_reviews)"
   ]
  },
  {
   "cell_type": "markdown",
   "id": "ac7b9e34-ef15-455f-b70e-9d8ef55b6e24",
   "metadata": {},
   "source": [
    "### 文の特殊文字除去や小文字化、ストップワードの除去、形態素解析"
   ]
  },
  {
   "cell_type": "code",
   "execution_count": 107,
   "id": "cc1b649c-9a14-4ac5-86ee-b1512d7cc7f9",
   "metadata": {},
   "outputs": [],
   "source": [
    "# 正規表現を使って特殊文字を除去する関数\n",
    "def clean_text(text):\n",
    "    # 正規表現パターンで特殊文字を空白に置換\n",
    "    text = re.sub(r'[^\\w\\s]', ' ', text)\n",
    "    # 余分な空白を除去して返す\n",
    "    return ' '.join(text.split())\n",
    "\n",
    "# テキスト前処理（小文字化、ストップワードの除去、形態素解析）\n",
    "def preprocess_text(text):\n",
    "    # 小文字化\n",
    "    text = text.lower()\n",
    "    \n",
    "    # 特殊文字の除去\n",
    "    text = clean_text(text)\n",
    "    \n",
    "    # MeCabによる形態素解析\n",
    "    tagger = MeCab.Tagger(\"-Owakati\")  # 分かち書き形式で解析\n",
    "    text = tagger.parse(text).strip()  # 不要な空白を除去\n",
    "    \n",
    "    return text\n",
    "\n",
    "# レビューの前処理\n",
    "df_reviews['clean_reviews'] = df_reviews['all_reviews'].apply(preprocess_text)"
   ]
  },
  {
   "cell_type": "markdown",
   "id": "9ef6f855-8ce5-4812-98bd-6ff2099caa8f",
   "metadata": {},
   "source": [
    "### TF-IDF　出現頻度の高い単語"
   ]
  },
  {
   "cell_type": "code",
   "execution_count": 108,
   "id": "71d3080d-be9d-440b-acb6-b9b4dbfd5998",
   "metadata": {},
   "outputs": [],
   "source": [
    "# CountVectorizerを使用して各アトラクションのレビューから単語の出現頻度を計算\n",
    "from sklearn.feature_extraction.text import CountVectorizer\n",
    "\n",
    "def top_words_per_attraction(df, attraction_id, top_n=3):\n",
    "    # 対象アトラクションのレビューを取得\n",
    "    reviews = df[df['attraction_id'] == attraction_id]['all_reviews'].values\n",
    "    \n",
    "    # CountVectorizerを初期化\n",
    "    vectorizer = CountVectorizer()\n",
    "    \n",
    "    # テキストをベクトル化して単語の出現回数を計算\n",
    "    X = vectorizer.fit_transform(reviews)\n",
    "    \n",
    "    # 各単語の出現回数の合計を計算\n",
    "    word_counts = X.sum(axis=0)\n",
    "    \n",
    "    # 単語とその出現回数を取得してDataFrameに格納\n",
    "    word_counts_df = pd.DataFrame({\n",
    "        'word': vectorizer.get_feature_names(),\n",
    "        'count': word_counts.flat\n",
    "    })\n",
    "    \n",
    "    # 出現回数の多い順にソートして上位n件を取得\n",
    "    top_words = word_counts_df.sort_values(by='count', ascending=False).head(top_n)\n",
    "    \n",
    "    return top_words"
   ]
  },
  {
   "cell_type": "code",
   "execution_count": 109,
   "id": "16bf57ae-ab15-4701-be14-058022796c95",
   "metadata": {},
   "outputs": [
    {
     "name": "stdout",
     "output_type": "stream",
     "text": [
      "--- ソアリン ---\n",
      "          word  count\n",
      "447       ソアリン     11\n",
      "519  ファンタスティック      9\n",
      "523       フライト      7\n",
      "\n",
      "--- トイストーリーマニア ---\n",
      "    word  count\n",
      "586   トイ     10\n",
      "364   また      9\n",
      "249   ただ      8\n",
      "\n",
      "--- タワーオブテラー ---\n",
      "    word  count\n",
      "698   オブ     26\n",
      "804  タワー     17\n",
      "830  テラー     12\n",
      "\n",
      "--- センターオブジアース ---\n",
      "     word  count\n",
      "218    オブ      7\n",
      "256  センター      5\n",
      "3      10      3\n",
      "\n",
      "--- インディージョーンズ ---\n",
      "      word  count\n",
      "284   インディ      7\n",
      "154     ただ      4\n",
      "360  ジョーンズ      4\n",
      "\n",
      "--- レイジングスピリッツ ---\n",
      "          word  count\n",
      "209      ジョーンズ      3\n",
      "181  イクチュラコアトル      3\n",
      "175  アクトゥリクトゥリ      3\n",
      "\n",
      "--- マジックランプシアター ---\n",
      "      word  count\n",
      "181  シャバーン      4\n",
      "226  ストーリー      3\n",
      "77     そして      3\n",
      "\n",
      "--- タートルトーク ---\n",
      "         word  count\n",
      "325     クラッシュ      6\n",
      "467  ファインディング      4\n",
      "418     スティッチ      3\n",
      "\n"
     ]
    },
    {
     "name": "stderr",
     "output_type": "stream",
     "text": [
      "/Users/INIAD/miniconda3/lib/python3.9/site-packages/sklearn/utils/deprecation.py:87: FutureWarning: Function get_feature_names is deprecated; get_feature_names is deprecated in 1.0 and will be removed in 1.2. Please use get_feature_names_out instead.\n",
      "  warnings.warn(msg, category=FutureWarning)\n",
      "/Users/INIAD/miniconda3/lib/python3.9/site-packages/sklearn/utils/deprecation.py:87: FutureWarning: Function get_feature_names is deprecated; get_feature_names is deprecated in 1.0 and will be removed in 1.2. Please use get_feature_names_out instead.\n",
      "  warnings.warn(msg, category=FutureWarning)\n",
      "/Users/INIAD/miniconda3/lib/python3.9/site-packages/sklearn/utils/deprecation.py:87: FutureWarning: Function get_feature_names is deprecated; get_feature_names is deprecated in 1.0 and will be removed in 1.2. Please use get_feature_names_out instead.\n",
      "  warnings.warn(msg, category=FutureWarning)\n",
      "/Users/INIAD/miniconda3/lib/python3.9/site-packages/sklearn/utils/deprecation.py:87: FutureWarning: Function get_feature_names is deprecated; get_feature_names is deprecated in 1.0 and will be removed in 1.2. Please use get_feature_names_out instead.\n",
      "  warnings.warn(msg, category=FutureWarning)\n",
      "/Users/INIAD/miniconda3/lib/python3.9/site-packages/sklearn/utils/deprecation.py:87: FutureWarning: Function get_feature_names is deprecated; get_feature_names is deprecated in 1.0 and will be removed in 1.2. Please use get_feature_names_out instead.\n",
      "  warnings.warn(msg, category=FutureWarning)\n",
      "/Users/INIAD/miniconda3/lib/python3.9/site-packages/sklearn/utils/deprecation.py:87: FutureWarning: Function get_feature_names is deprecated; get_feature_names is deprecated in 1.0 and will be removed in 1.2. Please use get_feature_names_out instead.\n",
      "  warnings.warn(msg, category=FutureWarning)\n",
      "/Users/INIAD/miniconda3/lib/python3.9/site-packages/sklearn/utils/deprecation.py:87: FutureWarning: Function get_feature_names is deprecated; get_feature_names is deprecated in 1.0 and will be removed in 1.2. Please use get_feature_names_out instead.\n",
      "  warnings.warn(msg, category=FutureWarning)\n",
      "/Users/INIAD/miniconda3/lib/python3.9/site-packages/sklearn/utils/deprecation.py:87: FutureWarning: Function get_feature_names is deprecated; get_feature_names is deprecated in 1.0 and will be removed in 1.2. Please use get_feature_names_out instead.\n",
      "  warnings.warn(msg, category=FutureWarning)\n"
     ]
    }
   ],
   "source": [
    "# 各アトラクションごとに出現回数の多い単語を表示\n",
    "for attraction_id in attractions.keys():\n",
    "    attraction_name = attractions[attraction_id]\n",
    "    print(f\"--- {attraction_name} ---\")\n",
    "    top_words = top_words_per_attraction(df_reviews, attraction_id)\n",
    "    print(top_words)\n",
    "    print()"
   ]
  },
  {
   "cell_type": "code",
   "execution_count": null,
   "id": "178f0018-2b12-4f38-8956-55bb2d1d6b81",
   "metadata": {},
   "outputs": [],
   "source": []
  },
  {
   "cell_type": "markdown",
   "id": "0d52b39a-ea4c-49a9-a489-c8ac95944828",
   "metadata": {},
   "source": [
    "### 単語から予測されるアトラクションを表示する"
   ]
  },
  {
   "cell_type": "code",
   "execution_count": 110,
   "id": "30a6b70b-83ed-444f-91ee-51c455d407c5",
   "metadata": {},
   "outputs": [],
   "source": [
    "from sklearn.feature_extraction.text import TfidfVectorizer\n",
    "from sklearn.metrics.pairwise import cosine_similarity\n",
    "\n",
    "# TF-IDFベクトル化\n",
    "vectorizer = TfidfVectorizer()\n",
    "tfidf_matrix = vectorizer.fit_transform(df_reviews['clean_reviews'])\n",
    "\n",
    "def find_related_attraction(word):\n",
    "    # 入力単語を前処理\n",
    "    word = preprocess_text(word)\n",
    "    \n",
    "    # 入力単語をベクトル化\n",
    "    word_vec = vectorizer.transform([word])\n",
    "    \n",
    "    # 類似度計算\n",
    "    cosine_similarities = cosine_similarity(word_vec, tfidf_matrix).flatten()\n",
    "    \n",
    "    # 最も類似度が高いアトラクションのインデックスを取得\n",
    "    related_index = cosine_similarities.argmax()\n",
    "    \n",
    "    # 類似度が低い場合や該当するアトラクションがない場合は8を返す\n",
    "    if cosine_similarities[related_index] == 0:\n",
    "        return '該当アトラクションなし'\n",
    "    \n",
    "    # 対応するアトラクション名を取得\n",
    "    related_attraction = df_reviews.iloc[related_index]['attraction_id']\n",
    "    \n",
    "    return attractions[related_attraction]"
   ]
  },
  {
   "cell_type": "code",
   "execution_count": 111,
   "id": "1b62b567-5956-49a2-92a4-146e829b1dec",
   "metadata": {},
   "outputs": [
    {
     "name": "stdout",
     "output_type": "stream",
     "text": [
      "トイストーリーマニア\n"
     ]
    }
   ],
   "source": [
    "# テスト\n",
    "word = '筋肉痛'\n",
    "print(find_related_attraction(word))"
   ]
  },
  {
   "cell_type": "code",
   "execution_count": null,
   "id": "fc3a23dc-1c02-45df-bff5-99e4aa02dbff",
   "metadata": {},
   "outputs": [],
   "source": []
  }
 ],
 "metadata": {
  "kernelspec": {
   "display_name": "Python 3 (ipykernel)",
   "language": "python",
   "name": "python3"
  },
  "language_info": {
   "codemirror_mode": {
    "name": "ipython",
    "version": 3
   },
   "file_extension": ".py",
   "mimetype": "text/x-python",
   "name": "python",
   "nbconvert_exporter": "python",
   "pygments_lexer": "ipython3",
   "version": "3.9.7"
  }
 },
 "nbformat": 4,
 "nbformat_minor": 5
}
