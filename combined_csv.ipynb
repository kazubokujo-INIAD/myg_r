{
 "cells": [
  {
   "cell_type": "code",
   "execution_count": 2,
   "id": "fe25e687-7286-462b-a5dd-6644692eba7d",
   "metadata": {},
   "outputs": [],
   "source": [
    "import os\n",
    "import pandas as pd"
   ]
  },
  {
   "cell_type": "code",
   "execution_count": 4,
   "id": "26cab5d3-4ad6-49fa-b01e-d3db05fc3417",
   "metadata": {},
   "outputs": [
    {
     "name": "stdout",
     "output_type": "stream",
     "text": [
      "結合されたCSVファイルは automation_median_combined_reviews.csv に保存されました。\n"
     ]
    }
   ],
   "source": [
    "# 結合したいCSVファイルが存在するディレクトリを指定\n",
    "directory = './automation_med_best_result/'\n",
    "\n",
    "# 結合したファイルを保存するためのファイル名\n",
    "output_file = 'automation_median_combined_reviews.csv'\n",
    "\n",
    "# \"re\"で始まり\"review.csv\"で終わるファイルをリストに格納\n",
    "csv_files = [f for f in os.listdir(directory) if f.startswith('re') and f.endswith('review.csv')]\n",
    "\n",
    "# 空のデータフレームを作成\n",
    "combined_df = pd.DataFrame()\n",
    "\n",
    "# ファイルを順に読み込み、データフレームに結合\n",
    "for file in csv_files:\n",
    "    file_path = os.path.join(directory, file)\n",
    "    df = pd.read_csv(file_path)\n",
    "    combined_df = pd.concat([combined_df, df], ignore_index=True)\n",
    "\n",
    "# 'トータル所要時間'が675を超えるデータを削除\n",
    "combined_df = combined_df[combined_df['トータル所要時間'] <= 675]\n",
    "\n",
    "# 結合結果をCSVファイルとして保存\n",
    "combined_df.to_csv(os.path.join(directory, output_file), index=False)\n",
    "\n",
    "print(f\"結合されたCSVファイルは {output_file} に保存されました。\")\n"
   ]
  },
  {
   "cell_type": "code",
   "execution_count": null,
   "id": "b567a0be-5df1-48e5-8ced-eafbb3cdff9d",
   "metadata": {},
   "outputs": [],
   "source": []
  },
  {
   "cell_type": "code",
   "execution_count": null,
   "id": "e4e704c7-65ef-463c-ae3b-7666d642ec48",
   "metadata": {},
   "outputs": [],
   "source": []
  },
  {
   "cell_type": "code",
   "execution_count": null,
   "id": "ee6d0d67-889b-49bd-9c5b-8b45045caccd",
   "metadata": {},
   "outputs": [],
   "source": []
  },
  {
   "cell_type": "code",
   "execution_count": null,
   "id": "e6f7f5a7-537a-499b-8702-3be00eb40739",
   "metadata": {},
   "outputs": [],
   "source": []
  },
  {
   "cell_type": "code",
   "execution_count": null,
   "id": "50577b07-9013-4898-bb8d-73847432bb02",
   "metadata": {},
   "outputs": [],
   "source": []
  },
  {
   "cell_type": "code",
   "execution_count": null,
   "id": "669c81eb-588c-41ff-9f93-17c23ac1c298",
   "metadata": {},
   "outputs": [],
   "source": []
  },
  {
   "cell_type": "code",
   "execution_count": null,
   "id": "f08c0c47-2632-4612-b4a8-5afff0772110",
   "metadata": {},
   "outputs": [],
   "source": []
  },
  {
   "cell_type": "code",
   "execution_count": 7,
   "id": "c75f2d6a-f1c4-4561-a065-cceaaebd32aa",
   "metadata": {},
   "outputs": [
    {
     "name": "stdout",
     "output_type": "stream",
     "text": [
      "ソートされたCSVファイルは combined_data.csv に保存されました。\n"
     ]
    }
   ],
   "source": [
    "import os\n",
    "import pandas as pd\n",
    "\n",
    "# 複数のフォルダパスをリストで指定\n",
    "directories = [\n",
    "    './automation_best_result_csv/',\n",
    "    './automation_med_best_result/',\n",
    "    './best_result_csv/',\n",
    "    # 必要に応じてフォルダパスを追加\n",
    "]\n",
    "\n",
    "# 出力先のファイル名を指定\n",
    "output_file = 'combined_data.csv'\n",
    "\n",
    "# 空のデータフレームを作成\n",
    "combined_df = pd.DataFrame()\n",
    "\n",
    "# 指定されたすべてのフォルダを走査\n",
    "for directory in directories:\n",
    "    # サブディレクトリも含めてCSVファイルを検索\n",
    "    for root, _, files in os.walk(directory):\n",
    "        for file in files:\n",
    "            if file.endswith('.csv'):\n",
    "                file_path = os.path.join(root, file)\n",
    "                df = pd.read_csv(file_path)\n",
    "                \n",
    "                # '日付'列が空欄の場合に'median'を入力\n",
    "                df['日付'].fillna('median', inplace=True)\n",
    "                \n",
    "                # 'lambda'列を削除\n",
    "                if 'lambda' in df.columns:\n",
    "                    df.drop(columns=['lambda'], inplace=True)\n",
    "                \n",
    "                # 'トータル所要時間'が675以下のデータのみを抽出\n",
    "                df_filtered = df[df['トータル所要時間'] <= 675]\n",
    "                \n",
    "                # フィルタリングされたデータを結合\n",
    "                combined_df = pd.concat([combined_df, df_filtered], ignore_index=True)\n",
    "\n",
    "# データをソート（例：'日付'列でソート）\n",
    "combined_df.sort_values(by='日付', ascending=True, inplace=True)\n",
    "\n",
    "# 結合したデータを1つのCSVファイルとして保存\n",
    "combined_df.to_csv(output_file, index=False)\n",
    "\n",
    "print(f\"ソートされたCSVファイルは {output_file} に保存されました。\")\n"
   ]
  },
  {
   "cell_type": "code",
   "execution_count": null,
   "id": "a1ff2b4b-0a88-4f13-a50d-66b554ea8f1c",
   "metadata": {},
   "outputs": [],
   "source": []
  },
  {
   "cell_type": "code",
   "execution_count": null,
   "id": "36293991-c016-4e4a-89a1-536934cc5f7a",
   "metadata": {},
   "outputs": [],
   "source": []
  },
  {
   "cell_type": "code",
   "execution_count": 9,
   "id": "c95e3e0f-07c9-4072-a1f9-7b4b0cf1f3a0",
   "metadata": {},
   "outputs": [
    {
     "name": "stdout",
     "output_type": "stream",
     "text": [
      "               日付  トータル満足度  トータル所要時間  \\\n",
      "0      2022-07-01   6521.0     639.0   \n",
      "1      2022-07-01   7547.0     633.0   \n",
      "2      2022-07-01   7525.0     656.0   \n",
      "3      2022-07-01   7050.0     600.0   \n",
      "4      2022-07-01   7061.0     609.0   \n",
      "...           ...      ...       ...   \n",
      "10245      median   6138.0     675.0   \n",
      "10246      median   5646.0     673.0   \n",
      "10247      median   6028.0     671.5   \n",
      "10248      median   5153.0     653.5   \n",
      "10249      median   6054.0     661.0   \n",
      "\n",
      "                                                   予定プラン  \\\n",
      "0      [5, 6, 1, 6, 2, 3, 4, 4, 4, 4, 4, 3, 5, 3, 3, ...   \n",
      "1      [7, 3, 4, 2, 3, 3, 5, 4, 2, 4, 2, 5, 3, 4, 4, ...   \n",
      "2      [4, 4, 3, 5, 2, 5, 3, 2, 4, 2, 4, 4, 2, 4, 3, ...   \n",
      "3          [6, 1, 1, 4, 0, 3, 0, 1, 5, 4, 0, 1, 3, 1, 4]   \n",
      "4          [2, 3, 0, 3, 0, 4, 0, 0, 5, 0, 3, 1, 1, 1, 1]   \n",
      "...                                                  ...   \n",
      "10245      [5, 6, 3, 4, 7, 4, 7, 7, 4, 5, 4, 2, 3, 4, 4]   \n",
      "10246   [7, 6, 6, 2, 4, 3, 4, 2, 4, 5, 5, 2, 3, 5, 5, 5]   \n",
      "10247  [5, 6, 5, 5, 1, 5, 4, 5, 3, 5, 4, 5, 5, 4, 7, ...   \n",
      "10248               [5, 4, 4, 3, 6, 4, 7, 0, 5, 7, 5, 3]   \n",
      "10249      [5, 5, 7, 6, 2, 6, 4, 6, 4, 5, 4, 5, 3, 5, 5]   \n",
      "\n",
      "                                                  最適プラン  \\\n",
      "0            [5, 6, 1, 6, 2, 3, 4, 3, 5, 3, 6, 0, 5, 3]   \n",
      "1      [7, 3, 4, 2, 3, 5, 4, 2, 4, 2, 5, 3, 4, 1, 3, 2]   \n",
      "2      [4, 3, 5, 2, 5, 3, 2, 4, 2, 4, 2, 4, 3, 5, 4, 6]   \n",
      "3         [6, 1, 1, 4, 0, 3, 0, 1, 5, 4, 0, 1, 3, 1, 4]   \n",
      "4         [2, 3, 0, 3, 0, 4, 0, 0, 5, 0, 3, 1, 1, 1, 1]   \n",
      "...                                                 ...   \n",
      "10245           [5, 6, 3, 4, 7, 4, 7, 4, 5, 4, 2, 3, 4]   \n",
      "10246              [7, 6, 2, 4, 3, 4, 2, 4, 5, 2, 3, 5]   \n",
      "10247           [5, 6, 5, 1, 5, 4, 5, 3, 5, 4, 5, 4, 7]   \n",
      "10248                 [5, 4, 3, 6, 4, 7, 0, 5, 7, 5, 3]   \n",
      "10249           [5, 7, 6, 2, 6, 4, 6, 4, 5, 4, 5, 3, 5]   \n",
      "\n",
      "                                               タイムスケジュール  \n",
      "0      [0, 30, 60, 150, 210, 270, 315, 345, 390, 420,...  \n",
      "1      [0, 45, 120, 165, 225, 255, 285, 315, 375, 390...  \n",
      "2      [0, 30, 90, 135, 180, 225, 255, 315, 345, 420,...  \n",
      "3      [0, 45, 120, 180, 195, 255, 285, 345, 420, 435...  \n",
      "4      [0, 75, 120, 195, 225, 285, 315, 375, 450, 465...  \n",
      "...                                                  ...  \n",
      "10245  [0, 30, 60, 135, 195, 270, 315, 375, 435, 480,...  \n",
      "10246  [0, 45, 90, 165, 225, 300, 345, 420, 465, 525,...  \n",
      "10247  [0, 30, 60, 120, 225, 270, 315, 375, 435, 480,...  \n",
      "10248  [0, 30, 75, 150, 210, 270, 330, 435, 495, 555,...  \n",
      "10249  [0, 30, 75, 135, 210, 270, 330, 390, 435, 480,...  \n",
      "\n",
      "[10250 rows x 6 columns]\n"
     ]
    }
   ],
   "source": [
    "import pandas as pd\n",
    "import ast\n",
    "\n",
    "# popularityリスト（各アトラクションの人気度）\n",
    "popularity = [476, 465, 473, 472, 480, 452, 461, 478]\n",
    "\n",
    "# CSVファイルを読み込み\n",
    "df = pd.read_csv('combined_data.csv')\n",
    "\n",
    "# '最適プラン'の総和を計算し、'トータル満足度'に反映\n",
    "for index, row in df.iterrows():\n",
    "    # '最適プラン'をリストに変換（文字列をリストに変換）\n",
    "    try:\n",
    "        optimal_plan = ast.literal_eval(row['最適プラン'])\n",
    "    except (ValueError, SyntaxError):\n",
    "        print(f\"エラー: 行 {index} の '最適プラン' を解析できません\")\n",
    "        continue\n",
    "    \n",
    "    # 人気度の総和を計算\n",
    "    total_popularity = sum(popularity[i] for i in optimal_plan)\n",
    "    \n",
    "    # トータル満足度に反映\n",
    "    df.at[index, 'トータル満足度'] = total_popularity\n",
    "\n",
    "# 結果を確認\n",
    "#print(df)\n",
    "\n",
    "# 必要に応じてCSVに保存\n",
    "df.to_csv('updated_combined_data.csv', index=False)\n"
   ]
  },
  {
   "cell_type": "code",
   "execution_count": null,
   "id": "b1b180d1-5207-4a16-9a47-80a1b44587b9",
   "metadata": {},
   "outputs": [],
   "source": []
  }
 ],
 "metadata": {
  "kernelspec": {
   "display_name": "Python 3 (ipykernel)",
   "language": "python",
   "name": "python3"
  },
  "language_info": {
   "codemirror_mode": {
    "name": "ipython",
    "version": 3
   },
   "file_extension": ".py",
   "mimetype": "text/x-python",
   "name": "python",
   "nbconvert_exporter": "python",
   "pygments_lexer": "ipython3",
   "version": "3.9.7"
  }
 },
 "nbformat": 4,
 "nbformat_minor": 5
}
