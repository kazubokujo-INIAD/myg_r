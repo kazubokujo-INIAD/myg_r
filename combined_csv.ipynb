{
 "cells": [
  {
   "cell_type": "code",
   "execution_count": 17,
   "id": "fe25e687-7286-462b-a5dd-6644692eba7d",
   "metadata": {},
   "outputs": [],
   "source": [
    "import os\n",
    "import pandas as pd"
   ]
  },
  {
   "cell_type": "code",
   "execution_count": 18,
   "id": "26cab5d3-4ad6-49fa-b01e-d3db05fc3417",
   "metadata": {},
   "outputs": [
    {
     "name": "stdout",
     "output_type": "stream",
     "text": [
      "結合されたCSVファイルは combined_reviews.csv に保存されました。\n"
     ]
    }
   ],
   "source": [
    "# 結合したいCSVファイルが存在するディレクトリを指定\n",
    "directory = './automation_best_result_csv/'\n",
    "\n",
    "# 結合したファイルを保存するためのファイル名\n",
    "output_file = 'combined_reviews.csv'\n",
    "\n",
    "# \"re\"で始まり\"review.csv\"で終わるファイルをリストに格納\n",
    "csv_files = [f for f in os.listdir(directory) if f.startswith('re') and f.endswith('review.csv')]\n",
    "\n",
    "# 空のデータフレームを作成\n",
    "combined_df = pd.DataFrame()\n",
    "\n",
    "# ファイルを順に読み込み、データフレームに結合\n",
    "for file in csv_files:\n",
    "    file_path = os.path.join(directory, file)\n",
    "    df = pd.read_csv(file_path)\n",
    "    combined_df = pd.concat([combined_df, df], ignore_index=True)\n",
    "\n",
    "# 'トータル所要時間'が675を超えるデータを削除\n",
    "combined_df = combined_df[combined_df['トータル所要時間'] <= 675]\n",
    "\n",
    "# 結合結果をCSVファイルとして保存\n",
    "combined_df.to_csv(os.path.join(directory, output_file), index=False)\n",
    "\n",
    "print(f\"結合されたCSVファイルは {output_file} に保存されました。\")\n"
   ]
  },
  {
   "cell_type": "code",
   "execution_count": null,
   "id": "b567a0be-5df1-48e5-8ced-eafbb3cdff9d",
   "metadata": {},
   "outputs": [],
   "source": []
  },
  {
   "cell_type": "code",
   "execution_count": null,
   "id": "e4e704c7-65ef-463c-ae3b-7666d642ec48",
   "metadata": {},
   "outputs": [],
   "source": []
  }
 ],
 "metadata": {
  "kernelspec": {
   "display_name": "Python 3 (ipykernel)",
   "language": "python",
   "name": "python3"
  },
  "language_info": {
   "codemirror_mode": {
    "name": "ipython",
    "version": 3
   },
   "file_extension": ".py",
   "mimetype": "text/x-python",
   "name": "python",
   "nbconvert_exporter": "python",
   "pygments_lexer": "ipython3",
   "version": "3.9.7"
  }
 },
 "nbformat": 4,
 "nbformat_minor": 5
}
