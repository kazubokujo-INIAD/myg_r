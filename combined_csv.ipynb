{
 "cells": [
  {
   "cell_type": "code",
   "execution_count": 2,
   "id": "fe25e687-7286-462b-a5dd-6644692eba7d",
   "metadata": {},
   "outputs": [],
   "source": [
    "import os\n",
    "import pandas as pd"
   ]
  },
  {
   "cell_type": "code",
   "execution_count": 4,
   "id": "26cab5d3-4ad6-49fa-b01e-d3db05fc3417",
   "metadata": {},
   "outputs": [
    {
     "name": "stdout",
     "output_type": "stream",
     "text": [
      "結合されたCSVファイルは automation_median_combined_reviews.csv に保存されました。\n"
     ]
    }
   ],
   "source": [
    "# 結合したいCSVファイルが存在するディレクトリを指定\n",
    "directory = './automation_med_best_result/'\n",
    "\n",
    "# 結合したファイルを保存するためのファイル名\n",
    "output_file = 'automation_median_combined_reviews.csv'\n",
    "\n",
    "# \"re\"で始まり\"review.csv\"で終わるファイルをリストに格納\n",
    "csv_files = [f for f in os.listdir(directory) if f.startswith('re') and f.endswith('review.csv')]\n",
    "\n",
    "# 空のデータフレームを作成\n",
    "combined_df = pd.DataFrame()\n",
    "\n",
    "# ファイルを順に読み込み、データフレームに結合\n",
    "for file in csv_files:\n",
    "    file_path = os.path.join(directory, file)\n",
    "    df = pd.read_csv(file_path)\n",
    "    combined_df = pd.concat([combined_df, df], ignore_index=True)\n",
    "\n",
    "# 'トータル所要時間'が675を超えるデータを削除\n",
    "combined_df = combined_df[combined_df['トータル所要時間'] <= 675]\n",
    "\n",
    "# 結合結果をCSVファイルとして保存\n",
    "combined_df.to_csv(os.path.join(directory, output_file), index=False)\n",
    "\n",
    "print(f\"結合されたCSVファイルは {output_file} に保存されました。\")\n"
   ]
  },
  {
   "cell_type": "code",
   "execution_count": null,
   "id": "b567a0be-5df1-48e5-8ced-eafbb3cdff9d",
   "metadata": {},
   "outputs": [],
   "source": []
  },
  {
   "cell_type": "code",
   "execution_count": null,
   "id": "e4e704c7-65ef-463c-ae3b-7666d642ec48",
   "metadata": {},
   "outputs": [],
   "source": []
  },
  {
   "cell_type": "code",
   "execution_count": null,
   "id": "ee6d0d67-889b-49bd-9c5b-8b45045caccd",
   "metadata": {},
   "outputs": [],
   "source": []
  },
  {
   "cell_type": "code",
   "execution_count": null,
   "id": "e6f7f5a7-537a-499b-8702-3be00eb40739",
   "metadata": {},
   "outputs": [],
   "source": []
  },
  {
   "cell_type": "code",
   "execution_count": null,
   "id": "50577b07-9013-4898-bb8d-73847432bb02",
   "metadata": {},
   "outputs": [],
   "source": []
  },
  {
   "cell_type": "code",
   "execution_count": null,
   "id": "669c81eb-588c-41ff-9f93-17c23ac1c298",
   "metadata": {},
   "outputs": [],
   "source": []
  },
  {
   "cell_type": "code",
   "execution_count": null,
   "id": "f08c0c47-2632-4612-b4a8-5afff0772110",
   "metadata": {},
   "outputs": [],
   "source": []
  },
  {
   "cell_type": "code",
   "execution_count": 5,
   "id": "c75f2d6a-f1c4-4561-a065-cceaaebd32aa",
   "metadata": {},
   "outputs": [
    {
     "name": "stdout",
     "output_type": "stream",
     "text": [
      "フィルタリングされたCSVファイルは combined_data.csv に保存されました。\n"
     ]
    }
   ],
   "source": [
    "import os\n",
    "import pandas as pd\n",
    "\n",
    "# 複数のフォルダパスをリストで指定\n",
    "directories = [\n",
    "    './automation_best_result_csv/',\n",
    "    './automation_med_best_result/',\n",
    "    './best_result_csv/',\n",
    "    # 必要に応じてフォルダパスを追加\n",
    "]\n",
    "\n",
    "# 出力先のファイル名を指定\n",
    "output_file = 'combined_data.csv'\n",
    "\n",
    "# 空のデータフレームを作成\n",
    "combined_df = pd.DataFrame()\n",
    "\n",
    "# 指定されたすべてのフォルダを走査\n",
    "for directory in directories:\n",
    "    # サブディレクトリも含めてCSVファイルを検索\n",
    "    for root, _, files in os.walk(directory):\n",
    "        for file in files:\n",
    "            if file.endswith('.csv'):\n",
    "                file_path = os.path.join(root, file)\n",
    "                df = pd.read_csv(file_path)\n",
    "                \n",
    "                # 'トータル所要時間'が675以下のデータのみを抽出\n",
    "                df_filtered = df[df['トータル所要時間'] <= 675]\n",
    "                \n",
    "                # フィルタリングされたデータを結合\n",
    "                combined_df = pd.concat([combined_df, df_filtered], ignore_index=True)\n",
    "\n",
    "# 結合したデータを1つのCSVファイルとして保存\n",
    "combined_df.to_csv(output_file, index=False)\n",
    "\n",
    "print(f\"フィルタリングされたCSVファイルは {output_file} に保存されました。\")"
   ]
  },
  {
   "cell_type": "code",
   "execution_count": null,
   "id": "a1ff2b4b-0a88-4f13-a50d-66b554ea8f1c",
   "metadata": {},
   "outputs": [],
   "source": []
  }
 ],
 "metadata": {
  "kernelspec": {
   "display_name": "Python 3 (ipykernel)",
   "language": "python",
   "name": "python3"
  },
  "language_info": {
   "codemirror_mode": {
    "name": "ipython",
    "version": 3
   },
   "file_extension": ".py",
   "mimetype": "text/x-python",
   "name": "python",
   "nbconvert_exporter": "python",
   "pygments_lexer": "ipython3",
   "version": "3.9.7"
  }
 },
 "nbformat": 4,
 "nbformat_minor": 5
}
