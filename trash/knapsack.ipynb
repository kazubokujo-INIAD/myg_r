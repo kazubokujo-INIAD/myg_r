{
 "cells": [
  {
   "cell_type": "code",
   "execution_count": 17,
   "id": "7ca68236-898a-4924-ba61-07fb7d6d0c9a",
   "metadata": {},
   "outputs": [],
   "source": [
    "# ライブラリのインポート\n",
    "import numpy as np\n",
    "import pandas as pd\n",
    "from datetime import datetime, timedelta\n",
    "import os"
   ]
  },
  {
   "cell_type": "code",
   "execution_count": 21,
   "id": "2e80d1c8-5459-49f7-b13d-983dca96bd5a",
   "metadata": {},
   "outputs": [],
   "source": [
    "# ナップザック問題を解く関数（アトラクション1個目は移動時間を加えない）\n",
    "def knapsack(max_time, required_times, popularity, waiting_times, move_time):\n",
    "    n = len(required_times)\n",
    "    dp = np.zeros((n+1, max_time+1))\n",
    "    keep = np.zeros((n+1, max_time+1), dtype=bool)\n",
    "\n",
    "    for i in range(1, n+1):\n",
    "        for w in range(max_time+1):\n",
    "            # アトラクション1個目は移動時間を加えない\n",
    "            total_time = required_times[i-1] + waiting_times[i-1] + (move_time if i > 1 else 0)\n",
    "            if total_time <= w:\n",
    "                if dp[i-1][w] < dp[i-1][w-total_time] + popularity[i-1]:\n",
    "                    dp[i][w] = dp[i-1][w-total_time] + popularity[i-1]\n",
    "                    keep[i][w] = True\n",
    "                else:\n",
    "                    dp[i][w] = dp[i-1][w]\n",
    "            else:\n",
    "                dp[i][w] = dp[i-1][w]\n",
    "\n",
    "    # 解を復元する\n",
    "    res = []\n",
    "    times = []\n",
    "    w = max_time\n",
    "    for i in range(n, 0, -1):\n",
    "        if keep[i][w]:\n",
    "            res.append(attractions[i-1])\n",
    "            total_time = required_times[i-1] + waiting_times[i-1] + (move_time if i > 1 else 0)\n",
    "            w -= total_time\n",
    "            times.append(w)\n",
    "\n",
    "    res.reverse()\n",
    "    times.reverse()\n",
    "    return res, times, dp[n][max_time]"
   ]
  },
  {
   "cell_type": "code",
   "execution_count": 26,
   "id": "760cf3a6-dfdd-4d7f-beea-025304497df2",
   "metadata": {},
   "outputs": [],
   "source": [
    "# アトラクションの所要時間と人気度\n",
    "attractions = ['ソアリン', 'トイストーリーマニア', 'タワーオブテラー', 'センターオブジアース', 'インディージョーンズ', 'レイジングスピリッツ', 'マジックランプシアター', 'タートルトーク']\n",
    "required_times = [5, 10, 5, 5, 5, 5, 25, 30]\n",
    "popularity = [84, 69, 55, 45, 33, 28, 19, 22]\n",
    "max_time = 705  # パーク内にいる時間 9:00~20:45 計705分\n",
    "move_time = 30"
   ]
  },
  {
   "cell_type": "code",
   "execution_count": 27,
   "id": "5c864bcd-3e45-473e-8446-3e63a2d6e585",
   "metadata": {},
   "outputs": [
    {
     "name": "stdout",
     "output_type": "stream",
     "text": [
      "フォルダ: 2022-07-01.csv\n",
      "2022-07-01 11:35:00 に インディージョーンズ に乗ります\n",
      "2022-07-01 14:00:00 に センターオブジアース に乗ります\n",
      "2022-07-01 16:25:00 に タワーオブテラー に乗ります\n",
      "2022-07-01 18:25:00 に トイストーリーマニア に乗ります\n",
      "2022-07-01 20:05:00 に ソアリン に乗ります\n",
      "最大人気度スコア: 286.0\n",
      "----------------------------------------\n"
     ]
    }
   ],
   "source": [
    "# メイン処理\n",
    "# date_dataフォルダからCSVファイルを取り出して処理\n",
    "folder_path = 'file'\n",
    "file_names = sorted(os.listdir(folder_path))  # フォルダ名をソート\n",
    "for file_name in file_names:\n",
    "    file_path = os.path.join(folder_path, file_name)\n",
    "    if file_path.endswith('.csv'):\n",
    "        data = pd.read_csv(file_path)\n",
    "        start_time = datetime.strptime(data.iloc[0]['時間'], '%Y-%m-%d %H:%M:%S')\n",
    "\n",
    "        waiting_times = [row[attr] for attr in attractions for index, row in data.iterrows()]\n",
    "        best_plan, best_times, max_popularity = knapsack(max_time, required_times, popularity, waiting_times, move_time=30)\n",
    "\n",
    "        ride_times = [start_time + timedelta(minutes=(max_time - t)) for t in best_times]\n",
    "        ride_schedule = list(zip(ride_times, best_plan))\n",
    "        ride_schedule.sort(key=lambda x: x[0])\n",
    "\n",
    "        print(f\"フォルダ: {file_name}\")\n",
    "        for time, attraction in ride_schedule:\n",
    "            print(f\"{time.strftime('%Y-%m-%d %H:%M:%S')} に {attraction} に乗ります\")\n",
    "        print(\"最大人気度スコア:\", max_popularity)\n",
    "        print(\"-\" * 40)\n"
   ]
  },
  {
   "cell_type": "code",
   "execution_count": null,
   "id": "2b46cd58-cf96-4d83-9561-fd3be1b6e2a5",
   "metadata": {},
   "outputs": [],
   "source": []
  },
  {
   "cell_type": "code",
   "execution_count": null,
   "id": "266ab03a-6de0-414c-94d3-93710837bfd0",
   "metadata": {},
   "outputs": [],
   "source": []
  },
  {
   "cell_type": "code",
   "execution_count": null,
   "id": "9ecf9cfd-fe2d-43b4-9afc-7ef7cffb1dec",
   "metadata": {},
   "outputs": [],
   "source": []
  },
  {
   "cell_type": "code",
   "execution_count": null,
   "id": "8cdb7a7b-10bc-48b3-89d5-0465b2cd2a5a",
   "metadata": {},
   "outputs": [],
   "source": []
  },
  {
   "cell_type": "code",
   "execution_count": null,
   "id": "135a1a90-9db8-4d0d-a952-3d2fceaeb33c",
   "metadata": {},
   "outputs": [],
   "source": []
  },
  {
   "cell_type": "code",
   "execution_count": null,
   "id": "cd88d761-a6f2-4d62-865f-8659a65a2e04",
   "metadata": {},
   "outputs": [],
   "source": []
  },
  {
   "cell_type": "code",
   "execution_count": null,
   "id": "5f1b4b07-ed4e-4c12-8f97-61cdabdd8e37",
   "metadata": {},
   "outputs": [],
   "source": []
  },
  {
   "cell_type": "code",
   "execution_count": null,
   "id": "9a298353-388b-4f5f-99b4-c91bdf27a3f1",
   "metadata": {},
   "outputs": [],
   "source": []
  },
  {
   "cell_type": "code",
   "execution_count": null,
   "id": "8d4a30b4-400d-4a36-88ac-5bf5aaad88e0",
   "metadata": {},
   "outputs": [],
   "source": []
  }
 ],
 "metadata": {
  "kernelspec": {
   "display_name": "Python 3 (ipykernel)",
   "language": "python",
   "name": "python3"
  },
  "language_info": {
   "codemirror_mode": {
    "name": "ipython",
    "version": 3
   },
   "file_extension": ".py",
   "mimetype": "text/x-python",
   "name": "python",
   "nbconvert_exporter": "python",
   "pygments_lexer": "ipython3",
   "version": "3.9.7"
  }
 },
 "nbformat": 4,
 "nbformat_minor": 5
}
