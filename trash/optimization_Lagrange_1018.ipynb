{
 "cells": [
  {
   "cell_type": "markdown",
   "id": "f5915c9c-a7fe-48bf-8fa2-2a8e6bf9833d",
   "metadata": {},
   "source": [
    "### ライブラリのインポート"
   ]
  },
  {
   "cell_type": "code",
   "execution_count": 24,
   "id": "bf55c79d-6e1a-4739-80f1-4e08ebf59dee",
   "metadata": {},
   "outputs": [],
   "source": [
    "import numpy as np\n",
    "import pandas as pd\n",
    "from datetime import datetime, timedelta\n",
    "import os\n",
    "import math\n",
    "import optuna\n",
    "import re"
   ]
  },
  {
   "cell_type": "markdown",
   "id": "1565ad32-68f6-4e39-8b0a-96ca01e665bb",
   "metadata": {},
   "source": [
    "### 計算用関数"
   ]
  },
  {
   "cell_type": "code",
   "execution_count": 25,
   "id": "515b9e46-d8f5-4d5d-b9ed-2b58bf762a9d",
   "metadata": {},
   "outputs": [],
   "source": [
    "# 行数を指定すると所用時間を返す関数\n",
    "def knapsack(row_x, data_x,required_time_x, waiting_time_x, move_time_x, attraction_no_x):\n",
    "    waiting_time_x = data_x.iloc[row_x, attraction_no_x]\n",
    "    ans = required_time_x + waiting_time_x + move_time_x\n",
    "    return ans\n",
    "\n",
    "\n",
    "# 合計所要時間と合計人気度を算出する関数\n",
    "def ride_calculation(data, ride_lst, required_times, popularity, move_time):\n",
    "    # print(data)\n",
    "    # print(ride_lst)\n",
    "    # print(required_times)\n",
    "    # print(move_time)\n",
    "    total_popularity = 0\n",
    "    total_time = 0\n",
    "    ride_time = []\n",
    "    new_ride_lst = []\n",
    "    # start_time = data.index[0]\n",
    "    # print(\"start time is:\", calculate_time(start_time))\n",
    "    row = 0\n",
    "    try:\n",
    "        for i in ride_lst:\n",
    "            # total_timeが675以上かつiが0または1の場合にループを強制終了\n",
    "            # ソアリン、トイストーリーMは20:15以降DPA所持者のみ乗車可能\n",
    "            if (data.index[row]) >= 675 and (i == 0 or i == 1):\n",
    "                continue\n",
    "            \n",
    "            else:\n",
    "                # iが8以上の場合、次のループへ(該当しないアトラクション)\n",
    "                if i >= 8 or i < 0:\n",
    "                    # print(\"不明なアトラクション：\", i)\n",
    "                    continue\n",
    "                else:\n",
    "                    # print(\"-\" * 40)\n",
    "                    # print(calculate_time(data.index[row]))\n",
    "                    ride_time.append(data.index[row])\n",
    "                    # print(attractions.get(i))\n",
    "                    # print(\"移動時間\", move_time)\n",
    "                    waiting_time = data.iloc[row, i]\n",
    "                    # print(\"待ち時間:\", waiting_time)\n",
    "                    required_time = required_times[i]\n",
    "                    # print(\"観賞時間:\", required_time)\n",
    "                    ans = knapsack(row, data, required_time, waiting_time, move_time, i)\n",
    "                    # print(\"合計所要時間:\", ans)\n",
    "                    total_time += ans\n",
    "                    row = int(np.ceil(total_time / 15))\n",
    "                    total_popularity += popularity[i]\n",
    "                    new_ride_lst.append(i)\n",
    "    except Exception as e:\n",
    "        # print(\"全てのアトラクションを乗ることができません\")\n",
    "        pass\n",
    "\n",
    "    # print(\"-\" * 40)\n",
    "    # print(total_popularity)\n",
    "    return total_popularity, total_time, new_ride_lst, ride_time"
   ]
  },
  {
   "cell_type": "code",
   "execution_count": 26,
   "id": "73012392",
   "metadata": {},
   "outputs": [
    {
     "name": "stderr",
     "output_type": "stream",
     "text": [
      "[I 2024-10-18 21:43:54,829] A new study created in memory with name: no-name-8f36ea0f-c0b8-4f86-b5ae-fb8402e7ac93\n",
      "[I 2024-10-18 21:43:54,839] Trial 0 finished with value: 555.0 and parameters: {'n_rides': 19, 'ride_0': 3, 'ride_1': 6, 'ride_2': 0, 'ride_3': 0, 'ride_4': 0, 'ride_5': 0, 'ride_6': 6, 'ride_7': 0, 'ride_8': 6, 'ride_9': 2, 'ride_10': 0, 'ride_11': 3, 'ride_12': 6, 'ride_13': 0, 'ride_14': 7, 'ride_15': 6, 'ride_16': 4, 'ride_17': 6, 'ride_18': 3}. Best is trial 0 with value: 555.0.\n",
      "[I 2024-10-18 21:43:54,839] Trial 1 finished with value: 528.0 and parameters: {'n_rides': 17, 'ride_0': 0, 'ride_1': 3, 'ride_2': 0, 'ride_3': 1, 'ride_4': 2, 'ride_5': 7, 'ride_6': 3, 'ride_7': 6, 'ride_8': 1, 'ride_9': 4, 'ride_10': 6, 'ride_11': 4, 'ride_12': 7, 'ride_13': 0, 'ride_14': 1, 'ride_15': 5, 'ride_16': 4}. Best is trial 0 with value: 555.0.\n",
      "[I 2024-10-18 21:43:54,853] Trial 2 finished with value: 618.0 and parameters: {'n_rides': 2, 'ride_0': 7, 'ride_1': 5}. Best is trial 2 with value: 618.0.\n",
      "[I 2024-10-18 21:43:54,855] Trial 3 finished with value: 642.0 and parameters: {'n_rides': 1, 'ride_0': 3}. Best is trial 3 with value: 642.0.\n",
      "[I 2024-10-18 21:43:54,859] Trial 4 finished with value: 653.0 and parameters: {'n_rides': 4, 'ride_0': 6, 'ride_1': 2, 'ride_2': 3, 'ride_3': 3}. Best is trial 4 with value: 653.0.\n",
      "[I 2024-10-18 21:43:54,859] Trial 5 finished with value: 552.0 and parameters: {'n_rides': 11, 'ride_0': 7, 'ride_1': 3, 'ride_2': 1, 'ride_3': 4, 'ride_4': 2, 'ride_5': 7, 'ride_6': 1, 'ride_7': 1, 'ride_8': 3, 'ride_9': 2, 'ride_10': 3}. Best is trial 4 with value: 653.0.\n",
      "[I 2024-10-18 21:43:54,872] Trial 6 finished with value: 605.0 and parameters: {'n_rides': 14, 'ride_0': 0, 'ride_1': 4, 'ride_2': 3, 'ride_3': 3, 'ride_4': 0, 'ride_5': 0, 'ride_6': 1, 'ride_7': 7, 'ride_8': 3, 'ride_9': 1, 'ride_10': 0, 'ride_11': 7, 'ride_12': 6, 'ride_13': 7}. Best is trial 4 with value: 653.0.\n",
      "[I 2024-10-18 21:43:54,872] Trial 7 finished with value: 670.0 and parameters: {'n_rides': 2, 'ride_0': 4, 'ride_1': 4}. Best is trial 7 with value: 670.0.\n",
      "[I 2024-10-18 21:43:54,886] Trial 8 finished with value: 521.0 and parameters: {'n_rides': 17, 'ride_0': 7, 'ride_1': 0, 'ride_2': 4, 'ride_3': 6, 'ride_4': 0, 'ride_5': 4, 'ride_6': 1, 'ride_7': 4, 'ride_8': 2, 'ride_9': 6, 'ride_10': 5, 'ride_11': 1, 'ride_12': 1, 'ride_13': 6, 'ride_14': 1, 'ride_15': 3, 'ride_16': 4}. Best is trial 7 with value: 670.0.\n",
      "[I 2024-10-18 21:43:54,890] Trial 9 finished with value: 515.0 and parameters: {'n_rides': 9, 'ride_0': 1, 'ride_1': 5, 'ride_2': 1, 'ride_3': 1, 'ride_4': 4, 'ride_5': 5, 'ride_6': 7, 'ride_7': 0, 'ride_8': 6}. Best is trial 7 with value: 670.0.\n",
      "[I 2024-10-18 21:43:54,920] Trial 10 finished with value: 497.0 and parameters: {'n_rides': 6, 'ride_0': 5, 'ride_1': 1, 'ride_2': 7, 'ride_3': 7, 'ride_4': 7, 'ride_5': 2}. Best is trial 7 with value: 670.0.\n",
      "[I 2024-10-18 21:43:54,939] Trial 11 finished with value: 574.0 and parameters: {'n_rides': 4, 'ride_0': 5, 'ride_1': 2, 'ride_2': 4, 'ride_3': 4}. Best is trial 7 with value: 670.0.\n",
      "[I 2024-10-18 21:43:54,975] Trial 12 finished with value: 552.0 and parameters: {'n_rides': 6, 'ride_0': 5, 'ride_1': 2, 'ride_2': 6, 'ride_3': 3, 'ride_4': 7, 'ride_5': 2}. Best is trial 7 with value: 670.0.\n",
      "[I 2024-10-18 21:43:55,012] Trial 13 finished with value: 589.0 and parameters: {'n_rides': 8, 'ride_0': 4, 'ride_1': 7, 'ride_2': 3, 'ride_3': 5, 'ride_4': 5, 'ride_5': 5, 'ride_6': 4, 'ride_7': 3}. Best is trial 7 with value: 670.0.\n"
     ]
    },
    {
     "name": "stdout",
     "output_type": "stream",
     "text": [
      "720\n",
      "total_time: 727\n",
      "total_popularity: 622\n",
      "total_time: 709\n",
      "total_popularity: 577\n",
      "total_time: 92\n",
      "total_popularity: 50\n",
      "total_time: 63\n",
      "total_popularity: 45\n",
      "total_time: 171\n",
      "total_popularity: 164\n",
      "total_time: 637\n",
      "total_popularity: 529\n",
      "total_time: 741\n",
      "total_popularity: 686\n",
      "total_time: 56\n",
      "total_popularity: 66\n",
      "total_time: 706\n",
      "total_popularity: 567\n",
      "total_time: 566\n",
      "total_popularity: 421\n",
      "total_time: 381\n",
      "total_popularity: 218\n",
      "total_time: 235\n",
      "total_popularity: 149\n",
      "total_time: 332\n",
      "total_popularity: 224\n",
      "total_time: 333\n",
      "total_popularity: 262\n"
     ]
    },
    {
     "name": "stderr",
     "output_type": "stream",
     "text": [
      "[I 2024-10-18 21:43:55,035] Trial 14 finished with value: 625.0 and parameters: {'n_rides': 4, 'ride_0': 6, 'ride_1': 4, 'ride_2': 5, 'ride_3': 2}. Best is trial 7 with value: 670.0.\n",
      "[I 2024-10-18 21:43:55,041] Trial 15 finished with value: 598.0 and parameters: {'n_rides': 1, 'ride_0': 2}. Best is trial 7 with value: 670.0.\n",
      "[I 2024-10-18 21:43:55,098] Trial 16 finished with value: 511.0 and parameters: {'n_rides': 12, 'ride_0': 4, 'ride_1': 2, 'ride_2': 2, 'ride_3': 5, 'ride_4': 5, 'ride_5': 2, 'ride_6': 4, 'ride_7': 4, 'ride_8': 0, 'ride_9': 7, 'ride_10': 3, 'ride_11': 7}. Best is trial 7 with value: 670.0.\n",
      "[I 2024-10-18 21:43:55,122] Trial 17 finished with value: 599.0 and parameters: {'n_rides': 4, 'ride_0': 6, 'ride_1': 0, 'ride_2': 5, 'ride_3': 2}. Best is trial 7 with value: 670.0.\n",
      "[I 2024-10-18 21:43:55,159] Trial 18 finished with value: 497.0 and parameters: {'n_rides': 7, 'ride_0': 6, 'ride_1': 5, 'ride_2': 2, 'ride_3': 7, 'ride_4': 2, 'ride_5': 6, 'ride_6': 6}. Best is trial 7 with value: 670.0.\n",
      "[I 2024-10-18 21:43:55,179] Trial 19 finished with value: 584.0 and parameters: {'n_rides': 3, 'ride_0': 4, 'ride_1': 1, 'ride_2': 7}. Best is trial 7 with value: 670.0.\n",
      "[I 2024-10-18 21:43:55,222] Trial 20 finished with value: 507.0 and parameters: {'n_rides': 9, 'ride_0': 2, 'ride_1': 3, 'ride_2': 5, 'ride_3': 0, 'ride_4': 6, 'ride_5': 3, 'ride_6': 0, 'ride_7': 2, 'ride_8': 7}. Best is trial 7 with value: 670.0.\n"
     ]
    },
    {
     "name": "stdout",
     "output_type": "stream",
     "text": [
      "total_time: 170\n",
      "total_popularity: 135\n",
      "total_time: 117\n",
      "total_popularity: 55\n",
      "total_time: 642\n",
      "total_popularity: 493\n",
      "total_time: 247\n",
      "total_popularity: 186\n",
      "total_time: 380\n",
      "total_popularity: 217\n",
      "total_time: 200\n",
      "total_popularity: 124\n",
      "total_time: 590\n",
      "total_popularity: 437\n"
     ]
    },
    {
     "name": "stderr",
     "output_type": "stream",
     "text": [
      "[I 2024-10-18 21:43:55,235] Trial 21 finished with value: 642.0 and parameters: {'n_rides': 1, 'ride_0': 3}. Best is trial 7 with value: 670.0.\n",
      "[I 2024-10-18 21:43:55,248] Trial 22 finished with value: 598.0 and parameters: {'n_rides': 1, 'ride_0': 2}. Best is trial 7 with value: 670.0.\n",
      "[I 2024-10-18 21:43:55,276] Trial 23 finished with value: 653.0 and parameters: {'n_rides': 5, 'ride_0': 3, 'ride_1': 4, 'ride_2': 2, 'ride_3': 5, 'ride_4': 3}. Best is trial 7 with value: 670.0.\n",
      "[I 2024-10-18 21:43:55,305] Trial 24 finished with value: 652.0 and parameters: {'n_rides': 5, 'ride_0': 5, 'ride_1': 4, 'ride_2': 2, 'ride_3': 5, 'ride_4': 3}. Best is trial 7 with value: 670.0.\n",
      "[I 2024-10-18 21:43:55,322] Trial 25 finished with value: 663.0 and parameters: {'n_rides': 3, 'ride_0': 4, 'ride_1': 6, 'ride_2': 3}. Best is trial 7 with value: 670.0.\n",
      "[I 2024-10-18 21:43:55,341] Trial 26 finished with value: 659.0 and parameters: {'n_rides': 3, 'ride_0': 4, 'ride_1': 7, 'ride_2': 3}. Best is trial 7 with value: 670.0.\n",
      "[I 2024-10-18 21:43:55,369] Trial 27 finished with value: 647.0 and parameters: {'n_rides': 3, 'ride_0': 4, 'ride_1': 7, 'ride_2': 4}. Best is trial 7 with value: 670.0.\n",
      "[I 2024-10-18 21:43:55,405] Trial 28 finished with value: 550.0 and parameters: {'n_rides': 7, 'ride_0': 4, 'ride_1': 6, 'ride_2': 1, 'ride_3': 6, 'ride_4': 1, 'ride_5': 1, 'ride_6': 3}. Best is trial 7 with value: 670.0.\n"
     ]
    },
    {
     "name": "stdout",
     "output_type": "stream",
     "text": [
      "total_time: 63\n",
      "total_popularity: 45\n",
      "total_time: 117\n",
      "total_popularity: 55\n",
      "total_time: 213\n",
      "total_popularity: 206\n",
      "total_time: 197\n",
      "total_popularity: 189\n",
      "total_time: 94\n",
      "total_popularity: 97\n",
      "total_time: 101\n",
      "total_popularity: 100\n",
      "total_time: 101\n",
      "total_popularity: 88\n",
      "total_time: 433\n",
      "total_popularity: 323\n"
     ]
    },
    {
     "name": "stderr",
     "output_type": "stream",
     "text": [
      "[I 2024-10-18 21:43:55,486] Trial 29 finished with value: 474.0 and parameters: {'n_rides': 20, 'ride_0': 2, 'ride_1': 6, 'ride_2': 6, 'ride_3': 1, 'ride_4': 5, 'ride_5': 5, 'ride_6': 5, 'ride_7': 6, 'ride_8': 5, 'ride_9': 0, 'ride_10': 7, 'ride_11': 0, 'ride_12': 0, 'ride_13': 3, 'ride_14': 7, 'ride_15': 0, 'ride_16': 0, 'ride_17': 0, 'ride_18': 7, 'ride_19': 6}. Best is trial 7 with value: 670.0.\n",
      "[I 2024-10-18 21:43:55,486] A new study created in memory with name: no-name-48d6a4b1-2ae1-440f-88f4-478801944a37\n",
      "[I 2024-10-18 21:43:55,495] Trial 0 finished with value: 1311.1964292881735 and parameters: {'n_rides': 10, 'ride_0': 7, 'ride_1': 1, 'ride_2': 4, 'ride_3': 6, 'ride_4': 2, 'ride_5': 5, 'ride_6': 0, 'ride_7': 5, 'ride_8': 7, 'ride_9': 1, 'lamb_x': 1.4605901147155191}. Best is trial 0 with value: 1311.1964292881735.\n",
      "[I 2024-10-18 21:43:55,502] Trial 1 finished with value: 1124.024170010044 and parameters: {'n_rides': 17, 'ride_0': 0, 'ride_1': 0, 'ride_2': 4, 'ride_3': 0, 'ride_4': 2, 'ride_5': 2, 'ride_6': 5, 'ride_7': 5, 'ride_8': 3, 'ride_9': 6, 'ride_10': 7, 'ride_11': 0, 'ride_12': 0, 'ride_13': 0, 'ride_14': 6, 'ride_15': 0, 'ride_16': 6, 'lamb_x': 0.9404373675662978}. Best is trial 1 with value: 1124.024170010044.\n",
      "[I 2024-10-18 21:43:55,504] Trial 2 finished with value: 1200.2139655033989 and parameters: {'n_rides': 3, 'ride_0': 0, 'ride_1': 5, 'ride_2': 2, 'lamb_x': 1.710619148184435}. Best is trial 1 with value: 1124.024170010044.\n",
      "[I 2024-10-18 21:43:55,512] Trial 3 finished with value: 1142.3016097551583 and parameters: {'n_rides': 5, 'ride_0': 5, 'ride_1': 7, 'ride_2': 2, 'ride_3': 1, 'ride_4': 5, 'lamb_x': 1.5567907446277456}. Best is trial 1 with value: 1124.024170010044.\n",
      "[I 2024-10-18 21:43:55,519] Trial 4 finished with value: 1165.7723993999546 and parameters: {'n_rides': 14, 'ride_0': 7, 'ride_1': 4, 'ride_2': 1, 'ride_3': 5, 'ride_4': 7, 'ride_5': 5, 'ride_6': 3, 'ride_7': 3, 'ride_8': 6, 'ride_9': 6, 'ride_10': 6, 'ride_11': 4, 'ride_12': 1, 'ride_13': 5, 'lamb_x': 1.1370403963575406}. Best is trial 1 with value: 1124.024170010044.\n",
      "[I 2024-10-18 21:43:55,520] Trial 5 finished with value: 1466.8216270187522 and parameters: {'n_rides': 18, 'ride_0': 5, 'ride_1': 0, 'ride_2': 6, 'ride_3': 4, 'ride_4': 7, 'ride_5': 5, 'ride_6': 4, 'ride_7': 2, 'ride_8': 6, 'ride_9': 4, 'ride_10': 1, 'ride_11': 7, 'ride_12': 0, 'ride_13': 6, 'ride_14': 0, 'ride_15': 4, 'ride_16': 2, 'ride_17': 0, 'lamb_x': 1.6603007069846893}. Best is trial 1 with value: 1124.024170010044.\n",
      "[I 2024-10-18 21:43:55,535] Trial 6 finished with value: 1534.5008564823602 and parameters: {'n_rides': 14, 'ride_0': 7, 'ride_1': 4, 'ride_2': 7, 'ride_3': 2, 'ride_4': 3, 'ride_5': 5, 'ride_6': 5, 'ride_7': 2, 'ride_8': 2, 'ride_9': 0, 'ride_10': 4, 'ride_11': 7, 'ride_12': 0, 'ride_13': 3, 'lamb_x': 1.5289749279509277}. Best is trial 1 with value: 1124.024170010044.\n",
      "[I 2024-10-18 21:43:55,540] Trial 7 finished with value: 1140.372598737471 and parameters: {'n_rides': 6, 'ride_0': 4, 'ride_1': 3, 'ride_2': 1, 'ride_3': 3, 'ride_4': 5, 'ride_5': 3, 'lamb_x': 1.4492923820156802}. Best is trial 1 with value: 1124.024170010044.\n",
      "[I 2024-10-18 21:43:55,540] Trial 8 finished with value: 1238.301139196048 and parameters: {'n_rides': 10, 'ride_0': 5, 'ride_1': 3, 'ride_2': 0, 'ride_3': 2, 'ride_4': 5, 'ride_5': 7, 'ride_6': 4, 'ride_7': 2, 'ride_8': 3, 'ride_9': 4, 'lamb_x': 1.3415581774769008}. Best is trial 1 with value: 1124.024170010044.\n",
      "[I 2024-10-18 21:43:55,553] Trial 9 finished with value: 1730.3132238139924 and parameters: {'n_rides': 13, 'ride_0': 4, 'ride_1': 6, 'ride_2': 7, 'ride_3': 5, 'ride_4': 4, 'ride_5': 3, 'ride_6': 1, 'ride_7': 0, 'ride_8': 0, 'ride_9': 0, 'ride_10': 3, 'ride_11': 0, 'ride_12': 6, 'lamb_x': 1.7902536818112458}. Best is trial 1 with value: 1124.024170010044.\n",
      "[I 2024-10-18 21:43:55,636] Trial 10 finished with value: 976.3612916191203 and parameters: {'n_rides': 20, 'ride_0': 0, 'ride_1': 1, 'ride_2': 4, 'ride_3': 0, 'ride_4': 0, 'ride_5': 0, 'ride_6': 7, 'ride_7': 7, 'ride_8': 4, 'ride_9': 7, 'ride_10': 7, 'ride_11': 0, 'ride_12': 4, 'ride_13': 0, 'ride_14': 7, 'ride_15': 0, 'ride_16': 7, 'ride_17': 7, 'ride_18': 3, 'ride_19': 6, 'lamb_x': 0.6909955159256957}. Best is trial 10 with value: 976.3612916191203.\n"
     ]
    },
    {
     "name": "stdout",
     "output_type": "stream",
     "text": [
      "total_time: 714\n",
      "total_popularity: 528\n"
     ]
    },
    {
     "name": "stderr",
     "output_type": "stream",
     "text": [
      "[I 2024-10-18 21:43:55,720] Trial 11 finished with value: 995.085113777994 and parameters: {'n_rides': 20, 'ride_0': 0, 'ride_1': 1, 'ride_2': 4, 'ride_3': 0, 'ride_4': 0, 'ride_5': 0, 'ride_6': 7, 'ride_7': 7, 'ride_8': 4, 'ride_9': 7, 'ride_10': 7, 'ride_11': 0, 'ride_12': 4, 'ride_13': 0, 'ride_14': 7, 'ride_15': 0, 'ride_16': 7, 'ride_17': 7, 'ride_18': 3, 'ride_19': 6, 'lamb_x': 0.7219952214867451}. Best is trial 10 with value: 976.3612916191203.\n",
      "[I 2024-10-18 21:43:55,799] Trial 12 finished with value: 846.6931214228147 and parameters: {'n_rides': 20, 'ride_0': 2, 'ride_1': 2, 'ride_2': 5, 'ride_3': 0, 'ride_4': 0, 'ride_5': 0, 'ride_6': 7, 'ride_7': 7, 'ride_8': 5, 'ride_9': 7, 'ride_10': 7, 'ride_11': 2, 'ride_12': 4, 'ride_13': 0, 'ride_14': 7, 'ride_15': 0, 'ride_16': 7, 'ride_17': 7, 'ride_18': 3, 'ride_19': 6, 'lamb_x': 0.5640614593092959}. Best is trial 12 with value: 846.6931214228147.\n",
      "[I 2024-10-18 21:43:55,889] Trial 13 finished with value: 964.8750270689467 and parameters: {'n_rides': 20, 'ride_0': 2, 'ride_1': 2, 'ride_2': 5, 'ride_3': 0, 'ride_4': 0, 'ride_5': 0, 'ride_6': 7, 'ride_7': 7, 'ride_8': 5, 'ride_9': 7, 'ride_10': 5, 'ride_11': 2, 'ride_12': 4, 'ride_13': 2, 'ride_14': 7, 'ride_15': 0, 'ride_16': 7, 'ride_17': 7, 'ride_18': 3, 'ride_19': 6, 'lamb_x': 0.6587334885247461}. Best is trial 12 with value: 846.6931214228147.\n",
      "[I 2024-10-18 21:43:55,959] Trial 14 finished with value: 814.534251208032 and parameters: {'n_rides': 17, 'ride_0': 2, 'ride_1': 2, 'ride_2': 6, 'ride_3': 2, 'ride_4': 1, 'ride_5': 1, 'ride_6': 7, 'ride_7': 6, 'ride_8': 5, 'ride_9': 5, 'ride_10': 5, 'ride_11': 3, 'ride_12': 6, 'ride_13': 2, 'ride_14': 4, 'ride_15': 2, 'ride_16': 4, 'lamb_x': 0.5025401510066754}. Best is trial 14 with value: 814.534251208032.\n",
      "[I 2024-10-18 21:43:56,036] Trial 15 finished with value: 860.3504014692023 and parameters: {'n_rides': 16, 'ride_0': 2, 'ride_1': 2, 'ride_2': 6, 'ride_3': 2, 'ride_4': 1, 'ride_5': 1, 'ride_6': 6, 'ride_7': 5, 'ride_8': 5, 'ride_9': 5, 'ride_10': 5, 'ride_11': 3, 'ride_12': 7, 'ride_13': 2, 'ride_14': 3, 'ride_15': 7, 'lamb_x': 0.5634940421675535}. Best is trial 14 with value: 814.534251208032.\n",
      "[I 2024-10-18 21:43:56,112] Trial 16 finished with value: 1689.268202946884 and parameters: {'n_rides': 17, 'ride_0': 2, 'ride_1': 2, 'ride_2': 6, 'ride_3': 1, 'ride_4': 1, 'ride_5': 1, 'ride_6': 2, 'ride_7': 6, 'ride_8': 7, 'ride_9': 2, 'ride_10': 3, 'ride_11': 4, 'ride_12': 6, 'ride_13': 2, 'ride_14': 4, 'ride_15': 3, 'ride_16': 4, 'lamb_x': 1.990510269779609}. Best is trial 14 with value: 814.534251208032.\n",
      "[I 2024-10-18 21:43:56,170] Trial 17 finished with value: 1025.7261779551193 and parameters: {'n_rides': 12, 'ride_0': 3, 'ride_1': 3, 'ride_2': 5, 'ride_3': 3, 'ride_4': 1, 'ride_5': 2, 'ride_6': 6, 'ride_7': 6, 'ride_8': 1, 'ride_9': 5, 'ride_10': 5, 'ride_11': 3, 'lamb_x': 0.8786857250912571}. Best is trial 14 with value: 814.534251208032.\n",
      "[I 2024-10-18 21:43:56,240] Trial 18 finished with value: 892.0721925257229 and parameters: {'n_rides': 16, 'ride_0': 1, 'ride_1': 5, 'ride_2': 5, 'ride_3': 1, 'ride_4': 2, 'ride_5': 1, 'ride_6': 6, 'ride_7': 4, 'ride_8': 5, 'ride_9': 3, 'ride_10': 0, 'ride_11': 2, 'ride_12': 2, 'ride_13': 1, 'ride_14': 4, 'ride_15': 2, 'lamb_x': 0.513364557161793}. Best is trial 14 with value: 814.534251208032.\n",
      "[I 2024-10-18 21:43:56,281] Trial 19 finished with value: 921.3435108844383 and parameters: {'n_rides': 7, 'ride_0': 3, 'ride_1': 2, 'ride_2': 7, 'ride_3': 7, 'ride_4': 3, 'ride_5': 2, 'ride_6': 5, 'lamb_x': 1.0750720378881429}. Best is trial 14 with value: 814.534251208032.\n",
      "[I 2024-10-18 21:43:56,364] Trial 20 finished with value: 1037.2173995355938 and parameters: {'n_rides': 18, 'ride_0': 1, 'ride_1': 1, 'ride_2': 3, 'ride_3': 1, 'ride_4': 1, 'ride_5': 1, 'ride_6': 7, 'ride_7': 6, 'ride_8': 6, 'ride_9': 5, 'ride_10': 6, 'ride_11': 5, 'ride_12': 5, 'ride_13': 4, 'ride_14': 2, 'ride_15': 2, 'ride_16': 4, 'ride_17': 3, 'lamb_x': 0.8943996681052879}. Best is trial 14 with value: 814.534251208032.\n",
      "[I 2024-10-18 21:43:56,429] Trial 21 finished with value: 840.4065373435456 and parameters: {'n_rides': 15, 'ride_0': 2, 'ride_1': 2, 'ride_2': 6, 'ride_3': 2, 'ride_4': 1, 'ride_5': 1, 'ride_6': 6, 'ride_7': 5, 'ride_8': 5, 'ride_9': 5, 'ride_10': 5, 'ride_11': 2, 'ride_12': 7, 'ride_13': 2, 'ride_14': 3, 'lamb_x': 0.5139181081846782}. Best is trial 14 with value: 814.534251208032.\n",
      "[I 2024-10-18 21:43:56,499] Trial 22 finished with value: 1014.5526710137882 and parameters: {'n_rides': 15, 'ride_0': 1, 'ride_1': 2, 'ride_2': 6, 'ride_3': 3, 'ride_4': 0, 'ride_5': 0, 'ride_6': 6, 'ride_7': 4, 'ride_8': 5, 'ride_9': 6, 'ride_10': 4, 'ride_11': 2, 'ride_12': 7, 'ride_13': 3, 'ride_14': 5, 'lamb_x': 0.7807163427380599}. Best is trial 14 with value: 814.534251208032.\n",
      "[I 2024-10-18 21:43:56,579] Trial 23 finished with value: 816.2596407452696 and parameters: {'n_rides': 18, 'ride_0': 2, 'ride_1': 3, 'ride_2': 5, 'ride_3': 2, 'ride_4': 2, 'ride_5': 1, 'ride_6': 7, 'ride_7': 6, 'ride_8': 4, 'ride_9': 3, 'ride_10': 6, 'ride_11': 1, 'ride_12': 6, 'ride_13': 1, 'ride_14': 2, 'ride_15': 2, 'ride_16': 1, 'ride_17': 4, 'lamb_x': 0.500429868783559}. Best is trial 14 with value: 814.534251208032.\n",
      "[I 2024-10-18 21:43:56,640] Trial 24 finished with value: 876.7135259138187 and parameters: {'n_rides': 12, 'ride_0': 1, 'ride_1': 4, 'ride_2': 6, 'ride_3': 2, 'ride_4': 2, 'ride_5': 2, 'ride_6': 6, 'ride_7': 5, 'ride_8': 4, 'ride_9': 3, 'ride_10': 6, 'ride_11': 1, 'lamb_x': 0.6253535197248653}. Best is trial 14 with value: 814.534251208032.\n",
      "[I 2024-10-18 21:43:56,719] Trial 25 finished with value: 1100.7807982565514 and parameters: {'n_rides': 18, 'ride_0': 3, 'ride_1': 3, 'ride_2': 5, 'ride_3': 4, 'ride_4': 3, 'ride_5': 4, 'ride_6': 5, 'ride_7': 6, 'ride_8': 3, 'ride_9': 2, 'ride_10': 5, 'ride_11': 1, 'ride_12': 6, 'ride_13': 1, 'ride_14': 2, 'ride_15': 5, 'ride_16': 0, 'ride_17': 4, 'lamb_x': 0.8026172156565421}. Best is trial 14 with value: 814.534251208032.\n",
      "[I 2024-10-18 21:43:56,765] Trial 26 finished with value: 634.4107233372606 and parameters: {'n_rides': 8, 'ride_0': 2, 'ride_1': 5, 'ride_2': 7, 'ride_3': 2, 'ride_4': 1, 'ride_5': 3, 'ride_6': 7, 'ride_7': 4, 'lamb_x': 0.5056468929424845}. Best is trial 26 with value: 634.4107233372606.\n",
      "[I 2024-10-18 21:43:56,810] Trial 27 finished with value: 909.1185184328785 and parameters: {'n_rides': 8, 'ride_0': 3, 'ride_1': 5, 'ride_2': 7, 'ride_3': 3, 'ride_4': 2, 'ride_5': 4, 'ride_6': 7, 'ride_7': 3, 'lamb_x': 1.0167525139617195}. Best is trial 26 with value: 634.4107233372606.\n",
      "[I 2024-10-18 21:43:56,821] Trial 28 finished with value: 783.5985858399805 and parameters: {'n_rides': 1, 'ride_0': 1, 'lamb_x': 1.1831102414569215}. Best is trial 26 with value: 634.4107233372606.\n",
      "[I 2024-10-18 21:43:56,840] Trial 29 finished with value: 816.6116853296805 and parameters: {'n_rides': 1, 'ride_0': 1, 'lamb_x': 1.2377676909431796}. Best is trial 26 with value: 634.4107233372606.\n",
      "[I 2024-10-18 21:43:56,840] A new study created in memory with name: no-name-c5233fd2-e6f3-4719-8938-9f21fc22a0e3\n",
      "[I 2024-10-18 21:43:56,840] Trial 0 finished with value: 391.3126526345375 and parameters: {'n_rides': 6, 'ride_0': 7, 'ride_1': 5, 'ride_2': 7, 'ride_3': 1, 'ride_4': 4, 'ride_5': 2}. Best is trial 0 with value: 391.3126526345375.\n",
      "[I 2024-10-18 21:43:56,854] Trial 1 finished with value: 462.15553953050846 and parameters: {'n_rides': 16, 'ride_0': 3, 'ride_1': 7, 'ride_2': 6, 'ride_3': 3, 'ride_4': 4, 'ride_5': 2, 'ride_6': 0, 'ride_7': 6, 'ride_8': 6, 'ride_9': 1, 'ride_10': 2, 'ride_11': 5, 'ride_12': 7, 'ride_13': 3, 'ride_14': 2, 'ride_15': 0}. Best is trial 1 with value: 462.15553953050846.\n",
      "[I 2024-10-18 21:43:56,859] Trial 2 finished with value: 343.6401724252016 and parameters: {'n_rides': 4, 'ride_0': 3, 'ride_1': 1, 'ride_2': 6, 'ride_3': 6}. Best is trial 1 with value: 462.15553953050846.\n",
      "[I 2024-10-18 21:43:56,859] Trial 3 finished with value: 415.42816396526837 and parameters: {'n_rides': 3, 'ride_0': 3, 'ride_1': 0, 'ride_2': 1}. Best is trial 1 with value: 462.15553953050846.\n",
      "[I 2024-10-18 21:43:56,870] Trial 4 finished with value: 532.770550912059 and parameters: {'n_rides': 9, 'ride_0': 6, 'ride_1': 0, 'ride_2': 3, 'ride_3': 0, 'ride_4': 1, 'ride_5': 4, 'ride_6': 4, 'ride_7': 4, 'ride_8': 6}. Best is trial 4 with value: 532.770550912059.\n",
      "[I 2024-10-18 21:43:56,872] Trial 5 finished with value: 461.34653399219246 and parameters: {'n_rides': 6, 'ride_0': 5, 'ride_1': 5, 'ride_2': 1, 'ride_3': 1, 'ride_4': 1, 'ride_5': 4}. Best is trial 4 with value: 532.770550912059.\n",
      "[I 2024-10-18 21:43:56,879] Trial 6 finished with value: 588.6724802093358 and parameters: {'n_rides': 13, 'ride_0': 0, 'ride_1': 2, 'ride_2': 0, 'ride_3': 6, 'ride_4': 1, 'ride_5': 2, 'ride_6': 1, 'ride_7': 1, 'ride_8': 1, 'ride_9': 3, 'ride_10': 0, 'ride_11': 6, 'ride_12': 3}. Best is trial 6 with value: 588.6724802093358.\n",
      "[I 2024-10-18 21:43:56,888] Trial 7 finished with value: 496.2736243331204 and parameters: {'n_rides': 8, 'ride_0': 1, 'ride_1': 1, 'ride_2': 7, 'ride_3': 5, 'ride_4': 2, 'ride_5': 3, 'ride_6': 2, 'ride_7': 0}. Best is trial 6 with value: 588.6724802093358.\n",
      "[I 2024-10-18 21:43:56,895] Trial 8 finished with value: 480.23459603170323 and parameters: {'n_rides': 20, 'ride_0': 5, 'ride_1': 6, 'ride_2': 6, 'ride_3': 2, 'ride_4': 7, 'ride_5': 6, 'ride_6': 6, 'ride_7': 4, 'ride_8': 6, 'ride_9': 4, 'ride_10': 2, 'ride_11': 5, 'ride_12': 5, 'ride_13': 4, 'ride_14': 5, 'ride_15': 4, 'ride_16': 4, 'ride_17': 2, 'ride_18': 0, 'ride_19': 1}. Best is trial 6 with value: 588.6724802093358.\n",
      "[I 2024-10-18 21:43:56,903] Trial 9 finished with value: 590.1216581728536 and parameters: {'n_rides': 16, 'ride_0': 4, 'ride_1': 6, 'ride_2': 2, 'ride_3': 0, 'ride_4': 6, 'ride_5': 3, 'ride_6': 4, 'ride_7': 1, 'ride_8': 1, 'ride_9': 3, 'ride_10': 5, 'ride_11': 5, 'ride_12': 6, 'ride_13': 3, 'ride_14': 1, 'ride_15': 4}. Best is trial 9 with value: 590.1216581728536.\n",
      "[I 2024-10-18 21:43:56,965] Trial 10 finished with value: 491.25718360347315 and parameters: {'n_rides': 15, 'ride_0': 1, 'ride_1': 4, 'ride_2': 3, 'ride_3': 4, 'ride_4': 7, 'ride_5': 7, 'ride_6': 7, 'ride_7': 2, 'ride_8': 0, 'ride_9': 7, 'ride_10': 7, 'ride_11': 0, 'ride_12': 0, 'ride_13': 0, 'ride_14': 0}. Best is trial 9 with value: 590.1216581728536.\n",
      "[I 2024-10-18 21:43:57,019] Trial 11 finished with value: 609.6611864234509 and parameters: {'n_rides': 14, 'ride_0': 0, 'ride_1': 3, 'ride_2': 0, 'ride_3': 7, 'ride_4': 5, 'ride_5': 0, 'ride_6': 3, 'ride_7': 0, 'ride_8': 1, 'ride_9': 3, 'ride_10': 5, 'ride_11': 7, 'ride_12': 3, 'ride_13': 7}. Best is trial 11 with value: 609.6611864234509.\n"
     ]
    },
    {
     "name": "stdout",
     "output_type": "stream",
     "text": [
      "tt_best2: 56\n",
      "56\n",
      "total_time: 339\n",
      "total_popularity: 229\n",
      "total_time: 721\n",
      "total_popularity: 493\n",
      "total_time: 281\n",
      "total_popularity: 152\n",
      "total_time: 230\n",
      "total_popularity: 198\n",
      "total_time: 435\n",
      "total_popularity: 419\n",
      "total_time: 333\n",
      "total_popularity: 296\n",
      "total_time: 718\n",
      "total_popularity: 618\n",
      "total_time: 523\n",
      "total_popularity: 427\n",
      "total_time: 707\n",
      "total_popularity: 504\n",
      "total_time: 727\n",
      "total_popularity: 624\n",
      "total_time: 703\n",
      "total_popularity: 513\n",
      "total_time: 720\n",
      "total_popularity: 640\n"
     ]
    },
    {
     "name": "stderr",
     "output_type": "stream",
     "text": [
      "[I 2024-10-18 21:43:57,103] Trial 12 finished with value: 536.8844886692692 and parameters: {'n_rides': 19, 'ride_0': 4, 'ride_1': 3, 'ride_2': 2, 'ride_3': 7, 'ride_4': 5, 'ride_5': 0, 'ride_6': 4, 'ride_7': 0, 'ride_8': 2, 'ride_9': 3, 'ride_10': 6, 'ride_11': 7, 'ride_12': 3, 'ride_13': 7, 'ride_14': 2, 'ride_15': 7, 'ride_16': 0, 'ride_17': 7, 'ride_18': 7}. Best is trial 11 with value: 609.6611864234509.\n",
      "[I 2024-10-18 21:43:57,153] Trial 13 finished with value: 582.5508220364824 and parameters: {'n_rides': 12, 'ride_0': 2, 'ride_1': 3, 'ride_2': 0, 'ride_3': 3, 'ride_4': 6, 'ride_5': 0, 'ride_6': 3, 'ride_7': 2, 'ride_8': 3, 'ride_9': 5, 'ride_10': 5, 'ride_11': 3}. Best is trial 11 with value: 609.6611864234509.\n",
      "[I 2024-10-18 21:43:57,225] Trial 14 finished with value: 558.1781271022784 and parameters: {'n_rides': 17, 'ride_0': 0, 'ride_1': 7, 'ride_2': 4, 'ride_3': 7, 'ride_4': 5, 'ride_5': 0, 'ride_6': 5, 'ride_7': 2, 'ride_8': 0, 'ride_9': 1, 'ride_10': 4, 'ride_11': 3, 'ride_12': 5, 'ride_13': 4, 'ride_14': 7, 'ride_15': 4, 'ride_16': 7}. Best is trial 11 with value: 609.6611864234509.\n",
      "[I 2024-10-18 21:43:57,284] Trial 15 finished with value: 586.1894208881633 and parameters: {'n_rides': 13, 'ride_0': 4, 'ride_1': 4, 'ride_2': 2, 'ride_3': 0, 'ride_4': 3, 'ride_5': 5, 'ride_6': 3, 'ride_7': 0, 'ride_8': 4, 'ride_9': 2, 'ride_10': 5, 'ride_11': 7, 'ride_12': 1}. Best is trial 11 with value: 609.6611864234509.\n"
     ]
    },
    {
     "name": "stdout",
     "output_type": "stream",
     "text": [
      "total_time: 769\n",
      "total_popularity: 592\n",
      "total_time: 651\n",
      "total_popularity: 578\n",
      "total_time: 717\n",
      "total_popularity: 587\n",
      "total_time: 715\n",
      "total_popularity: 614\n"
     ]
    },
    {
     "name": "stderr",
     "output_type": "stream",
     "text": [
      "[I 2024-10-18 21:43:57,357] Trial 16 finished with value: 485.5595423504862 and parameters: {'n_rides': 17, 'ride_0': 2, 'ride_1': 5, 'ride_2': 1, 'ride_3': 4, 'ride_4': 6, 'ride_5': 1, 'ride_6': 2, 'ride_7': 6, 'ride_8': 2, 'ride_9': 5, 'ride_10': 3, 'ride_11': 5, 'ride_12': 7, 'ride_13': 7, 'ride_14': 0, 'ride_15': 1, 'ride_16': 0}. Best is trial 11 with value: 609.6611864234509.\n",
      "[I 2024-10-18 21:43:57,402] Trial 17 finished with value: 522.1406723743819 and parameters: {'n_rides': 11, 'ride_0': 5, 'ride_1': 6, 'ride_2': 4, 'ride_3': 2, 'ride_4': 5, 'ride_5': 3, 'ride_6': 5, 'ride_7': 3, 'ride_8': 4, 'ride_9': 0, 'ride_10': 7}. Best is trial 11 with value: 609.6611864234509.\n",
      "[I 2024-10-18 21:43:57,464] Trial 18 finished with value: 620.1555395305085 and parameters: {'n_rides': 14, 'ride_0': 2, 'ride_1': 2, 'ride_2': 2, 'ride_3': 5, 'ride_4': 6, 'ride_5': 1, 'ride_6': 2, 'ride_7': 1, 'ride_8': 1, 'ride_9': 4, 'ride_10': 5, 'ride_11': 4, 'ride_12': 5, 'ride_13': 2}. Best is trial 18 with value: 620.1555395305085.\n",
      "[I 2024-10-18 21:43:57,530] Trial 19 finished with value: 609.7967118540705 and parameters: {'n_rides': 14, 'ride_0': 1, 'ride_1': 2, 'ride_2': 0, 'ride_3': 6, 'ride_4': 3, 'ride_5': 1, 'ride_6': 1, 'ride_7': 1, 'ride_8': 2, 'ride_9': 5, 'ride_10': 4, 'ride_11': 0, 'ride_12': 4, 'ride_13': 1}. Best is trial 18 with value: 620.1555395305085.\n"
     ]
    },
    {
     "name": "stdout",
     "output_type": "stream",
     "text": [
      "total_time: 738\n",
      "total_popularity: 525\n",
      "total_time: 458\n",
      "total_popularity: 420\n",
      "total_time: 721\n",
      "total_popularity: 651\n",
      "total_time: 696\n",
      "total_popularity: 628\n",
      "total_time: 646\n",
      "total_popularity: 556\n"
     ]
    },
    {
     "name": "stderr",
     "output_type": "stream",
     "text": [
      "[I 2024-10-18 21:43:57,580] Trial 20 finished with value: 563.0790565011948 and parameters: {'n_rides': 10, 'ride_0': 2, 'ride_1': 2, 'ride_2': 1, 'ride_3': 5, 'ride_4': 0, 'ride_5': 1, 'ride_6': 0, 'ride_7': 3, 'ride_8': 3, 'ride_9': 7}. Best is trial 18 with value: 620.1555395305085.\n",
      "[I 2024-10-18 21:43:57,639] Trial 21 finished with value: 599.6837739952209 and parameters: {'n_rides': 14, 'ride_0': 1, 'ride_1': 2, 'ride_2': 0, 'ride_3': 6, 'ride_4': 3, 'ride_5': 1, 'ride_6': 2, 'ride_7': 1, 'ride_8': 1, 'ride_9': 5, 'ride_10': 4, 'ride_11': 1, 'ride_12': 4, 'ride_13': 1}. Best is trial 18 with value: 620.1555395305085.\n",
      "[I 2024-10-18 21:43:57,709] Trial 22 finished with value: 641.6950677811059 and parameters: {'n_rides': 14, 'ride_0': 0, 'ride_1': 3, 'ride_2': 0, 'ride_3': 5, 'ride_4': 4, 'ride_5': 1, 'ride_6': 1, 'ride_7': 1, 'ride_8': 2, 'ride_9': 4, 'ride_10': 3, 'ride_11': 2, 'ride_12': 2, 'ride_13': 1}. Best is trial 22 with value: 641.6950677811059.\n",
      "[I 2024-10-18 21:43:57,785] Trial 23 finished with value: 566.7176553528758 and parameters: {'n_rides': 18, 'ride_0': 1, 'ride_1': 1, 'ride_2': 2, 'ride_3': 5, 'ride_4': 3, 'ride_5': 1, 'ride_6': 1, 'ride_7': 1, 'ride_8': 2, 'ride_9': 6, 'ride_10': 3, 'ride_11': 2, 'ride_12': 2, 'ride_13': 1, 'ride_14': 5, 'ride_15': 7, 'ride_16': 7, 'ride_17': 0}. Best is trial 22 with value: 641.6950677811059.\n",
      "[I 2024-10-18 21:43:57,839] Trial 24 finished with value: 556.8080056399556 and parameters: {'n_rides': 12, 'ride_0': 2, 'ride_1': 2, 'ride_2': 1, 'ride_3': 5, 'ride_4': 2, 'ride_5': 2, 'ride_6': 1, 'ride_7': 2, 'ride_8': 3, 'ride_9': 4, 'ride_10': 2, 'ride_11': 0}. Best is trial 22 with value: 641.6950677811059.\n"
     ]
    },
    {
     "name": "stdout",
     "output_type": "stream",
     "text": [
      "total_time: 716\n",
      "total_popularity: 628\n",
      "total_time: 714\n",
      "total_popularity: 669\n",
      "total_time: 710\n",
      "total_popularity: 592\n",
      "total_time: 694\n",
      "total_popularity: 574\n"
     ]
    },
    {
     "name": "stderr",
     "output_type": "stream",
     "text": [
      "[I 2024-10-18 21:43:57,915] Trial 25 finished with value: 560.2007146740483 and parameters: {'n_rides': 15, 'ride_0': 0, 'ride_1': 3, 'ride_2': 0, 'ride_3': 6, 'ride_4': 4, 'ride_5': 1, 'ride_6': 1, 'ride_7': 7, 'ride_8': 2, 'ride_9': 6, 'ride_10': 4, 'ride_11': 2, 'ride_12': 5, 'ride_13': 2, 'ride_14': 7}. Best is trial 22 with value: 641.6950677811059.\n",
      "[I 2024-10-18 21:43:57,927] Trial 26 finished with value: 346.0944973324815 and parameters: {'n_rides': 1, 'ride_0': 1}. Best is trial 22 with value: 641.6950677811059.\n",
      "[I 2024-10-18 21:43:57,980] Trial 27 finished with value: 600.7063615669908 and parameters: {'n_rides': 11, 'ride_0': 2, 'ride_1': 1, 'ride_2': 3, 'ride_3': 4, 'ride_4': 2, 'ride_5': 2, 'ride_6': 0, 'ride_7': 3, 'ride_8': 0, 'ride_9': 4, 'ride_10': 1}. Best is trial 22 with value: 641.6950677811059.\n",
      "[I 2024-10-18 21:43:58,021] Trial 28 finished with value: 517.8696215131426 and parameters: {'n_rides': 8, 'ride_0': 0, 'ride_1': 4, 'ride_2': 1, 'ride_3': 5, 'ride_4': 4, 'ride_5': 1, 'ride_6': 2, 'ride_7': 1}. Best is trial 22 with value: 641.6950677811059.\n",
      "[I 2024-10-18 21:43:58,085] Trial 29 finished with value: 592.616011279911 and parameters: {'n_rides': 13, 'ride_0': 1, 'ride_1': 2, 'ride_2': 5, 'ride_3': 6, 'ride_4': 3, 'ride_5': 0, 'ride_6': 1, 'ride_7': 2, 'ride_8': 5, 'ride_9': 5, 'ride_10': 3, 'ride_11': 1, 'ride_12': 4}. Best is trial 22 with value: 641.6950677811059.\n",
      "[I 2024-10-18 21:43:58,086] A new study created in memory with name: no-name-2cdea4c6-3814-46b7-a2a4-1514739537a7\n",
      "[I 2024-10-18 21:43:58,089] Trial 0 finished with value: 139.0 and parameters: {'n_rides': 2, 'ride_0': 0, 'ride_1': 2, 'lamb_x': 0.6869939562896968}. Best is trial 0 with value: 139.0.\n",
      "[I 2024-10-18 21:43:58,089] Trial 1 finished with value: 236.0 and parameters: {'n_rides': 5, 'ride_0': 5, 'ride_1': 7, 'ride_2': 0, 'ride_3': 1, 'ride_4': 4, 'lamb_x': 1.590906455122643}. Best is trial 0 with value: 139.0.\n",
      "[I 2024-10-18 21:43:58,101] Trial 2 finished with value: 291.0 and parameters: {'n_rides': 7, 'ride_0': 3, 'ride_1': 1, 'ride_2': 6, 'ride_3': 6, 'ride_4': 0, 'ride_5': 4, 'ride_6': 7, 'lamb_x': 1.4952906972248599}. Best is trial 0 with value: 139.0.\n"
     ]
    },
    {
     "name": "stdout",
     "output_type": "stream",
     "text": [
      "total_time: 713\n",
      "total_popularity: 587\n",
      "total_time: 112\n",
      "total_popularity: 69\n",
      "total_time: 712\n",
      "total_popularity: 627\n",
      "total_time: 506\n",
      "total_popularity: 440\n",
      "total_time: 728\n",
      "total_popularity: 627\n"
     ]
    },
    {
     "name": "stderr",
     "output_type": "stream",
     "text": [
      "[I 2024-10-18 21:43:58,103] Trial 3 finished with value: 594.0 and parameters: {'n_rides': 20, 'ride_0': 5, 'ride_1': 6, 'ride_2': 5, 'ride_3': 0, 'ride_4': 0, 'ride_5': 4, 'ride_6': 4, 'ride_7': 1, 'ride_8': 0, 'ride_9': 7, 'ride_10': 2, 'ride_11': 4, 'ride_12': 7, 'ride_13': 1, 'ride_14': 1, 'ride_15': 4, 'ride_16': 2, 'ride_17': 3, 'ride_18': 5, 'ride_19': 6, 'lamb_x': 1.2909760193682334}. Best is trial 0 with value: 139.0.\n",
      "[I 2024-10-18 21:43:58,110] Trial 4 finished with value: 45.0 and parameters: {'n_rides': 1, 'ride_0': 3, 'lamb_x': 1.581162010542189}. Best is trial 4 with value: 45.0.\n",
      "[I 2024-10-18 21:43:58,117] Trial 5 finished with value: 206.0 and parameters: {'n_rides': 4, 'ride_0': 3, 'ride_1': 7, 'ride_2': 2, 'ride_3': 0, 'lamb_x': 1.8463469743683667}. Best is trial 4 with value: 45.0.\n",
      "[I 2024-10-18 21:43:58,120] Trial 6 finished with value: 361.0 and parameters: {'n_rides': 7, 'ride_0': 0, 'ride_1': 4, 'ride_2': 2, 'ride_3': 5, 'ride_4': 0, 'ride_5': 7, 'ride_6': 2, 'lamb_x': 1.3880511140141392}. Best is trial 4 with value: 45.0.\n",
      "[I 2024-10-18 21:43:58,129] Trial 7 finished with value: 540.0 and parameters: {'n_rides': 11, 'ride_0': 3, 'ride_1': 2, 'ride_2': 7, 'ride_3': 0, 'ride_4': 6, 'ride_5': 3, 'ride_6': 0, 'ride_7': 5, 'ride_8': 6, 'ride_9': 0, 'ride_10': 2, 'lamb_x': 1.4376988362409282}. Best is trial 4 with value: 45.0.\n",
      "[I 2024-10-18 21:43:58,136] Trial 8 finished with value: 561.0 and parameters: {'n_rides': 14, 'ride_0': 3, 'ride_1': 6, 'ride_2': 1, 'ride_3': 3, 'ride_4': 1, 'ride_5': 7, 'ride_6': 1, 'ride_7': 7, 'ride_8': 5, 'ride_9': 7, 'ride_10': 7, 'ride_11': 0, 'ride_12': 3, 'ride_13': 3, 'lamb_x': 0.5674142954376213}. Best is trial 4 with value: 45.0.\n",
      "[I 2024-10-18 21:43:58,144] Trial 9 finished with value: 591.0 and parameters: {'n_rides': 17, 'ride_0': 4, 'ride_1': 7, 'ride_2': 7, 'ride_3': 7, 'ride_4': 3, 'ride_5': 1, 'ride_6': 4, 'ride_7': 7, 'ride_8': 1, 'ride_9': 5, 'ride_10': 0, 'ride_11': 3, 'ride_12': 1, 'ride_13': 5, 'ride_14': 5, 'ride_15': 1, 'ride_16': 3, 'lamb_x': 1.5609222925948691}. Best is trial 4 with value: 45.0.\n",
      "[I 2024-10-18 21:43:58,153] Trial 10 finished with value: 22.0 and parameters: {'n_rides': 1, 'ride_0': 7, 'lamb_x': 0.986367612499707}. Best is trial 10 with value: 22.0.\n",
      "[I 2024-10-18 21:43:58,170] Trial 11 finished with value: 22.0 and parameters: {'n_rides': 1, 'ride_0': 7, 'lamb_x': 0.9924944658323446}. Best is trial 10 with value: 22.0.\n",
      "[I 2024-10-18 21:43:58,187] Trial 12 finished with value: 22.0 and parameters: {'n_rides': 1, 'ride_0': 7, 'lamb_x': 0.9105095811202427}. Best is trial 10 with value: 22.0.\n",
      "[I 2024-10-18 21:43:58,228] Trial 13 finished with value: 396.0 and parameters: {'n_rides': 8, 'ride_0': 7, 'ride_1': 0, 'ride_2': 4, 'ride_3': 3, 'ride_4': 7, 'ride_5': 0, 'ride_6': 7, 'ride_7': 0, 'lamb_x': 1.0165015949750695}. Best is trial 10 with value: 22.0.\n",
      "[I 2024-10-18 21:43:58,253] Trial 14 finished with value: 130.0 and parameters: {'n_rides': 4, 'ride_0': 6, 'ride_1': 4, 'ride_2': 3, 'ride_3': 4, 'lamb_x': 1.0412344283215718}. Best is trial 10 with value: 22.0.\n",
      "[I 2024-10-18 21:43:58,301] Trial 15 finished with value: 515.0 and parameters: {'n_rides': 11, 'ride_0': 6, 'ride_1': 3, 'ride_2': 0, 'ride_3': 2, 'ride_4': 4, 'ride_5': 2, 'ride_6': 5, 'ride_7': 3, 'ride_8': 3, 'ride_9': 0, 'ride_10': 7, 'lamb_x': 0.8208173739882949}. Best is trial 10 with value: 22.0.\n",
      "[I 2024-10-18 21:43:58,320] Trial 16 finished with value: 83.0 and parameters: {'n_rides': 3, 'ride_0': 7, 'ride_1': 5, 'ride_2': 4, 'lamb_x': 1.122139956245664}. Best is trial 10 with value: 22.0.\n",
      "[I 2024-10-18 21:43:58,367] Trial 17 finished with value: 408.0 and parameters: {'n_rides': 9, 'ride_0': 1, 'ride_1': 0, 'ride_2': 5, 'ride_3': 7, 'ride_4': 2, 'ride_5': 5, 'ride_6': 2, 'ride_7': 3, 'ride_8': 7, 'lamb_x': 1.213862249656252}. Best is trial 10 with value: 22.0.\n",
      "[I 2024-10-18 21:43:58,394] Trial 18 finished with value: 185.0 and parameters: {'n_rides': 6, 'ride_0': 6, 'ride_1': 3, 'ride_2': 2, 'ride_3': 5, 'ride_4': 6, 'ride_5': 6, 'lamb_x': 0.8226840754425745}. Best is trial 10 with value: 22.0.\n",
      "[I 2024-10-18 21:43:58,459] Trial 19 finished with value: 473.0 and parameters: {'n_rides': 14, 'ride_0': 5, 'ride_1': 5, 'ride_2': 6, 'ride_3': 2, 'ride_4': 5, 'ride_5': 0, 'ride_6': 6, 'ride_7': 5, 'ride_8': 3, 'ride_9': 3, 'ride_10': 5, 'ride_11': 7, 'ride_12': 7, 'ride_13': 7, 'lamb_x': 0.5384226932719353}. Best is trial 10 with value: 22.0.\n",
      "[I 2024-10-18 21:43:58,481] Trial 20 finished with value: 136.0 and parameters: {'n_rides': 3, 'ride_0': 7, 'ride_1': 1, 'ride_2': 3, 'lamb_x': 1.848430651860776}. Best is trial 10 with value: 22.0.\n",
      "[I 2024-10-18 21:43:58,494] Trial 21 finished with value: 22.0 and parameters: {'n_rides': 1, 'ride_0': 7, 'lamb_x': 0.8827278609794731}. Best is trial 10 with value: 22.0.\n",
      "[I 2024-10-18 21:43:58,510] Trial 22 finished with value: 19.0 and parameters: {'n_rides': 1, 'ride_0': 6, 'lamb_x': 0.9464243117263629}. Best is trial 22 with value: 19.0.\n",
      "[I 2024-10-18 21:43:58,534] Trial 23 finished with value: 143.0 and parameters: {'n_rides': 3, 'ride_0': 6, 'ride_1': 2, 'ride_2': 1, 'lamb_x': 1.1060817905300329}. Best is trial 22 with value: 19.0.\n",
      "[I 2024-10-18 21:43:58,563] Trial 24 finished with value: 158.0 and parameters: {'n_rides': 5, 'ride_0': 6, 'ride_1': 5, 'ride_2': 5, 'ride_3': 5, 'ride_4': 2, 'lamb_x': 0.6677582193909242}. Best is trial 22 with value: 19.0.\n",
      "[I 2024-10-18 21:43:58,574] Trial 25 finished with value: 33.0 and parameters: {'n_rides': 1, 'ride_0': 4, 'lamb_x': 0.9660874845953007}. Best is trial 22 with value: 19.0.\n",
      "[I 2024-10-18 21:43:58,602] Trial 26 finished with value: 166.0 and parameters: {'n_rides': 3, 'ride_0': 5, 'ride_1': 1, 'ride_2': 1, 'lamb_x': 0.7266200785153338}. Best is trial 22 with value: 19.0.\n",
      "[I 2024-10-18 21:43:58,632] Trial 27 finished with value: 115.0 and parameters: {'n_rides': 5, 'ride_0': 7, 'ride_1': 6, 'ride_2': 6, 'ride_3': 4, 'ride_4': 7, 'lamb_x': 1.2214936225578943}. Best is trial 22 with value: 19.0.\n",
      "[I 2024-10-18 21:43:58,676] Trial 28 finished with value: 433.0 and parameters: {'n_rides': 9, 'ride_0': 6, 'ride_1': 3, 'ride_2': 3, 'ride_3': 2, 'ride_4': 3, 'ride_5': 2, 'ride_6': 3, 'ride_7': 1, 'ride_8': 2, 'lamb_x': 1.1119950671568701}. Best is trial 22 with value: 19.0.\n",
      "[I 2024-10-18 21:43:58,696] Trial 29 finished with value: 88.0 and parameters: {'n_rides': 2, 'ride_0': 2, 'ride_1': 4, 'lamb_x': 0.7475039292303736}. Best is trial 22 with value: 19.0.\n",
      "[I 2024-10-18 21:43:58,697] A new study created in memory with name: no-name-e295887e-e00c-4b33-9a09-1685d70b41e6\n",
      "[I 2024-10-18 21:43:58,702] Trial 0 finished with value: 633.8029196941335 and parameters: {'n_rides': 9, 'ride_0': 3, 'ride_1': 2, 'ride_2': 3, 'ride_3': 3, 'ride_4': 7, 'ride_5': 0, 'ride_6': 2, 'ride_7': 1, 'ride_8': 1}. Best is trial 0 with value: 633.8029196941335.\n",
      "[I 2024-10-18 21:43:58,702] Trial 1 finished with value: 610.0153141006386 and parameters: {'n_rides': 1, 'ride_0': 3}. Best is trial 0 with value: 633.8029196941335.\n",
      "[I 2024-10-18 21:43:58,714] Trial 2 finished with value: 540.94666285505 and parameters: {'n_rides': 20, 'ride_0': 2, 'ride_1': 3, 'ride_2': 4, 'ride_3': 1, 'ride_4': 0, 'ride_5': 1, 'ride_6': 6, 'ride_7': 7, 'ride_8': 3, 'ride_9': 1, 'ride_10': 7, 'ride_11': 4, 'ride_12': 5, 'ride_13': 1, 'ride_14': 4, 'ride_15': 0, 'ride_16': 1, 'ride_17': 6, 'ride_18': 3, 'ride_19': 0}. Best is trial 0 with value: 633.8029196941335.\n",
      "[I 2024-10-18 21:43:58,719] Trial 3 finished with value: 423.08873621270084 and parameters: {'n_rides': 9, 'ride_0': 4, 'ride_1': 5, 'ride_2': 7, 'ride_3': 6, 'ride_4': 6, 'ride_5': 2, 'ride_6': 0, 'ride_7': 6, 'ride_8': 7}. Best is trial 0 with value: 633.8029196941335.\n",
      "[I 2024-10-18 21:43:58,719] Trial 4 finished with value: 603.3207384996708 and parameters: {'n_rides': 9, 'ride_0': 4, 'ride_1': 4, 'ride_2': 5, 'ride_3': 0, 'ride_4': 2, 'ride_5': 4, 'ride_6': 3, 'ride_7': 2, 'ride_8': 0}. Best is trial 0 with value: 633.8029196941335.\n",
      "[I 2024-10-18 21:43:58,729] Trial 5 finished with value: 640.5716330371346 and parameters: {'n_rides': 14, 'ride_0': 1, 'ride_1': 3, 'ride_2': 1, 'ride_3': 0, 'ride_4': 1, 'ride_5': 2, 'ride_6': 3, 'ride_7': 7, 'ride_8': 5, 'ride_9': 0, 'ride_10': 4, 'ride_11': 5, 'ride_12': 2, 'ride_13': 2}. Best is trial 5 with value: 640.5716330371346.\n",
      "[I 2024-10-18 21:43:58,734] Trial 6 finished with value: 574.4809884778443 and parameters: {'n_rides': 6, 'ride_0': 4, 'ride_1': 2, 'ride_2': 1, 'ride_3': 2, 'ride_4': 7, 'ride_5': 0}. Best is trial 5 with value: 640.5716330371346.\n",
      "[I 2024-10-18 21:43:58,745] Trial 7 finished with value: 443.2494632775217 and parameters: {'n_rides': 9, 'ride_0': 3, 'ride_1': 5, 'ride_2': 6, 'ride_3': 5, 'ride_4': 1, 'ride_5': 1, 'ride_6': 7, 'ride_7': 7, 'ride_8': 7}. Best is trial 5 with value: 640.5716330371346.\n",
      "[I 2024-10-18 21:43:58,745] Trial 8 finished with value: 631.8187108814195 and parameters: {'n_rides': 1, 'ride_0': 5}. Best is trial 5 with value: 640.5716330371346.\n",
      "[I 2024-10-18 21:43:58,751] Trial 9 finished with value: 576.5895711143337 and parameters: {'n_rides': 13, 'ride_0': 1, 'ride_1': 0, 'ride_2': 4, 'ride_3': 5, 'ride_4': 1, 'ride_5': 4, 'ride_6': 5, 'ride_7': 3, 'ride_8': 5, 'ride_9': 0, 'ride_10': 0, 'ride_11': 4, 'ride_12': 7}. Best is trial 5 with value: 640.5716330371346.\n",
      "[I 2024-10-18 21:43:58,822] Trial 10 finished with value: 466.91102524397553 and parameters: {'n_rides': 17, 'ride_0': 0, 'ride_1': 7, 'ride_2': 0, 'ride_3': 0, 'ride_4': 4, 'ride_5': 7, 'ride_6': 1, 'ride_7': 5, 'ride_8': 4, 'ride_9': 7, 'ride_10': 4, 'ride_11': 7, 'ride_12': 0, 'ride_13': 5, 'ride_14': 0, 'ride_15': 7, 'ride_16': 7}. Best is trial 5 with value: 640.5716330371346.\n",
      "[I 2024-10-18 21:43:58,881] Trial 11 finished with value: 605.4286055061891 and parameters: {'n_rides': 14, 'ride_0': 7, 'ride_1': 2, 'ride_2': 2, 'ride_3': 3, 'ride_4': 4, 'ride_5': 2, 'ride_6': 3, 'ride_7': 0, 'ride_8': 1, 'ride_9': 4, 'ride_10': 4, 'ride_11': 0, 'ride_12': 1, 'ride_13': 1}. Best is trial 5 with value: 640.5716330371346.\n"
     ]
    },
    {
     "name": "stdout",
     "output_type": "stream",
     "text": [
      "tt_best2: 714\n",
      "714\n",
      "total_time: 507\n",
      "total_popularity: 489\n",
      "total_time: 63\n",
      "total_popularity: 45\n",
      "total_time: 715\n",
      "total_popularity: 593\n",
      "total_time: 531\n",
      "total_popularity: 301\n",
      "total_time: 498\n",
      "total_popularity: 450\n",
      "total_time: 708\n",
      "total_popularity: 686\n",
      "total_time: 389\n",
      "total_popularity: 318\n",
      "total_time: 534\n",
      "total_popularity: 324\n",
      "total_time: 22\n",
      "total_popularity: 28\n",
      "total_time: 727\n",
      "total_popularity: 640\n",
      "total_time: 733\n",
      "total_popularity: 536\n",
      "total_time: 668\n",
      "total_popularity: 613\n"
     ]
    },
    {
     "name": "stderr",
     "output_type": "stream",
     "text": [
      "[I 2024-10-18 21:43:58,940] Trial 12 finished with value: 575.6967224908809 and parameters: {'n_rides': 14, 'ride_0': 0, 'ride_1': 0, 'ride_2': 2, 'ride_3': 3, 'ride_4': 5, 'ride_5': 0, 'ride_6': 2, 'ride_7': 0, 'ride_8': 2, 'ride_9': 3, 'ride_10': 1, 'ride_11': 7, 'ride_12': 3, 'ride_13': 7}. Best is trial 5 with value: 640.5716330371346.\n",
      "[I 2024-10-18 21:43:58,970] Trial 13 finished with value: 502.6773531537398 and parameters: {'n_rides': 5, 'ride_0': 2, 'ride_1': 2, 'ride_2': 2, 'ride_3': 7, 'ride_4': 3}. Best is trial 5 with value: 640.5716330371346.\n",
      "[I 2024-10-18 21:43:59,019] Trial 14 finished with value: 503.1966032192191 and parameters: {'n_rides': 12, 'ride_0': 6, 'ride_1': 1, 'ride_2': 0, 'ride_3': 2, 'ride_4': 7, 'ride_5': 3, 'ride_6': 4, 'ride_7': 2, 'ride_8': 5, 'ride_9': 2, 'ride_10': 7, 'ride_11': 2}. Best is trial 5 with value: 640.5716330371346.\n",
      "[I 2024-10-18 21:43:59,090] Trial 15 finished with value: 554.4824197377864 and parameters: {'n_rides': 16, 'ride_0': 2, 'ride_1': 4, 'ride_2': 3, 'ride_3': 4, 'ride_4': 3, 'ride_5': 6, 'ride_6': 2, 'ride_7': 4, 'ride_8': 0, 'ride_9': 6, 'ride_10': 2, 'ride_11': 5, 'ride_12': 3, 'ride_13': 3, 'ride_14': 7, 'ride_15': 3}. Best is trial 5 with value: 640.5716330371346.\n",
      "[I 2024-10-18 21:43:59,117] Trial 16 finished with value: 652.7127522214906 and parameters: {'n_rides': 5, 'ride_0': 1, 'ride_1': 3, 'ride_2': 3, 'ride_3': 1, 'ride_4': 0}. Best is trial 16 with value: 652.7127522214906.\n"
     ]
    },
    {
     "name": "stdout",
     "output_type": "stream",
     "text": [
      "total_time: 729\n",
      "total_popularity: 641\n",
      "total_time: 374\n",
      "total_popularity: 232\n",
      "total_time: 701\n",
      "total_popularity: 542\n",
      "total_time: 725\n",
      "total_popularity: 616\n",
      "total_time: 300\n",
      "total_popularity: 312\n"
     ]
    },
    {
     "name": "stderr",
     "output_type": "stream",
     "text": [
      "[I 2024-10-18 21:43:59,144] Trial 17 finished with value: 566.4809884778443 and parameters: {'n_rides': 5, 'ride_0': 1, 'ride_1': 6, 'ride_2': 1, 'ride_3': 1, 'ride_4': 0}. Best is trial 16 with value: 652.7127522214906.\n",
      "[I 2024-10-18 21:43:59,159] Trial 18 finished with value: 621.194456329306 and parameters: {'n_rides': 3, 'ride_0': 1, 'ride_1': 3, 'ride_2': 1}. Best is trial 16 with value: 652.7127522214906.\n",
      "[I 2024-10-18 21:43:59,240] Trial 19 finished with value: 552.8395114785028 and parameters: {'n_rides': 20, 'ride_0': 0, 'ride_1': 5, 'ride_2': 5, 'ride_3': 1, 'ride_4': 1, 'ride_5': 5, 'ride_6': 5, 'ride_7': 5, 'ride_8': 6, 'ride_9': 0, 'ride_10': 5, 'ride_11': 2, 'ride_12': 2, 'ride_13': 3, 'ride_14': 0, 'ride_15': 7, 'ride_16': 6, 'ride_17': 0, 'ride_18': 7, 'ride_19': 7}. Best is trial 16 with value: 652.7127522214906.\n",
      "[I 2024-10-18 21:43:59,278] Trial 20 finished with value: 646.5704403205161 and parameters: {'n_rides': 7, 'ride_0': 1, 'ride_1': 3, 'ride_2': 3, 'ride_3': 0, 'ride_4': 2, 'ride_5': 3, 'ride_6': 0}. Best is trial 16 with value: 652.7127522214906.\n",
      "[I 2024-10-18 21:43:59,313] Trial 21 finished with value: 646.5704403205161 and parameters: {'n_rides': 7, 'ride_0': 1, 'ride_1': 3, 'ride_2': 3, 'ride_3': 0, 'ride_4': 2, 'ride_5': 3, 'ride_6': 0}. Best is trial 16 with value: 652.7127522214906.\n",
      "[I 2024-10-18 21:43:59,349] Trial 22 finished with value: 615.8383187618844 and parameters: {'n_rides': 7, 'ride_0': 2, 'ride_1': 4, 'ride_2': 3, 'ride_3': 0, 'ride_4': 2, 'ride_5': 3, 'ride_6': 0}. Best is trial 16 with value: 652.7127522214906.\n"
     ]
    },
    {
     "name": "stdout",
     "output_type": "stream",
     "text": [
      "total_time: 389\n",
      "total_popularity: 310\n",
      "total_time: 197\n",
      "total_popularity: 183\n",
      "total_time: 713\n",
      "total_popularity: 603\n",
      "total_time: 428\n",
      "total_popularity: 427\n",
      "total_time: 428\n",
      "total_popularity: 427\n",
      "total_time: 433\n",
      "total_popularity: 401\n"
     ]
    },
    {
     "name": "stderr",
     "output_type": "stream",
     "text": [
      "[I 2024-10-18 21:43:59,368] Trial 23 finished with value: 574.0339678078087 and parameters: {'n_rides': 3, 'ride_0': 0, 'ride_1': 1, 'ride_2': 4}. Best is trial 16 with value: 652.7127522214906.\n",
      "[I 2024-10-18 21:43:59,404] Trial 24 finished with value: 602.302561879148 and parameters: {'n_rides': 7, 'ride_0': 1, 'ride_1': 3, 'ride_2': 5, 'ride_3': 1, 'ride_4': 2, 'ride_5': 5, 'ride_6': 0}. Best is trial 16 with value: 652.7127522214906.\n",
      "[I 2024-10-18 21:43:59,451] Trial 25 finished with value: 581.3750298179154 and parameters: {'n_rides': 11, 'ride_0': 2, 'ride_1': 1, 'ride_2': 3, 'ride_3': 2, 'ride_4': 0, 'ride_5': 5, 'ride_6': 1, 'ride_7': 3, 'ride_8': 2, 'ride_9': 5, 'ride_10': 2}. Best is trial 16 with value: 652.7127522214906.\n",
      "[I 2024-10-18 21:43:59,480] Trial 26 finished with value: 580.9980916534106 and parameters: {'n_rides': 3, 'ride_0': 1, 'ride_1': 4, 'ride_2': 2}. Best is trial 16 with value: 652.7127522214906.\n",
      "[I 2024-10-18 21:43:59,516] Trial 27 finished with value: 604.6955297742626 and parameters: {'n_rides': 7, 'ride_0': 0, 'ride_1': 3, 'ride_2': 4, 'ride_3': 0, 'ride_4': 3, 'ride_5': 3, 'ride_6': 1}. Best is trial 16 with value: 652.7127522214906.\n",
      "[I 2024-10-18 21:43:59,539] Trial 28 finished with value: 616.2303324837042 and parameters: {'n_rides': 4, 'ride_0': 3, 'ride_1': 2, 'ride_2': 3, 'ride_3': 1}. Best is trial 16 with value: 652.7127522214906.\n",
      "[I 2024-10-18 21:43:59,584] Trial 29 finished with value: 563.3563761107453 and parameters: {'n_rides': 8, 'ride_0': 2, 'ride_1': 5, 'ride_2': 2, 'ride_3': 2, 'ride_4': 2, 'ride_5': 4, 'ride_6': 0, 'ride_7': 5}. Best is trial 16 with value: 652.7127522214906.\n"
     ]
    },
    {
     "name": "stdout",
     "output_type": "stream",
     "text": [
      "total_time: 250\n",
      "total_popularity: 186\n",
      "total_time: 423\n",
      "total_popularity: 378\n",
      "total_time: 667\n",
      "total_popularity: 588\n",
      "total_time: 212\n",
      "total_popularity: 157\n",
      "total_time: 449\n",
      "total_popularity: 405\n",
      "total_time: 235\n",
      "total_popularity: 214\n",
      "total_time: 480\n",
      "total_popularity: 393\n"
     ]
    },
    {
     "name": "stderr",
     "output_type": "stream",
     "text": [
      "[I 2024-10-18 21:43:59,584] A new study created in memory with name: no-name-851656f2-b3e3-4819-90f1-4c06cbf5217e\n",
      "[I 2024-10-18 21:43:59,589] Trial 0 finished with value: 368.7372120622599 and parameters: {'n_rides': 5, 'ride_0': 7, 'ride_1': 5, 'ride_2': 6, 'ride_3': 0, 'ride_4': 6, 'lamb_x': 0.5464922557284997}. Best is trial 0 with value: 368.7372120622599.\n",
      "[I 2024-10-18 21:43:59,595] Trial 1 finished with value: 1153.785886880461 and parameters: {'n_rides': 10, 'ride_0': 2, 'ride_1': 3, 'ride_2': 6, 'ride_3': 2, 'ride_4': 1, 'ride_5': 0, 'ride_6': 0, 'ride_7': 5, 'ride_8': 0, 'ride_9': 3, 'lamb_x': 1.6271830191123913}. Best is trial 0 with value: 368.7372120622599.\n",
      "[I 2024-10-18 21:43:59,602] Trial 2 finished with value: 985.8758575654879 and parameters: {'n_rides': 11, 'ride_0': 4, 'ride_1': 6, 'ride_2': 3, 'ride_3': 6, 'ride_4': 6, 'ride_5': 2, 'ride_6': 2, 'ride_7': 0, 'ride_8': 0, 'ride_9': 3, 'ride_10': 4, 'lamb_x': 1.3746551599041328}. Best is trial 0 with value: 368.7372120622599.\n",
      "[I 2024-10-18 21:43:59,603] Trial 3 finished with value: 1112.1587933929359 and parameters: {'n_rides': 9, 'ride_0': 1, 'ride_1': 2, 'ride_2': 7, 'ride_3': 1, 'ride_4': 3, 'ride_5': 1, 'ride_6': 7, 'ride_7': 3, 'ride_8': 5, 'lamb_x': 1.9115522038692663}. Best is trial 0 with value: 368.7372120622599.\n",
      "[I 2024-10-18 21:43:59,614] Trial 4 finished with value: 824.7998253193784 and parameters: {'n_rides': 12, 'ride_0': 2, 'ride_1': 1, 'ride_2': 1, 'ride_3': 6, 'ride_4': 5, 'ride_5': 0, 'ride_6': 6, 'ride_7': 5, 'ride_8': 5, 'ride_9': 4, 'ride_10': 5, 'ride_11': 4, 'lamb_x': 0.9216661814427181}. Best is trial 0 with value: 368.7372120622599.\n",
      "[I 2024-10-18 21:43:59,619] Trial 5 finished with value: 737.8156922749613 and parameters: {'n_rides': 6, 'ride_0': 1, 'ride_1': 1, 'ride_2': 4, 'ride_3': 4, 'ride_4': 6, 'ride_5': 6, 'lamb_x': 1.3772658118748924}. Best is trial 0 with value: 368.7372120622599.\n",
      "[I 2024-10-18 21:43:59,619] Trial 6 finished with value: 933.199853155663 and parameters: {'n_rides': 16, 'ride_0': 6, 'ride_1': 3, 'ride_2': 6, 'ride_3': 2, 'ride_4': 1, 'ride_5': 1, 'ride_6': 4, 'ride_7': 1, 'ride_8': 0, 'ride_9': 1, 'ride_10': 5, 'ride_11': 2, 'ride_12': 2, 'ride_13': 4, 'ride_14': 6, 'ride_15': 2, 'lamb_x': 0.7338884809879529}. Best is trial 0 with value: 368.7372120622599.\n",
      "[I 2024-10-18 21:43:59,635] Trial 7 finished with value: 775.0284115589441 and parameters: {'n_rides': 20, 'ride_0': 6, 'ride_1': 4, 'ride_2': 3, 'ride_3': 4, 'ride_4': 6, 'ride_5': 7, 'ride_6': 3, 'ride_7': 4, 'ride_8': 2, 'ride_9': 3, 'ride_10': 5, 'ride_11': 6, 'ride_12': 1, 'ride_13': 3, 'ride_14': 4, 'ride_15': 1, 'ride_16': 1, 'ride_17': 6, 'ride_18': 1, 'ride_19': 7, 'lamb_x': 0.5306344765526224}. Best is trial 0 with value: 368.7372120622599.\n",
      "[I 2024-10-18 21:43:59,639] Trial 8 finished with value: 1124.6751754712668 and parameters: {'n_rides': 10, 'ride_0': 0, 'ride_1': 3, 'ride_2': 0, 'ride_3': 5, 'ride_4': 2, 'ride_5': 6, 'ride_6': 0, 'ride_7': 1, 'ride_8': 4, 'ride_9': 6, 'lamb_x': 1.679653265197963}. Best is trial 0 with value: 368.7372120622599.\n",
      "[I 2024-10-18 21:43:59,639] Trial 9 finished with value: 863.9484405645113 and parameters: {'n_rides': 16, 'ride_0': 5, 'ride_1': 4, 'ride_2': 5, 'ride_3': 4, 'ride_4': 6, 'ride_5': 6, 'ride_6': 5, 'ride_7': 5, 'ride_8': 6, 'ride_9': 2, 'ride_10': 7, 'ride_11': 0, 'ride_12': 7, 'ride_13': 7, 'ride_14': 2, 'ride_15': 4, 'lamb_x': 1.0248567793458647}. Best is trial 0 with value: 368.7372120622599.\n",
      "[I 2024-10-18 21:43:59,659] Trial 10 finished with value: 207.66518465503736 and parameters: {'n_rides': 1, 'ride_0': 7, 'lamb_x': 0.5157366240417705}. Best is trial 10 with value: 207.66518465503736.\n",
      "[I 2024-10-18 21:43:59,670] Trial 11 finished with value: 209.03923633583784 and parameters: {'n_rides': 1, 'ride_0': 7, 'lamb_x': 0.5195534342662163}. Best is trial 10 with value: 207.66518465503736.\n",
      "[I 2024-10-18 21:43:59,689] Trial 12 finished with value: 327.3351389424837 and parameters: {'n_rides': 1, 'ride_0': 7, 'lamb_x': 0.8481531637291213}. Best is trial 10 with value: 207.66518465503736.\n",
      "[I 2024-10-18 21:43:59,703] Trial 13 finished with value: 431.8449017186183 and parameters: {'n_rides': 1, 'ride_0': 5, 'lamb_x': 1.1217913936628285}. Best is trial 10 with value: 207.66518465503736.\n",
      "[I 2024-10-18 21:43:59,729] Trial 14 finished with value: 390.3539340562206 and parameters: {'n_rides': 4, 'ride_0': 7, 'ride_1': 7, 'ride_2': 1, 'ride_3': 7, 'lamb_x': 0.7093164834895018}. Best is trial 10 with value: 207.66518465503736.\n",
      "[I 2024-10-18 21:43:59,755] Trial 15 finished with value: 362.5045510135383 and parameters: {'n_rides': 3, 'ride_0': 4, 'ride_1': 0, 'ride_2': 2, 'lamb_x': 0.5291793083709397}. Best is trial 10 with value: 207.66518465503736.\n",
      "[I 2024-10-18 21:43:59,791] Trial 16 finished with value: 648.2579973422055 and parameters: {'n_rides': 7, 'ride_0': 6, 'ride_1': 7, 'ride_2': 0, 'ride_3': 0, 'ride_4': 0, 'ride_5': 4, 'ride_6': 2, 'lamb_x': 0.742383325950571}. Best is trial 10 with value: 207.66518465503736.\n",
      "[I 2024-10-18 21:43:59,809] Trial 17 finished with value: 489.44558043537864 and parameters: {'n_rides': 2, 'ride_0': 5, 'ride_1': 5, 'lamb_x': 1.2040155012093852}. Best is trial 10 with value: 207.66518465503736.\n",
      "[I 2024-10-18 21:43:59,844] Trial 18 finished with value: 564.0798008710566 and parameters: {'n_rides': 8, 'ride_0': 3, 'ride_1': 0, 'ride_2': 4, 'ride_3': 2, 'ride_4': 4, 'ride_5': 4, 'ride_6': 7, 'ride_7': 7, 'lamb_x': 0.6585550024196017}. Best is trial 10 with value: 207.66518465503736.\n",
      "[I 2024-10-18 21:43:59,870] Trial 19 finished with value: 432.6366769933275 and parameters: {'n_rides': 4, 'ride_0': 7, 'ride_1': 6, 'ride_2': 7, 'ride_3': 7, 'lamb_x': 0.9656574360925765}. Best is trial 10 with value: 207.66518465503736.\n",
      "[I 2024-10-18 21:43:59,936] Trial 20 finished with value: 807.1563925508523 and parameters: {'n_rides': 13, 'ride_0': 6, 'ride_1': 2, 'ride_2': 2, 'ride_3': 3, 'ride_4': 4, 'ride_5': 3, 'ride_6': 1, 'ride_7': 7, 'ride_8': 7, 'ride_9': 7, 'ride_10': 0, 'ride_11': 7, 'ride_12': 6, 'lamb_x': 0.8726566459745897}. Best is trial 10 with value: 207.66518465503736.\n",
      "[I 2024-10-18 21:43:59,952] Trial 21 finished with value: 350.37821745292956 and parameters: {'n_rides': 2, 'ride_0': 7, 'ride_1': 5, 'lamb_x': 0.8343839373692488}. Best is trial 10 with value: 207.66518465503736.\n",
      "[I 2024-10-18 21:43:59,970] Trial 22 finished with value: 258.00779156934857 and parameters: {'n_rides': 1, 'ride_0': 7, 'lamb_x': 0.6555771988037461}. Best is trial 10 with value: 207.66518465503736.\n",
      "[I 2024-10-18 21:43:59,986] Trial 23 finished with value: 242.8030244115199 and parameters: {'n_rides': 1, 'ride_0': 6, 'lamb_x': 0.6216750678097775}. Best is trial 10 with value: 207.66518465503736.\n",
      "[I 2024-10-18 21:44:00,015] Trial 24 finished with value: 331.68810520234905 and parameters: {'n_rides': 4, 'ride_0': 6, 'ride_1': 1, 'ride_2': 5, 'ride_3': 5, 'lamb_x': 0.5213558477843029}. Best is trial 10 with value: 207.66518465503736.\n",
      "[I 2024-10-18 21:44:00,053] Trial 25 finished with value: 464.19199318684707 and parameters: {'n_rides': 6, 'ride_0': 5, 'ride_1': 6, 'ride_2': 2, 'ride_3': 1, 'ride_4': 7, 'ride_5': 3, 'lamb_x': 0.6283110921856864}. Best is trial 10 with value: 207.66518465503736.\n",
      "[I 2024-10-18 21:44:00,076] Trial 26 finished with value: 479.0046195369311 and parameters: {'n_rides': 3, 'ride_0': 6, 'ride_1': 2, 'ride_2': 5, 'lamb_x': 1.047235054269253}. Best is trial 10 with value: 207.66518465503736.\n",
      "[I 2024-10-18 21:44:00,100] Trial 27 finished with value: 417.73236573250574 and parameters: {'n_rides': 3, 'ride_0': 4, 'ride_1': 4, 'ride_2': 1, 'lamb_x': 0.7853676825902938}. Best is trial 10 with value: 207.66518465503736.\n",
      "[I 2024-10-18 21:44:00,115] Trial 28 finished with value: 249.97645488728088 and parameters: {'n_rides': 1, 'ride_0': 7, 'lamb_x': 0.6332679302424469}. Best is trial 10 with value: 207.66518465503736.\n",
      "[I 2024-10-18 21:44:00,146] Trial 29 finished with value: 352.09821573031894 and parameters: {'n_rides': 5, 'ride_0': 7, 'ride_1': 7, 'ride_2': 3, 'ride_3': 6, 'ride_4': 3, 'lamb_x': 0.553050599250886}. Best is trial 10 with value: 207.66518465503736.\n",
      "[I 2024-10-18 21:44:00,147] A new study created in memory with name: no-name-bb19a44f-bf58-4136-a984-5ce3d3851d82\n",
      "[I 2024-10-18 21:44:00,151] Trial 0 finished with value: 693.6344856777026 and parameters: {'n_rides': 18, 'ride_0': 2, 'ride_1': 4, 'ride_2': 5, 'ride_3': 3, 'ride_4': 1, 'ride_5': 2, 'ride_6': 0, 'ride_7': 2, 'ride_8': 2, 'ride_9': 2, 'ride_10': 2, 'ride_11': 4, 'ride_12': 3, 'ride_13': 2, 'ride_14': 4, 'ride_15': 2, 'ride_16': 5, 'ride_17': 6}. Best is trial 0 with value: 693.6344856777026.\n",
      "[I 2024-10-18 21:44:00,160] Trial 1 finished with value: 520.0629464961671 and parameters: {'n_rides': 13, 'ride_0': 0, 'ride_1': 3, 'ride_2': 3, 'ride_3': 3, 'ride_4': 2, 'ride_5': 3, 'ride_6': 6, 'ride_7': 3, 'ride_8': 6, 'ride_9': 5, 'ride_10': 4, 'ride_11': 4, 'ride_12': 7}. Best is trial 0 with value: 693.6344856777026.\n",
      "[I 2024-10-18 21:44:00,169] Trial 2 finished with value: 517.9299095651596 and parameters: {'n_rides': 16, 'ride_0': 7, 'ride_1': 7, 'ride_2': 7, 'ride_3': 7, 'ride_4': 3, 'ride_5': 5, 'ride_6': 2, 'ride_7': 7, 'ride_8': 2, 'ride_9': 7, 'ride_10': 1, 'ride_11': 1, 'ride_12': 2, 'ride_13': 3, 'ride_14': 1, 'ride_15': 4}. Best is trial 0 with value: 693.6344856777026.\n",
      "[I 2024-10-18 21:44:00,170] Trial 3 finished with value: 374.18304450172064 and parameters: {'n_rides': 2, 'ride_0': 7, 'ride_1': 0}. Best is trial 0 with value: 693.6344856777026.\n",
      "[I 2024-10-18 21:44:00,179] Trial 4 finished with value: 528.1187490536608 and parameters: {'n_rides': 13, 'ride_0': 1, 'ride_1': 1, 'ride_2': 3, 'ride_3': 7, 'ride_4': 5, 'ride_5': 2, 'ride_6': 0, 'ride_7': 1, 'ride_8': 4, 'ride_9': 7, 'ride_10': 5, 'ride_11': 1, 'ride_12': 4}. Best is trial 0 with value: 693.6344856777026.\n",
      "[I 2024-10-18 21:44:00,186] Trial 5 finished with value: 526.6030124296191 and parameters: {'n_rides': 18, 'ride_0': 6, 'ride_1': 0, 'ride_2': 7, 'ride_3': 6, 'ride_4': 4, 'ride_5': 3, 'ride_6': 7, 'ride_7': 7, 'ride_8': 0, 'ride_9': 0, 'ride_10': 5, 'ride_11': 5, 'ride_12': 4, 'ride_13': 4, 'ride_14': 6, 'ride_15': 2, 'ride_16': 4, 'ride_17': 0}. Best is trial 0 with value: 693.6344856777026.\n",
      "[I 2024-10-18 21:44:00,190] Trial 6 finished with value: 364.2123945271627 and parameters: {'n_rides': 4, 'ride_0': 3, 'ride_1': 2, 'ride_2': 2, 'ride_3': 7}. Best is trial 0 with value: 693.6344856777026.\n",
      "[I 2024-10-18 21:44:00,195] Trial 7 finished with value: 369.5392916627032 and parameters: {'n_rides': 6, 'ride_0': 7, 'ride_1': 5, 'ride_2': 6, 'ride_3': 6, 'ride_4': 2, 'ride_5': 3}. Best is trial 0 with value: 693.6344856777026.\n",
      "[I 2024-10-18 21:44:00,203] Trial 8 finished with value: 520.2761152940785 and parameters: {'n_rides': 16, 'ride_0': 4, 'ride_1': 4, 'ride_2': 2, 'ride_3': 7, 'ride_4': 7, 'ride_5': 5, 'ride_6': 5, 'ride_7': 5, 'ride_8': 5, 'ride_9': 1, 'ride_10': 7, 'ride_11': 0, 'ride_12': 3, 'ride_13': 5, 'ride_14': 6, 'ride_15': 6}. Best is trial 0 with value: 693.6344856777026.\n",
      "[I 2024-10-18 21:44:00,209] Trial 9 finished with value: 546.0872758055773 and parameters: {'n_rides': 19, 'ride_0': 2, 'ride_1': 4, 'ride_2': 6, 'ride_3': 3, 'ride_4': 0, 'ride_5': 7, 'ride_6': 1, 'ride_7': 5, 'ride_8': 3, 'ride_9': 4, 'ride_10': 6, 'ride_11': 1, 'ride_12': 2, 'ride_13': 0, 'ride_14': 1, 'ride_15': 0, 'ride_16': 7, 'ride_17': 2, 'ride_18': 3}. Best is trial 0 with value: 693.6344856777026.\n",
      "[I 2024-10-18 21:44:00,252] Trial 10 finished with value: 640.1959834271745 and parameters: {'n_rides': 9, 'ride_0': 4, 'ride_1': 6, 'ride_2': 0, 'ride_3': 0, 'ride_4': 0, 'ride_5': 0, 'ride_6': 3, 'ride_7': 0, 'ride_8': 0}. Best is trial 0 with value: 693.6344856777026.\n",
      "[I 2024-10-18 21:44:00,291] Trial 11 finished with value: 597.4549133505162 and parameters: {'n_rides': 8, 'ride_0': 4, 'ride_1': 6, 'ride_2': 0, 'ride_3': 0, 'ride_4': 0, 'ride_5': 0, 'ride_6': 3, 'ride_7': 0}. Best is trial 0 with value: 693.6344856777026.\n",
      "[I 2024-10-18 21:44:00,333] Trial 12 finished with value: 624.624444245639 and parameters: {'n_rides': 9, 'ride_0': 5, 'ride_1': 6, 'ride_2': 0, 'ride_3': 0, 'ride_4': 0, 'ride_5': 0, 'ride_6': 4, 'ride_7': 2, 'ride_8': 0}. Best is trial 0 with value: 693.6344856777026.\n"
     ]
    },
    {
     "name": "stdout",
     "output_type": "stream",
     "text": [
      "tt_best2: 300\n",
      "300\n",
      "total_time: 715\n",
      "total_popularity: 722\n",
      "total_time: 656\n",
      "total_popularity: 518\n",
      "total_time: 728\n",
      "total_popularity: 553\n",
      "total_time: 140\n",
      "total_popularity: 106\n",
      "total_time: 716\n",
      "total_popularity: 557\n",
      "total_time: 717\n",
      "total_popularity: 556\n",
      "total_time: 297\n",
      "total_popularity: 177\n",
      "total_time: 308\n",
      "total_popularity: 188\n",
      "total_time: 706\n",
      "total_popularity: 544\n",
      "total_time: 718\n",
      "total_popularity: 576\n",
      "total_time: 584\n",
      "total_popularity: 601\n",
      "total_time: 504\n",
      "total_popularity: 517\n",
      "total_time: 525\n",
      "total_popularity: 555\n"
     ]
    },
    {
     "name": "stderr",
     "output_type": "stream",
     "text": [
      "[I 2024-10-18 21:44:00,388] Trial 13 finished with value: 567.1187490536608 and parameters: {'n_rides': 12, 'ride_0': 2, 'ride_1': 5, 'ride_2': 5, 'ride_3': 2, 'ride_4': 1, 'ride_5': 1, 'ride_6': 0, 'ride_7': 0, 'ride_8': 1, 'ride_9': 2, 'ride_10': 1, 'ride_11': 7}. Best is trial 0 with value: 693.6344856777026.\n",
      "[I 2024-10-18 21:44:00,435] Trial 14 finished with value: 556.6366089003441 and parameters: {'n_rides': 10, 'ride_0': 3, 'ride_1': 7, 'ride_2': 4, 'ride_3': 1, 'ride_4': 2, 'ride_5': 1, 'ride_6': 2, 'ride_7': 2, 'ride_8': 2, 'ride_9': 3}. Best is trial 0 with value: 693.6344856777026.\n",
      "[I 2024-10-18 21:44:00,514] Trial 15 finished with value: 607.9613828132432 and parameters: {'n_rides': 20, 'ride_0': 5, 'ride_1': 3, 'ride_2': 1, 'ride_3': 4, 'ride_4': 1, 'ride_5': 1, 'ride_6': 4, 'ride_7': 1, 'ride_8': 1, 'ride_9': 0, 'ride_10': 2, 'ride_11': 6, 'ride_12': 0, 'ride_13': 1, 'ride_14': 4, 'ride_15': 2, 'ride_16': 0, 'ride_17': 7, 'ride_18': 7, 'ride_19': 2}. Best is trial 0 with value: 693.6344856777026.\n",
      "[I 2024-10-18 21:44:00,551] Trial 16 finished with value: 430.6315881843123 and parameters: {'n_rides': 7, 'ride_0': 2, 'ride_1': 5, 'ride_2': 4, 'ride_3': 4, 'ride_4': 1, 'ride_5': 2, 'ride_6': 2}. Best is trial 0 with value: 693.6344856777026.\n"
     ]
    },
    {
     "name": "stdout",
     "output_type": "stream",
     "text": [
      "total_time: 716\n",
      "total_popularity: 596\n",
      "total_time: 556\n",
      "total_popularity: 503\n",
      "total_time: 726\n",
      "total_popularity: 642\n",
      "total_time: 461\n",
      "total_popularity: 328\n",
      "total_time: 708\n",
      "total_popularity: 609\n"
     ]
    },
    {
     "name": "stderr",
     "output_type": "stream",
     "text": [
      "[I 2024-10-18 21:44:00,620] Trial 17 finished with value: 584.244642045995 and parameters: {'n_rides': 16, 'ride_0': 0, 'ride_1': 6, 'ride_2': 5, 'ride_3': 2, 'ride_4': 4, 'ride_5': 0, 'ride_6': 1, 'ride_7': 3, 'ride_8': 2, 'ride_9': 5, 'ride_10': 3, 'ride_11': 3, 'ride_12': 6, 'ride_13': 2, 'ride_14': 3, 'ride_15': 7}. Best is trial 0 with value: 693.6344856777026.\n",
      "[I 2024-10-18 21:44:00,671] Trial 18 finished with value: 635.6852675191645 and parameters: {'n_rides': 11, 'ride_0': 1, 'ride_1': 2, 'ride_2': 1, 'ride_3': 1, 'ride_4': 6, 'ride_5': 5, 'ride_6': 3, 'ride_7': 1, 'ride_8': 0, 'ride_9': 2, 'ride_10': 0}. Best is trial 0 with value: 693.6344856777026.\n",
      "[I 2024-10-18 21:44:00,683] Trial 19 finished with value: 357.03996613864956 and parameters: {'n_rides': 1, 'ride_0': 5}. Best is trial 0 with value: 693.6344856777026.\n",
      "[I 2024-10-18 21:44:00,744] Trial 20 finished with value: 553.3583703836241 and parameters: {'n_rides': 14, 'ride_0': 3, 'ride_1': 4, 'ride_2': 5, 'ride_3': 5, 'ride_4': 3, 'ride_5': 2, 'ride_6': 5, 'ride_7': 4, 'ride_8': 7, 'ride_9': 3, 'ride_10': 3, 'ride_11': 3, 'ride_12': 0, 'ride_13': 7}. Best is trial 0 with value: 693.6344856777026.\n",
      "[I 2024-10-18 21:44:00,797] Trial 21 finished with value: 561.3898436317077 and parameters: {'n_rides': 11, 'ride_0': 1, 'ride_1': 2, 'ride_2': 1, 'ride_3': 1, 'ride_4': 7, 'ride_5': 5, 'ride_6': 3, 'ride_7': 1, 'ride_8': 0, 'ride_9': 2, 'ride_10': 0}. Best is trial 0 with value: 693.6344856777026.\n",
      "[I 2024-10-18 21:44:00,826] Trial 22 finished with value: 424.890518107654 and parameters: {'n_rides': 5, 'ride_0': 1, 'ride_1': 2, 'ride_2': 1, 'ride_3': 1, 'ride_4': 6}. Best is trial 0 with value: 693.6344856777026.\n",
      "[I 2024-10-18 21:44:00,874] Trial 23 finished with value: 582.477119437285 and parameters: {'n_rides': 10, 'ride_0': 2, 'ride_1': 1, 'ride_2': 0, 'ride_3': 0, 'ride_4': 5, 'ride_5': 6, 'ride_6': 1, 'ride_7': 0, 'ride_8': 1, 'ride_9': 2}. Best is trial 0 with value: 693.6344856777026.\n"
     ]
    },
    {
     "name": "stdout",
     "output_type": "stream",
     "text": [
      "total_time: 680\n",
      "total_popularity: 646\n",
      "total_time: 22\n",
      "total_popularity: 28\n",
      "total_time: 669\n",
      "total_popularity: 558\n",
      "total_time: 667\n",
      "total_popularity: 565\n",
      "total_time: 381\n",
      "total_popularity: 281\n",
      "total_time: 725\n",
      "total_popularity: 616\n"
     ]
    },
    {
     "name": "stderr",
     "output_type": "stream",
     "text": [
      "[I 2024-10-18 21:44:00,939] Trial 24 finished with value: 616.3512264449507 and parameters: {'n_rides': 15, 'ride_0': 1, 'ride_1': 3, 'ride_2': 2, 'ride_3': 2, 'ride_4': 6, 'ride_5': 4, 'ride_6': 3, 'ride_7': 2, 'ride_8': 3, 'ride_9': 1, 'ride_10': 0, 'ride_11': 4, 'ride_12': 5, 'ride_13': 6, 'ride_14': 4}. Best is trial 0 with value: 693.6344856777026.\n",
      "[I 2024-10-18 21:44:01,022] Trial 25 finished with value: 659.6344856777026 and parameters: {'n_rides': 18, 'ride_0': 4, 'ride_1': 1, 'ride_2': 1, 'ride_3': 1, 'ride_4': 1, 'ride_5': 4, 'ride_6': 5, 'ride_7': 1, 'ride_8': 0, 'ride_9': 4, 'ride_10': 2, 'ride_11': 7, 'ride_12': 2, 'ride_13': 2, 'ride_14': 7, 'ride_15': 4, 'ride_16': 5, 'ride_17': 7}. Best is trial 0 with value: 693.6344856777026.\n",
      "[I 2024-10-18 21:44:01,099] Trial 26 finished with value: 711.1502223017444 and parameters: {'n_rides': 18, 'ride_0': 4, 'ride_1': 1, 'ride_2': 0, 'ride_3': 0, 'ride_4': 1, 'ride_5': 4, 'ride_6': 5, 'ride_7': 2, 'ride_8': 1, 'ride_9': 5, 'ride_10': 2, 'ride_11': 7, 'ride_12': 2, 'ride_13': 2, 'ride_14': 7, 'ride_15': 4, 'ride_16': 5, 'ride_17': 7}. Best is trial 26 with value: 711.1502223017444.\n"
     ]
    },
    {
     "name": "stdout",
     "output_type": "stream",
     "text": [
      "total_time: 733\n",
      "total_popularity: 654\n",
      "total_time: 715\n",
      "total_popularity: 688\n",
      "total_time: 714\n",
      "total_popularity: 739\n"
     ]
    },
    {
     "name": "stderr",
     "output_type": "stream",
     "text": [
      "[I 2024-10-18 21:44:01,186] Trial 27 finished with value: 564.8669630689925 and parameters: {'n_rides': 18, 'ride_0': 6, 'ride_1': 1, 'ride_2': 3, 'ride_3': 2, 'ride_4': 1, 'ride_5': 4, 'ride_6': 5, 'ride_7': 2, 'ride_8': 1, 'ride_9': 5, 'ride_10': 2, 'ride_11': 7, 'ride_12': 2, 'ride_13': 2, 'ride_14': 7, 'ride_15': 4, 'ride_16': 5, 'ride_17': 7}. Best is trial 26 with value: 711.1502223017444.\n",
      "[I 2024-10-18 21:44:01,274] Trial 28 finished with value: 605.1502223017444 and parameters: {'n_rides': 20, 'ride_0': 4, 'ride_1': 0, 'ride_2': 4, 'ride_3': 3, 'ride_4': 2, 'ride_5': 4, 'ride_6': 6, 'ride_7': 3, 'ride_8': 2, 'ride_9': 4, 'ride_10': 2, 'ride_11': 6, 'ride_12': 1, 'ride_13': 2, 'ride_14': 7, 'ride_15': 3, 'ride_16': 5, 'ride_17': 6, 'ride_18': 0, 'ride_19': 7}. Best is trial 26 with value: 711.1502223017444.\n",
      "[I 2024-10-18 21:44:01,349] Trial 29 finished with value: 450.50859268536846 and parameters: {'n_rides': 18, 'ride_0': 3, 'ride_1': 1, 'ride_2': 6, 'ride_3': 1, 'ride_4': 1, 'ride_5': 6, 'ride_6': 6, 'ride_7': 2, 'ride_8': 3, 'ride_9': 6, 'ride_10': 2, 'ride_11': 6, 'ride_12': 3, 'ride_13': 3, 'ride_14': 5, 'ride_15': 5, 'ride_16': 6, 'ride_17': 5}. Best is trial 26 with value: 711.1502223017444.\n",
      "[I 2024-10-18 21:44:01,349] A new study created in memory with name: no-name-4dca9aea-2a11-43bb-b965-820d7362df08\n",
      "[I 2024-10-18 21:44:01,360] Trial 0 finished with value: 525.0 and parameters: {'n_rides': 20, 'ride_0': 4, 'ride_1': 4, 'ride_2': 1, 'ride_3': 0, 'ride_4': 2, 'ride_5': 2, 'ride_6': 4, 'ride_7': 7, 'ride_8': 7, 'ride_9': 4, 'ride_10': 6, 'ride_11': 7, 'ride_12': 3, 'ride_13': 2, 'ride_14': 7, 'ride_15': 4, 'ride_16': 0, 'ride_17': 6, 'ride_18': 5, 'ride_19': 5, 'lamb_x': 0.8107825873080937}. Best is trial 0 with value: 525.0.\n",
      "[I 2024-10-18 21:44:01,369] Trial 1 finished with value: 382.0 and parameters: {'n_rides': 13, 'ride_0': 5, 'ride_1': 5, 'ride_2': 6, 'ride_3': 7, 'ride_4': 5, 'ride_5': 6, 'ride_6': 6, 'ride_7': 6, 'ride_8': 7, 'ride_9': 3, 'ride_10': 6, 'ride_11': 3, 'ride_12': 1, 'lamb_x': 1.4274382624069681}. Best is trial 1 with value: 382.0.\n"
     ]
    },
    {
     "name": "stdout",
     "output_type": "stream",
     "text": [
      "total_time: 732\n",
      "total_popularity: 602\n",
      "total_time: 714\n",
      "total_popularity: 633\n",
      "total_time: 723\n",
      "total_popularity: 483\n"
     ]
    },
    {
     "name": "stderr",
     "output_type": "stream",
     "text": [
      "[I 2024-10-18 21:44:01,369] Trial 2 finished with value: 157.0 and parameters: {'n_rides': 3, 'ride_0': 2, 'ride_1': 1, 'ride_2': 4, 'lamb_x': 1.90678238352977}. Best is trial 2 with value: 157.0.\n",
      "[I 2024-10-18 21:44:01,379] Trial 3 finished with value: 162.0 and parameters: {'n_rides': 3, 'ride_0': 3, 'ride_1': 0, 'ride_2': 4, 'lamb_x': 1.972880801793076}. Best is trial 2 with value: 157.0.\n",
      "[I 2024-10-18 21:44:01,385] Trial 4 finished with value: 294.0 and parameters: {'n_rides': 7, 'ride_0': 3, 'ride_1': 7, 'ride_2': 4, 'ride_3': 1, 'ride_4': 6, 'ride_5': 0, 'ride_6': 7, 'lamb_x': 1.9403548486564102}. Best is trial 2 with value: 157.0.\n",
      "[I 2024-10-18 21:44:01,389] Trial 5 finished with value: 139.0 and parameters: {'n_rides': 2, 'ride_0': 2, 'ride_1': 0, 'lamb_x': 1.4355922041231475}. Best is trial 5 with value: 139.0.\n",
      "[I 2024-10-18 21:44:01,389] Trial 6 finished with value: 56.0 and parameters: {'n_rides': 2, 'ride_0': 5, 'ride_1': 5, 'lamb_x': 1.4838633964508932}. Best is trial 6 with value: 56.0.\n",
      "[I 2024-10-18 21:44:01,400] Trial 7 finished with value: 528.0 and parameters: {'n_rides': 12, 'ride_0': 1, 'ride_1': 0, 'ride_2': 3, 'ride_3': 0, 'ride_4': 0, 'ride_5': 4, 'ride_6': 4, 'ride_7': 2, 'ride_8': 7, 'ride_9': 6, 'ride_10': 1, 'ride_11': 0, 'lamb_x': 1.9847197291502119}. Best is trial 6 with value: 56.0.\n",
      "[I 2024-10-18 21:44:01,402] Trial 8 finished with value: 468.0 and parameters: {'n_rides': 17, 'ride_0': 6, 'ride_1': 7, 'ride_2': 5, 'ride_3': 5, 'ride_4': 1, 'ride_5': 4, 'ride_6': 3, 'ride_7': 2, 'ride_8': 7, 'ride_9': 6, 'ride_10': 4, 'ride_11': 3, 'ride_12': 5, 'ride_13': 7, 'ride_14': 6, 'ride_15': 4, 'ride_16': 7, 'lamb_x': 1.0230950366737015}. Best is trial 6 with value: 56.0.\n",
      "[I 2024-10-18 21:44:01,409] Trial 9 finished with value: 525.0 and parameters: {'n_rides': 13, 'ride_0': 4, 'ride_1': 5, 'ride_2': 3, 'ride_3': 5, 'ride_4': 7, 'ride_5': 1, 'ride_6': 1, 'ride_7': 7, 'ride_8': 0, 'ride_9': 7, 'ride_10': 0, 'ride_11': 6, 'ride_12': 0, 'lamb_x': 1.8675226160362097}. Best is trial 6 with value: 56.0.\n",
      "[I 2024-10-18 21:44:01,453] Trial 10 finished with value: 441.0 and parameters: {'n_rides': 8, 'ride_0': 7, 'ride_1': 2, 'ride_2': 0, 'ride_3': 3, 'ride_4': 3, 'ride_5': 7, 'ride_6': 0, 'ride_7': 0, 'lamb_x': 0.5577324537422323}. Best is trial 6 with value: 56.0.\n",
      "[I 2024-10-18 21:44:01,468] Trial 11 finished with value: 84.0 and parameters: {'n_rides': 1, 'ride_0': 0, 'lamb_x': 1.4657306651461057}. Best is trial 6 with value: 56.0.\n",
      "[I 2024-10-18 21:44:01,483] Trial 12 finished with value: 84.0 and parameters: {'n_rides': 1, 'ride_0': 0, 'lamb_x': 1.5359434091686477}. Best is trial 6 with value: 56.0.\n",
      "[I 2024-10-18 21:44:01,521] Trial 13 finished with value: 289.0 and parameters: {'n_rides': 7, 'ride_0': 0, 'ride_1': 3, 'ride_2': 7, 'ride_3': 7, 'ride_4': 4, 'ride_5': 5, 'ride_6': 2, 'lamb_x': 1.1730016552116105}. Best is trial 6 with value: 56.0.\n",
      "[I 2024-10-18 21:44:01,550] Trial 14 finished with value: 245.0 and parameters: {'n_rides': 5, 'ride_0': 5, 'ride_1': 6, 'ride_2': 1, 'ride_3': 3, 'ride_4': 0, 'lamb_x': 1.6448334691839133}. Best is trial 6 with value: 56.0.\n",
      "[I 2024-10-18 21:44:01,564] Trial 15 finished with value: 22.0 and parameters: {'n_rides': 1, 'ride_0': 7, 'lamb_x': 1.1943082849006394}. Best is trial 15 with value: 22.0.\n",
      "[I 2024-10-18 21:44:01,593] Trial 16 finished with value: 166.0 and parameters: {'n_rides': 5, 'ride_0': 7, 'ride_1': 3, 'ride_2': 7, 'ride_3': 2, 'ride_4': 7, 'lamb_x': 1.1712943585394788}. Best is trial 15 with value: 22.0.\n",
      "[I 2024-10-18 21:44:01,640] Trial 17 finished with value: 421.0 and parameters: {'n_rides': 10, 'ride_0': 6, 'ride_1': 5, 'ride_2': 2, 'ride_3': 5, 'ride_4': 3, 'ride_5': 2, 'ride_6': 6, 'ride_7': 4, 'ride_8': 2, 'ride_9': 0, 'lamb_x': 0.982318517197816}. Best is trial 15 with value: 22.0.\n",
      "[I 2024-10-18 21:44:01,669] Trial 18 finished with value: 197.0 and parameters: {'n_rides': 5, 'ride_0': 6, 'ride_1': 4, 'ride_2': 0, 'ride_3': 4, 'ride_4': 5, 'lamb_x': 1.688722495643364}. Best is trial 15 with value: 22.0.\n",
      "[I 2024-10-18 21:44:01,695] Trial 19 finished with value: 121.0 and parameters: {'n_rides': 4, 'ride_0': 5, 'ride_1': 2, 'ride_2': 6, 'ride_3': 6, 'lamb_x': 1.2793808042947998}. Best is trial 15 with value: 22.0.\n",
      "[I 2024-10-18 21:44:01,738] Trial 20 finished with value: 429.0 and parameters: {'n_rides': 9, 'ride_0': 7, 'ride_1': 6, 'ride_2': 2, 'ride_3': 2, 'ride_4': 2, 'ride_5': 7, 'ride_6': 0, 'ride_7': 0, 'ride_8': 4, 'lamb_x': 0.7774930737575182}. Best is trial 15 with value: 22.0.\n",
      "[I 2024-10-18 21:44:01,752] Trial 21 finished with value: 69.0 and parameters: {'n_rides': 1, 'ride_0': 1, 'lamb_x': 1.3080246863579938}. Best is trial 15 with value: 22.0.\n",
      "[I 2024-10-18 21:44:01,769] Trial 22 finished with value: 55.0 and parameters: {'n_rides': 1, 'ride_0': 2, 'lamb_x': 1.2665255722075521}. Best is trial 15 with value: 22.0.\n",
      "[I 2024-10-18 21:44:01,789] Trial 23 finished with value: 102.0 and parameters: {'n_rides': 3, 'ride_0': 2, 'ride_1': 6, 'ride_2': 5, 'lamb_x': 1.0350562852026681}. Best is trial 15 with value: 22.0.\n",
      "[I 2024-10-18 21:44:01,827] Trial 24 finished with value: 285.0 and parameters: {'n_rides': 6, 'ride_0': 4, 'ride_1': 2, 'ride_2': 2, 'ride_3': 1, 'ride_4': 5, 'ride_5': 3, 'lamb_x': 1.715398882705728}. Best is trial 15 with value: 22.0.\n",
      "[I 2024-10-18 21:44:01,843] Trial 25 finished with value: 19.0 and parameters: {'n_rides': 1, 'ride_0': 6, 'lamb_x': 1.3465192652855882}. Best is trial 25 with value: 19.0.\n",
      "[I 2024-10-18 21:44:01,858] Trial 26 finished with value: 19.0 and parameters: {'n_rides': 1, 'ride_0': 6, 'lamb_x': 1.3414260601721673}. Best is trial 25 with value: 19.0.\n",
      "[I 2024-10-18 21:44:01,885] Trial 27 finished with value: 140.0 and parameters: {'n_rides': 4, 'ride_0': 6, 'ride_1': 1, 'ride_2': 6, 'ride_3': 4, 'lamb_x': 1.120989481770958}. Best is trial 25 with value: 19.0.\n",
      "[I 2024-10-18 21:44:01,949] Trial 28 finished with value: 577.0 and parameters: {'n_rides': 16, 'ride_0': 7, 'ride_1': 1, 'ride_2': 1, 'ride_3': 6, 'ride_4': 1, 'ride_5': 0, 'ride_6': 5, 'ride_7': 4, 'ride_8': 4, 'ride_9': 0, 'ride_10': 3, 'ride_11': 0, 'ride_12': 7, 'ride_13': 0, 'ride_14': 0, 'ride_15': 0, 'lamb_x': 1.3544418477681743}. Best is trial 25 with value: 19.0.\n",
      "[I 2024-10-18 21:44:02,029] Trial 29 finished with value: 524.0 and parameters: {'n_rides': 19, 'ride_0': 6, 'ride_1': 3, 'ride_2': 5, 'ride_3': 2, 'ride_4': 4, 'ride_5': 5, 'ride_6': 2, 'ride_7': 5, 'ride_8': 0, 'ride_9': 2, 'ride_10': 7, 'ride_11': 5, 'ride_12': 7, 'ride_13': 7, 'ride_14': 1, 'ride_15': 7, 'ride_16': 3, 'ride_17': 0, 'ride_18': 0, 'lamb_x': 0.8068132247419779}. Best is trial 25 with value: 19.0.\n",
      "[I 2024-10-18 21:44:02,029] A new study created in memory with name: no-name-35dd22f0-ca35-4486-b010-d026b2bf2180\n",
      "[I 2024-10-18 21:44:02,036] Trial 0 finished with value: 722.6282621152415 and parameters: {'n_rides': 6, 'ride_0': 5, 'ride_1': 4, 'ride_2': 5, 'ride_3': 0, 'ride_4': 2, 'ride_5': 7}. Best is trial 0 with value: 722.6282621152415.\n",
      "[I 2024-10-18 21:44:02,039] Trial 1 finished with value: 433.6439798372891 and parameters: {'n_rides': 13, 'ride_0': 4, 'ride_1': 6, 'ride_2': 6, 'ride_3': 5, 'ride_4': 2, 'ride_5': 6, 'ride_6': 3, 'ride_7': 6, 'ride_8': 6, 'ride_9': 5, 'ride_10': 1, 'ride_11': 0, 'ride_12': 4}. Best is trial 0 with value: 722.6282621152415.\n",
      "[I 2024-10-18 21:44:02,050] Trial 2 finished with value: 530.2167907741344 and parameters: {'n_rides': 10, 'ride_0': 1, 'ride_1': 6, 'ride_2': 1, 'ride_3': 6, 'ride_4': 4, 'ride_5': 6, 'ride_6': 3, 'ride_7': 5, 'ride_8': 2, 'ride_9': 0}. Best is trial 0 with value: 722.6282621152415.\n",
      "[I 2024-10-18 21:44:02,053] Trial 3 finished with value: 652.47158513797 and parameters: {'n_rides': 8, 'ride_0': 3, 'ride_1': 5, 'ride_2': 3, 'ride_3': 2, 'ride_4': 6, 'ride_5': 0, 'ride_6': 5, 'ride_7': 5}. Best is trial 0 with value: 722.6282621152415.\n",
      "[I 2024-10-18 21:44:02,059] Trial 4 finished with value: 490.82276702172237 and parameters: {'n_rides': 15, 'ride_0': 4, 'ride_1': 1, 'ride_2': 2, 'ride_3': 3, 'ride_4': 1, 'ride_5': 6, 'ride_6': 5, 'ride_7': 7, 'ride_8': 0, 'ride_9': 0, 'ride_10': 1, 'ride_11': 1, 'ride_12': 0, 'ride_13': 3, 'ride_14': 4}. Best is trial 0 with value: 722.6282621152415.\n",
      "[I 2024-10-18 21:44:02,070] Trial 5 finished with value: 574.4461908580053 and parameters: {'n_rides': 16, 'ride_0': 4, 'ride_1': 5, 'ride_2': 4, 'ride_3': 1, 'ride_4': 6, 'ride_5': 3, 'ride_6': 3, 'ride_7': 4, 'ride_8': 4, 'ride_9': 4, 'ride_10': 7, 'ride_11': 2, 'ride_12': 1, 'ride_13': 3, 'ride_14': 1, 'ride_15': 1}. Best is trial 0 with value: 722.6282621152415.\n",
      "[I 2024-10-18 21:44:02,070] Trial 6 finished with value: 580.3670752662917 and parameters: {'n_rides': 19, 'ride_0': 5, 'ride_1': 4, 'ride_2': 1, 'ride_3': 2, 'ride_4': 1, 'ride_5': 7, 'ride_6': 1, 'ride_7': 1, 'ride_8': 3, 'ride_9': 1, 'ride_10': 0, 'ride_11': 0, 'ride_12': 4, 'ride_13': 4, 'ride_14': 0, 'ride_15': 4, 'ride_16': 1, 'ride_17': 7, 'ride_18': 5}. Best is trial 0 with value: 722.6282621152415.\n",
      "[I 2024-10-18 21:44:02,079] Trial 7 finished with value: 797.6552106013618 and parameters: {'n_rides': 1, 'ride_0': 0}. Best is trial 7 with value: 797.6552106013618.\n",
      "[I 2024-10-18 21:44:02,089] Trial 8 finished with value: 431.327517470435 and parameters: {'n_rides': 18, 'ride_0': 5, 'ride_1': 4, 'ride_2': 5, 'ride_3': 4, 'ride_4': 7, 'ride_5': 5, 'ride_6': 6, 'ride_7': 6, 'ride_8': 2, 'ride_9': 5, 'ride_10': 1, 'ride_11': 1, 'ride_12': 6, 'ride_13': 7, 'ride_14': 5, 'ride_15': 7, 'ride_16': 3, 'ride_17': 5}. Best is trial 7 with value: 797.6552106013618.\n",
      "[I 2024-10-18 21:44:02,089] Trial 9 finished with value: 445.27845877715293 and parameters: {'n_rides': 14, 'ride_0': 7, 'ride_1': 1, 'ride_2': 3, 'ride_3': 3, 'ride_4': 2, 'ride_5': 4, 'ride_6': 7, 'ride_7': 6, 'ride_8': 5, 'ride_9': 1, 'ride_10': 4, 'ride_11': 1, 'ride_12': 7, 'ride_13': 7}. Best is trial 7 with value: 797.6552106013618.\n",
      "[I 2024-10-18 21:44:02,102] Trial 10 finished with value: 797.6552106013618 and parameters: {'n_rides': 1, 'ride_0': 0}. Best is trial 7 with value: 797.6552106013618.\n",
      "[I 2024-10-18 21:44:02,119] Trial 11 finished with value: 797.6552106013618 and parameters: {'n_rides': 1, 'ride_0': 0}. Best is trial 7 with value: 797.6552106013618.\n",
      "[I 2024-10-18 21:44:02,129] Trial 12 finished with value: 806.8925573765023 and parameters: {'n_rides': 1, 'ride_0': 1}. Best is trial 12 with value: 806.8925573765023.\n",
      "[I 2024-10-18 21:44:02,152] Trial 13 finished with value: 631.390915340101 and parameters: {'n_rides': 4, 'ride_0': 2, 'ride_1': 0, 'ride_2': 7, 'ride_3': 7}. Best is trial 12 with value: 806.8925573765023.\n",
      "[I 2024-10-18 21:44:02,169] Trial 14 finished with value: 689.1630694623856 and parameters: {'n_rides': 4, 'ride_0': 1, 'ride_1': 2, 'ride_2': 0, 'ride_3': 7}. Best is trial 12 with value: 806.8925573765023.\n",
      "[I 2024-10-18 21:44:02,195] Trial 15 finished with value: 658.3213006458127 and parameters: {'n_rides': 4, 'ride_0': 2, 'ride_1': 7, 'ride_2': 7, 'ride_3': 0}. Best is trial 12 with value: 806.8925573765023.\n",
      "[I 2024-10-18 21:44:02,209] Trial 16 finished with value: 806.8925573765023 and parameters: {'n_rides': 1, 'ride_0': 1}. Best is trial 12 with value: 806.8925573765023.\n"
     ]
    },
    {
     "name": "stdout",
     "output_type": "stream",
     "text": [
      "tt_best2: 714\n",
      "714\n",
      "total_time: 309\n",
      "total_popularity: 250\n",
      "total_time: 687\n",
      "total_popularity: 470\n",
      "total_time: 593\n",
      "total_popularity: 440\n",
      "total_time: 422\n",
      "total_popularity: 332\n",
      "total_time: 724\n",
      "total_popularity: 577\n",
      "total_time: 702\n",
      "total_popularity: 631\n",
      "total_time: 708\n",
      "total_popularity: 645\n",
      "total_time: 130\n",
      "total_popularity: 84\n",
      "total_time: 711\n",
      "total_popularity: 500\n",
      "total_time: 740\n",
      "total_popularity: 553\n",
      "total_time: 130\n",
      "total_popularity: 84\n",
      "total_time: 130\n",
      "total_popularity: 84\n",
      "total_time: 112\n",
      "total_popularity: 69\n",
      "total_time: 327\n",
      "total_popularity: 183\n",
      "total_time: 319\n",
      "total_popularity: 230\n",
      "total_time: 307\n",
      "total_popularity: 183\n",
      "total_time: 112\n",
      "total_popularity: 69\n"
     ]
    },
    {
     "name": "stderr",
     "output_type": "stream",
     "text": [
      "[I 2024-10-18 21:44:02,245] Trial 17 finished with value: 693.6503723224032 and parameters: {'n_rides': 7, 'ride_0': 2, 'ride_1': 2, 'ride_2': 0, 'ride_3': 5, 'ride_4': 4, 'ride_5': 0, 'ride_6': 0}. Best is trial 12 with value: 806.8925573765023.\n",
      "[I 2024-10-18 21:44:02,292] Trial 18 finished with value: 407.6645358382953 and parameters: {'n_rides': 11, 'ride_0': 1, 'ride_1': 7, 'ride_2': 4, 'ride_3': 5, 'ride_4': 0, 'ride_5': 2, 'ride_6': 1, 'ride_7': 0, 'ride_8': 7, 'ride_9': 7, 'ride_10': 7}. Best is trial 12 with value: 806.8925573765023.\n",
      "[I 2024-10-18 21:44:02,309] Trial 19 finished with value: 834.4178638262212 and parameters: {'n_rides': 3, 'ride_0': 3, 'ride_1': 3, 'ride_2': 2}. Best is trial 19 with value: 834.4178638262212.\n",
      "[I 2024-10-18 21:44:02,337] Trial 20 finished with value: 777.9146675836641 and parameters: {'n_rides': 5, 'ride_0': 3, 'ride_1': 3, 'ride_2': 2, 'ride_3': 1, 'ride_4': 5}. Best is trial 19 with value: 834.4178638262212.\n",
      "[I 2024-10-18 21:44:02,356] Trial 21 finished with value: 772.2406308479435 and parameters: {'n_rides': 3, 'ride_0': 1, 'ride_1': 3, 'ride_2': 2}. Best is trial 19 with value: 834.4178638262212.\n",
      "[I 2024-10-18 21:44:02,373] Trial 22 finished with value: 755.7058235007994 and parameters: {'n_rides': 2, 'ride_0': 2, 'ride_1': 0}. Best is trial 19 with value: 834.4178638262212.\n",
      "[I 2024-10-18 21:44:02,414] Trial 23 finished with value: 522.1376751824209 and parameters: {'n_rides': 9, 'ride_0': 3, 'ride_1': 2, 'ride_2': 1, 'ride_3': 4, 'ride_4': 7, 'ride_5': 2, 'ride_6': 7, 'ride_7': 2, 'ride_8': 0}. Best is trial 19 with value: 834.4178638262212.\n",
      "[I 2024-10-18 21:44:02,433] Trial 24 finished with value: 772.8039408873635 and parameters: {'n_rides': 3, 'ride_0': 7, 'ride_1': 5, 'ride_2': 5}. Best is trial 19 with value: 834.4178638262212.\n"
     ]
    },
    {
     "name": "stdout",
     "output_type": "stream",
     "text": [
      "total_time: 459\n",
      "total_popularity: 423\n",
      "total_time: 736\n",
      "total_popularity: 510\n",
      "total_time: 148\n",
      "total_popularity: 145\n",
      "total_time: 262\n",
      "total_popularity: 242\n",
      "total_time: 212\n",
      "total_popularity: 169\n",
      "total_time: 202\n",
      "total_popularity: 139\n",
      "total_time: 599\n",
      "total_popularity: 440\n",
      "total_time: 144\n",
      "total_popularity: 78\n"
     ]
    },
    {
     "name": "stderr",
     "output_type": "stream",
     "text": [
      "[I 2024-10-18 21:44:02,466] Trial 25 finished with value: 679.0253942799648 and parameters: {'n_rides': 6, 'ride_0': 1, 'ride_1': 6, 'ride_2': 3, 'ride_3': 2, 'ride_4': 3, 'ride_5': 1}. Best is trial 19 with value: 834.4178638262212.\n",
      "[I 2024-10-18 21:44:02,480] Trial 26 finished with value: 776.4384198272273 and parameters: {'n_rides': 2, 'ride_0': 0, 'ride_1': 1}. Best is trial 19 with value: 834.4178638262212.\n",
      "[I 2024-10-18 21:44:02,502] Trial 27 finished with value: 764.3387482345076 and parameters: {'n_rides': 3, 'ride_0': 6, 'ride_1': 3, 'ride_2': 6}. Best is trial 19 with value: 834.4178638262212.\n",
      "[I 2024-10-18 21:44:02,536] Trial 28 finished with value: 659.8972199949691 and parameters: {'n_rides': 6, 'ride_0': 2, 'ride_1': 2, 'ride_2': 0, 'ride_3': 6, 'ride_4': 0, 'ride_5': 4}. Best is trial 19 with value: 834.4178638262212.\n",
      "[I 2024-10-18 21:44:02,568] Trial 29 finished with value: 642.25324015768 and parameters: {'n_rides': 6, 'ride_0': 3, 'ride_1': 0, 'ride_2': 2, 'ride_3': 6, 'ride_4': 5, 'ride_5': 3}. Best is trial 19 with value: 834.4178638262212.\n",
      "[I 2024-10-18 21:44:02,569] A new study created in memory with name: no-name-d730697a-fbe4-450f-8eaf-88c803178156\n",
      "[I 2024-10-18 21:44:02,573] Trial 0 finished with value: 871.0222759053511 and parameters: {'n_rides': 5, 'ride_0': 4, 'ride_1': 5, 'ride_2': 4, 'ride_3': 3, 'ride_4': 0, 'lamb_x': 1.2656685076276388}. Best is trial 0 with value: 871.0222759053511.\n",
      "[I 2024-10-18 21:44:02,573] Trial 1 finished with value: 435.8449314472115 and parameters: {'n_rides': 5, 'ride_0': 5, 'ride_1': 7, 'ride_2': 6, 'ride_3': 1, 'ride_4': 7, 'lamb_x': 0.5387596317328349}. Best is trial 1 with value: 435.8449314472115.\n",
      "[I 2024-10-18 21:44:02,585] Trial 2 finished with value: 962.5666148023333 and parameters: {'n_rides': 12, 'ride_0': 7, 'ride_1': 4, 'ride_2': 3, 'ride_3': 3, 'ride_4': 2, 'ride_5': 7, 'ride_6': 6, 'ride_7': 6, 'ride_8': 1, 'ride_9': 1, 'ride_10': 2, 'ride_11': 4, 'lamb_x': 0.9307941695358073}. Best is trial 1 with value: 435.8449314472115.\n",
      "[I 2024-10-18 21:44:02,589] Trial 3 finished with value: 1417.4600316006436 and parameters: {'n_rides': 20, 'ride_0': 5, 'ride_1': 4, 'ride_2': 3, 'ride_3': 1, 'ride_4': 7, 'ride_5': 4, 'ride_6': 2, 'ride_7': 6, 'ride_8': 3, 'ride_9': 1, 'ride_10': 0, 'ride_11': 1, 'ride_12': 5, 'ride_13': 2, 'ride_14': 5, 'ride_15': 0, 'ride_16': 1, 'ride_17': 0, 'ride_18': 5, 'ride_19': 4, 'lamb_x': 1.4911328742200072}. Best is trial 1 with value: 435.8449314472115.\n",
      "[I 2024-10-18 21:44:02,589] Trial 4 finished with value: 952.9834864197139 and parameters: {'n_rides': 1, 'ride_0': 0, 'lamb_x': 1.6972333719135038}. Best is trial 1 with value: 435.8449314472115.\n",
      "[I 2024-10-18 21:44:02,602] Trial 5 finished with value: 915.4290185409275 and parameters: {'n_rides': 16, 'ride_0': 2, 'ride_1': 4, 'ride_2': 7, 'ride_3': 2, 'ride_4': 6, 'ride_5': 4, 'ride_6': 1, 'ride_7': 2, 'ride_8': 2, 'ride_9': 3, 'ride_10': 4, 'ride_11': 2, 'ride_12': 3, 'ride_13': 0, 'ride_14': 3, 'ride_15': 6, 'lamb_x': 0.578962926837749}. Best is trial 1 with value: 435.8449314472115.\n",
      "[I 2024-10-18 21:44:02,609] Trial 6 finished with value: 1012.0865527283796 and parameters: {'n_rides': 13, 'ride_0': 0, 'ride_1': 1, 'ride_2': 2, 'ride_3': 2, 'ride_4': 2, 'ride_5': 5, 'ride_6': 0, 'ride_7': 6, 'ride_8': 4, 'ride_9': 1, 'ride_10': 4, 'ride_11': 3, 'ride_12': 1, 'lamb_x': 0.7482159232976164}. Best is trial 1 with value: 435.8449314472115.\n",
      "[I 2024-10-18 21:44:02,618] Trial 7 finished with value: 1153.2199870113297 and parameters: {'n_rides': 15, 'ride_0': 7, 'ride_1': 3, 'ride_2': 1, 'ride_3': 4, 'ride_4': 7, 'ride_5': 3, 'ride_6': 0, 'ride_7': 5, 'ride_8': 3, 'ride_9': 1, 'ride_10': 2, 'ride_11': 1, 'ride_12': 2, 'ride_13': 0, 'ride_14': 5, 'lamb_x': 1.1078515371315034}. Best is trial 1 with value: 435.8449314472115.\n",
      "[I 2024-10-18 21:44:02,622] Trial 8 finished with value: 1376.554992309 and parameters: {'n_rides': 8, 'ride_0': 3, 'ride_1': 2, 'ride_2': 4, 'ride_3': 4, 'ride_4': 0, 'ride_5': 1, 'ride_6': 2, 'ride_7': 0, 'lamb_x': 1.7940527193535156}. Best is trial 1 with value: 435.8449314472115.\n",
      "[I 2024-10-18 21:44:02,629] Trial 9 finished with value: 1358.7064495474508 and parameters: {'n_rides': 17, 'ride_0': 4, 'ride_1': 0, 'ride_2': 3, 'ride_3': 5, 'ride_4': 0, 'ride_5': 4, 'ride_6': 4, 'ride_7': 7, 'ride_8': 4, 'ride_9': 6, 'ride_10': 4, 'ride_11': 5, 'ride_12': 4, 'ride_13': 4, 'ride_14': 7, 'ride_15': 0, 'ride_16': 3, 'lamb_x': 1.4662235342723648}. Best is trial 1 with value: 435.8449314472115.\n",
      "[I 2024-10-18 21:44:02,645] Trial 10 finished with value: 276.4212745282288 and parameters: {'n_rides': 1, 'ride_0': 6, 'lamb_x': 0.5027759268129469}. Best is trial 10 with value: 276.4212745282288.\n"
     ]
    },
    {
     "name": "stdout",
     "output_type": "stream",
     "text": [
      "total_time: 380\n",
      "total_popularity: 302\n",
      "total_time: 197\n",
      "total_popularity: 153\n",
      "total_time: 154\n",
      "total_popularity: 83\n",
      "total_time: 415\n",
      "total_popularity: 330\n",
      "total_time: 388\n",
      "total_popularity: 276\n"
     ]
    },
    {
     "name": "stderr",
     "output_type": "stream",
     "text": [
      "[I 2024-10-18 21:44:02,659] Trial 11 finished with value: 320.71025489356254 and parameters: {'n_rides': 1, 'ride_0': 6, 'lamb_x': 0.5892778415889893}. Best is trial 10 with value: 276.4212745282288.\n",
      "[I 2024-10-18 21:44:02,674] Trial 12 finished with value: 490.2662541923986 and parameters: {'n_rides': 1, 'ride_0': 6, 'lamb_x': 0.9204419027195285}. Best is trial 10 with value: 276.4212745282288.\n",
      "[I 2024-10-18 21:44:02,701] Trial 13 finished with value: 533.0862177669239 and parameters: {'n_rides': 4, 'ride_0': 6, 'ride_1': 7, 'ride_2': 0, 'ride_3': 7, 'lamb_x': 0.7540746440760233}. Best is trial 10 with value: 276.4212745282288.\n",
      "[I 2024-10-18 21:44:02,741] Trial 14 finished with value: 527.0316148715024 and parameters: {'n_rides': 8, 'ride_0': 6, 'ride_1': 6, 'ride_2': 6, 'ride_3': 7, 'ride_4': 4, 'ride_5': 0, 'ride_6': 7, 'ride_7': 3, 'lamb_x': 0.5156867477959031}. Best is trial 10 with value: 276.4212745282288.\n",
      "[I 2024-10-18 21:44:02,759] Trial 15 finished with value: 639.5776188932227 and parameters: {'n_rides': 3, 'ride_0': 2, 'ride_1': 0, 'ride_2': 0, 'lamb_x': 0.8136281619008257}. Best is trial 10 with value: 276.4212745282288.\n",
      "[I 2024-10-18 21:44:02,805] Trial 16 finished with value: 916.6473270811447 and parameters: {'n_rides': 8, 'ride_0': 5, 'ride_1': 2, 'ride_2': 5, 'ride_3': 0, 'ride_4': 5, 'ride_5': 7, 'ride_6': 5, 'ride_7': 0, 'lamb_x': 1.0930611857053607}. Best is trial 10 with value: 276.4212745282288.\n",
      "[I 2024-10-18 21:44:02,820] Trial 17 finished with value: 1033.268755907823 and parameters: {'n_rides': 1, 'ride_0': 7, 'lamb_x': 1.975134288882467}. Best is trial 10 with value: 276.4212745282288.\n",
      "[I 2024-10-18 21:44:02,853] Trial 18 finished with value: 571.2425385648813 and parameters: {'n_rides': 6, 'ride_0': 3, 'ride_1': 6, 'ride_2': 7, 'ride_3': 6, 'ride_4': 2, 'ride_5': 2, 'lamb_x': 0.6957862081345338}. Best is trial 10 with value: 276.4212745282288.\n",
      "[I 2024-10-18 21:44:02,876] Trial 19 finished with value: 654.0286572181784 and parameters: {'n_rides': 3, 'ride_0': 6, 'ride_1': 1, 'ride_2': 1, 'lamb_x': 0.9707590961292547}. Best is trial 10 with value: 276.4212745282288.\n",
      "[I 2024-10-18 21:44:02,923] Trial 20 finished with value: 677.0044057255282 and parameters: {'n_rides': 11, 'ride_0': 5, 'ride_1': 3, 'ride_2': 5, 'ride_3': 5, 'ride_4': 4, 'ride_5': 6, 'ride_6': 3, 'ride_7': 2, 'ride_8': 7, 'ride_9': 7, 'ride_10': 7, 'lamb_x': 0.6445398549326722}. Best is trial 10 with value: 276.4212745282288.\n",
      "[I 2024-10-18 21:44:02,959] Trial 21 finished with value: 499.27284204005605 and parameters: {'n_rides': 6, 'ride_0': 5, 'ride_1': 7, 'ride_2': 6, 'ride_3': 1, 'ride_4': 6, 'ride_5': 0, 'lamb_x': 0.5044391446094845}. Best is trial 10 with value: 276.4212745282288.\n",
      "[I 2024-10-18 21:44:02,984] Trial 22 finished with value: 393.4815626303142 and parameters: {'n_rides': 3, 'ride_0': 6, 'ride_1': 6, 'ride_2': 6, 'lamb_x': 0.6571905520123325}. Best is trial 10 with value: 276.4212745282288.\n",
      "[I 2024-10-18 21:44:03,001] Trial 23 finished with value: 500.1220003435497 and parameters: {'n_rides': 3, 'ride_0': 7, 'ride_1': 5, 'ride_2': 5, 'lamb_x': 0.8244570319209955}. Best is trial 10 with value: 276.4212745282288.\n",
      "[I 2024-10-18 21:44:03,029] Trial 24 finished with value: 372.6635079939911 and parameters: {'n_rides': 2, 'ride_0': 6, 'ride_1': 6, 'lamb_x': 0.6536396640507639}. Best is trial 10 with value: 276.4212745282288.\n",
      "[I 2024-10-18 21:44:03,044] Trial 25 finished with value: 358.21038014324847 and parameters: {'n_rides': 1, 'ride_0': 4, 'lamb_x': 0.6351765237172822}. Best is trial 10 with value: 276.4212745282288.\n",
      "[I 2024-10-18 21:44:03,060] Trial 26 finished with value: 579.8082671904444 and parameters: {'n_rides': 1, 'ride_0': 4, 'lamb_x': 1.0679848968563368}. Best is trial 10 with value: 276.4212745282288.\n",
      "[I 2024-10-18 21:44:03,099] Trial 27 finished with value: 1033.6448346255245 and parameters: {'n_rides': 7, 'ride_0': 2, 'ride_1': 2, 'ride_2': 2, 'ride_3': 0, 'ride_4': 3, 'ride_5': 2, 'ride_6': 7, 'lamb_x': 1.2942281926279775}. Best is trial 10 with value: 276.4212745282288.\n",
      "[I 2024-10-18 21:44:03,147] Trial 28 finished with value: 722.8845967031982 and parameters: {'n_rides': 10, 'ride_0': 3, 'ride_1': 1, 'ride_2': 1, 'ride_3': 6, 'ride_4': 1, 'ride_5': 6, 'ride_6': 4, 'ride_7': 4, 'ride_8': 7, 'ride_9': 4, 'lamb_x': 0.609149602935934}. Best is trial 10 with value: 276.4212745282288.\n",
      "[I 2024-10-18 21:44:03,174] Trial 29 finished with value: 642.025875276983 and parameters: {'n_rides': 5, 'ride_0': 1, 'ride_1': 5, 'ride_2': 2, 'ride_3': 5, 'ride_4': 5, 'lamb_x': 0.8477067876503576}. Best is trial 10 with value: 276.4212745282288.\n",
      "[I 2024-10-18 21:44:03,174] A new study created in memory with name: no-name-434acad6-cafb-4b26-9e40-5b4d962f2a3e\n",
      "[I 2024-10-18 21:44:03,179] Trial 0 finished with value: 345.1572283073293 and parameters: {'n_rides': 1, 'ride_0': 3}. Best is trial 0 with value: 345.1572283073293.\n",
      "[I 2024-10-18 21:44:03,190] Trial 1 finished with value: 558.5805018775754 and parameters: {'n_rides': 13, 'ride_0': 4, 'ride_1': 4, 'ride_2': 3, 'ride_3': 4, 'ride_4': 4, 'ride_5': 6, 'ride_6': 3, 'ride_7': 0, 'ride_8': 0, 'ride_9': 1, 'ride_10': 6, 'ride_11': 5, 'ride_12': 6}. Best is trial 1 with value: 558.5805018775754.\n",
      "[I 2024-10-18 21:44:03,195] Trial 2 finished with value: 656.894514781108 and parameters: {'n_rides': 17, 'ride_0': 4, 'ride_1': 4, 'ride_2': 3, 'ride_3': 4, 'ride_4': 0, 'ride_5': 0, 'ride_6': 0, 'ride_7': 5, 'ride_8': 2, 'ride_9': 3, 'ride_10': 2, 'ride_11': 7, 'ride_12': 5, 'ride_13': 5, 'ride_14': 6, 'ride_15': 0, 'ride_16': 0}. Best is trial 2 with value: 656.894514781108.\n",
      "[I 2024-10-18 21:44:03,202] Trial 3 finished with value: 493.64956687422955 and parameters: {'n_rides': 7, 'ride_0': 3, 'ride_1': 2, 'ride_2': 3, 'ride_3': 4, 'ride_4': 1, 'ride_5': 3, 'ride_6': 0}. Best is trial 2 with value: 656.894514781108.\n",
      "[I 2024-10-18 21:44:03,202] Trial 4 finished with value: 466.4330445828197 and parameters: {'n_rides': 7, 'ride_0': 1, 'ride_1': 7, 'ride_2': 1, 'ride_3': 1, 'ride_4': 3, 'ride_5': 3, 'ride_6': 1}. Best is trial 2 with value: 656.894514781108.\n",
      "[I 2024-10-18 21:44:03,214] Trial 5 finished with value: 548.7335110259571 and parameters: {'n_rides': 13, 'ride_0': 2, 'ride_1': 0, 'ride_2': 4, 'ride_3': 4, 'ride_4': 5, 'ride_5': 7, 'ride_6': 0, 'ride_7': 0, 'ride_8': 2, 'ride_9': 5, 'ride_10': 1, 'ride_11': 1, 'ride_12': 7}. Best is trial 2 with value: 656.894514781108.\n",
      "[I 2024-10-18 21:44:03,219] Trial 6 finished with value: 400.93826326277605 and parameters: {'n_rides': 5, 'ride_0': 1, 'ride_1': 2, 'ride_2': 6, 'ride_3': 2, 'ride_4': 4}. Best is trial 2 with value: 656.894514781108.\n",
      "[I 2024-10-18 21:44:03,223] Trial 7 finished with value: 603.6304685602086 and parameters: {'n_rides': 12, 'ride_0': 0, 'ride_1': 3, 'ride_2': 3, 'ride_3': 3, 'ride_4': 5, 'ride_5': 1, 'ride_6': 4, 'ride_7': 6, 'ride_8': 1, 'ride_9': 2, 'ride_10': 6, 'ride_11': 1}. Best is trial 2 with value: 656.894514781108.\n",
      "[I 2024-10-18 21:44:03,230] Trial 8 finished with value: 368.96602253090555 and parameters: {'n_rides': 6, 'ride_0': 7, 'ride_1': 7, 'ride_2': 7, 'ride_3': 2, 'ride_4': 3, 'ride_5': 5}. Best is trial 2 with value: 656.894514781108.\n",
      "[I 2024-10-18 21:44:03,236] Trial 9 finished with value: 476.40217621420777 and parameters: {'n_rides': 5, 'ride_0': 0, 'ride_1': 0, 'ride_2': 5, 'ride_3': 0, 'ride_4': 4}. Best is trial 2 with value: 656.894514781108.\n",
      "[I 2024-10-18 21:44:03,314] Trial 10 finished with value: 466.80013326946784 and parameters: {'n_rides': 20, 'ride_0': 6, 'ride_1': 5, 'ride_2': 0, 'ride_3': 7, 'ride_4': 0, 'ride_5': 0, 'ride_6': 7, 'ride_7': 5, 'ride_8': 6, 'ride_9': 7, 'ride_10': 1, 'ride_11': 7, 'ride_12': 1, 'ride_13': 5, 'ride_14': 7, 'ride_15': 0, 'ride_16': 0, 'ride_17': 1, 'ride_18': 3, 'ride_19': 1}. Best is trial 2 with value: 656.894514781108.\n",
      "[I 2024-10-18 21:44:03,390] Trial 11 finished with value: 527.3140129035326 and parameters: {'n_rides': 19, 'ride_0': 5, 'ride_1': 3, 'ride_2': 2, 'ride_3': 6, 'ride_4': 7, 'ride_5': 0, 'ride_6': 5, 'ride_7': 7, 'ride_8': 2, 'ride_9': 2, 'ride_10': 6, 'ride_11': 0, 'ride_12': 3, 'ride_13': 0, 'ride_14': 5, 'ride_15': 2, 'ride_16': 3, 'ride_17': 7, 'ride_18': 7}. Best is trial 2 with value: 656.894514781108.\n"
     ]
    },
    {
     "name": "stdout",
     "output_type": "stream",
     "text": [
      "tt_best2: 148\n",
      "148\n",
      "total_time: 63\n",
      "total_popularity: 45\n",
      "total_time: 631\n",
      "total_popularity: 544\n",
      "total_time: 698\n",
      "total_popularity: 676\n",
      "total_time: 426\n",
      "total_popularity: 376\n",
      "total_time: 504\n",
      "total_popularity: 388\n",
      "total_time: 756\n",
      "total_popularity: 597\n",
      "total_time: 322\n",
      "total_popularity: 231\n",
      "total_time: 613\n",
      "total_popularity: 580\n",
      "total_time: 312\n",
      "total_popularity: 194\n",
      "total_time: 335\n",
      "total_popularity: 313\n",
      "total_time: 732\n",
      "total_popularity: 503\n",
      "total_time: 727\n",
      "total_popularity: 561\n"
     ]
    },
    {
     "name": "stderr",
     "output_type": "stream",
     "text": [
      "[I 2024-10-18 21:44:03,465] Trial 12 finished with value: 535.2584943672737 and parameters: {'n_rides': 16, 'ride_0': 4, 'ride_1': 5, 'ride_2': 4, 'ride_3': 5, 'ride_4': 6, 'ride_5': 1, 'ride_6': 3, 'ride_7': 5, 'ride_8': 0, 'ride_9': 3, 'ride_10': 3, 'ride_11': 3, 'ride_12': 4, 'ride_13': 7, 'ride_14': 1, 'ride_15': 7}. Best is trial 2 with value: 656.894514781108.\n",
      "[I 2024-10-18 21:44:03,534] Trial 13 finished with value: 639.3084610499067 and parameters: {'n_rides': 16, 'ride_0': 0, 'ride_1': 3, 'ride_2': 2, 'ride_3': 3, 'ride_4': 2, 'ride_5': 2, 'ride_6': 5, 'ride_7': 7, 'ride_8': 3, 'ride_9': 0, 'ride_10': 4, 'ride_11': 3, 'ride_12': 4, 'ride_13': 3, 'ride_14': 4, 'ride_15': 0}. Best is trial 2 with value: 656.894514781108.\n",
      "[I 2024-10-18 21:44:03,609] Trial 14 finished with value: 630.3140129035326 and parameters: {'n_rides': 17, 'ride_0': 5, 'ride_1': 5, 'ride_2': 1, 'ride_3': 3, 'ride_4': 1, 'ride_5': 2, 'ride_6': 6, 'ride_7': 3, 'ride_8': 4, 'ride_9': 0, 'ride_10': 3, 'ride_11': 4, 'ride_12': 4, 'ride_13': 3, 'ride_14': 4, 'ride_15': 0, 'ride_16': 7}. Best is trial 2 with value: 656.894514781108.\n",
      "[I 2024-10-18 21:44:03,683] Trial 15 finished with value: 537.3695314397914 and parameters: {'n_rides': 16, 'ride_0': 2, 'ride_1': 2, 'ride_2': 2, 'ride_3': 5, 'ride_4': 1, 'ride_5': 2, 'ride_6': 2, 'ride_7': 3, 'ride_8': 4, 'ride_9': 5, 'ride_10': 4, 'ride_11': 7, 'ride_12': 5, 'ride_13': 3, 'ride_14': 6, 'ride_15': 3}. Best is trial 2 with value: 656.894514781108.\n"
     ]
    },
    {
     "name": "stdout",
     "output_type": "stream",
     "text": [
      "total_time: 747\n",
      "total_popularity: 579\n",
      "total_time: 729\n",
      "total_popularity: 674\n",
      "total_time: 727\n",
      "total_popularity: 664\n",
      "total_time: 707\n",
      "total_popularity: 561\n"
     ]
    },
    {
     "name": "stderr",
     "output_type": "stream",
     "text": [
      "[I 2024-10-18 21:44:03,749] Trial 16 finished with value: 571.8500999521009 and parameters: {'n_rides': 15, 'ride_0': 5, 'ride_1': 4, 'ride_2': 2, 'ride_3': 2, 'ride_4': 2, 'ride_5': 4, 'ride_6': 5, 'ride_7': 7, 'ride_8': 3, 'ride_9': 0, 'ride_10': 4, 'ride_11': 3, 'ride_12': 2, 'ride_13': 5, 'ride_14': 2}. Best is trial 2 with value: 656.894514781108.\n",
      "[I 2024-10-18 21:44:03,795] Trial 17 finished with value: 430.1887630232804 and parameters: {'n_rides': 10, 'ride_0': 2, 'ride_1': 6, 'ride_2': 5, 'ride_3': 5, 'ride_4': 0, 'ride_5': 1, 'ride_6': 4, 'ride_7': 5, 'ride_8': 6, 'ride_9': 4}. Best is trial 2 with value: 656.894514781108.\n",
      "[I 2024-10-18 21:44:03,872] Trial 18 finished with value: 667.3584277325397 and parameters: {'n_rides': 18, 'ride_0': 7, 'ride_1': 1, 'ride_2': 0, 'ride_3': 0, 'ride_4': 2, 'ride_5': 0, 'ride_6': 2, 'ride_7': 4, 'ride_8': 3, 'ride_9': 7, 'ride_10': 0, 'ride_11': 5, 'ride_12': 5, 'ride_13': 2, 'ride_14': 3, 'ride_15': 0, 'ride_16': 0, 'ride_17': 6}. Best is trial 18 with value: 667.3584277325397.\n",
      "[I 2024-10-18 21:44:03,944] Trial 19 finished with value: 564.8723073666044 and parameters: {'n_rides': 18, 'ride_0': 7, 'ride_1': 1, 'ride_2': 0, 'ride_3': 0, 'ride_4': 2, 'ride_5': 0, 'ride_6': 1, 'ride_7': 2, 'ride_8': 5, 'ride_9': 6, 'ride_10': 0, 'ride_11': 6, 'ride_12': 6, 'ride_13': 1, 'ride_14': 2, 'ride_15': 2, 'ride_16': 0, 'ride_17': 6}. Best is trial 18 with value: 667.3584277325397.\n"
     ]
    },
    {
     "name": "stdout",
     "output_type": "stream",
     "text": [
      "total_time: 714\n",
      "total_popularity: 599\n",
      "total_time: 592\n",
      "total_popularity: 396\n",
      "total_time: 711\n",
      "total_popularity: 693\n",
      "total_time: 706\n",
      "total_popularity: 588\n"
     ]
    },
    {
     "name": "stderr",
     "output_type": "stream",
     "text": [
      "[I 2024-10-18 21:44:03,994] Trial 20 finished with value: 550.9555851709929 and parameters: {'n_rides': 10, 'ride_0': 6, 'ride_1': 1, 'ride_2': 1, 'ride_3': 1, 'ride_4': 0, 'ride_5': 0, 'ride_6': 2, 'ride_7': 4, 'ride_8': 2, 'ride_9': 7}. Best is trial 18 with value: 667.3584277325397.\n",
      "[I 2024-10-18 21:44:04,084] Trial 21 finished with value: 630.2751499281513 and parameters: {'n_rides': 20, 'ride_0': 6, 'ride_1': 3, 'ride_2': 0, 'ride_3': 1, 'ride_4': 2, 'ride_5': 2, 'ride_6': 1, 'ride_7': 6, 'ride_8': 3, 'ride_9': 3, 'ride_10': 2, 'ride_11': 5, 'ride_12': 5, 'ride_13': 2, 'ride_14': 4, 'ride_15': 0, 'ride_16': 2, 'ride_17': 4, 'ride_18': 0, 'ride_19': 7}. Best is trial 18 with value: 667.3584277325397.\n",
      "[I 2024-10-18 21:44:04,149] Trial 22 finished with value: 616.341772171662 and parameters: {'n_rides': 15, 'ride_0': 1, 'ride_1': 1, 'ride_2': 2, 'ride_3': 3, 'ride_4': 2, 'ride_5': 1, 'ride_6': 2, 'ride_7': 4, 'ride_8': 3, 'ride_9': 4, 'ride_10': 0, 'ride_11': 4, 'ride_12': 5, 'ride_13': 5, 'ride_14': 3}. Best is trial 18 with value: 667.3584277325397.\n"
     ]
    },
    {
     "name": "stdout",
     "output_type": "stream",
     "text": [
      "total_time: 676\n",
      "total_popularity: 559\n",
      "total_time: 741\n",
      "total_popularity: 671\n",
      "total_time: 717\n",
      "total_popularity: 645\n"
     ]
    },
    {
     "name": "stderr",
     "output_type": "stream",
     "text": [
      "[I 2024-10-18 21:44:04,226] Trial 23 finished with value: 544.3695314397914 and parameters: {'n_rides': 17, 'ride_0': 4, 'ride_1': 4, 'ride_2': 1, 'ride_3': 6, 'ride_4': 1, 'ride_5': 2, 'ride_6': 5, 'ride_7': 6, 'ride_8': 2, 'ride_9': 1, 'ride_10': 2, 'ride_11': 6, 'ride_12': 3, 'ride_13': 4, 'ride_14': 5, 'ride_15': 1, 'ride_16': 0}. Best is trial 18 with value: 667.3584277325397.\n",
      "[I 2024-10-18 21:44:04,296] Trial 24 finished with value: 613.3140129035326 and parameters: {'n_rides': 14, 'ride_0': 3, 'ride_1': 2, 'ride_2': 4, 'ride_3': 0, 'ride_4': 3, 'ride_5': 1, 'ride_6': 0, 'ride_7': 2, 'ride_8': 4, 'ride_9': 5, 'ride_10': 5, 'ride_11': 2, 'ride_12': 4, 'ride_13': 2}. Best is trial 18 with value: 667.3584277325397.\n",
      "[I 2024-10-18 21:44:04,374] Trial 25 finished with value: 521.8001332694678 and parameters: {'n_rides': 18, 'ride_0': 7, 'ride_1': 3, 'ride_2': 3, 'ride_3': 2, 'ride_4': 1, 'ride_5': 4, 'ride_6': 6, 'ride_7': 7, 'ride_8': 1, 'ride_9': 2, 'ride_10': 2, 'ride_11': 5, 'ride_12': 6, 'ride_13': 7, 'ride_14': 7, 'ride_15': 0, 'ride_16': 2, 'ride_17': 4}. Best is trial 18 with value: 667.3584277325397.\n"
     ]
    },
    {
     "name": "stdout",
     "output_type": "stream",
     "text": [
      "total_time: 707\n",
      "total_popularity: 568\n",
      "total_time: 727\n",
      "total_popularity: 647\n",
      "total_time: 732\n",
      "total_popularity: 558\n"
     ]
    },
    {
     "name": "stderr",
     "output_type": "stream",
     "text": [
      "[I 2024-10-18 21:44:04,454] Trial 26 finished with value: 548.3251166107843 and parameters: {'n_rides': 18, 'ride_0': 5, 'ride_1': 6, 'ride_2': 2, 'ride_3': 4, 'ride_4': 0, 'ride_5': 0, 'ride_6': 3, 'ride_7': 4, 'ride_8': 5, 'ride_9': 6, 'ride_10': 1, 'ride_11': 7, 'ride_12': 5, 'ride_13': 4, 'ride_14': 3, 'ride_15': 5, 'ride_16': 6, 'ride_17': 0}. Best is trial 18 with value: 667.3584277325397.\n",
      "[I 2024-10-18 21:44:04,544] Trial 27 finished with value: 527.8278925375973 and parameters: {'n_rides': 20, 'ride_0': 6, 'ride_1': 4, 'ride_2': 0, 'ride_3': 6, 'ride_4': 2, 'ride_5': 3, 'ride_6': 1, 'ride_7': 5, 'ride_8': 1, 'ride_9': 1, 'ride_10': 5, 'ride_11': 6, 'ride_12': 7, 'ride_13': 2, 'ride_14': 0, 'ride_15': 1, 'ride_16': 1, 'ride_17': 6, 'ride_18': 7, 'ride_19': 6}. Best is trial 18 with value: 667.3584277325397.\n",
      "[I 2024-10-18 21:44:04,600] Trial 28 finished with value: 531.4694648050576 and parameters: {'n_rides': 11, 'ride_0': 0, 'ride_1': 1, 'ride_2': 5, 'ride_3': 3, 'ride_4': 3, 'ride_5': 1, 'ride_6': 4, 'ride_7': 2, 'ride_8': 3, 'ride_9': 6, 'ride_10': 3}. Best is trial 18 with value: 667.3584277325397.\n"
     ]
    },
    {
     "name": "stdout",
     "output_type": "stream",
     "text": [
      "total_time: 723\n",
      "total_popularity: 580\n",
      "total_time: 722\n",
      "total_popularity: 559\n",
      "total_time: 671\n",
      "total_popularity: 537\n"
     ]
    },
    {
     "name": "stderr",
     "output_type": "stream",
     "text": [
      "[I 2024-10-18 21:44:04,669] Trial 29 finished with value: 568.3695314397914 and parameters: {'n_rides': 15, 'ride_0': 3, 'ride_1': 0, 'ride_2': 1, 'ride_3': 7, 'ride_4': 1, 'ride_5': 0, 'ride_6': 2, 'ride_7': 6, 'ride_8': 5, 'ride_9': 4, 'ride_10': 0, 'ride_11': 4, 'ride_12': 3, 'ride_13': 6, 'ride_14': 5}. Best is trial 18 with value: 667.3584277325397.\n",
      "[I 2024-10-18 21:44:04,669] A new study created in memory with name: no-name-9f1a3e97-172d-4720-907a-31830d996344\n",
      "[I 2024-10-18 21:44:04,669] Trial 0 finished with value: 157.0 and parameters: {'n_rides': 4, 'ride_0': 6, 'ride_1': 5, 'ride_2': 2, 'ride_3': 2, 'lamb_x': 1.6577125517000375}. Best is trial 0 with value: 157.0.\n",
      "[I 2024-10-18 21:44:04,684] Trial 1 finished with value: 721.0 and parameters: {'n_rides': 15, 'ride_0': 6, 'ride_1': 4, 'ride_2': 4, 'ride_3': 3, 'ride_4': 4, 'ride_5': 6, 'ride_6': 1, 'ride_7': 3, 'ride_8': 1, 'ride_9': 0, 'ride_10': 1, 'ride_11': 6, 'ride_12': 0, 'ride_13': 3, 'ride_14': 2, 'lamb_x': 0.8743580799698523}. Best is trial 0 with value: 157.0.\n",
      "[I 2024-10-18 21:44:04,689] Trial 2 finished with value: 450.0 and parameters: {'n_rides': 11, 'ride_0': 7, 'ride_1': 6, 'ride_2': 7, 'ride_3': 1, 'ride_4': 3, 'ride_5': 1, 'ride_6': 0, 'ride_7': 5, 'ride_8': 3, 'ride_9': 5, 'ride_10': 6, 'lamb_x': 1.4313635537182803}. Best is trial 0 with value: 157.0.\n",
      "[I 2024-10-18 21:44:04,694] Trial 3 finished with value: 465.0 and parameters: {'n_rides': 11, 'ride_0': 3, 'ride_1': 5, 'ride_2': 5, 'ride_3': 5, 'ride_4': 4, 'ride_5': 2, 'ride_6': 1, 'ride_7': 1, 'ride_8': 6, 'ride_9': 1, 'ride_10': 7, 'lamb_x': 0.9647179223867304}. Best is trial 0 with value: 157.0.\n",
      "[I 2024-10-18 21:44:04,701] Trial 4 finished with value: 152.0 and parameters: {'n_rides': 3, 'ride_0': 2, 'ride_1': 5, 'ride_2': 1, 'lamb_x': 0.8298186735913806}. Best is trial 4 with value: 152.0.\n",
      "[I 2024-10-18 21:44:04,702] Trial 5 finished with value: 530.0 and parameters: {'n_rides': 12, 'ride_0': 6, 'ride_1': 1, 'ride_2': 1, 'ride_3': 0, 'ride_4': 6, 'ride_5': 6, 'ride_6': 1, 'ride_7': 6, 'ride_8': 5, 'ride_9': 1, 'ride_10': 4, 'ride_11': 4, 'lamb_x': 1.9057532942944315}. Best is trial 4 with value: 152.0.\n",
      "[I 2024-10-18 21:44:04,709] Trial 6 finished with value: 64.0 and parameters: {'n_rides': 2, 'ride_0': 6, 'ride_1': 3, 'lamb_x': 1.5718901607896674}. Best is trial 6 with value: 64.0.\n",
      "[I 2024-10-18 21:44:04,716] Trial 7 finished with value: 268.0 and parameters: {'n_rides': 7, 'ride_0': 6, 'ride_1': 0, 'ride_2': 4, 'ride_3': 7, 'ride_4': 7, 'ride_5': 1, 'ride_6': 6, 'lamb_x': 1.7092339891270993}. Best is trial 6 with value: 64.0.\n",
      "[I 2024-10-18 21:44:04,720] Trial 8 finished with value: 377.0 and parameters: {'n_rides': 9, 'ride_0': 1, 'ride_1': 5, 'ride_2': 2, 'ride_3': 7, 'ride_4': 4, 'ride_5': 0, 'ride_6': 7, 'ride_7': 6, 'ride_8': 3, 'lamb_x': 1.8697168157278512}. Best is trial 6 with value: 64.0.\n",
      "[I 2024-10-18 21:44:04,727] Trial 9 finished with value: 550.0 and parameters: {'n_rides': 10, 'ride_0': 1, 'ride_1': 6, 'ride_2': 1, 'ride_3': 5, 'ride_4': 3, 'ride_5': 5, 'ride_6': 0, 'ride_7': 1, 'ride_8': 0, 'ride_9': 2, 'lamb_x': 0.5398581908591218}. Best is trial 6 with value: 64.0.\n",
      "[I 2024-10-18 21:44:04,799] Trial 10 finished with value: 543.0 and parameters: {'n_rides': 20, 'ride_0': 4, 'ride_1': 2, 'ride_2': 7, 'ride_3': 4, 'ride_4': 2, 'ride_5': 4, 'ride_6': 4, 'ride_7': 3, 'ride_8': 7, 'ride_9': 7, 'ride_10': 0, 'ride_11': 0, 'ride_12': 7, 'ride_13': 7, 'ride_14': 7, 'ride_15': 0, 'ride_16': 0, 'ride_17': 2, 'ride_18': 6, 'ride_19': 4, 'lamb_x': 1.2668804762239096}. Best is trial 6 with value: 64.0.\n",
      "[I 2024-10-18 21:44:04,819] Trial 11 finished with value: 45.0 and parameters: {'n_rides': 1, 'ride_0': 3, 'lamb_x': 0.8983002546120983}. Best is trial 11 with value: 45.0.\n",
      "[I 2024-10-18 21:44:04,834] Trial 12 finished with value: 33.0 and parameters: {'n_rides': 1, 'ride_0': 4, 'lamb_x': 1.1431766413527098}. Best is trial 12 with value: 33.0.\n",
      "[I 2024-10-18 21:44:04,848] Trial 13 finished with value: 33.0 and parameters: {'n_rides': 1, 'ride_0': 4, 'lamb_x': 1.057049807789535}. Best is trial 12 with value: 33.0.\n"
     ]
    },
    {
     "name": "stdout",
     "output_type": "stream",
     "text": [
      "total_time: 707\n",
      "total_popularity: 592\n"
     ]
    },
    {
     "name": "stderr",
     "output_type": "stream",
     "text": [
      "[I 2024-10-18 21:44:04,878] Trial 14 finished with value: 242.0 and parameters: {'n_rides': 5, 'ride_0': 4, 'ride_1': 7, 'ride_2': 6, 'ride_3': 0, 'ride_4': 0, 'lamb_x': 1.1170508263337744}. Best is trial 12 with value: 33.0.\n",
      "[I 2024-10-18 21:44:04,909] Trial 15 finished with value: 326.0 and parameters: {'n_rides': 6, 'ride_0': 4, 'ride_1': 0, 'ride_2': 0, 'ride_3': 6, 'ride_4': 0, 'ride_5': 7, 'lamb_x': 1.2035160331055614}. Best is trial 12 with value: 33.0.\n",
      "[I 2024-10-18 21:44:04,924] Trial 16 finished with value: 28.0 and parameters: {'n_rides': 1, 'ride_0': 5, 'lamb_x': 0.6442323313893308}. Best is trial 16 with value: 28.0.\n",
      "[I 2024-10-18 21:44:04,990] Trial 17 finished with value: 700.0 and parameters: {'n_rides': 15, 'ride_0': 5, 'ride_1': 2, 'ride_2': 3, 'ride_3': 3, 'ride_4': 6, 'ride_5': 3, 'ride_6': 4, 'ride_7': 0, 'ride_8': 2, 'ride_9': 4, 'ride_10': 3, 'ride_11': 0, 'ride_12': 3, 'ride_13': 0, 'ride_14': 0, 'lamb_x': 0.5129323382191366}. Best is trial 16 with value: 28.0.\n",
      "[I 2024-10-18 21:44:05,027] Trial 18 finished with value: 348.0 and parameters: {'n_rides': 7, 'ride_0': 0, 'ride_1': 7, 'ride_2': 5, 'ride_3': 2, 'ride_4': 1, 'ride_5': 3, 'ride_6': 3, 'lamb_x': 0.6454729626375992}. Best is trial 16 with value: 28.0.\n",
      "[I 2024-10-18 21:44:05,053] Trial 19 finished with value: 185.0 and parameters: {'n_rides': 4, 'ride_0': 5, 'ride_1': 3, 'ride_2': 0, 'ride_3': 5, 'lamb_x': 0.6942814904393528}. Best is trial 16 with value: 28.0.\n",
      "[I 2024-10-18 21:44:05,094] Trial 20 finished with value: 293.0 and parameters: {'n_rides': 8, 'ride_0': 5, 'ride_1': 1, 'ride_2': 3, 'ride_3': 1, 'ride_4': 6, 'ride_5': 7, 'ride_6': 6, 'ride_7': 7, 'lamb_x': 1.3648073432398877}. Best is trial 16 with value: 28.0.\n",
      "[I 2024-10-18 21:44:05,109] Trial 21 finished with value: 45.0 and parameters: {'n_rides': 1, 'ride_0': 3, 'lamb_x': 1.0676861781605111}. Best is trial 16 with value: 28.0.\n",
      "[I 2024-10-18 21:44:05,124] Trial 22 finished with value: 33.0 and parameters: {'n_rides': 1, 'ride_0': 4, 'lamb_x': 0.748726552979464}. Best is trial 16 with value: 28.0.\n",
      "[I 2024-10-18 21:44:05,148] Trial 23 finished with value: 80.0 and parameters: {'n_rides': 3, 'ride_0': 5, 'ride_1': 4, 'ride_2': 6, 'lamb_x': 1.0580683409624236}. Best is trial 16 with value: 28.0.\n",
      "[I 2024-10-18 21:44:05,171] Trial 24 finished with value: 138.0 and parameters: {'n_rides': 3, 'ride_0': 2, 'ride_1': 2, 'ride_2': 5, 'lamb_x': 1.3824410528964721}. Best is trial 16 with value: 28.0.\n",
      "[I 2024-10-18 21:44:05,202] Trial 25 finished with value: 234.0 and parameters: {'n_rides': 5, 'ride_0': 7, 'ride_1': 1, 'ride_2': 2, 'ride_3': 4, 'ride_4': 2, 'lamb_x': 1.2226060809688342}. Best is trial 16 with value: 28.0.\n",
      "[I 2024-10-18 21:44:05,219] Trial 26 finished with value: 74.0 and parameters: {'n_rides': 2, 'ride_0': 2, 'ride_1': 6, 'lamb_x': 0.9806049551437177}. Best is trial 16 with value: 28.0.\n",
      "[I 2024-10-18 21:44:05,300] Trial 27 finished with value: 462.0 and parameters: {'n_rides': 20, 'ride_0': 5, 'ride_1': 3, 'ride_2': 6, 'ride_3': 6, 'ride_4': 5, 'ride_5': 0, 'ride_6': 3, 'ride_7': 2, 'ride_8': 5, 'ride_9': 7, 'ride_10': 3, 'ride_11': 7, 'ride_12': 7, 'ride_13': 7, 'ride_14': 7, 'ride_15': 7, 'ride_16': 7, 'ride_17': 7, 'ride_18': 0, 'ride_19': 0, 'lamb_x': 0.7494762885244084}. Best is trial 16 with value: 28.0.\n",
      "[I 2024-10-18 21:44:05,321] Trial 28 finished with value: 45.0 and parameters: {'n_rides': 1, 'ride_0': 3, 'lamb_x': 0.6050097028521034}. Best is trial 16 with value: 28.0.\n",
      "[I 2024-10-18 21:44:05,348] Trial 29 finished with value: 217.0 and parameters: {'n_rides': 4, 'ride_0': 4, 'ride_1': 0, 'ride_2': 3, 'ride_3': 2, 'lamb_x': 1.5925360725882394}. Best is trial 16 with value: 28.0.\n",
      "[I 2024-10-18 21:44:05,349] A new study created in memory with name: no-name-88460723-9dae-4429-a805-f139f8a3f691\n",
      "[I 2024-10-18 21:44:05,356] Trial 0 finished with value: 427.83643379691483 and parameters: {'n_rides': 13, 'ride_0': 2, 'ride_1': 4, 'ride_2': 1, 'ride_3': 7, 'ride_4': 2, 'ride_5': 6, 'ride_6': 4, 'ride_7': 1, 'ride_8': 5, 'ride_9': 6, 'ride_10': 5, 'ride_11': 6, 'ride_12': 7}. Best is trial 0 with value: 427.83643379691483.\n",
      "[I 2024-10-18 21:44:05,362] Trial 1 finished with value: 536.1248984596934 and parameters: {'n_rides': 14, 'ride_0': 5, 'ride_1': 2, 'ride_2': 3, 'ride_3': 4, 'ride_4': 2, 'ride_5': 2, 'ride_6': 5, 'ride_7': 2, 'ride_8': 6, 'ride_9': 7, 'ride_10': 4, 'ride_11': 4, 'ride_12': 0, 'ride_13': 4}. Best is trial 1 with value: 536.1248984596934.\n",
      "[I 2024-10-18 21:44:05,370] Trial 2 finished with value: 583.3653127560908 and parameters: {'n_rides': 19, 'ride_0': 5, 'ride_1': 7, 'ride_2': 6, 'ride_3': 1, 'ride_4': 0, 'ride_5': 6, 'ride_6': 7, 'ride_7': 5, 'ride_8': 0, 'ride_9': 2, 'ride_10': 1, 'ride_11': 3, 'ride_12': 1, 'ride_13': 5, 'ride_14': 4, 'ride_15': 1, 'ride_16': 3, 'ride_17': 3, 'ride_18': 2}. Best is trial 2 with value: 583.3653127560908.\n",
      "[I 2024-10-18 21:44:05,375] Trial 3 finished with value: 560.1441510991441 and parameters: {'n_rides': 17, 'ride_0': 6, 'ride_1': 1, 'ride_2': 3, 'ride_3': 7, 'ride_4': 2, 'ride_5': 0, 'ride_6': 6, 'ride_7': 6, 'ride_8': 2, 'ride_9': 2, 'ride_10': 3, 'ride_11': 4, 'ride_12': 5, 'ride_13': 3, 'ride_14': 6, 'ride_15': 6, 'ride_16': 7}. Best is trial 2 with value: 583.3653127560908.\n",
      "[I 2024-10-18 21:44:05,384] Trial 4 finished with value: 504.4229082099523 and parameters: {'n_rides': 13, 'ride_0': 3, 'ride_1': 1, 'ride_2': 1, 'ride_3': 4, 'ride_4': 1, 'ride_5': 6, 'ride_6': 0, 'ride_7': 5, 'ride_8': 4, 'ride_9': 6, 'ride_10': 0, 'ride_11': 7, 'ride_12': 1}. Best is trial 2 with value: 583.3653127560908.\n",
      "[I 2024-10-18 21:44:05,385] Trial 5 finished with value: 433.71251012416377 and parameters: {'n_rides': 1, 'ride_0': 4}. Best is trial 2 with value: 583.3653127560908.\n",
      "[I 2024-10-18 21:44:05,389] Trial 6 finished with value: 422.8755889337777 and parameters: {'n_rides': 4, 'ride_0': 2, 'ride_1': 1, 'ride_2': 5, 'ride_3': 5}. Best is trial 2 with value: 583.3653127560908.\n",
      "[I 2024-10-18 21:44:05,398] Trial 7 finished with value: 489.27924450427935 and parameters: {'n_rides': 8, 'ride_0': 6, 'ride_1': 4, 'ride_2': 2, 'ride_3': 1, 'ride_4': 6, 'ride_5': 4, 'ride_6': 1, 'ride_7': 5}. Best is trial 2 with value: 583.3653127560908.\n",
      "[I 2024-10-18 21:44:05,402] Trial 8 finished with value: 424.5584890085587 and parameters: {'n_rides': 3, 'ride_0': 6, 'ride_1': 7, 'ride_2': 2}. Best is trial 2 with value: 583.3653127560908.\n",
      "[I 2024-10-18 21:44:05,402] Trial 9 finished with value: 416.1350934051352 and parameters: {'n_rides': 6, 'ride_0': 3, 'ride_1': 7, 'ride_2': 3, 'ride_3': 1, 'ride_4': 6, 'ride_5': 6}. Best is trial 2 with value: 583.3653127560908.\n",
      "[I 2024-10-18 21:44:05,479] Trial 10 finished with value: 555.0671405413416 and parameters: {'n_rides': 20, 'ride_0': 0, 'ride_1': 5, 'ride_2': 7, 'ride_3': 0, 'ride_4': 0, 'ride_5': 4, 'ride_6': 7, 'ride_7': 7, 'ride_8': 0, 'ride_9': 0, 'ride_10': 0, 'ride_11': 0, 'ride_12': 2, 'ride_13': 7, 'ride_14': 1, 'ride_15': 0, 'ride_16': 1, 'ride_17': 2, 'ride_18': 2, 'ride_19': 0}. Best is trial 2 with value: 583.3653127560908.\n"
     ]
    },
    {
     "name": "stdout",
     "output_type": "stream",
     "text": [
      "tt_best2: 711\n",
      "711\n",
      "total_time: 727\n",
      "total_popularity: 471\n",
      "total_time: 725\n",
      "total_popularity: 578\n",
      "total_time: 706\n",
      "total_popularity: 613\n",
      "total_time: 711\n",
      "total_popularity: 593\n",
      "total_time: 768\n",
      "total_popularity: 574\n",
      "total_time: 38\n",
      "total_popularity: 33\n",
      "total_time: 283\n",
      "total_popularity: 180\n",
      "total_time: 405\n",
      "total_popularity: 325\n",
      "total_time: 150\n",
      "total_popularity: 96\n",
      "total_time: 354\n",
      "total_popularity: 219\n",
      "total_time: 767\n",
      "total_popularity: 624\n"
     ]
    },
    {
     "name": "stderr",
     "output_type": "stream",
     "text": [
      "[I 2024-10-18 21:44:05,564] Trial 11 finished with value: 479.43261576192276 and parameters: {'n_rides': 20, 'ride_0': 7, 'ride_1': 0, 'ride_2': 5, 'ride_3': 7, 'ride_4': 4, 'ride_5': 0, 'ride_6': 7, 'ride_7': 7, 'ride_8': 0, 'ride_9': 2, 'ride_10': 2, 'ride_11': 3, 'ride_12': 5, 'ride_13': 3, 'ride_14': 7, 'ride_15': 7, 'ride_16': 7, 'ride_17': 6, 'ride_18': 5, 'ride_19': 7}. Best is trial 2 with value: 583.3653127560908.\n",
      "[I 2024-10-18 21:44:05,640] Trial 12 finished with value: 566.1441510991441 and parameters: {'n_rides': 17, 'ride_0': 7, 'ride_1': 6, 'ride_2': 7, 'ride_3': 2, 'ride_4': 0, 'ride_5': 0, 'ride_6': 6, 'ride_7': 4, 'ride_8': 2, 'ride_9': 3, 'ride_10': 2, 'ride_11': 3, 'ride_12': 4, 'ride_13': 5, 'ride_14': 5, 'ride_15': 4, 'ride_16': 4}. Best is trial 2 with value: 583.3653127560908.\n",
      "[I 2024-10-18 21:44:05,712] Trial 13 finished with value: 550.1922014655255 and parameters: {'n_rides': 17, 'ride_0': 5, 'ride_1': 6, 'ride_2': 7, 'ride_3': 2, 'ride_4': 0, 'ride_5': 2, 'ride_6': 3, 'ride_7': 3, 'ride_8': 2, 'ride_9': 3, 'ride_10': 7, 'ride_11': 2, 'ride_12': 3, 'ride_13': 6, 'ride_14': 4, 'ride_15': 2, 'ride_16': 3}. Best is trial 2 with value: 583.3653127560908.\n",
      "[I 2024-10-18 21:44:05,783] Trial 14 finished with value: 510.43261576192276 and parameters: {'n_rides': 17, 'ride_0': 7, 'ride_1': 6, 'ride_2': 6, 'ride_3': 2, 'ride_4': 4, 'ride_5': 7, 'ride_6': 5, 'ride_7': 4, 'ride_8': 2, 'ride_9': 4, 'ride_10': 2, 'ride_11': 1, 'ride_12': 4, 'ride_13': 0, 'ride_14': 4, 'ride_15': 4, 'ride_16': 4}. Best is trial 2 with value: 583.3653127560908.\n"
     ]
    },
    {
     "name": "stdout",
     "output_type": "stream",
     "text": [
      "total_time: 709\n",
      "total_popularity: 511\n",
      "total_time: 711\n",
      "total_popularity: 599\n",
      "total_time: 728\n",
      "total_popularity: 594\n",
      "total_time: 709\n",
      "total_popularity: 542\n"
     ]
    },
    {
     "name": "stderr",
     "output_type": "stream",
     "text": [
      "[I 2024-10-18 21:44:05,830] Trial 15 finished with value: 547.2213241214371 and parameters: {'n_rides': 10, 'ride_0': 5, 'ride_1': 6, 'ride_2': 5, 'ride_3': 2, 'ride_4': 0, 'ride_5': 2, 'ride_6': 7, 'ride_7': 4, 'ride_8': 1, 'ride_9': 0}. Best is trial 2 with value: 583.3653127560908.\n",
      "[I 2024-10-18 21:44:05,894] Trial 16 finished with value: 580.9037368027468 and parameters: {'n_rides': 15, 'ride_0': 7, 'ride_1': 5, 'ride_2': 6, 'ride_3': 0, 'ride_4': 1, 'ride_5': 3, 'ride_6': 3, 'ride_7': 0, 'ride_8': 3, 'ride_9': 4, 'ride_10': 1, 'ride_11': 5, 'ride_12': 2, 'ride_13': 5, 'ride_14': 2}. Best is trial 2 with value: 583.3653127560908.\n",
      "[I 2024-10-18 21:44:05,961] Trial 17 finished with value: 557.1441510991441 and parameters: {'n_rides': 15, 'ride_0': 4, 'ride_1': 3, 'ride_2': 6, 'ride_3': 0, 'ride_4': 3, 'ride_5': 3, 'ride_6': 2, 'ride_7': 0, 'ride_8': 7, 'ride_9': 4, 'ride_10': 1, 'ride_11': 5, 'ride_12': 0, 'ride_13': 5, 'ride_14': 1}. Best is trial 2 with value: 583.3653127560908.\n",
      "[I 2024-10-18 21:44:06,010] Trial 18 finished with value: 595.32696994168 and parameters: {'n_rides': 11, 'ride_0': 6, 'ride_1': 5, 'ride_2': 4, 'ride_3': 0, 'ride_4': 1, 'ride_5': 5, 'ride_6': 3, 'ride_7': 0, 'ride_8': 4, 'ride_9': 1, 'ride_10': 0}. Best is trial 18 with value: 595.32696994168.\n"
     ]
    },
    {
     "name": "stdout",
     "output_type": "stream",
     "text": [
      "total_time: 551\n",
      "total_popularity: 477\n",
      "total_time: 730\n",
      "total_popularity: 626\n",
      "total_time: 711\n",
      "total_popularity: 590\n",
      "total_time: 630\n",
      "total_popularity: 576\n"
     ]
    },
    {
     "name": "stderr",
     "output_type": "stream",
     "text": [
      "[I 2024-10-18 21:44:06,061] Trial 19 finished with value: 559.1252233886743 and parameters: {'n_rides': 10, 'ride_0': 5, 'ride_1': 5, 'ride_2': 4, 'ride_3': 1, 'ride_4': 1, 'ride_5': 5, 'ride_6': 2, 'ride_7': 2, 'ride_8': 4, 'ride_9': 1}. Best is trial 18 with value: 595.32696994168.\n",
      "[I 2024-10-18 21:44:06,104] Trial 20 finished with value: 423.39443541200234 and parameters: {'n_rides': 8, 'ride_0': 0, 'ride_1': 7, 'ride_2': 4, 'ride_3': 3, 'ride_4': 3, 'ride_5': 7, 'ride_6': 4, 'ride_7': 2}. Best is trial 18 with value: 595.32696994168.\n",
      "[I 2024-10-18 21:44:06,159] Trial 21 finished with value: 573.8268887094347 and parameters: {'n_rides': 12, 'ride_0': 6, 'ride_1': 5, 'ride_2': 6, 'ride_3': 0, 'ride_4': 1, 'ride_5': 5, 'ride_6': 3, 'ride_7': 0, 'ride_8': 3, 'ride_9': 2, 'ride_10': 0, 'ride_11': 5}. Best is trial 18 with value: 595.32696994168.\n",
      "[I 2024-10-18 21:44:06,229] Trial 22 finished with value: 597.9902924480294 and parameters: {'n_rides': 16, 'ride_0': 7, 'ride_1': 3, 'ride_2': 5, 'ride_3': 0, 'ride_4': 1, 'ride_5': 5, 'ride_6': 2, 'ride_7': 0, 'ride_8': 5, 'ride_9': 1, 'ride_10': 1, 'ride_11': 2, 'ride_12': 2, 'ride_13': 1, 'ride_14': 2, 'ride_15': 0}. Best is trial 22 with value: 597.9902924480294.\n"
     ]
    },
    {
     "name": "stdout",
     "output_type": "stream",
     "text": [
      "total_time: 517\n",
      "total_popularity: 467\n",
      "total_time: 529\n",
      "total_popularity: 339\n",
      "total_time: 682\n",
      "total_popularity: 588\n",
      "total_time: 719\n",
      "total_popularity: 636\n"
     ]
    },
    {
     "name": "stderr",
     "output_type": "stream",
     "text": [
      "[I 2024-10-18 21:44:06,314] Trial 23 finished with value: 647.6152721399682 and parameters: {'n_rides': 19, 'ride_0': 6, 'ride_1': 3, 'ride_2': 4, 'ride_3': 1, 'ride_4': 2, 'ride_5': 5, 'ride_6': 2, 'ride_7': 1, 'ride_8': 5, 'ride_9': 1, 'ride_10': 1, 'ride_11': 2, 'ride_12': 2, 'ride_13': 0, 'ride_14': 3, 'ride_15': 0, 'ride_16': 0, 'ride_17': 0, 'ride_18': 0}. Best is trial 23 with value: 647.6152721399682.\n",
      "[I 2024-10-18 21:44:06,390] Trial 24 finished with value: 658.6825751458002 and parameters: {'n_rides': 18, 'ride_0': 6, 'ride_1': 3, 'ride_2': 4, 'ride_3': 0, 'ride_4': 2, 'ride_5': 5, 'ride_6': 1, 'ride_7': 1, 'ride_8': 5, 'ride_9': 1, 'ride_10': 0, 'ride_11': 1, 'ride_12': 2, 'ride_13': 0, 'ride_14': 2, 'ride_15': 0, 'ride_16': 0, 'ride_17': 0}. Best is trial 24 with value: 658.6825751458002.\n",
      "[I 2024-10-18 21:44:06,469] Trial 25 finished with value: 609.6345247794188 and parameters: {'n_rides': 18, 'ride_0': 7, 'ride_1': 3, 'ride_2': 5, 'ride_3': 1, 'ride_4': 3, 'ride_5': 4, 'ride_6': 1, 'ride_7': 1, 'ride_8': 6, 'ride_9': 1, 'ride_10': 1, 'ride_11': 1, 'ride_12': 2, 'ride_13': 0, 'ride_14': 2, 'ride_15': 0, 'ride_16': 0, 'ride_17': 0}. Best is trial 24 with value: 658.6825751458002.\n"
     ]
    },
    {
     "name": "stdout",
     "output_type": "stream",
     "text": [
      "total_time: 732\n",
      "total_popularity: 694\n",
      "total_time: 735\n",
      "total_popularity: 707\n",
      "total_time: 718\n",
      "total_popularity: 647\n"
     ]
    },
    {
     "name": "stderr",
     "output_type": "stream",
     "text": [
      "[I 2024-10-18 21:44:06,554] Trial 26 finished with value: 603.0768480933122 and parameters: {'n_rides': 19, 'ride_0': 6, 'ride_1': 2, 'ride_2': 0, 'ride_3': 3, 'ride_4': 5, 'ride_5': 4, 'ride_6': 0, 'ride_7': 1, 'ride_8': 6, 'ride_9': 1, 'ride_10': 3, 'ride_11': 0, 'ride_12': 3, 'ride_13': 0, 'ride_14': 2, 'ride_15': 2, 'ride_16': 0, 'ride_17': 0, 'ride_18': 0}. Best is trial 24 with value: 658.6825751458002.\n",
      "[I 2024-10-18 21:44:06,629] Trial 27 finished with value: 563.8461413488853 and parameters: {'n_rides': 18, 'ride_0': 4, 'ride_1': 3, 'ride_2': 4, 'ride_3': 1, 'ride_4': 3, 'ride_5': 3, 'ride_6': 1, 'ride_7': 1, 'ride_8': 7, 'ride_9': 0, 'ride_10': 2, 'ride_11': 1, 'ride_12': 1, 'ride_13': 1, 'ride_14': 0, 'ride_15': 0, 'ride_16': 0, 'ride_17': 0}. Best is trial 24 with value: 658.6825751458002.\n",
      "[I 2024-10-18 21:44:06,719] Trial 28 finished with value: 604.6152721399682 and parameters: {'n_rides': 19, 'ride_0': 7, 'ride_1': 2, 'ride_2': 2, 'ride_3': 3, 'ride_4': 2, 'ride_5': 4, 'ride_6': 1, 'ride_7': 3, 'ride_8': 6, 'ride_9': 0, 'ride_10': 1, 'ride_11': 1, 'ride_12': 2, 'ride_13': 1, 'ride_14': 3, 'ride_15': 2, 'ride_16': 1, 'ride_17': 0, 'ride_18': 0}. Best is trial 24 with value: 658.6825751458002.\n"
     ]
    },
    {
     "name": "stdout",
     "output_type": "stream",
     "text": [
      "total_time: 708\n",
      "total_popularity: 634\n",
      "total_time: 668\n",
      "total_popularity: 569\n",
      "total_time: 732\n",
      "total_popularity: 651\n"
     ]
    },
    {
     "name": "stderr",
     "output_type": "stream",
     "text": [
      "[I 2024-10-18 21:44:06,790] Trial 29 finished with value: 526.7883834305335 and parameters: {'n_rides': 15, 'ride_0': 2, 'ride_1': 4, 'ride_2': 5, 'ride_3': 6, 'ride_4': 4, 'ride_5': 5, 'ride_6': 1, 'ride_7': 1, 'ride_8': 5, 'ride_9': 1, 'ride_10': 5, 'ride_11': 2, 'ride_12': 3, 'ride_13': 2, 'ride_14': 3}. Best is trial 24 with value: 658.6825751458002.\n",
      "[I 2024-10-18 21:44:06,790] A new study created in memory with name: no-name-1450576a-655c-4360-80ed-32ac53cc9368\n",
      "[I 2024-10-18 21:44:06,801] Trial 0 finished with value: 517.0 and parameters: {'n_rides': 17, 'ride_0': 5, 'ride_1': 1, 'ride_2': 7, 'ride_3': 7, 'ride_4': 2, 'ride_5': 7, 'ride_6': 1, 'ride_7': 0, 'ride_8': 7, 'ride_9': 1, 'ride_10': 2, 'ride_11': 4, 'ride_12': 6, 'ride_13': 6, 'ride_14': 6, 'ride_15': 0, 'ride_16': 6, 'lamb_x': 1.4910560814582616}. Best is trial 0 with value: 517.0.\n",
      "[I 2024-10-18 21:44:06,809] Trial 1 finished with value: 552.0 and parameters: {'n_rides': 12, 'ride_0': 3, 'ride_1': 0, 'ride_2': 4, 'ride_3': 3, 'ride_4': 7, 'ride_5': 2, 'ride_6': 5, 'ride_7': 2, 'ride_8': 1, 'ride_9': 4, 'ride_10': 5, 'ride_11': 2, 'lamb_x': 0.5515870483384486}. Best is trial 0 with value: 517.0.\n",
      "[I 2024-10-18 21:44:06,809] Trial 2 finished with value: 28.0 and parameters: {'n_rides': 1, 'ride_0': 5, 'lamb_x': 1.2704032012909932}. Best is trial 2 with value: 28.0.\n",
      "[I 2024-10-18 21:44:06,817] Trial 3 finished with value: 483.0 and parameters: {'n_rides': 8, 'ride_0': 5, 'ride_1': 0, 'ride_2': 0, 'ride_3': 5, 'ride_4': 0, 'ride_5': 7, 'ride_6': 0, 'ride_7': 1, 'lamb_x': 0.5083004060732355}. Best is trial 2 with value: 28.0.\n",
      "[I 2024-10-18 21:44:06,819] Trial 4 finished with value: 167.0 and parameters: {'n_rides': 3, 'ride_0': 2, 'ride_1': 0, 'ride_2': 5, 'lamb_x': 1.9282728676043097}. Best is trial 2 with value: 28.0.\n",
      "[I 2024-10-18 21:44:06,829] Trial 5 finished with value: 600.0 and parameters: {'n_rides': 18, 'ride_0': 0, 'ride_1': 6, 'ride_2': 2, 'ride_3': 1, 'ride_4': 5, 'ride_5': 1, 'ride_6': 3, 'ride_7': 4, 'ride_8': 0, 'ride_9': 3, 'ride_10': 1, 'ride_11': 4, 'ride_12': 1, 'ride_13': 4, 'ride_14': 4, 'ride_15': 7, 'ride_16': 5, 'ride_17': 6, 'lamb_x': 1.517383639918512}. Best is trial 2 with value: 28.0.\n",
      "[I 2024-10-18 21:44:06,834] Trial 6 finished with value: 428.0 and parameters: {'n_rides': 11, 'ride_0': 5, 'ride_1': 6, 'ride_2': 4, 'ride_3': 0, 'ride_4': 6, 'ride_5': 4, 'ride_6': 6, 'ride_7': 3, 'ride_8': 3, 'ride_9': 6, 'ride_10': 0, 'lamb_x': 1.5358768303203627}. Best is trial 2 with value: 28.0.\n",
      "[I 2024-10-18 21:44:06,839] Trial 7 finished with value: 478.0 and parameters: {'n_rides': 11, 'ride_0': 3, 'ride_1': 5, 'ride_2': 0, 'ride_3': 6, 'ride_4': 0, 'ride_5': 7, 'ride_6': 2, 'ride_7': 3, 'ride_8': 2, 'ride_9': 7, 'ride_10': 6, 'lamb_x': 0.5976883601907712}. Best is trial 2 with value: 28.0.\n",
      "[I 2024-10-18 21:44:06,850] Trial 8 finished with value: 616.0 and parameters: {'n_rides': 16, 'ride_0': 4, 'ride_1': 2, 'ride_2': 3, 'ride_3': 1, 'ride_4': 1, 'ride_5': 5, 'ride_6': 0, 'ride_7': 0, 'ride_8': 6, 'ride_9': 4, 'ride_10': 4, 'ride_11': 6, 'ride_12': 1, 'ride_13': 3, 'ride_14': 3, 'ride_15': 3, 'lamb_x': 1.5251114964108532}. Best is trial 2 with value: 28.0.\n",
      "[I 2024-10-18 21:44:06,851] Trial 9 finished with value: 241.0 and parameters: {'n_rides': 4, 'ride_0': 6, 'ride_1': 1, 'ride_2': 1, 'ride_3': 0, 'lamb_x': 1.4180082820837012}. Best is trial 2 with value: 28.0.\n",
      "[I 2024-10-18 21:44:06,869] Trial 10 finished with value: 22.0 and parameters: {'n_rides': 1, 'ride_0': 7, 'lamb_x': 1.1125644830337535}. Best is trial 10 with value: 22.0.\n",
      "[I 2024-10-18 21:44:06,884] Trial 11 finished with value: 22.0 and parameters: {'n_rides': 1, 'ride_0': 7, 'lamb_x': 0.9963085644437938}. Best is trial 10 with value: 22.0.\n",
      "[I 2024-10-18 21:44:06,918] Trial 12 finished with value: 239.0 and parameters: {'n_rides': 6, 'ride_0': 7, 'ride_1': 4, 'ride_2': 7, 'ride_3': 3, 'ride_4': 4, 'ride_5': 0, 'lamb_x': 0.9159471144597864}. Best is trial 10 with value: 22.0.\n",
      "[I 2024-10-18 21:44:06,933] Trial 13 finished with value: 22.0 and parameters: {'n_rides': 1, 'ride_0': 7, 'lamb_x': 0.9562908969848101}. Best is trial 10 with value: 22.0.\n",
      "[I 2024-10-18 21:44:06,969] Trial 14 finished with value: 208.0 and parameters: {'n_rides': 7, 'ride_0': 7, 'ride_1': 7, 'ride_2': 6, 'ride_3': 4, 'ride_4': 3, 'ride_5': 3, 'ride_6': 7, 'lamb_x': 0.9842831758312598}. Best is trial 10 with value: 22.0.\n",
      "[I 2024-10-18 21:44:06,994] Trial 15 finished with value: 141.0 and parameters: {'n_rides': 4, 'ride_0': 6, 'ride_1': 3, 'ride_2': 2, 'ride_3': 7, 'lamb_x': 1.166833575133935}. Best is trial 10 with value: 22.0.\n"
     ]
    },
    {
     "name": "stdout",
     "output_type": "stream",
     "text": [
      "total_time: 710\n",
      "total_popularity: 559\n"
     ]
    },
    {
     "name": "stderr",
     "output_type": "stream",
     "text": [
      "[I 2024-10-18 21:44:07,056] Trial 16 finished with value: 545.0 and parameters: {'n_rides': 14, 'ride_0': 0, 'ride_1': 4, 'ride_2': 5, 'ride_3': 2, 'ride_4': 7, 'ride_5': 5, 'ride_6': 4, 'ride_7': 7, 'ride_8': 5, 'ride_9': 0, 'ride_10': 7, 'ride_11': 0, 'ride_12': 7, 'ride_13': 0, 'lamb_x': 0.781137077324726}. Best is trial 10 with value: 22.0.\n",
      "[I 2024-10-18 21:44:07,096] Trial 17 finished with value: 297.0 and parameters: {'n_rides': 8, 'ride_0': 6, 'ride_1': 7, 'ride_2': 2, 'ride_3': 5, 'ride_4': 3, 'ride_5': 0, 'ride_6': 7, 'ride_7': 7, 'lamb_x': 1.1663001148416339}. Best is trial 10 with value: 22.0.\n",
      "[I 2024-10-18 21:44:07,174] Trial 18 finished with value: 575.0 and parameters: {'n_rides': 20, 'ride_0': 2, 'ride_1': 3, 'ride_2': 6, 'ride_3': 4, 'ride_4': 5, 'ride_5': 5, 'ride_6': 3, 'ride_7': 5, 'ride_8': 4, 'ride_9': 2, 'ride_10': 3, 'ride_11': 7, 'ride_12': 4, 'ride_13': 0, 'ride_14': 0, 'ride_15': 7, 'ride_16': 0, 'ride_17': 0, 'ride_18': 7, 'ride_19': 0, 'lamb_x': 1.7583334875227825}. Best is trial 10 with value: 22.0.\n",
      "[I 2024-10-18 21:44:07,199] Trial 19 finished with value: 95.0 and parameters: {'n_rides': 3, 'ride_0': 7, 'ride_1': 5, 'ride_2': 3, 'lamb_x': 0.7471233346832158}. Best is trial 10 with value: 22.0.\n",
      "[I 2024-10-18 21:44:07,217] Trial 20 finished with value: 33.0 and parameters: {'n_rides': 1, 'ride_0': 4, 'lamb_x': 1.0763334305489665}. Best is trial 10 with value: 22.0.\n",
      "[I 2024-10-18 21:44:07,232] Trial 21 finished with value: 22.0 and parameters: {'n_rides': 1, 'ride_0': 7, 'lamb_x': 0.8917618334583867}. Best is trial 10 with value: 22.0.\n",
      "[I 2024-10-18 21:44:07,259] Trial 22 finished with value: 253.0 and parameters: {'n_rides': 5, 'ride_0': 6, 'ride_1': 2, 'ride_2': 1, 'ride_3': 2, 'ride_4': 2, 'lamb_x': 1.306360458022172}. Best is trial 10 with value: 22.0.\n",
      "[I 2024-10-18 21:44:07,281] Trial 23 finished with value: 50.0 and parameters: {'n_rides': 2, 'ride_0': 7, 'ride_1': 5, 'lamb_x': 1.028941297971427}. Best is trial 10 with value: 22.0.\n",
      "[I 2024-10-18 21:44:07,304] Trial 24 finished with value: 102.0 and parameters: {'n_rides': 3, 'ride_0': 6, 'ride_1': 2, 'ride_2': 5, 'lamb_x': 0.7627736080125191}. Best is trial 10 with value: 22.0.\n",
      "[I 2024-10-18 21:44:07,333] Trial 25 finished with value: 107.0 and parameters: {'n_rides': 5, 'ride_0': 7, 'ride_1': 6, 'ride_2': 6, 'ride_3': 6, 'ride_4': 5, 'lamb_x': 1.126353256028318}. Best is trial 10 with value: 22.0.\n",
      "[I 2024-10-18 21:44:07,377] Trial 26 finished with value: 452.0 and parameters: {'n_rides': 9, 'ride_0': 6, 'ride_1': 3, 'ride_2': 1, 'ride_3': 2, 'ride_4': 1, 'ride_5': 2, 'ride_6': 5, 'ride_7': 5, 'ride_8': 0, 'lamb_x': 0.8531289355381984}. Best is trial 10 with value: 22.0.\n",
      "[I 2024-10-18 21:44:07,394] Trial 27 finished with value: 22.0 and parameters: {'n_rides': 1, 'ride_0': 7, 'lamb_x': 0.6504836161333487}. Best is trial 10 with value: 22.0.\n",
      "[I 2024-10-18 21:44:07,427] Trial 28 finished with value: 248.0 and parameters: {'n_rides': 6, 'ride_0': 5, 'ride_1': 1, 'ride_2': 3, 'ride_3': 5, 'ride_4': 4, 'ride_5': 3, 'lamb_x': 1.357287315781901}. Best is trial 10 with value: 22.0.\n",
      "[I 2024-10-18 21:44:07,452] Trial 29 finished with value: 135.0 and parameters: {'n_rides': 3, 'ride_0': 1, 'ride_1': 4, 'ride_2': 4, 'lamb_x': 1.2019174654755542}. Best is trial 10 with value: 22.0.\n",
      "[I 2024-10-18 21:44:07,453] A new study created in memory with name: no-name-38f65b66-c395-48b0-904f-1729f36c57da\n",
      "[I 2024-10-18 21:44:07,457] Trial 0 finished with value: 632.4578121556324 and parameters: {'n_rides': 6, 'ride_0': 7, 'ride_1': 2, 'ride_2': 0, 'ride_3': 2, 'ride_4': 4, 'ride_5': 4}. Best is trial 0 with value: 632.4578121556324.\n",
      "[I 2024-10-18 21:44:07,464] Trial 1 finished with value: 484.434414522928 and parameters: {'n_rides': 10, 'ride_0': 7, 'ride_1': 5, 'ride_2': 5, 'ride_3': 5, 'ride_4': 5, 'ride_5': 7, 'ride_6': 1, 'ride_7': 6, 'ride_8': 3, 'ride_9': 4}. Best is trial 0 with value: 632.4578121556324.\n",
      "[I 2024-10-18 21:44:07,469] Trial 2 finished with value: 582.7982686666369 and parameters: {'n_rides': 8, 'ride_0': 7, 'ride_1': 6, 'ride_2': 0, 'ride_3': 6, 'ride_4': 2, 'ride_5': 0, 'ride_6': 1, 'ride_7': 3}. Best is trial 0 with value: 632.4578121556324.\n",
      "[I 2024-10-18 21:44:07,474] Trial 3 finished with value: 598.0075542234974 and parameters: {'n_rides': 7, 'ride_0': 6, 'ride_1': 2, 'ride_2': 3, 'ride_3': 5, 'ride_4': 5, 'ride_5': 7, 'ride_6': 2}. Best is trial 0 with value: 632.4578121556324.\n",
      "[I 2024-10-18 21:44:07,479] Trial 4 finished with value: 656.0309518562017 and parameters: {'n_rides': 4, 'ride_0': 4, 'ride_1': 5, 'ride_2': 5, 'ride_3': 4}. Best is trial 4 with value: 656.0309518562017.\n",
      "[I 2024-10-18 21:44:07,484] Trial 5 finished with value: 618.1438838203416 and parameters: {'n_rides': 9, 'ride_0': 1, 'ride_1': 2, 'ride_2': 0, 'ride_3': 2, 'ride_4': 2, 'ride_5': 3, 'ride_6': 4, 'ride_7': 0, 'ride_8': 5}. Best is trial 4 with value: 656.0309518562017.\n",
      "[I 2024-10-18 21:44:07,489] Trial 6 finished with value: 567.9239134969744 and parameters: {'n_rides': 9, 'ride_0': 3, 'ride_1': 3, 'ride_2': 0, 'ride_3': 5, 'ride_4': 2, 'ride_5': 6, 'ride_6': 5, 'ride_7': 7, 'ride_8': 3}. Best is trial 4 with value: 656.0309518562017.\n",
      "[I 2024-10-18 21:44:07,494] Trial 7 finished with value: 629.7824252574298 and parameters: {'n_rides': 6, 'ride_0': 4, 'ride_1': 3, 'ride_2': 4, 'ride_3': 1, 'ride_4': 7, 'ride_5': 0}. Best is trial 4 with value: 656.0309518562017.\n",
      "[I 2024-10-18 21:44:07,501] Trial 8 finished with value: 529.4581796367385 and parameters: {'n_rides': 12, 'ride_0': 1, 'ride_1': 1, 'ride_2': 1, 'ride_3': 6, 'ride_4': 6, 'ride_5': 5, 'ride_6': 3, 'ride_7': 2, 'ride_8': 1, 'ride_9': 3, 'ride_10': 0, 'ride_11': 4}. Best is trial 4 with value: 656.0309518562017.\n",
      "[I 2024-10-18 21:44:07,509] Trial 9 finished with value: 501.58382446707606 and parameters: {'n_rides': 19, 'ride_0': 4, 'ride_1': 5, 'ride_2': 3, 'ride_3': 1, 'ride_4': 7, 'ride_5': 7, 'ride_6': 0, 'ride_7': 3, 'ride_8': 4, 'ride_9': 4, 'ride_10': 7, 'ride_11': 0, 'ride_12': 3, 'ride_13': 0, 'ride_14': 2, 'ride_15': 2, 'ride_16': 0, 'ride_17': 2, 'ride_18': 3}. Best is trial 4 with value: 656.0309518562017.\n",
      "[I 2024-10-18 21:44:07,525] Trial 10 finished with value: 658.8843049739569 and parameters: {'n_rides': 2, 'ride_0': 3, 'ride_1': 7}. Best is trial 10 with value: 658.8843049739569.\n",
      "[I 2024-10-18 21:44:07,534] Trial 11 finished with value: 709.2009963711508 and parameters: {'n_rides': 1, 'ride_0': 3}. Best is trial 11 with value: 709.2009963711508.\n",
      "[I 2024-10-18 21:44:07,550] Trial 12 finished with value: 659.1225142873282 and parameters: {'n_rides': 1, 'ride_0': 2}. Best is trial 11 with value: 709.2009963711508.\n",
      "[I 2024-10-18 21:44:07,559] Trial 13 finished with value: 673.6591760078894 and parameters: {'n_rides': 1, 'ride_0': 0}. Best is trial 11 with value: 709.2009963711508.\n",
      "[I 2024-10-18 21:44:07,625] Trial 14 finished with value: 471.12048618763725 and parameters: {'n_rides': 16, 'ride_0': 0, 'ride_1': 0, 'ride_2': 7, 'ride_3': 7, 'ride_4': 0, 'ride_5': 2, 'ride_6': 6, 'ride_7': 5, 'ride_8': 7, 'ride_9': 0, 'ride_10': 3, 'ride_11': 7, 'ride_12': 7, 'ride_13': 7, 'ride_14': 7, 'ride_15': 7}. Best is trial 11 with value: 709.2009963711508.\n",
      "[I 2024-10-18 21:44:07,643] Trial 15 finished with value: 618.3373259679952 and parameters: {'n_rides': 3, 'ride_0': 0, 'ride_1': 0, 'ride_2': 7}. Best is trial 11 with value: 709.2009963711508.\n"
     ]
    },
    {
     "name": "stdout",
     "output_type": "stream",
     "text": [
      "tt_best2: 735\n",
      "735\n",
      "total_time: 345\n",
      "total_popularity: 282\n",
      "total_time: 514\n",
      "total_popularity: 322\n",
      "total_time: 493\n",
      "total_popularity: 397\n",
      "total_time: 349\n",
      "total_popularity: 252\n",
      "total_time: 180\n",
      "total_popularity: 122\n",
      "total_time: 561\n",
      "total_popularity: 508\n",
      "total_time: 483\n",
      "total_popularity: 371\n",
      "total_time: 351\n",
      "total_popularity: 286\n",
      "total_time: 727\n",
      "total_popularity: 604\n",
      "total_time: 717\n",
      "total_popularity: 565\n",
      "total_time: 128\n",
      "total_popularity: 67\n",
      "total_time: 63\n",
      "total_popularity: 45\n",
      "total_time: 117\n",
      "total_popularity: 55\n",
      "total_time: 130\n",
      "total_popularity: 84\n",
      "total_time: 730\n",
      "total_popularity: 549\n",
      "total_time: 275\n",
      "total_popularity: 190\n"
     ]
    },
    {
     "name": "stderr",
     "output_type": "stream",
     "text": [
      "[I 2024-10-18 21:44:07,697] Trial 16 finished with value: 510.8220337804473 and parameters: {'n_rides': 13, 'ride_0': 5, 'ride_1': 7, 'ride_2': 2, 'ride_3': 0, 'ride_4': 0, 'ride_5': 2, 'ride_6': 7, 'ride_7': 0, 'ride_8': 0, 'ride_9': 7, 'ride_10': 7, 'ride_11': 0, 'ride_12': 0}. Best is trial 11 with value: 709.2009963711508.\n",
      "[I 2024-10-18 21:44:07,719] Trial 17 finished with value: 537.4106494091175 and parameters: {'n_rides': 4, 'ride_0': 2, 'ride_1': 6, 'ride_2': 6, 'ride_3': 3}. Best is trial 11 with value: 709.2009963711508.\n",
      "[I 2024-10-18 21:44:07,732] Trial 18 finished with value: 678.6853367024969 and parameters: {'n_rides': 1, 'ride_0': 1}. Best is trial 11 with value: 709.2009963711508.\n",
      "[I 2024-10-18 21:44:07,757] Trial 19 finished with value: 616.8949897404636 and parameters: {'n_rides': 5, 'ride_0': 2, 'ride_1': 4, 'ride_2': 2, 'ride_3': 0, 'ride_4': 3}. Best is trial 11 with value: 709.2009963711508.\n",
      "[I 2024-10-18 21:44:07,814] Trial 20 finished with value: 454.63098721359086 and parameters: {'n_rides': 14, 'ride_0': 1, 'ride_1': 4, 'ride_2': 5, 'ride_3': 7, 'ride_4': 0, 'ride_5': 1, 'ride_6': 7, 'ride_7': 5, 'ride_8': 7, 'ride_9': 0, 'ride_10': 0, 'ride_11': 7, 'ride_12': 7, 'ride_13': 3}. Best is trial 11 with value: 709.2009963711508.\n",
      "[I 2024-10-18 21:44:07,820] Trial 21 finished with value: 673.6591760078894 and parameters: {'n_rides': 1, 'ride_0': 0}. Best is trial 11 with value: 709.2009963711508.\n",
      "[I 2024-10-18 21:44:07,839] Trial 22 finished with value: 678.6853367024969 and parameters: {'n_rides': 1, 'ride_0': 1}. Best is trial 11 with value: 709.2009963711508.\n",
      "[I 2024-10-18 21:44:07,854] Trial 23 finished with value: 605.3634866626027 and parameters: {'n_rides': 3, 'ride_0': 2, 'ride_1': 1, 'ride_2': 4}. Best is trial 11 with value: 709.2009963711508.\n",
      "[I 2024-10-18 21:44:07,869] Trial 24 finished with value: 608.051953908109 and parameters: {'n_rides': 3, 'ride_0': 1, 'ride_1': 6, 'ride_2': 2}. Best is trial 11 with value: 709.2009963711508.\n",
      "[I 2024-10-18 21:44:07,889] Trial 25 finished with value: 709.2009963711508 and parameters: {'n_rides': 1, 'ride_0': 3}. Best is trial 11 with value: 709.2009963711508.\n"
     ]
    },
    {
     "name": "stdout",
     "output_type": "stream",
     "text": [
      "total_time: 706\n",
      "total_popularity: 562\n",
      "total_time: 301\n",
      "total_popularity: 138\n",
      "total_time: 112\n",
      "total_popularity: 69\n",
      "total_time: 350\n",
      "total_popularity: 272\n",
      "total_time: 761\n",
      "total_popularity: 567\n",
      "total_time: 130\n",
      "total_popularity: 84\n",
      "total_time: 112\n",
      "total_popularity: 69\n",
      "total_time: 257\n",
      "total_popularity: 157\n",
      "total_time: 242\n",
      "total_popularity: 143\n",
      "total_time: 63\n",
      "total_popularity: 45\n"
     ]
    },
    {
     "name": "stderr",
     "output_type": "stream",
     "text": [
      "[I 2024-10-18 21:44:07,919] Trial 26 finished with value: 590.38448871451 and parameters: {'n_rides': 5, 'ride_0': 3, 'ride_1': 1, 'ride_2': 6, 'ride_3': 3, 'ride_4': 4}. Best is trial 11 with value: 709.2009963711508.\n",
      "[I 2024-10-18 21:44:07,940] Trial 27 finished with value: 673.8058228901342 and parameters: {'n_rides': 3, 'ride_0': 5, 'ride_1': 3, 'ride_2': 1}. Best is trial 11 with value: 709.2009963711508.\n",
      "[I 2024-10-18 21:44:08,019] Trial 28 finished with value: 537.4843403313461 and parameters: {'n_rides': 20, 'ride_0': 5, 'ride_1': 4, 'ride_2': 6, 'ride_3': 4, 'ride_4': 1, 'ride_5': 4, 'ride_6': 4, 'ride_7': 1, 'ride_8': 1, 'ride_9': 7, 'ride_10': 4, 'ride_11': 3, 'ride_12': 0, 'ride_13': 7, 'ride_14': 0, 'ride_15': 0, 'ride_16': 7, 'ride_17': 7, 'ride_18': 7, 'ride_19': 2}. Best is trial 11 with value: 709.2009963711508.\n",
      "[I 2024-10-18 21:44:08,050] Trial 29 finished with value: 575.1070383592273 and parameters: {'n_rides': 6, 'ride_0': 3, 'ride_1': 7, 'ride_2': 1, 'ride_3': 2, 'ride_4': 6, 'ride_5': 5}. Best is trial 11 with value: 709.2009963711508.\n",
      "[I 2024-10-18 21:44:08,051] A new study created in memory with name: no-name-815fb065-f891-44d5-a1f4-37cf7eae0f04\n",
      "[I 2024-10-18 21:44:08,055] Trial 0 finished with value: 804.4213000935372 and parameters: {'n_rides': 3, 'ride_0': 2, 'ride_1': 0, 'ride_2': 7, 'lamb_x': 1.0777576215972147}. Best is trial 0 with value: 804.4213000935372.\n",
      "[I 2024-10-18 21:44:08,060] Trial 1 finished with value: 980.348140938777 and parameters: {'n_rides': 4, 'ride_0': 2, 'ride_1': 0, 'ride_2': 4, 'ride_3': 5, 'lamb_x': 1.3071158139678005}. Best is trial 0 with value: 804.4213000935372.\n",
      "[I 2024-10-18 21:44:08,066] Trial 2 finished with value: 1577.7268492575904 and parameters: {'n_rides': 10, 'ride_0': 0, 'ride_1': 5, 'ride_2': 1, 'ride_3': 6, 'ride_4': 3, 'ride_5': 1, 'ride_6': 7, 'ride_7': 7, 'ride_8': 6, 'ride_9': 1, 'lamb_x': 1.8956898647530829}. Best is trial 0 with value: 804.4213000935372.\n",
      "[I 2024-10-18 21:44:08,069] Trial 3 finished with value: 917.2789201006008 and parameters: {'n_rides': 11, 'ride_0': 3, 'ride_1': 1, 'ride_2': 2, 'ride_3': 0, 'ride_4': 7, 'ride_5': 7, 'ride_6': 0, 'ride_7': 5, 'ride_8': 6, 'ride_9': 0, 'ride_10': 6, 'lamb_x': 0.6470333670026813}. Best is trial 0 with value: 804.4213000935372.\n",
      "[I 2024-10-18 21:44:08,079] Trial 4 finished with value: 1209.935746015282 and parameters: {'n_rides': 18, 'ride_0': 2, 'ride_1': 7, 'ride_2': 7, 'ride_3': 3, 'ride_4': 7, 'ride_5': 4, 'ride_6': 5, 'ride_7': 2, 'ride_8': 5, 'ride_9': 5, 'ride_10': 3, 'ride_11': 5, 'ride_12': 2, 'ride_13': 3, 'ride_14': 6, 'ride_15': 0, 'ride_16': 4, 'ride_17': 1, 'lamb_x': 1.170746643241678}. Best is trial 0 with value: 804.4213000935372.\n",
      "[I 2024-10-18 21:44:08,084] Trial 5 finished with value: 821.4294989704442 and parameters: {'n_rides': 1, 'ride_0': 3, 'lamb_x': 1.3005519245736084}. Best is trial 0 with value: 804.4213000935372.\n",
      "[I 2024-10-18 21:44:08,084] Trial 6 finished with value: 741.07512809004 and parameters: {'n_rides': 1, 'ride_0': 5, 'lamb_x': 1.194430700318325}. Best is trial 6 with value: 741.07512809004.\n",
      "[I 2024-10-18 21:44:08,094] Trial 7 finished with value: 1527.3439616335938 and parameters: {'n_rides': 15, 'ride_0': 0, 'ride_1': 4, 'ride_2': 5, 'ride_3': 1, 'ride_4': 4, 'ride_5': 1, 'ride_6': 2, 'ride_7': 3, 'ride_8': 2, 'ride_9': 6, 'ride_10': 0, 'ride_11': 3, 'ride_12': 2, 'ride_13': 7, 'ride_14': 4, 'lamb_x': 1.42938687040803}. Best is trial 6 with value: 741.07512809004.\n",
      "[I 2024-10-18 21:44:08,101] Trial 8 finished with value: 1357.4476625360442 and parameters: {'n_rides': 8, 'ride_0': 7, 'ride_1': 6, 'ride_2': 1, 'ride_3': 2, 'ride_4': 6, 'ride_5': 2, 'ride_6': 7, 'ride_7': 4, 'lamb_x': 1.7813193677320671}. Best is trial 6 with value: 741.07512809004.\n",
      "[I 2024-10-18 21:44:08,101] Trial 9 finished with value: 1525.311446981223 and parameters: {'n_rides': 18, 'ride_0': 5, 'ride_1': 0, 'ride_2': 4, 'ride_3': 2, 'ride_4': 0, 'ride_5': 0, 'ride_6': 0, 'ride_7': 1, 'ride_8': 0, 'ride_9': 0, 'ride_10': 7, 'ride_11': 3, 'ride_12': 7, 'ride_13': 7, 'ride_14': 1, 'ride_15': 3, 'ride_16': 0, 'ride_17': 5, 'lamb_x': 1.3640057738378948}. Best is trial 6 with value: 741.07512809004.\n"
     ]
    },
    {
     "name": "stdout",
     "output_type": "stream",
     "text": [
      "total_time: 319\n",
      "total_popularity: 211\n",
      "total_time: 182\n",
      "total_popularity: 142\n",
      "total_time: 709\n",
      "total_popularity: 592\n",
      "total_time: 357\n",
      "total_popularity: 238\n"
     ]
    },
    {
     "name": "stderr",
     "output_type": "stream",
     "text": [
      "[I 2024-10-18 21:44:08,141] Trial 10 finished with value: 762.8959469734262 and parameters: {'n_rides': 6, 'ride_0': 6, 'ride_1': 2, 'ride_2': 0, 'ride_3': 7, 'ride_4': 0, 'ride_5': 7, 'lamb_x': 0.7988206816975314}. Best is trial 6 with value: 741.07512809004.\n",
      "[I 2024-10-18 21:44:08,173] Trial 11 finished with value: 741.2141766504532 and parameters: {'n_rides': 6, 'ride_0': 6, 'ride_1': 2, 'ride_2': 0, 'ride_3': 7, 'ride_4': 0, 'ride_5': 7, 'lamb_x': 0.7625028084597205}. Best is trial 6 with value: 741.07512809004.\n",
      "[I 2024-10-18 21:44:08,189] Trial 12 finished with value: 601.2873421514099 and parameters: {'n_rides': 2, 'ride_0': 5, 'ride_1': 3, 'lamb_x': 0.8849034206891289}. Best is trial 12 with value: 601.2873421514099.\n",
      "[I 2024-10-18 21:44:08,200] Trial 13 finished with value: 607.3973760574761 and parameters: {'n_rides': 1, 'ride_0': 5, 'lamb_x': 0.9705148677679667}. Best is trial 12 with value: 601.2873421514099.\n",
      "[I 2024-10-18 21:44:08,234] Trial 14 finished with value: 710.2074225189834 and parameters: {'n_rides': 4, 'ride_0': 4, 'ride_1': 3, 'ride_2': 6, 'ride_3': 4, 'lamb_x': 0.971871729512535}. Best is trial 12 with value: 601.2873421514099.\n",
      "[I 2024-10-18 21:44:08,289] Trial 15 finished with value: 928.1704821261424 and parameters: {'n_rides': 13, 'ride_0': 5, 'ride_1': 4, 'ride_2': 3, 'ride_3': 0, 'ride_4': 3, 'ride_5': 4, 'ride_6': 3, 'ride_7': 7, 'ride_8': 3, 'ride_9': 3, 'ride_10': 1, 'ride_11': 0, 'ride_12': 6, 'lamb_x': 0.5547244256719301}. Best is trial 12 with value: 601.2873421514099.\n",
      "[I 2024-10-18 21:44:08,304] Trial 16 finished with value: 569.1734292542229 and parameters: {'n_rides': 1, 'ride_0': 7, 'lamb_x': 0.9165384074610099}. Best is trial 16 with value: 569.1734292542229.\n",
      "[I 2024-10-18 21:44:08,337] Trial 17 finished with value: 1154.583783017552 and parameters: {'n_rides': 6, 'ride_0': 7, 'ride_1': 3, 'ride_2': 5, 'ride_3': 4, 'ride_4': 2, 'ride_5': 5, 'lamb_x': 1.5805423501131526}. Best is trial 16 with value: 569.1734292542229.\n",
      "[I 2024-10-18 21:44:08,381] Trial 18 finished with value: 894.1762811628223 and parameters: {'n_rides': 9, 'ride_0': 7, 'ride_1': 5, 'ride_2': 3, 'ride_3': 5, 'ride_4': 5, 'ride_5': 5, 'ride_6': 5, 'ride_7': 0, 'ride_8': 0, 'lamb_x': 0.8696420119980273}. Best is trial 16 with value: 569.1734292542229.\n",
      "[I 2024-10-18 21:44:08,400] Trial 19 finished with value: 439.98618457440983 and parameters: {'n_rides': 3, 'ride_0': 6, 'ride_1': 2, 'ride_2': 2, 'lamb_x': 0.5209148820341873}. Best is trial 19 with value: 439.98618457440983.\n",
      "[I 2024-10-18 21:44:08,441] Trial 20 finished with value: 704.2815070193633 and parameters: {'n_rides': 7, 'ride_0': 6, 'ride_1': 2, 'ride_2': 2, 'ride_3': 2, 'ride_4': 2, 'ride_5': 3, 'ride_6': 2, 'lamb_x': 0.6118618208029536}. Best is trial 19 with value: 439.98618457440983.\n",
      "[I 2024-10-18 21:44:08,464] Trial 21 finished with value: 443.1212363285171 and parameters: {'n_rides': 3, 'ride_0': 6, 'ride_1': 1, 'ride_2': 2, 'lamb_x': 0.5027156387412347}. Best is trial 19 with value: 439.98618457440983.\n",
      "[I 2024-10-18 21:44:08,489] Trial 22 finished with value: 463.39871444062317 and parameters: {'n_rides': 4, 'ride_0': 6, 'ride_1': 1, 'ride_2': 2, 'ride_3': 6, 'lamb_x': 0.5048554680747457}. Best is trial 19 with value: 439.98618457440983.\n",
      "[I 2024-10-18 21:44:08,520] Trial 23 finished with value: 469.64415055568344 and parameters: {'n_rides': 4, 'ride_0': 6, 'ride_1': 1, 'ride_2': 2, 'ride_3': 6, 'lamb_x': 0.5153168351016473}. Best is trial 19 with value: 439.98618457440983.\n",
      "[I 2024-10-18 21:44:08,552] Trial 24 finished with value: 652.1615052073821 and parameters: {'n_rides': 5, 'ride_0': 4, 'ride_1': 1, 'ride_2': 1, 'ride_3': 5, 'ride_4': 5, 'lamb_x': 0.7121633253054978}. Best is trial 19 with value: 439.98618457440983.\n",
      "[I 2024-10-18 21:44:08,575] Trial 25 finished with value: 446.3525883464898 and parameters: {'n_rides': 3, 'ride_0': 6, 'ride_1': 1, 'ride_2': 2, 'lamb_x': 0.5081282886875876}. Best is trial 19 with value: 439.98618457440983.\n",
      "[I 2024-10-18 21:44:08,599] Trial 26 finished with value: 553.747289602858 and parameters: {'n_rides': 3, 'ride_0': 4, 'ride_1': 2, 'ride_2': 3, 'lamb_x': 0.7047693293180202}. Best is trial 19 with value: 439.98618457440983.\n",
      "[I 2024-10-18 21:44:08,639] Trial 27 finished with value: 807.5261245933455 and parameters: {'n_rides': 8, 'ride_0': 6, 'ride_1': 1, 'ride_2': 1, 'ride_3': 3, 'ride_4': 1, 'ride_5': 0, 'ride_6': 5, 'ride_7': 5, 'lamb_x': 0.6641978636404448}. Best is trial 19 with value: 439.98618457440983.\n",
      "[I 2024-10-18 21:44:08,699] Trial 28 finished with value: 884.823486122254 and parameters: {'n_rides': 13, 'ride_0': 7, 'ride_1': 2, 'ride_2': 2, 'ride_3': 1, 'ride_4': 5, 'ride_5': 6, 'ride_6': 1, 'ride_7': 0, 'ride_8': 4, 'ride_9': 7, 'ride_10': 4, 'ride_11': 7, 'ride_12': 0, 'lamb_x': 0.6261699935046132}. Best is trial 19 with value: 439.98618457440983.\n",
      "[I 2024-10-18 21:44:08,779] Trial 29 finished with value: 1258.4232285090593 and parameters: {'n_rides': 20, 'ride_0': 1, 'ride_1': 0, 'ride_2': 3, 'ride_3': 0, 'ride_4': 4, 'ride_5': 3, 'ride_6': 4, 'ride_7': 6, 'ride_8': 7, 'ride_9': 3, 'ride_10': 3, 'ride_11': 0, 'ride_12': 5, 'ride_13': 0, 'ride_14': 0, 'ride_15': 7, 'ride_16': 7, 'ride_17': 7, 'ride_18': 5, 'ride_19': 5, 'lamb_x': 1.042584972376984}. Best is trial 19 with value: 439.98618457440983.\n",
      "[I 2024-10-18 21:44:08,779] A new study created in memory with name: no-name-2d0e5040-aefe-4934-a14f-60c50c3ce4ea\n",
      "[I 2024-10-18 21:44:08,785] Trial 0 finished with value: 357.0090566252645 and parameters: {'n_rides': 1, 'ride_0': 4}. Best is trial 0 with value: 357.0090566252645.\n",
      "[I 2024-10-18 21:44:08,789] Trial 1 finished with value: 551.0379154264274 and parameters: {'n_rides': 20, 'ride_0': 6, 'ride_1': 0, 'ride_2': 4, 'ride_3': 1, 'ride_4': 6, 'ride_5': 0, 'ride_6': 6, 'ride_7': 7, 'ride_8': 3, 'ride_9': 0, 'ride_10': 1, 'ride_11': 5, 'ride_12': 0, 'ride_13': 3, 'ride_14': 7, 'ride_15': 1, 'ride_16': 3, 'ride_17': 6, 'ride_18': 2, 'ride_19': 7}. Best is trial 1 with value: 551.0379154264274.\n",
      "[I 2024-10-18 21:44:08,800] Trial 2 finished with value: 562.7261493647351 and parameters: {'n_rides': 15, 'ride_0': 5, 'ride_1': 3, 'ride_2': 1, 'ride_3': 6, 'ride_4': 2, 'ride_5': 6, 'ride_6': 4, 'ride_7': 3, 'ride_8': 0, 'ride_9': 3, 'ride_10': 3, 'ride_11': 7, 'ride_12': 3, 'ride_13': 1, 'ride_14': 5}. Best is trial 2 with value: 562.7261493647351.\n",
      "[I 2024-10-18 21:44:08,801] Trial 3 finished with value: 574.4751707803248 and parameters: {'n_rides': 14, 'ride_0': 1, 'ride_1': 1, 'ride_2': 7, 'ride_3': 6, 'ride_4': 0, 'ride_5': 0, 'ride_6': 3, 'ride_7': 2, 'ride_8': 1, 'ride_9': 0, 'ride_10': 6, 'ride_11': 0, 'ride_12': 5, 'ride_13': 5}. Best is trial 3 with value: 574.4751707803248.\n",
      "[I 2024-10-18 21:44:08,814] Trial 4 finished with value: 504.20523448270086 and parameters: {'n_rides': 13, 'ride_0': 6, 'ride_1': 6, 'ride_2': 5, 'ride_3': 2, 'ride_4': 7, 'ride_5': 4, 'ride_6': 4, 'ride_7': 0, 'ride_8': 6, 'ride_9': 6, 'ride_10': 1, 'ride_11': 1, 'ride_12': 2}. Best is trial 3 with value: 574.4751707803248.\n",
      "[I 2024-10-18 21:44:08,819] Trial 5 finished with value: 466.3496814881197 and parameters: {'n_rides': 13, 'ride_0': 3, 'ride_1': 3, 'ride_2': 7, 'ride_3': 6, 'ride_4': 6, 'ride_5': 7, 'ride_6': 1, 'ride_7': 3, 'ride_8': 7, 'ride_9': 0, 'ride_10': 0, 'ride_11': 6, 'ride_12': 2}. Best is trial 3 with value: 574.4751707803248.\n",
      "[I 2024-10-18 21:44:08,819] Trial 6 finished with value: 688.3078517240514 and parameters: {'n_rides': 18, 'ride_0': 1, 'ride_1': 4, 'ride_2': 3, 'ride_3': 0, 'ride_4': 0, 'ride_5': 1, 'ride_6': 7, 'ride_7': 2, 'ride_8': 2, 'ride_9': 0, 'ride_10': 3, 'ride_11': 5, 'ride_12': 3, 'ride_13': 4, 'ride_14': 4, 'ride_15': 3, 'ride_16': 5, 'ride_17': 0}. Best is trial 6 with value: 688.3078517240514.\n",
      "[I 2024-10-18 21:44:08,832] Trial 7 finished with value: 431.36203847603394 and parameters: {'n_rides': 5, 'ride_0': 0, 'ride_1': 4, 'ride_2': 5, 'ride_3': 6, 'ride_4': 0}. Best is trial 6 with value: 688.3078517240514.\n",
      "[I 2024-10-18 21:44:08,840] Trial 8 finished with value: 423.8639956448544 and parameters: {'n_rides': 6, 'ride_0': 6, 'ride_1': 6, 'ride_2': 5, 'ride_3': 4, 'ride_4': 0, 'ride_5': 3}. Best is trial 6 with value: 688.3078517240514.\n",
      "[I 2024-10-18 21:44:08,844] Trial 9 finished with value: 510.22419219591455 and parameters: {'n_rides': 20, 'ride_0': 4, 'ride_1': 7, 'ride_2': 7, 'ride_3': 2, 'ride_4': 2, 'ride_5': 7, 'ride_6': 2, 'ride_7': 2, 'ride_8': 6, 'ride_9': 1, 'ride_10': 6, 'ride_11': 4, 'ride_12': 1, 'ride_13': 5, 'ride_14': 2, 'ride_15': 5, 'ride_16': 0, 'ride_17': 6, 'ride_18': 4, 'ride_19': 7}. Best is trial 6 with value: 688.3078517240514.\n",
      "[I 2024-10-18 21:44:08,919] Trial 10 finished with value: 517.3875969145471 and parameters: {'n_rides': 17, 'ride_0': 2, 'ride_1': 4, 'ride_2': 1, 'ride_3': 0, 'ride_4': 4, 'ride_5': 2, 'ride_6': 7, 'ride_7': 6, 'ride_8': 3, 'ride_9': 3, 'ride_10': 4, 'ride_11': 2, 'ride_12': 7, 'ride_13': 7, 'ride_14': 0, 'ride_15': 2, 'ride_16': 7}. Best is trial 6 with value: 688.3078517240514.\n",
      "[I 2024-10-18 21:44:08,964] Trial 11 finished with value: 620.7451070779488 and parameters: {'n_rides': 10, 'ride_0': 0, 'ride_1': 0, 'ride_2': 3, 'ride_3': 4, 'ride_4': 1, 'ride_5': 0, 'ride_6': 3, 'ride_7': 1, 'ride_8': 0, 'ride_9': 2}. Best is trial 6 with value: 688.3078517240514.\n"
     ]
    },
    {
     "name": "stdout",
     "output_type": "stream",
     "text": [
      "tt_best2: 63\n",
      "63\n",
      "total_time: 38\n",
      "total_popularity: 33\n",
      "total_time: 706\n",
      "total_popularity: 575\n",
      "total_time: 697\n",
      "total_popularity: 582\n",
      "total_time: 709\n",
      "total_popularity: 600\n",
      "total_time: 698\n",
      "total_popularity: 524\n",
      "total_time: 715\n",
      "total_popularity: 495\n",
      "total_time: 717\n",
      "total_popularity: 718\n",
      "total_time: 308\n",
      "total_popularity: 248\n",
      "total_time: 284\n",
      "total_popularity: 228\n",
      "total_time: 721\n",
      "total_popularity: 542\n",
      "total_time: 761\n",
      "total_popularity: 570\n",
      "total_time: 720\n",
      "total_popularity: 652\n"
     ]
    },
    {
     "name": "stderr",
     "output_type": "stream",
     "text": [
      "[I 2024-10-18 21:44:09,003] Trial 12 finished with value: 534.3653388386837 and parameters: {'n_rides': 8, 'ride_0': 0, 'ride_1': 2, 'ride_2': 2, 'ride_3': 4, 'ride_4': 2, 'ride_5': 1, 'ride_6': 5, 'ride_7': 0}. Best is trial 6 with value: 688.3078517240514.\n",
      "[I 2024-10-18 21:44:09,049] Trial 13 finished with value: 602.391511252188 and parameters: {'n_rides': 10, 'ride_0': 2, 'ride_1': 0, 'ride_2': 3, 'ride_3': 3, 'ride_4': 1, 'ride_5': 2, 'ride_6': 0, 'ride_7': 1, 'ride_8': 1, 'ride_9': 2}. Best is trial 6 with value: 688.3078517240514.\n",
      "[I 2024-10-18 21:44:09,096] Trial 14 finished with value: 541.2548929220512 and parameters: {'n_rides': 10, 'ride_0': 1, 'ride_1': 5, 'ride_2': 3, 'ride_3': 0, 'ride_4': 4, 'ride_5': 0, 'ride_6': 7, 'ride_7': 5, 'ride_8': 0, 'ride_9': 4}. Best is trial 6 with value: 688.3078517240514.\n",
      "[I 2024-10-18 21:44:09,164] Trial 15 finished with value: 666.391511252188 and parameters: {'n_rides': 17, 'ride_0': 1, 'ride_1': 2, 'ride_2': 0, 'ride_3': 3, 'ride_4': 1, 'ride_5': 4, 'ride_6': 3, 'ride_7': 4, 'ride_8': 2, 'ride_9': 2, 'ride_10': 3, 'ride_11': 3, 'ride_12': 5, 'ride_13': 0, 'ride_14': 4, 'ride_15': 7, 'ride_16': 6}. Best is trial 6 with value: 688.3078517240514.\n"
     ]
    },
    {
     "name": "stdout",
     "output_type": "stream",
     "text": [
      "total_time: 523\n",
      "total_popularity: 463\n",
      "total_time: 713\n",
      "total_popularity: 630\n",
      "total_time: 600\n",
      "total_popularity: 510\n",
      "total_time: 713\n",
      "total_popularity: 694\n"
     ]
    },
    {
     "name": "stderr",
     "output_type": "stream",
     "text": [
      "[I 2024-10-18 21:44:09,244] Trial 16 finished with value: 594.2013201450599 and parameters: {'n_rides': 18, 'ride_0': 2, 'ride_1': 2, 'ride_2': 0, 'ride_3': 2, 'ride_4': 3, 'ride_5': 5, 'ride_6': 5, 'ride_7': 4, 'ride_8': 2, 'ride_9': 5, 'ride_10': 3, 'ride_11': 3, 'ride_12': 5, 'ride_13': 0, 'ride_14': 4, 'ride_15': 7, 'ride_16': 6, 'ride_17': 0}. Best is trial 6 with value: 688.3078517240514.\n",
      "[I 2024-10-18 21:44:09,319] Trial 17 finished with value: 616.7032773138803 and parameters: {'n_rides': 17, 'ride_0': 1, 'ride_1': 2, 'ride_2': 0, 'ride_3': 1, 'ride_4': 1, 'ride_5': 4, 'ride_6': 1, 'ride_7': 4, 'ride_8': 4, 'ride_9': 1, 'ride_10': 4, 'ride_11': 4, 'ride_12': 5, 'ride_13': 2, 'ride_14': 3, 'ride_15': 4, 'ride_16': 5}. Best is trial 6 with value: 688.3078517240514.\n",
      "[I 2024-10-18 21:44:09,385] Trial 18 finished with value: 563.5170005443932 and parameters: {'n_rides': 15, 'ride_0': 3, 'ride_1': 4, 'ride_2': 1, 'ride_3': 7, 'ride_4': 3, 'ride_5': 3, 'ride_6': 5, 'ride_7': 5, 'ride_8': 4, 'ride_9': 2, 'ride_10': 2, 'ride_11': 3, 'ride_12': 4, 'ride_13': 4, 'ride_14': 6}. Best is trial 6 with value: 688.3078517240514.\n"
     ]
    },
    {
     "name": "stdout",
     "output_type": "stream",
     "text": [
      "total_time: 746\n",
      "total_popularity: 639\n",
      "total_time: 722\n",
      "total_popularity: 649\n",
      "total_time: 707\n",
      "total_popularity: 588\n"
     ]
    },
    {
     "name": "stderr",
     "output_type": "stream",
     "text": [
      "[I 2024-10-18 21:44:09,460] Trial 19 finished with value: 561.722235027094 and parameters: {'n_rides': 18, 'ride_0': 1, 'ride_1': 5, 'ride_2': 2, 'ride_3': 3, 'ride_4': 1, 'ride_5': 5, 'ride_6': 2, 'ride_7': 2, 'ride_8': 2, 'ride_9': 1, 'ride_10': 5, 'ride_11': 5, 'ride_12': 7, 'ride_13': 0, 'ride_14': 2, 'ride_15': 7, 'ride_16': 4, 'ride_17': 0}. Best is trial 6 with value: 688.3078517240514.\n",
      "[I 2024-10-18 21:44:09,515] Trial 20 finished with value: 549.391511252188 and parameters: {'n_rides': 12, 'ride_0': 7, 'ride_1': 1, 'ride_2': 4, 'ride_3': 1, 'ride_4': 0, 'ride_5': 2, 'ride_6': 6, 'ride_7': 5, 'ride_8': 2, 'ride_9': 4, 'ride_10': 2, 'ride_11': 2}. Best is trial 6 with value: 688.3078517240514.\n",
      "[I 2024-10-18 21:44:09,558] Trial 21 finished with value: 550.5097858441025 and parameters: {'n_rides': 8, 'ride_0': 0, 'ride_1': 1, 'ride_2': 2, 'ride_3': 5, 'ride_4': 1, 'ride_5': 1, 'ride_6': 3, 'ride_7': 1}. Best is trial 6 with value: 688.3078517240514.\n",
      "[I 2024-10-18 21:44:09,629] Trial 22 finished with value: 663.1405326677778 and parameters: {'n_rides': 16, 'ride_0': 0, 'ride_1': 3, 'ride_2': 3, 'ride_3': 4, 'ride_4': 2, 'ride_5': 1, 'ride_6': 3, 'ride_7': 1, 'ride_8': 1, 'ride_9': 2, 'ride_10': 7, 'ride_11': 5, 'ride_12': 4, 'ride_13': 3, 'ride_14': 4, 'ride_15': 3}. Best is trial 6 with value: 688.3078517240514.\n"
     ]
    },
    {
     "name": "stdout",
     "output_type": "stream",
     "text": [
      "total_time: 745\n",
      "total_popularity: 606\n",
      "total_time: 713\n",
      "total_popularity: 577\n",
      "total_time: 540\n",
      "total_popularity: 488\n",
      "total_time: 725\n",
      "total_popularity: 697\n"
     ]
    },
    {
     "name": "stderr",
     "output_type": "stream",
     "text": [
      "[I 2024-10-18 21:44:09,704] Trial 23 finished with value: 518.4333410162565 and parameters: {'n_rides': 16, 'ride_0': 2, 'ride_1': 3, 'ride_2': 6, 'ride_3': 5, 'ride_4': 2, 'ride_5': 1, 'ride_6': 2, 'ride_7': 3, 'ride_8': 1, 'ride_9': 7, 'ride_10': 7, 'ride_11': 5, 'ride_12': 4, 'ride_13': 3, 'ride_14': 4, 'ride_15': 3}. Best is trial 6 with value: 688.3078517240514.\n",
      "[I 2024-10-18 21:44:09,789] Trial 24 finished with value: 554.3496814881197 and parameters: {'n_rides': 19, 'ride_0': 1, 'ride_1': 5, 'ride_2': 4, 'ride_3': 3, 'ride_4': 3, 'ride_5': 3, 'ride_6': 4, 'ride_7': 2, 'ride_8': 2, 'ride_9': 2, 'ride_10': 5, 'ride_11': 6, 'ride_12': 3, 'ride_13': 5, 'ride_14': 5, 'ride_15': 4, 'ride_16': 3, 'ride_17': 2, 'ride_18': 7}. Best is trial 6 with value: 688.3078517240514.\n",
      "[I 2024-10-18 21:44:09,862] Trial 25 finished with value: 631.9124261342223 and parameters: {'n_rides': 16, 'ride_0': 0, 'ride_1': 2, 'ride_2': 2, 'ride_3': 5, 'ride_4': 0, 'ride_5': 5, 'ride_6': 3, 'ride_7': 1, 'ride_8': 3, 'ride_9': 1, 'ride_10': 3, 'ride_11': 4, 'ride_12': 6, 'ride_13': 2, 'ride_14': 3, 'ride_15': 2}. Best is trial 6 with value: 688.3078517240514.\n"
     ]
    },
    {
     "name": "stdout",
     "output_type": "stream",
     "text": [
      "total_time: 711\n",
      "total_popularity: 545\n",
      "total_time: 715\n",
      "total_popularity: 583\n",
      "total_time: 712\n",
      "total_popularity: 659\n"
     ]
    },
    {
     "name": "stderr",
     "output_type": "stream",
     "text": [
      "[I 2024-10-18 21:44:09,946] Trial 26 finished with value: 661.9503415606497 and parameters: {'n_rides': 18, 'ride_0': 3, 'ride_1': 3, 'ride_2': 0, 'ride_3': 0, 'ride_4': 2, 'ride_5': 2, 'ride_6': 1, 'ride_7': 4, 'ride_8': 1, 'ride_9': 3, 'ride_10': 2, 'ride_11': 6, 'ride_12': 4, 'ride_13': 7, 'ride_14': 5, 'ride_15': 5, 'ride_16': 7, 'ride_17': 3}. Best is trial 6 with value: 688.3078517240514.\n",
      "[I 2024-10-18 21:44:10,004] Trial 27 finished with value: 584.7869368420171 and parameters: {'n_rides': 12, 'ride_0': 1, 'ride_1': 4, 'ride_2': 3, 'ride_3': 2, 'ride_4': 1, 'ride_5': 1, 'ride_6': 6, 'ride_7': 0, 'ride_8': 4, 'ride_9': 0, 'ride_10': 4, 'ride_11': 7}. Best is trial 6 with value: 688.3078517240514.\n",
      "[I 2024-10-18 21:44:10,093] Trial 28 finished with value: 586.8287666060855 and parameters: {'n_rides': 20, 'ride_0': 2, 'ride_1': 3, 'ride_2': 1, 'ride_3': 3, 'ride_4': 4, 'ride_5': 4, 'ride_6': 2, 'ride_7': 3, 'ride_8': 2, 'ride_9': 1, 'ride_10': 7, 'ride_11': 3, 'ride_12': 3, 'ride_13': 2, 'ride_14': 4, 'ride_15': 3, 'ride_16': 5, 'ride_17': 2, 'ride_18': 0, 'ride_19': 0}. Best is trial 6 with value: 688.3078517240514.\n",
      "[I 2024-10-18 21:44:10,114] Trial 29 finished with value: 355.9476551729912 and parameters: {'n_rides': 3, 'ride_0': 0, 'ride_1': 2, 'ride_2': 6}. Best is trial 6 with value: 688.3078517240514.\n",
      "[I 2024-10-18 21:44:10,114] A new study created in memory with name: no-name-c850f6f0-81c4-41dd-ba2d-a46ff873bfd9\n",
      "[I 2024-10-18 21:44:10,119] Trial 0 finished with value: 88.0 and parameters: {'n_rides': 2, 'ride_0': 6, 'ride_1': 1, 'lamb_x': 0.5651410314972376}. Best is trial 0 with value: 88.0.\n",
      "[I 2024-10-18 21:44:10,124] Trial 1 finished with value: 19.0 and parameters: {'n_rides': 1, 'ride_0': 6, 'lamb_x': 0.7656545818488023}. Best is trial 1 with value: 19.0.\n",
      "[I 2024-10-18 21:44:10,130] Trial 2 finished with value: 534.0 and parameters: {'n_rides': 15, 'ride_0': 1, 'ride_1': 6, 'ride_2': 4, 'ride_3': 7, 'ride_4': 5, 'ride_5': 1, 'ride_6': 3, 'ride_7': 1, 'ride_8': 1, 'ride_9': 5, 'ride_10': 5, 'ride_11': 2, 'ride_12': 0, 'ride_13': 5, 'ride_14': 5, 'lamb_x': 1.319700579380514}. Best is trial 1 with value: 19.0.\n"
     ]
    },
    {
     "name": "stdout",
     "output_type": "stream",
     "text": [
      "total_time: 758\n",
      "total_popularity: 713\n",
      "total_time: 718\n",
      "total_popularity: 615\n",
      "total_time: 716\n",
      "total_popularity: 616\n",
      "total_time: 280\n",
      "total_popularity: 158\n"
     ]
    },
    {
     "name": "stderr",
     "output_type": "stream",
     "text": [
      "[I 2024-10-18 21:44:10,133] Trial 3 finished with value: 284.0 and parameters: {'n_rides': 6, 'ride_0': 6, 'ride_1': 4, 'ride_2': 0, 'ride_3': 3, 'ride_4': 6, 'ride_5': 0, 'lamb_x': 0.8440887531007625}. Best is trial 1 with value: 19.0.\n",
      "[I 2024-10-18 21:44:10,139] Trial 4 finished with value: 527.0 and parameters: {'n_rides': 12, 'ride_0': 2, 'ride_1': 7, 'ride_2': 5, 'ride_3': 0, 'ride_4': 5, 'ride_5': 7, 'ride_6': 6, 'ride_7': 3, 'ride_8': 1, 'ride_9': 2, 'ride_10': 2, 'ride_11': 3, 'lamb_x': 0.6137816152347066}. Best is trial 1 with value: 19.0.\n",
      "[I 2024-10-18 21:44:10,147] Trial 5 finished with value: 207.0 and parameters: {'n_rides': 4, 'ride_0': 2, 'ride_1': 1, 'ride_2': 2, 'ride_3': 5, 'lamb_x': 1.929843166632626}. Best is trial 1 with value: 19.0.\n",
      "[I 2024-10-18 21:44:10,150] Trial 6 finished with value: 536.0 and parameters: {'n_rides': 16, 'ride_0': 1, 'ride_1': 0, 'ride_2': 1, 'ride_3': 4, 'ride_4': 4, 'ride_5': 4, 'ride_6': 2, 'ride_7': 6, 'ride_8': 6, 'ride_9': 7, 'ride_10': 4, 'ride_11': 3, 'ride_12': 0, 'ride_13': 7, 'ride_14': 3, 'ride_15': 1, 'lamb_x': 1.5521227600271699}. Best is trial 1 with value: 19.0.\n",
      "[I 2024-10-18 21:44:10,150] Trial 7 finished with value: 64.0 and parameters: {'n_rides': 2, 'ride_0': 6, 'ride_1': 3, 'lamb_x': 0.7917759453677107}. Best is trial 1 with value: 19.0.\n",
      "[I 2024-10-18 21:44:10,163] Trial 8 finished with value: 269.0 and parameters: {'n_rides': 5, 'ride_0': 1, 'ride_1': 1, 'ride_2': 5, 'ride_3': 0, 'ride_4': 6, 'lamb_x': 0.8413208854722196}. Best is trial 1 with value: 19.0.\n",
      "[I 2024-10-18 21:44:10,169] Trial 9 finished with value: 523.0 and parameters: {'n_rides': 13, 'ride_0': 3, 'ride_1': 7, 'ride_2': 4, 'ride_3': 6, 'ride_4': 2, 'ride_5': 3, 'ride_6': 6, 'ride_7': 0, 'ride_8': 3, 'ride_9': 4, 'ride_10': 4, 'ride_11': 3, 'ride_12': 3, 'lamb_x': 1.9892987591074653}. Best is trial 1 with value: 19.0.\n",
      "[I 2024-10-18 21:44:10,208] Trial 10 finished with value: 355.0 and parameters: {'n_rides': 8, 'ride_0': 4, 'ride_1': 4, 'ride_2': 7, 'ride_3': 2, 'ride_4': 0, 'ride_5': 7, 'ride_6': 0, 'ride_7': 7, 'lamb_x': 1.1367554119500194}. Best is trial 1 with value: 19.0.\n",
      "[I 2024-10-18 21:44:10,223] Trial 11 finished with value: 22.0 and parameters: {'n_rides': 1, 'ride_0': 7, 'lamb_x': 0.9660754530056149}. Best is trial 1 with value: 19.0.\n",
      "[I 2024-10-18 21:44:10,237] Trial 12 finished with value: 22.0 and parameters: {'n_rides': 1, 'ride_0': 7, 'lamb_x': 1.1013204307499427}. Best is trial 1 with value: 19.0.\n",
      "[I 2024-10-18 21:44:10,314] Trial 13 finished with value: 510.0 and parameters: {'n_rides': 19, 'ride_0': 5, 'ride_1': 5, 'ride_2': 7, 'ride_3': 2, 'ride_4': 2, 'ride_5': 4, 'ride_6': 7, 'ride_7': 4, 'ride_8': 7, 'ride_9': 0, 'ride_10': 0, 'ride_11': 7, 'ride_12': 7, 'ride_13': 0, 'ride_14': 0, 'ride_15': 7, 'ride_16': 1, 'ride_17': 4, 'ride_18': 0, 'lamb_x': 0.9827424657097311}. Best is trial 1 with value: 19.0.\n",
      "[I 2024-10-18 21:44:10,358] Trial 14 finished with value: 445.0 and parameters: {'n_rides': 9, 'ride_0': 7, 'ride_1': 3, 'ride_2': 2, 'ride_3': 7, 'ride_4': 0, 'ride_5': 2, 'ride_6': 0, 'ride_7': 3, 'ride_8': 4, 'lamb_x': 1.3384717186358088}. Best is trial 1 with value: 19.0.\n",
      "[I 2024-10-18 21:44:10,395] Trial 15 finished with value: 319.0 and parameters: {'n_rides': 7, 'ride_0': 5, 'ride_1': 2, 'ride_2': 0, 'ride_3': 1, 'ride_4': 7, 'ride_5': 5, 'ride_6': 4, 'lamb_x': 0.5006174708731564}. Best is trial 1 with value: 19.0.\n",
      "[I 2024-10-18 21:44:10,419] Trial 16 finished with value: 102.0 and parameters: {'n_rides': 4, 'ride_0': 7, 'ride_1': 5, 'ride_2': 6, 'ride_3': 4, 'lamb_x': 1.5157188988274395}. Best is trial 1 with value: 19.0.\n",
      "[I 2024-10-18 21:44:10,433] Trial 17 finished with value: 28.0 and parameters: {'n_rides': 1, 'ride_0': 5, 'lamb_x': 0.7377893164589293}. Best is trial 1 with value: 19.0.\n",
      "[I 2024-10-18 21:44:10,482] Trial 18 finished with value: 493.0 and parameters: {'n_rides': 10, 'ride_0': 4, 'ride_1': 0, 'ride_2': 3, 'ride_3': 5, 'ride_4': 2, 'ride_5': 6, 'ride_6': 4, 'ride_7': 5, 'ride_8': 0, 'ride_9': 0, 'lamb_x': 0.9920738720747927}. Best is trial 1 with value: 19.0.\n",
      "[I 2024-10-18 21:44:10,499] Trial 19 finished with value: 93.0 and parameters: {'n_rides': 3, 'ride_0': 6, 'ride_1': 6, 'ride_2': 2, 'lamb_x': 0.9946262235156913}. Best is trial 1 with value: 19.0.\n",
      "[I 2024-10-18 21:44:10,579] Trial 20 finished with value: 503.0 and parameters: {'n_rides': 20, 'ride_0': 7, 'ride_1': 2, 'ride_2': 6, 'ride_3': 2, 'ride_4': 3, 'ride_5': 0, 'ride_6': 2, 'ride_7': 1, 'ride_8': 4, 'ride_9': 7, 'ride_10': 7, 'ride_11': 0, 'ride_12': 7, 'ride_13': 0, 'ride_14': 7, 'ride_15': 6, 'ride_16': 7, 'ride_17': 0, 'ride_18': 7, 'ride_19': 3, 'lamb_x': 0.6744921125923278}. Best is trial 1 with value: 19.0.\n",
      "[I 2024-10-18 21:44:10,602] Trial 21 finished with value: 22.0 and parameters: {'n_rides': 1, 'ride_0': 7, 'lamb_x': 1.1483188333652299}. Best is trial 1 with value: 19.0.\n",
      "[I 2024-10-18 21:44:10,616] Trial 22 finished with value: 22.0 and parameters: {'n_rides': 1, 'ride_0': 7, 'lamb_x': 1.1639883710904368}. Best is trial 1 with value: 19.0.\n",
      "[I 2024-10-18 21:44:10,647] Trial 23 finished with value: 180.0 and parameters: {'n_rides': 5, 'ride_0': 6, 'ride_1': 5, 'ride_2': 3, 'ride_3': 6, 'ride_4': 1, 'lamb_x': 0.9192890768726951}. Best is trial 1 with value: 19.0.\n",
      "[I 2024-10-18 21:44:10,670] Trial 24 finished with value: 152.0 and parameters: {'n_rides': 3, 'ride_0': 5, 'ride_1': 2, 'ride_2': 1, 'lamb_x': 1.117459217834052}. Best is trial 1 with value: 19.0.\n",
      "[I 2024-10-18 21:44:10,705] Trial 25 finished with value: 191.0 and parameters: {'n_rides': 6, 'ride_0': 7, 'ride_1': 6, 'ride_2': 5, 'ride_3': 3, 'ride_4': 7, 'ride_5': 2, 'lamb_x': 1.4457271843294401}. Best is trial 1 with value: 19.0.\n",
      "[I 2024-10-18 21:44:10,728] Trial 26 finished with value: 148.0 and parameters: {'n_rides': 3, 'ride_0': 0, 'ride_1': 3, 'ride_2': 6, 'lamb_x': 0.7098705840848509}. Best is trial 1 with value: 19.0.\n",
      "[I 2024-10-18 21:44:10,744] Trial 27 finished with value: 19.0 and parameters: {'n_rides': 1, 'ride_0': 6, 'lamb_x': 1.7880748392182775}. Best is trial 1 with value: 19.0.\n",
      "[I 2024-10-18 21:44:10,770] Trial 28 finished with value: 204.0 and parameters: {'n_rides': 4, 'ride_0': 4, 'ride_1': 4, 'ride_2': 1, 'ride_3': 1, 'lamb_x': 1.7333806875448619}. Best is trial 1 with value: 19.0.\n",
      "[I 2024-10-18 21:44:10,790] Trial 29 finished with value: 103.0 and parameters: {'n_rides': 2, 'ride_0': 6, 'ride_1': 0, 'lamb_x': 1.7691830558308852}. Best is trial 1 with value: 19.0.\n",
      "[I 2024-10-18 21:44:10,790] A new study created in memory with name: no-name-985e6c97-0c37-41d1-83d0-c27095af0dca\n",
      "[I 2024-10-18 21:44:10,798] Trial 0 finished with value: 463.7798892349551 and parameters: {'n_rides': 18, 'ride_0': 0, 'ride_1': 5, 'ride_2': 7, 'ride_3': 4, 'ride_4': 0, 'ride_5': 5, 'ride_6': 5, 'ride_7': 4, 'ride_8': 4, 'ride_9': 6, 'ride_10': 4, 'ride_11': 2, 'ride_12': 6, 'ride_13': 2, 'ride_14': 6, 'ride_15': 7, 'ride_16': 5, 'ride_17': 7}. Best is trial 0 with value: 463.7798892349551.\n",
      "[I 2024-10-18 21:44:10,800] Trial 1 finished with value: 508.83773910086074 and parameters: {'n_rides': 5, 'ride_0': 0, 'ride_1': 4, 'ride_2': 6, 'ride_3': 2, 'ride_4': 1}. Best is trial 1 with value: 508.83773910086074.\n",
      "[I 2024-10-18 21:44:10,800] Trial 2 finished with value: 470.75043794389967 and parameters: {'n_rides': 1, 'ride_0': 2}. Best is trial 1 with value: 508.83773910086074.\n",
      "[I 2024-10-18 21:44:10,814] Trial 3 finished with value: 426.7172709075599 and parameters: {'n_rides': 17, 'ride_0': 4, 'ride_1': 3, 'ride_2': 6, 'ride_3': 4, 'ride_4': 3, 'ride_5': 3, 'ride_6': 4, 'ride_7': 1, 'ride_8': 7, 'ride_9': 7, 'ride_10': 7, 'ride_11': 2, 'ride_12': 7, 'ride_13': 3, 'ride_14': 6, 'ride_15': 3, 'ride_16': 6}. Best is trial 1 with value: 508.83773910086074.\n",
      "[I 2024-10-18 21:44:10,819] Trial 4 finished with value: 466.04459719764225 and parameters: {'n_rides': 18, 'ride_0': 3, 'ride_1': 0, 'ride_2': 7, 'ride_3': 0, 'ride_4': 1, 'ride_5': 7, 'ride_6': 3, 'ride_7': 2, 'ride_8': 7, 'ride_9': 7, 'ride_10': 2, 'ride_11': 5, 'ride_12': 7, 'ride_13': 1, 'ride_14': 2, 'ride_15': 1, 'ride_16': 0, 'ride_17': 2}. Best is trial 1 with value: 508.83773910086074.\n",
      "[I 2024-10-18 21:44:10,824] Trial 5 finished with value: 486.4658156131362 and parameters: {'n_rides': 4, 'ride_0': 4, 'ride_1': 6, 'ride_2': 0, 'ride_3': 7}. Best is trial 1 with value: 508.83773910086074.\n",
      "[I 2024-10-18 21:44:10,833] Trial 6 finished with value: 492.5132880339446 and parameters: {'n_rides': 20, 'ride_0': 1, 'ride_1': 5, 'ride_2': 2, 'ride_3': 1, 'ride_4': 0, 'ride_5': 5, 'ride_6': 1, 'ride_7': 2, 'ride_8': 6, 'ride_9': 7, 'ride_10': 1, 'ride_11': 0, 'ride_12': 0, 'ride_13': 2, 'ride_14': 5, 'ride_15': 4, 'ride_16': 3, 'ride_17': 5, 'ride_18': 3, 'ride_19': 3}. Best is trial 1 with value: 508.83773910086074.\n",
      "[I 2024-10-18 21:44:10,839] Trial 7 finished with value: 571.2020896352919 and parameters: {'n_rides': 15, 'ride_0': 0, 'ride_1': 4, 'ride_2': 5, 'ride_3': 3, 'ride_4': 4, 'ride_5': 2, 'ride_6': 2, 'ride_7': 5, 'ride_8': 1, 'ride_9': 4, 'ride_10': 4, 'ride_11': 4, 'ride_12': 1, 'ride_13': 0, 'ride_14': 1}. Best is trial 7 with value: 571.2020896352919.\n",
      "[I 2024-10-18 21:44:10,839] Trial 8 finished with value: 463.9809968854042 and parameters: {'n_rides': 5, 'ride_0': 3, 'ride_1': 4, 'ride_2': 5, 'ride_3': 7, 'ride_4': 6}. Best is trial 7 with value: 571.2020896352919.\n",
      "[I 2024-10-18 21:44:10,849] Trial 9 finished with value: 559.036042259506 and parameters: {'n_rides': 11, 'ride_0': 5, 'ride_1': 5, 'ride_2': 4, 'ride_3': 4, 'ride_4': 3, 'ride_5': 1, 'ride_6': 6, 'ride_7': 7, 'ride_8': 2, 'ride_9': 6, 'ride_10': 0}. Best is trial 7 with value: 571.2020896352919.\n",
      "[I 2024-10-18 21:44:10,910] Trial 10 finished with value: 520.7779959966317 and parameters: {'n_rides': 13, 'ride_0': 7, 'ride_1': 2, 'ride_2': 2, 'ride_3': 2, 'ride_4': 6, 'ride_5': 0, 'ride_6': 0, 'ride_7': 5, 'ride_8': 0, 'ride_9': 1, 'ride_10': 5, 'ride_11': 7, 'ride_12': 1}. Best is trial 7 with value: 571.2020896352919.\n",
      "[I 2024-10-18 21:44:10,961] Trial 11 finished with value: 485.29885698386977 and parameters: {'n_rides': 11, 'ride_0': 6, 'ride_1': 7, 'ride_2': 4, 'ride_3': 5, 'ride_4': 4, 'ride_5': 1, 'ride_6': 7, 'ride_7': 7, 'ride_8': 1, 'ride_9': 4, 'ride_10': 0}. Best is trial 7 with value: 571.2020896352919.\n"
     ]
    },
    {
     "name": "stdout",
     "output_type": "stream",
     "text": [
      "tt_best2: 717\n",
      "717\n",
      "total_time: 706\n",
      "total_popularity: 499\n",
      "total_time: 335\n",
      "total_popularity: 260\n",
      "total_time: 117\n",
      "total_popularity: 55\n",
      "total_time: 710\n",
      "total_popularity: 465\n",
      "total_time: 737\n",
      "total_popularity: 525\n",
      "total_time: 231\n",
      "total_popularity: 158\n",
      "total_time: 739\n",
      "total_popularity: 553\n",
      "total_time: 695\n",
      "total_popularity: 598\n",
      "total_time: 246\n",
      "total_popularity: 147\n",
      "total_time: 498\n",
      "total_popularity: 435\n",
      "total_time: 770\n",
      "total_popularity: 605\n",
      "total_time: 593\n",
      "total_popularity: 434\n"
     ]
    },
    {
     "name": "stderr",
     "output_type": "stream",
     "text": [
      "[I 2024-10-18 21:44:11,019] Trial 12 finished with value: 472.3576888346183 and parameters: {'n_rides': 14, 'ride_0': 5, 'ride_1': 2, 'ride_2': 3, 'ride_3': 5, 'ride_4': 4, 'ride_5': 2, 'ride_6': 7, 'ride_7': 7, 'ride_8': 2, 'ride_9': 4, 'ride_10': 3, 'ride_11': 5, 'ride_12': 3, 'ride_13': 7}. Best is trial 7 with value: 571.2020896352919.\n",
      "[I 2024-10-18 21:44:11,065] Trial 13 finished with value: 620.0559566275823 and parameters: {'n_rides': 9, 'ride_0': 5, 'ride_1': 7, 'ride_2': 4, 'ride_3': 3, 'ride_4': 3, 'ride_5': 0, 'ride_6': 2, 'ride_7': 5, 'ride_8': 3}. Best is trial 13 with value: 620.0559566275823.\n",
      "[I 2024-10-18 21:44:11,113] Trial 14 finished with value: 499.01991436807634 and parameters: {'n_rides': 9, 'ride_0': 2, 'ride_1': 7, 'ride_2': 5, 'ride_3': 2, 'ride_4': 5, 'ride_5': 0, 'ride_6': 2, 'ride_7': 5, 'ride_8': 4}. Best is trial 13 with value: 620.0559566275823.\n",
      "[I 2024-10-18 21:44:11,155] Trial 15 finished with value: 593.9753171704341 and parameters: {'n_rides': 9, 'ride_0': 7, 'ride_1': 0, 'ride_2': 3, 'ride_3': 3, 'ride_4': 2, 'ride_5': 3, 'ride_6': 2, 'ride_7': 5, 'ride_8': 3}. Best is trial 13 with value: 620.0559566275823.\n",
      "[I 2024-10-18 21:44:11,194] Trial 16 finished with value: 539.6783534248877 and parameters: {'n_rides': 8, 'ride_0': 7, 'ride_1': 0, 'ride_2': 2, 'ride_3': 3, 'ride_4': 2, 'ride_5': 4, 'ride_6': 3, 'ride_7': 4}. Best is trial 13 with value: 620.0559566275823.\n"
     ]
    },
    {
     "name": "stdout",
     "output_type": "stream",
     "text": [
      "total_time: 717\n",
      "total_popularity: 516\n",
      "total_time: 353\n",
      "total_popularity: 385\n",
      "total_time: 515\n",
      "total_popularity: 388\n",
      "total_time: 438\n",
      "total_popularity: 424\n",
      "total_time: 441\n",
      "total_popularity: 372\n"
     ]
    },
    {
     "name": "stderr",
     "output_type": "stream",
     "text": [
      "[I 2024-10-18 21:44:11,235] Trial 17 finished with value: 481.8320593858907 and parameters: {'n_rides': 8, 'ride_0': 6, 'ride_1': 1, 'ride_2': 0, 'ride_3': 5, 'ride_4': 2, 'ride_5': 7, 'ride_6': 0, 'ride_7': 6}. Best is trial 13 with value: 620.0559566275823.\n",
      "[I 2024-10-18 21:44:11,271] Trial 18 finished with value: 545.5853725529565 and parameters: {'n_rides': 7, 'ride_0': 6, 'ride_1': 2, 'ride_2': 3, 'ride_3': 0, 'ride_4': 2, 'ride_5': 3, 'ride_6': 2}. Best is trial 13 with value: 620.0559566275823.\n",
      "[I 2024-10-18 21:44:11,288] Trial 19 finished with value: 499.73431005247 and parameters: {'n_rides': 2, 'ride_0': 5, 'ride_1': 1}. Best is trial 13 with value: 620.0559566275823.\n",
      "[I 2024-10-18 21:44:11,339] Trial 20 finished with value: 426.9373816726048 and parameters: {'n_rides': 12, 'ride_0': 7, 'ride_1': 6, 'ride_2': 1, 'ride_3': 6, 'ride_4': 7, 'ride_5': 5, 'ride_6': 4, 'ride_7': 3, 'ride_8': 3, 'ride_9': 0, 'ride_10': 7, 'ride_11': 7}. Best is trial 13 with value: 620.0559566275823.\n",
      "[I 2024-10-18 21:44:11,405] Trial 21 finished with value: 615.8425075623503 and parameters: {'n_rides': 15, 'ride_0': 1, 'ride_1': 3, 'ride_2': 5, 'ride_3': 3, 'ride_4': 4, 'ride_5': 2, 'ride_6': 2, 'ride_7': 5, 'ride_8': 3, 'ride_9': 2, 'ride_10': 5, 'ride_11': 4, 'ride_12': 3, 'ride_13': 0, 'ride_14': 0}. Best is trial 13 with value: 620.0559566275823.\n"
     ]
    },
    {
     "name": "stdout",
     "output_type": "stream",
     "text": [
      "total_time: 527\n",
      "total_popularity: 380\n",
      "total_time: 415\n",
      "total_popularity: 358\n",
      "total_time: 134\n",
      "total_popularity: 97\n",
      "total_time: 664\n",
      "total_popularity: 430\n",
      "total_time: 702\n",
      "total_popularity: 648\n"
     ]
    },
    {
     "name": "stderr",
     "output_type": "stream",
     "text": [
      "[I 2024-10-18 21:44:11,456] Trial 22 finished with value: 612.8178247327844 and parameters: {'n_rides': 10, 'ride_0': 2, 'ride_1': 3, 'ride_2': 4, 'ride_3': 3, 'ride_4': 3, 'ride_5': 2, 'ride_6': 1, 'ride_7': 5, 'ride_8': 3, 'ride_9': 2}. Best is trial 13 with value: 620.0559566275823.\n",
      "[I 2024-10-18 21:44:11,519] Trial 23 finished with value: 553.7798892349551 and parameters: {'n_rides': 15, 'ride_0': 1, 'ride_1': 3, 'ride_2': 4, 'ride_3': 2, 'ride_4': 5, 'ride_5': 1, 'ride_6': 1, 'ride_7': 6, 'ride_8': 5, 'ride_9': 2, 'ride_10': 6, 'ride_11': 2, 'ride_12': 3, 'ride_13': 5, 'ride_14': 0}. Best is trial 13 with value: 620.0559566275823.\n",
      "[I 2024-10-18 21:44:11,570] Trial 24 finished with value: 532.1110020016841 and parameters: {'n_rides': 10, 'ride_0': 2, 'ride_1': 3, 'ride_2': 6, 'ride_3': 1, 'ride_4': 3, 'ride_5': 2, 'ride_6': 1, 'ride_7': 4, 'ride_8': 3, 'ride_9': 2}. Best is trial 13 with value: 620.0559566275823.\n",
      "[I 2024-10-18 21:44:11,630] Trial 25 finished with value: 617.656545818488 and parameters: {'n_rides': 13, 'ride_0': 1, 'ride_1': 3, 'ride_2': 5, 'ride_3': 3, 'ride_4': 5, 'ride_5': 0, 'ride_6': 1, 'ride_7': 6, 'ride_8': 5, 'ride_9': 2, 'ride_10': 5, 'ride_11': 0, 'ride_12': 5}. Best is trial 13 with value: 620.0559566275823.\n"
     ]
    },
    {
     "name": "stdout",
     "output_type": "stream",
     "text": [
      "total_time: 480\n",
      "total_popularity: 475\n",
      "total_time: 706\n",
      "total_popularity: 589\n",
      "total_time: 605\n",
      "total_popularity: 490\n",
      "total_time: 650\n",
      "total_popularity: 610\n"
     ]
    },
    {
     "name": "stderr",
     "output_type": "stream",
     "text": [
      "[I 2024-10-18 21:44:11,704] Trial 26 finished with value: 568.5920342527695 and parameters: {'n_rides': 16, 'ride_0': 1, 'ride_1': 6, 'ride_2': 5, 'ride_3': 1, 'ride_4': 5, 'ride_5': 0, 'ride_6': 0, 'ride_7': 6, 'ride_8': 5, 'ride_9': 3, 'ride_10': 5, 'ride_11': 0, 'ride_12': 5, 'ride_13': 5, 'ride_14': 3, 'ride_15': 7}. Best is trial 13 with value: 620.0559566275823.\n",
      "[I 2024-10-18 21:44:11,769] Trial 27 finished with value: 529.343454181512 and parameters: {'n_rides': 13, 'ride_0': 3, 'ride_1': 2, 'ride_2': 6, 'ride_3': 4, 'ride_4': 6, 'ride_5': 0, 'ride_6': 3, 'ride_7': 6, 'ride_8': 5, 'ride_9': 0, 'ride_10': 5, 'ride_11': 3, 'ride_12': 4}. Best is trial 13 with value: 620.0559566275823.\n",
      "[I 2024-10-18 21:44:11,854] Trial 28 finished with value: 579.3093051603294 and parameters: {'n_rides': 20, 'ride_0': 1, 'ride_1': 4, 'ride_2': 5, 'ride_3': 3, 'ride_4': 5, 'ride_5': 1, 'ride_6': 2, 'ride_7': 3, 'ride_8': 4, 'ride_9': 3, 'ride_10': 3, 'ride_11': 5, 'ride_12': 4, 'ride_13': 0, 'ride_14': 0, 'ride_15': 0, 'ride_16': 0, 'ride_17': 0, 'ride_18': 7, 'ride_19': 7}. Best is trial 13 with value: 620.0559566275823.\n"
     ]
    },
    {
     "name": "stdout",
     "output_type": "stream",
     "text": [
      "total_time: 718\n",
      "total_popularity: 613\n",
      "total_time: 670\n",
      "total_popularity: 537\n",
      "total_time: 768\n",
      "total_popularity: 662\n"
     ]
    },
    {
     "name": "stderr",
     "output_type": "stream",
     "text": [
      "[I 2024-10-18 21:44:11,914] Trial 29 finished with value: 620.0768529805015 and parameters: {'n_rides': 13, 'ride_0': 0, 'ride_1': 5, 'ride_2': 4, 'ride_3': 2, 'ride_4': 4, 'ride_5': 1, 'ride_6': 1, 'ride_7': 0, 'ride_8': 2, 'ride_9': 1, 'ride_10': 6, 'ride_11': 1, 'ride_12': 2}. Best is trial 29 with value: 620.0768529805015.\n",
      "[I 2024-10-18 21:44:11,919] A new study created in memory with name: no-name-55989855-c114-4b56-9540-c968f618673a\n",
      "[I 2024-10-18 21:44:11,923] Trial 0 finished with value: 520.0 and parameters: {'n_rides': 15, 'ride_0': 2, 'ride_1': 3, 'ride_2': 6, 'ride_3': 1, 'ride_4': 5, 'ride_5': 4, 'ride_6': 7, 'ride_7': 6, 'ride_8': 5, 'ride_9': 3, 'ride_10': 5, 'ride_11': 2, 'ride_12': 4, 'ride_13': 6, 'ride_14': 7, 'lamb_x': 1.5257244464473847}. Best is trial 0 with value: 520.0.\n",
      "[I 2024-10-18 21:44:11,933] Trial 1 finished with value: 534.0 and parameters: {'n_rides': 20, 'ride_0': 2, 'ride_1': 1, 'ride_2': 3, 'ride_3': 4, 'ride_4': 0, 'ride_5': 1, 'ride_6': 7, 'ride_7': 4, 'ride_8': 4, 'ride_9': 1, 'ride_10': 0, 'ride_11': 7, 'ride_12': 0, 'ride_13': 0, 'ride_14': 5, 'ride_15': 5, 'ride_16': 5, 'ride_17': 6, 'ride_18': 3, 'ride_19': 5, 'lamb_x': 1.4743826723643614}. Best is trial 0 with value: 520.0.\n",
      "[I 2024-10-18 21:44:11,939] Trial 2 finished with value: 380.0 and parameters: {'n_rides': 8, 'ride_0': 0, 'ride_1': 7, 'ride_2': 2, 'ride_3': 5, 'ride_4': 2, 'ride_5': 7, 'ride_6': 3, 'ride_7': 1, 'lamb_x': 0.948676378087586}. Best is trial 2 with value: 380.0.\n",
      "[I 2024-10-18 21:44:11,949] Trial 3 finished with value: 499.0 and parameters: {'n_rides': 17, 'ride_0': 3, 'ride_1': 3, 'ride_2': 7, 'ride_3': 4, 'ride_4': 4, 'ride_5': 6, 'ride_6': 3, 'ride_7': 3, 'ride_8': 1, 'ride_9': 1, 'ride_10': 6, 'ride_11': 2, 'ride_12': 7, 'ride_13': 7, 'ride_14': 2, 'ride_15': 4, 'ride_16': 0, 'lamb_x': 0.8790599431736503}. Best is trial 2 with value: 380.0.\n",
      "[I 2024-10-18 21:44:11,949] Trial 4 finished with value: 67.0 and parameters: {'n_rides': 2, 'ride_0': 7, 'ride_1': 3, 'lamb_x': 0.6825922404275963}. Best is trial 4 with value: 67.0.\n",
      "[I 2024-10-18 21:44:11,959] Trial 5 finished with value: 670.0 and parameters: {'n_rides': 14, 'ride_0': 1, 'ride_1': 0, 'ride_2': 4, 'ride_3': 5, 'ride_4': 4, 'ride_5': 6, 'ride_6': 0, 'ride_7': 0, 'ride_8': 0, 'ride_9': 4, 'ride_10': 6, 'ride_11': 2, 'ride_12': 3, 'ride_13': 3, 'lamb_x': 1.5978795945179636}. Best is trial 4 with value: 67.0.\n",
      "[I 2024-10-18 21:44:11,965] Trial 6 finished with value: 321.0 and parameters: {'n_rides': 8, 'ride_0': 4, 'ride_1': 7, 'ride_2': 1, 'ride_3': 1, 'ride_4': 7, 'ride_5': 3, 'ride_6': 5, 'ride_7': 4, 'lamb_x': 1.217927398948979}. Best is trial 4 with value: 67.0.\n",
      "[I 2024-10-18 21:44:11,969] Trial 7 finished with value: 542.0 and parameters: {'n_rides': 12, 'ride_0': 4, 'ride_1': 0, 'ride_2': 0, 'ride_3': 7, 'ride_4': 1, 'ride_5': 6, 'ride_6': 1, 'ride_7': 2, 'ride_8': 4, 'ride_9': 7, 'ride_10': 6, 'ride_11': 4, 'lamb_x': 1.1903174500128866}. Best is trial 4 with value: 67.0.\n",
      "[I 2024-10-18 21:44:11,974] Trial 8 finished with value: 621.0 and parameters: {'n_rides': 16, 'ride_0': 7, 'ride_1': 6, 'ride_2': 4, 'ride_3': 2, 'ride_4': 5, 'ride_5': 5, 'ride_6': 2, 'ride_7': 2, 'ride_8': 2, 'ride_9': 2, 'ride_10': 3, 'ride_11': 1, 'ride_12': 6, 'ride_13': 5, 'ride_14': 2, 'ride_15': 5, 'lamb_x': 1.4283859736387008}. Best is trial 4 with value: 67.0.\n",
      "[I 2024-10-18 21:44:11,982] Trial 9 finished with value: 565.0 and parameters: {'n_rides': 20, 'ride_0': 1, 'ride_1': 2, 'ride_2': 0, 'ride_3': 4, 'ride_4': 6, 'ride_5': 2, 'ride_6': 4, 'ride_7': 7, 'ride_8': 5, 'ride_9': 2, 'ride_10': 0, 'ride_11': 5, 'ride_12': 0, 'ride_13': 5, 'ride_14': 6, 'ride_15': 3, 'ride_16': 0, 'ride_17': 5, 'ride_18': 2, 'ride_19': 6, 'lamb_x': 0.8731370520995384}. Best is trial 4 with value: 67.0.\n",
      "[I 2024-10-18 21:44:11,999] Trial 10 finished with value: 22.0 and parameters: {'n_rides': 1, 'ride_0': 7, 'lamb_x': 1.9694267245484904}. Best is trial 10 with value: 22.0.\n",
      "[I 2024-10-18 21:44:12,016] Trial 11 finished with value: 22.0 and parameters: {'n_rides': 1, 'ride_0': 7, 'lamb_x': 1.9845450206994673}. Best is trial 10 with value: 22.0.\n",
      "[I 2024-10-18 21:44:12,030] Trial 12 finished with value: 19.0 and parameters: {'n_rides': 1, 'ride_0': 6, 'lamb_x': 1.9835285420825097}. Best is trial 12 with value: 19.0.\n",
      "[I 2024-10-18 21:44:12,049] Trial 13 finished with value: 159.0 and parameters: {'n_rides': 4, 'ride_0': 5, 'ride_1': 5, 'ride_2': 6, 'ride_3': 0, 'lamb_x': 1.9553880618390957}. Best is trial 12 with value: 19.0.\n",
      "[I 2024-10-18 21:44:12,086] Trial 14 finished with value: 152.0 and parameters: {'n_rides': 5, 'ride_0': 6, 'ride_1': 5, 'ride_2': 5, 'ride_3': 7, 'ride_4': 2, 'lamb_x': 1.7360168279481862}. Best is trial 12 with value: 19.0.\n",
      "[I 2024-10-18 21:44:12,116] Trial 15 finished with value: 193.0 and parameters: {'n_rides': 5, 'ride_0': 5, 'ride_1': 4, 'ride_2': 2, 'ride_3': 2, 'ride_4': 7, 'lamb_x': 1.7877915610604076}. Best is trial 12 with value: 19.0.\n"
     ]
    },
    {
     "name": "stdout",
     "output_type": "stream",
     "text": [
      "total_time: 703\n",
      "total_popularity: 653\n"
     ]
    },
    {
     "name": "stderr",
     "output_type": "stream",
     "text": [
      "[I 2024-10-18 21:44:12,149] Trial 16 finished with value: 330.0 and parameters: {'n_rides': 8, 'ride_0': 6, 'ride_1': 2, 'ride_2': 7, 'ride_3': 6, 'ride_4': 0, 'ride_5': 0, 'ride_6': 5, 'ride_7': 6, 'lamb_x': 1.7941514050974479}. Best is trial 12 with value: 19.0.\n",
      "[I 2024-10-18 21:44:12,180] Trial 17 finished with value: 92.0 and parameters: {'n_rides': 3, 'ride_0': 6, 'ride_1': 5, 'ride_2': 3, 'lamb_x': 1.943571241809804}. Best is trial 12 with value: 19.0.\n",
      "[I 2024-10-18 21:44:12,213] Trial 18 finished with value: 299.0 and parameters: {'n_rides': 6, 'ride_0': 5, 'ride_1': 1, 'ride_2': 5, 'ride_3': 3, 'ride_4': 3, 'ride_5': 0, 'lamb_x': 0.5006354921412688}. Best is trial 12 with value: 19.0.\n",
      "[I 2024-10-18 21:44:12,266] Trial 19 finished with value: 492.0 and parameters: {'n_rides': 11, 'ride_0': 6, 'ride_1': 6, 'ride_2': 1, 'ride_3': 0, 'ride_4': 2, 'ride_5': 3, 'ride_6': 0, 'ride_7': 5, 'ride_8': 7, 'ride_9': 7, 'ride_10': 3, 'lamb_x': 1.6738192499894624}. Best is trial 12 with value: 19.0.\n",
      "[I 2024-10-18 21:44:12,280] Trial 20 finished with value: 22.0 and parameters: {'n_rides': 1, 'ride_0': 7, 'lamb_x': 1.3514847874567717}. Best is trial 12 with value: 19.0.\n",
      "[I 2024-10-18 21:44:12,289] Trial 21 finished with value: 22.0 and parameters: {'n_rides': 1, 'ride_0': 7, 'lamb_x': 1.9633413369532144}. Best is trial 12 with value: 19.0.\n",
      "[I 2024-10-18 21:44:12,319] Trial 22 finished with value: 110.0 and parameters: {'n_rides': 3, 'ride_0': 7, 'ride_1': 4, 'ride_2': 2, 'lamb_x': 1.872882138953976}. Best is trial 12 with value: 19.0.\n",
      "[I 2024-10-18 21:44:12,332] Trial 23 finished with value: 19.0 and parameters: {'n_rides': 1, 'ride_0': 6, 'lamb_x': 1.8396105858577763}. Best is trial 12 with value: 19.0.\n",
      "[I 2024-10-18 21:44:12,369] Trial 24 finished with value: 218.0 and parameters: {'n_rides': 6, 'ride_0': 5, 'ride_1': 1, 'ride_2': 5, 'ride_3': 6, 'ride_4': 6, 'ride_5': 2, 'lamb_x': 1.6538988612400907}. Best is trial 12 with value: 19.0.\n",
      "[I 2024-10-18 21:44:12,391] Trial 25 finished with value: 107.0 and parameters: {'n_rides': 3, 'ride_0': 6, 'ride_1': 6, 'ride_2': 1, 'lamb_x': 1.81800049309838}. Best is trial 12 with value: 19.0.\n",
      "[I 2024-10-18 21:44:12,404] Trial 26 finished with value: 33.0 and parameters: {'n_rides': 1, 'ride_0': 4, 'lamb_x': 1.8836759989458045}. Best is trial 12 with value: 19.0.\n",
      "[I 2024-10-18 21:44:12,444] Trial 27 finished with value: 235.0 and parameters: {'n_rides': 7, 'ride_0': 6, 'ride_1': 2, 'ride_2': 6, 'ride_3': 3, 'ride_4': 3, 'ride_5': 4, 'ride_6': 6, 'lamb_x': 1.0840529708157856}. Best is trial 12 with value: 19.0.\n",
      "[I 2024-10-18 21:44:12,469] Trial 28 finished with value: 149.0 and parameters: {'n_rides': 4, 'ride_0': 5, 'ride_1': 4, 'ride_2': 4, 'ride_3': 2, 'lamb_x': 1.572047231384516}. Best is trial 12 with value: 19.0.\n",
      "[I 2024-10-18 21:44:12,489] Trial 29 finished with value: 129.0 and parameters: {'n_rides': 2, 'ride_0': 3, 'ride_1': 0, 'lamb_x': 1.6992795654587511}. Best is trial 12 with value: 19.0.\n",
      "[I 2024-10-18 21:44:12,489] A new study created in memory with name: no-name-e4694102-1a9e-4ed2-9801-798cc7740bdf\n",
      "[I 2024-10-18 21:44:12,499] Trial 0 finished with value: 807.6844780256175 and parameters: {'n_rides': 7, 'ride_0': 2, 'ride_1': 3, 'ride_2': 7, 'ride_3': 5, 'ride_4': 5, 'ride_5': 2, 'ride_6': 2}. Best is trial 0 with value: 807.6844780256175.\n",
      "[I 2024-10-18 21:44:12,499] Trial 1 finished with value: 524.774158522122 and parameters: {'n_rides': 16, 'ride_0': 1, 'ride_1': 4, 'ride_2': 1, 'ride_3': 3, 'ride_4': 2, 'ride_5': 5, 'ride_6': 0, 'ride_7': 7, 'ride_8': 0, 'ride_9': 0, 'ride_10': 3, 'ride_11': 0, 'ride_12': 5, 'ride_13': 7, 'ride_14': 2, 'ride_15': 7}. Best is trial 0 with value: 807.6844780256175.\n",
      "[I 2024-10-18 21:44:12,513] Trial 2 finished with value: 433.5435581112772 and parameters: {'n_rides': 12, 'ride_0': 2, 'ride_1': 3, 'ride_2': 2, 'ride_3': 5, 'ride_4': 3, 'ride_5': 6, 'ride_6': 0, 'ride_7': 4, 'ride_8': 4, 'ride_9': 6, 'ride_10': 5, 'ride_11': 2}. Best is trial 0 with value: 807.6844780256175.\n",
      "[I 2024-10-18 21:44:12,516] Trial 3 finished with value: 1103.7972139570898 and parameters: {'n_rides': 3, 'ride_0': 5, 'ride_1': 6, 'ride_2': 1}. Best is trial 3 with value: 1103.7972139570898.\n",
      "[I 2024-10-18 21:44:12,519] Trial 4 finished with value: 1160.566613546245 and parameters: {'n_rides': 3, 'ride_0': 3, 'ride_1': 3, 'ride_2': 2}. Best is trial 4 with value: 1160.566613546245.\n",
      "[I 2024-10-18 21:44:12,524] Trial 5 finished with value: 883.3832328501359 and parameters: {'n_rides': 6, 'ride_0': 3, 'ride_1': 4, 'ride_2': 2, 'ride_3': 6, 'ride_4': 4, 'ride_5': 7}. Best is trial 4 with value: 1160.566613546245.\n",
      "[I 2024-10-18 21:44:12,532] Trial 6 finished with value: 458.4893848045578 and parameters: {'n_rides': 11, 'ride_0': 7, 'ride_1': 6, 'ride_2': 7, 'ride_3': 2, 'ride_4': 4, 'ride_5': 4, 'ride_6': 2, 'ride_7': 7, 'ride_8': 6, 'ride_9': 0, 'ride_10': 4}. Best is trial 4 with value: 1160.566613546245.\n",
      "[I 2024-10-18 21:44:12,532] Trial 7 finished with value: 406.741215606287 and parameters: {'n_rides': 11, 'ride_0': 0, 'ride_1': 7, 'ride_2': 2, 'ride_3': 2, 'ride_4': 0, 'ride_5': 7, 'ride_6': 7, 'ride_7': 2, 'ride_8': 6, 'ride_9': 4, 'ride_10': 3}. Best is trial 4 with value: 1160.566613546245.\n",
      "[I 2024-10-18 21:44:12,544] Trial 8 finished with value: 464.12005913838937 and parameters: {'n_rides': 13, 'ride_0': 0, 'ride_1': 3, 'ride_2': 7, 'ride_3': 0, 'ride_4': 7, 'ride_5': 5, 'ride_6': 0, 'ride_7': 5, 'ride_8': 1, 'ride_9': 3, 'ride_10': 4, 'ride_11': 7, 'ride_12': 4}. Best is trial 4 with value: 1160.566613546245.\n",
      "[I 2024-10-18 21:44:12,549] Trial 9 finished with value: 406.4000739229867 and parameters: {'n_rides': 16, 'ride_0': 5, 'ride_1': 0, 'ride_2': 4, 'ride_3': 7, 'ride_4': 5, 'ride_5': 6, 'ride_6': 2, 'ride_7': 1, 'ride_8': 2, 'ride_9': 7, 'ride_10': 1, 'ride_11': 1, 'ride_12': 7, 'ride_13': 3, 'ride_14': 1, 'ride_15': 7}. Best is trial 4 with value: 1160.566613546245.\n",
      "[I 2024-10-18 21:44:12,564] Trial 10 finished with value: 1293.4912098486411 and parameters: {'n_rides': 1, 'ride_0': 5}. Best is trial 10 with value: 1293.4912098486411.\n",
      "[I 2024-10-18 21:44:12,574] Trial 11 finished with value: 1293.4912098486411 and parameters: {'n_rides': 1, 'ride_0': 5}. Best is trial 10 with value: 1293.4912098486411.\n",
      "[I 2024-10-18 21:44:12,582] Trial 12 finished with value: 1293.4912098486411 and parameters: {'n_rides': 1, 'ride_0': 5}. Best is trial 10 with value: 1293.4912098486411.\n",
      "[I 2024-10-18 21:44:12,659] Trial 13 finished with value: 490.9718160171319 and parameters: {'n_rides': 20, 'ride_0': 7, 'ride_1': 0, 'ride_2': 5, 'ride_3': 0, 'ride_4': 0, 'ride_5': 0, 'ride_6': 6, 'ride_7': 0, 'ride_8': 4, 'ride_9': 3, 'ride_10': 7, 'ride_11': 6, 'ride_12': 0, 'ride_13': 0, 'ride_14': 7, 'ride_15': 0, 'ride_16': 3, 'ride_17': 0, 'ride_18': 1, 'ride_19': 2}. Best is trial 10 with value: 1293.4912098486411.\n"
     ]
    },
    {
     "name": "stdout",
     "output_type": "stream",
     "text": [
      "tt_best2: 703\n",
      "703\n",
      "total_time: 398\n",
      "total_popularity: 288\n",
      "total_time: 707\n",
      "total_popularity: 618\n",
      "total_time: 693\n",
      "total_popularity: 499\n",
      "total_time: 162\n",
      "total_popularity: 116\n",
      "total_time: 148\n",
      "total_popularity: 145\n",
      "total_time: 319\n",
      "total_popularity: 207\n",
      "total_time: 629\n",
      "total_popularity: 397\n",
      "total_time: 705\n",
      "total_popularity: 496\n",
      "total_time: 728\n",
      "total_popularity: 599\n",
      "total_time: 745\n",
      "total_popularity: 575\n",
      "total_time: 22\n",
      "total_popularity: 28\n",
      "total_time: 22\n",
      "total_popularity: 28\n",
      "total_time: 22\n",
      "total_popularity: 28\n",
      "total_time: 719\n",
      "total_popularity: 608\n"
     ]
    },
    {
     "name": "stderr",
     "output_type": "stream",
     "text": [
      "[I 2024-10-18 21:44:12,690] Trial 14 finished with value: 787.7997782310399 and parameters: {'n_rides': 6, 'ride_0': 6, 'ride_1': 1, 'ride_2': 0, 'ride_3': 4, 'ride_4': 7, 'ride_5': 2}. Best is trial 10 with value: 1293.4912098486411.\n",
      "[I 2024-10-18 21:44:12,699] Trial 15 finished with value: 1266.754753175321 and parameters: {'n_rides': 1, 'ride_0': 4}. Best is trial 10 with value: 1293.4912098486411.\n",
      "[I 2024-10-18 21:44:12,719] Trial 16 finished with value: 981.114930590489 and parameters: {'n_rides': 4, 'ride_0': 4, 'ride_1': 1, 'ride_2': 5, 'ride_3': 7}. Best is trial 10 with value: 1293.4912098486411.\n",
      "[I 2024-10-18 21:44:12,765] Trial 17 finished with value: 810.2280361368947 and parameters: {'n_rides': 8, 'ride_0': 6, 'ride_1': 5, 'ride_2': 5, 'ride_3': 1, 'ride_4': 2, 'ride_5': 0, 'ride_6': 5, 'ride_7': 3}. Best is trial 10 with value: 1293.4912098486411.\n",
      "[I 2024-10-18 21:44:12,805] Trial 18 finished with value: 806.0139071839674 and parameters: {'n_rides': 9, 'ride_0': 6, 'ride_1': 7, 'ride_2': 4, 'ride_3': 3, 'ride_4': 1, 'ride_5': 2, 'ride_6': 4, 'ride_7': 5, 'ride_8': 7}. Best is trial 10 with value: 1293.4912098486411.\n",
      "[I 2024-10-18 21:44:12,827] Trial 19 finished with value: 958.1643449642415 and parameters: {'n_rides': 4, 'ride_0': 4, 'ride_1': 2, 'ride_2': 6, 'ride_3': 5}. Best is trial 10 with value: 1293.4912098486411.\n",
      "[I 2024-10-18 21:44:12,840] Trial 20 finished with value: 1293.4912098486411 and parameters: {'n_rides': 1, 'ride_0': 5}. Best is trial 10 with value: 1293.4912098486411.\n",
      "[I 2024-10-18 21:44:12,850] Trial 21 finished with value: 1293.4912098486411 and parameters: {'n_rides': 1, 'ride_0': 5}. Best is trial 10 with value: 1293.4912098486411.\n",
      "[I 2024-10-18 21:44:12,869] Trial 22 finished with value: 1196.8253979399578 and parameters: {'n_rides': 3, 'ride_0': 6, 'ride_1': 5, 'ride_2': 3}. Best is trial 10 with value: 1293.4912098486411.\n"
     ]
    },
    {
     "name": "stdout",
     "output_type": "stream",
     "text": [
      "total_time: 405\n",
      "total_popularity: 282\n",
      "total_time: 38\n",
      "total_popularity: 33\n",
      "total_time: 242\n",
      "total_popularity: 152\n",
      "total_time: 431\n",
      "total_popularity: 356\n",
      "total_time: 418\n",
      "total_popularity: 326\n",
      "total_time: 245\n",
      "total_popularity: 135\n",
      "total_time: 22\n",
      "total_popularity: 28\n",
      "total_time: 22\n",
      "total_popularity: 28\n",
      "total_time: 103\n",
      "total_popularity: 92\n"
     ]
    },
    {
     "name": "stderr",
     "output_type": "stream",
     "text": [
      "[I 2024-10-18 21:44:12,900] Trial 23 finished with value: 885.8773765876605 and parameters: {'n_rides': 5, 'ride_0': 5, 'ride_1': 1, 'ride_2': 0, 'ride_3': 1, 'ride_4': 6}. Best is trial 10 with value: 1293.4912098486411.\n",
      "[I 2024-10-18 21:44:12,909] Trial 24 finished with value: 1266.754753175321 and parameters: {'n_rides': 1, 'ride_0': 4}. Best is trial 10 with value: 1293.4912098486411.\n",
      "[I 2024-10-18 21:44:12,924] Trial 25 finished with value: 1111.5995564620798 and parameters: {'n_rides': 2, 'ride_0': 3, 'ride_1': 2}. Best is trial 10 with value: 1293.4912098486411.\n",
      "[I 2024-10-18 21:44:12,951] Trial 26 finished with value: 1038.2254718629447 and parameters: {'n_rides': 4, 'ride_0': 7, 'ride_1': 5, 'ride_2': 6, 'ride_3': 4}. Best is trial 10 with value: 1293.4912098486411.\n",
      "[I 2024-10-18 21:44:12,977] Trial 27 finished with value: 1011.9008016375617 and parameters: {'n_rides': 5, 'ride_0': 6, 'ride_1': 6, 'ride_2': 3, 'ride_3': 6, 'ride_4': 2}. Best is trial 10 with value: 1293.4912098486411.\n",
      "[I 2024-10-18 21:44:13,018] Trial 28 finished with value: 636.221082544911 and parameters: {'n_rides': 9, 'ride_0': 5, 'ride_1': 2, 'ride_2': 1, 'ride_3': 2, 'ride_4': 6, 'ride_5': 3, 'ride_6': 7, 'ride_7': 0, 'ride_8': 3}. Best is trial 10 with value: 1293.4912098486411.\n",
      "[I 2024-10-18 21:44:13,053] Trial 29 finished with value: 597.2163236119441 and parameters: {'n_rides': 7, 'ride_0': 2, 'ride_1': 7, 'ride_2': 6, 'ride_3': 6, 'ride_4': 3, 'ride_5': 1, 'ride_6': 4}. Best is trial 10 with value: 1293.4912098486411.\n",
      "[I 2024-10-18 21:44:13,054] A new study created in memory with name: no-name-f77d0110-4367-4755-b0d4-ebc646bc219d\n",
      "[I 2024-10-18 21:44:13,061] Trial 0 finished with value: 1187.5138860096563 and parameters: {'n_rides': 14, 'ride_0': 2, 'ride_1': 6, 'ride_2': 5, 'ride_3': 2, 'ride_4': 1, 'ride_5': 0, 'ride_6': 7, 'ride_7': 1, 'ride_8': 2, 'ride_9': 7, 'ride_10': 2, 'ride_11': 1, 'ride_12': 3, 'ride_13': 7, 'lamb_x': 1.0258838338709344}. Best is trial 0 with value: 1187.5138860096563.\n",
      "[I 2024-10-18 21:44:13,065] Trial 1 finished with value: 987.0848577943902 and parameters: {'n_rides': 7, 'ride_0': 7, 'ride_1': 5, 'ride_2': 1, 'ride_3': 3, 'ride_4': 2, 'ride_5': 5, 'ride_6': 7, 'lamb_x': 1.1255248554771007}. Best is trial 1 with value: 987.0848577943902.\n",
      "[I 2024-10-18 21:44:13,069] Trial 2 finished with value: 1024.0069217369382 and parameters: {'n_rides': 6, 'ride_0': 6, 'ride_1': 4, 'ride_2': 1, 'ride_3': 7, 'ride_4': 4, 'ride_5': 5, 'lamb_x': 1.285277306797709}. Best is trial 1 with value: 987.0848577943902.\n",
      "[I 2024-10-18 21:44:13,080] Trial 3 finished with value: 1191.5369632090928 and parameters: {'n_rides': 18, 'ride_0': 4, 'ride_1': 7, 'ride_2': 2, 'ride_3': 6, 'ride_4': 0, 'ride_5': 0, 'ride_6': 7, 'ride_7': 4, 'ride_8': 3, 'ride_9': 5, 'ride_10': 4, 'ride_11': 6, 'ride_12': 1, 'ride_13': 5, 'ride_14': 0, 'ride_15': 5, 'ride_16': 1, 'ride_17': 7, 'lamb_x': 1.0321895975064153}. Best is trial 1 with value: 987.0848577943902.\n",
      "[I 2024-10-18 21:44:13,082] Trial 4 finished with value: 1364.0866029744925 and parameters: {'n_rides': 19, 'ride_0': 0, 'ride_1': 5, 'ride_2': 0, 'ride_3': 4, 'ride_4': 2, 'ride_5': 1, 'ride_6': 1, 'ride_7': 4, 'ride_8': 3, 'ride_9': 6, 'ride_10': 4, 'ride_11': 2, 'ride_12': 0, 'ride_13': 6, 'ride_14': 0, 'ride_15': 5, 'ride_16': 2, 'ride_17': 4, 'ride_18': 4, 'lamb_x': 1.1866561175148784}. Best is trial 1 with value: 987.0848577943902.\n",
      "[I 2024-10-18 21:44:13,089] Trial 5 finished with value: 1104.0983359836257 and parameters: {'n_rides': 5, 'ride_0': 7, 'ride_1': 3, 'ride_2': 3, 'ride_3': 2, 'ride_4': 1, 'lamb_x': 1.360655699033896}. Best is trial 1 with value: 987.0848577943902.\n"
     ]
    },
    {
     "name": "stdout",
     "output_type": "stream",
     "text": [
      "total_time: 349\n",
      "total_popularity: 269\n",
      "total_time: 38\n",
      "total_popularity: 33\n",
      "total_time: 150\n",
      "total_popularity: 100\n",
      "total_time: 188\n",
      "total_popularity: 102\n",
      "total_time: 229\n",
      "total_popularity: 157\n",
      "total_time: 552\n",
      "total_popularity: 422\n",
      "total_time: 491\n",
      "total_popularity: 262\n"
     ]
    },
    {
     "name": "stderr",
     "output_type": "stream",
     "text": [
      "[I 2024-10-18 21:44:13,096] Trial 6 finished with value: 493.7134743026173 and parameters: {'n_rides': 2, 'ride_0': 4, 'ride_1': 4, 'lamb_x': 0.6703972951451682}. Best is trial 6 with value: 493.7134743026173.\n",
      "[I 2024-10-18 21:44:13,099] Trial 7 finished with value: 1470.9117971266664 and parameters: {'n_rides': 18, 'ride_0': 3, 'ride_1': 4, 'ride_2': 3, 'ride_3': 0, 'ride_4': 5, 'ride_5': 3, 'ride_6': 3, 'ride_7': 3, 'ride_8': 3, 'ride_9': 1, 'ride_10': 4, 'ride_11': 3, 'ride_12': 6, 'ride_13': 7, 'ride_14': 4, 'ride_15': 4, 'ride_16': 5, 'ride_17': 3, 'lamb_x': 1.360363318380355}. Best is trial 6 with value: 493.7134743026173.\n",
      "[I 2024-10-18 21:44:13,109] Trial 8 finished with value: 838.9246455486004 and parameters: {'n_rides': 8, 'ride_0': 3, 'ride_1': 0, 'ride_2': 2, 'ride_3': 3, 'ride_4': 7, 'ride_5': 1, 'ride_6': 4, 'ride_7': 7, 'lamb_x': 0.7271546168473362}. Best is trial 6 with value: 493.7134743026173.\n",
      "[I 2024-10-18 21:44:13,114] Trial 9 finished with value: 640.9129321790339 and parameters: {'n_rides': 6, 'ride_0': 2, 'ride_1': 3, 'ride_2': 0, 'ride_3': 0, 'ride_4': 5, 'ride_5': 7, 'lamb_x': 0.5061331225376706}. Best is trial 6 with value: 493.7134743026173.\n",
      "[I 2024-10-18 21:44:13,119] Trial 10 finished with value: 493.96453868783334 and parameters: {'n_rides': 1, 'ride_0': 5, 'lamb_x': 0.7303519415169801}. Best is trial 6 with value: 493.7134743026173.\n",
      "[I 2024-10-18 21:44:13,139] Trial 11 finished with value: 1205.1255899187088 and parameters: {'n_rides': 1, 'ride_0': 5, 'lamb_x': 1.8450244356092615}. Best is trial 6 with value: 493.7134743026173.\n",
      "[I 2024-10-18 21:44:13,149] Trial 12 finished with value: 506.10424528442167 and parameters: {'n_rides': 1, 'ride_0': 5, 'lamb_x': 0.7493796948031688}. Best is trial 6 with value: 493.7134743026173.\n",
      "[I 2024-10-18 21:44:13,179] Trial 13 finished with value: 466.36106650766374 and parameters: {'n_rides': 3, 'ride_0': 5, 'ride_1': 1, 'ride_2': 7, 'lamb_x': 0.5444530823004133}. Best is trial 13 with value: 466.36106650766374.\n",
      "[I 2024-10-18 21:44:13,231] Trial 14 finished with value: 816.7099388420932 and parameters: {'n_rides': 12, 'ride_0': 4, 'ride_1': 1, 'ride_2': 7, 'ride_3': 5, 'ride_4': 7, 'ride_5': 7, 'ride_6': 0, 'ride_7': 0, 'ride_8': 7, 'ride_9': 0, 'ride_10': 7, 'ride_11': 7, 'lamb_x': 0.5089497474014}. Best is trial 13 with value: 466.36106650766374.\n",
      "[I 2024-10-18 21:44:13,259] Trial 15 finished with value: 1193.464154232248 and parameters: {'n_rides': 4, 'ride_0': 1, 'ride_1': 2, 'ride_2': 7, 'ride_3': 7, 'lamb_x': 1.6073105865709216}. Best is trial 13 with value: 466.36106650766374.\n",
      "[I 2024-10-18 21:44:13,307] Trial 16 finished with value: 1029.1738943856094 and parameters: {'n_rides': 10, 'ride_0': 6, 'ride_1': 0, 'ride_2': 5, 'ride_3': 1, 'ride_4': 3, 'ride_5': 3, 'ride_6': 4, 'ride_7': 7, 'ride_8': 0, 'ride_9': 3, 'lamb_x': 0.8701785178457827}. Best is trial 13 with value: 466.36106650766374.\n",
      "[I 2024-10-18 21:44:13,329] Trial 17 finished with value: 523.5747523115833 and parameters: {'n_rides': 3, 'ride_0': 4, 'ride_1': 2, 'ride_2': 5, 'lamb_x': 0.6388319001748954}. Best is trial 13 with value: 466.36106650766374.\n",
      "[I 2024-10-18 21:44:13,353] Trial 18 finished with value: 665.6056660056587 and parameters: {'n_rides': 3, 'ride_0': 6, 'ride_1': 2, 'ride_2': 6, 'lamb_x': 0.8975010438960167}. Best is trial 13 with value: 466.36106650766374.\n",
      "[I 2024-10-18 21:44:13,396] Trial 19 finished with value: 1369.2883881508371 and parameters: {'n_rides': 9, 'ride_0': 2, 'ride_1': 1, 'ride_2': 4, 'ride_3': 5, 'ride_4': 6, 'ride_5': 5, 'ride_6': 2, 'ride_7': 2, 'ride_8': 7, 'lamb_x': 1.5756871287630676}. Best is trial 13 with value: 466.36106650766374.\n",
      "[I 2024-10-18 21:44:13,462] Trial 20 finished with value: 1146.9810791415016 and parameters: {'n_rides': 15, 'ride_0': 3, 'ride_1': 5, 'ride_2': 6, 'ride_3': 5, 'ride_4': 0, 'ride_5': 2, 'ride_6': 5, 'ride_7': 6, 'ride_8': 5, 'ride_9': 3, 'ride_10': 0, 'ride_11': 0, 'ride_12': 7, 'ride_13': 0, 'ride_14': 7, 'lamb_x': 0.9059264563346422}. Best is trial 13 with value: 466.36106650766374.\n",
      "[I 2024-10-18 21:44:13,474] Trial 21 finished with value: 447.60770064689467 and parameters: {'n_rides': 1, 'ride_0': 5, 'lamb_x': 0.6576923207631578}. Best is trial 21 with value: 447.60770064689467.\n",
      "[I 2024-10-18 21:44:13,502] Trial 22 finished with value: 492.03576201560975 and parameters: {'n_rides': 3, 'ride_0': 5, 'ride_1': 1, 'ride_2': 6, 'lamb_x': 0.5893977461059714}. Best is trial 21 with value: 447.60770064689467.\n",
      "[I 2024-10-18 21:44:13,529] Trial 23 finished with value: 560.878842212853 and parameters: {'n_rides': 4, 'ride_0': 5, 'ride_1': 1, 'ride_2': 7, 'ride_3': 1, 'lamb_x': 0.5844495959449106}. Best is trial 21 with value: 447.60770064689467.\n",
      "[I 2024-10-18 21:44:13,550] Trial 24 finished with value: 646.1959109626968 and parameters: {'n_rides': 3, 'ride_0': 6, 'ride_1': 0, 'ride_2': 6, 'lamb_x': 0.821623684894509}. Best is trial 21 with value: 447.60770064689467.\n",
      "[I 2024-10-18 21:44:13,583] Trial 25 finished with value: 575.4841721228224 and parameters: {'n_rides': 5, 'ride_0': 5, 'ride_1': 1, 'ride_2': 4, 'ride_3': 4, 'ride_4': 4, 'lamb_x': 0.5948027776219786}. Best is trial 21 with value: 447.60770064689467.\n",
      "[I 2024-10-18 21:44:13,629] Trial 26 finished with value: 814.4452919823981 and parameters: {'n_rides': 12, 'ride_0': 7, 'ride_1': 2, 'ride_2': 6, 'ride_3': 6, 'ride_4': 3, 'ride_5': 6, 'ride_6': 0, 'ride_7': 5, 'ride_8': 0, 'ride_9': 2, 'ride_10': 7, 'ride_11': 5, 'lamb_x': 0.5242089216025049}. Best is trial 21 with value: 447.60770064689467.\n",
      "[I 2024-10-18 21:44:13,675] Trial 27 finished with value: 851.7418442008224 and parameters: {'n_rides': 7, 'ride_0': 6, 'ride_1': 3, 'ride_2': 7, 'ride_3': 2, 'ride_4': 6, 'ride_5': 4, 'ride_6': 5, 'lamb_x': 0.9886235802520726}. Best is trial 21 with value: 447.60770064689467.\n",
      "[I 2024-10-18 21:44:13,697] Trial 28 finished with value: 615.9297063911466 and parameters: {'n_rides': 2, 'ride_0': 5, 'ride_1': 0, 'lamb_x': 0.7898584739673145}. Best is trial 21 with value: 447.60770064689467.\n",
      "[I 2024-10-18 21:44:13,759] Trial 29 finished with value: 1267.4212151538964 and parameters: {'n_rides': 15, 'ride_0': 4, 'ride_1': 1, 'ride_2': 5, 'ride_3': 6, 'ride_4': 2, 'ride_5': 2, 'ride_6': 2, 'ride_7': 0, 'ride_8': 5, 'ride_9': 5, 'ride_10': 0, 'ride_11': 4, 'ride_12': 4, 'ride_13': 1, 'ride_14': 6, 'lamb_x': 1.0100646005546965}. Best is trial 21 with value: 447.60770064689467.\n",
      "[I 2024-10-18 21:44:13,759] A new study created in memory with name: no-name-f81946e5-c8b9-4916-b957-fe9bfd2219fe\n",
      "[I 2024-10-18 21:44:13,771] Trial 0 finished with value: 512.3230764525263 and parameters: {'n_rides': 11, 'ride_0': 2, 'ride_1': 1, 'ride_2': 6, 'ride_3': 4, 'ride_4': 1, 'ride_5': 1, 'ride_6': 5, 'ride_7': 4, 'ride_8': 0, 'ride_9': 7, 'ride_10': 2}. Best is trial 0 with value: 512.3230764525263.\n",
      "[I 2024-10-18 21:44:13,780] Trial 1 finished with value: 692.4307686033684 and parameters: {'n_rides': 18, 'ride_0': 3, 'ride_1': 7, 'ride_2': 3, 'ride_3': 4, 'ride_4': 3, 'ride_5': 3, 'ride_6': 0, 'ride_7': 1, 'ride_8': 3, 'ride_9': 0, 'ride_10': 2, 'ride_11': 1, 'ride_12': 1, 'ride_13': 0, 'ride_14': 5, 'ride_15': 2, 'ride_16': 1, 'ride_17': 2}. Best is trial 1 with value: 692.4307686033684.\n",
      "[I 2024-10-18 21:44:13,789] Trial 2 finished with value: 362.6769235474737 and parameters: {'n_rides': 11, 'ride_0': 3, 'ride_1': 6, 'ride_2': 2, 'ride_3': 4, 'ride_4': 2, 'ride_5': 6, 'ride_6': 6, 'ride_7': 5, 'ride_8': 5, 'ride_9': 6, 'ride_10': 6}. Best is trial 1 with value: 692.4307686033684.\n",
      "[I 2024-10-18 21:44:13,796] Trial 3 finished with value: 497.4038455656579 and parameters: {'n_rides': 12, 'ride_0': 6, 'ride_1': 3, 'ride_2': 6, 'ride_3': 1, 'ride_4': 3, 'ride_5': 0, 'ride_6': 7, 'ride_7': 4, 'ride_8': 6, 'ride_9': 2, 'ride_10': 4, 'ride_11': 0}. Best is trial 1 with value: 692.4307686033684.\n",
      "[I 2024-10-18 21:44:13,800] Trial 4 finished with value: 545.2499991503947 and parameters: {'n_rides': 16, 'ride_0': 6, 'ride_1': 7, 'ride_2': 5, 'ride_3': 3, 'ride_4': 3, 'ride_5': 3, 'ride_6': 5, 'ride_7': 1, 'ride_8': 2, 'ride_9': 7, 'ride_10': 2, 'ride_11': 1, 'ride_12': 3, 'ride_13': 6, 'ride_14': 7, 'ride_15': 5}. Best is trial 1 with value: 692.4307686033684.\n",
      "[I 2024-10-18 21:44:13,812] Trial 5 finished with value: 526.9076914711579 and parameters: {'n_rides': 19, 'ride_0': 6, 'ride_1': 1, 'ride_2': 6, 'ride_3': 7, 'ride_4': 1, 'ride_5': 0, 'ride_6': 0, 'ride_7': 6, 'ride_8': 7, 'ride_9': 3, 'ride_10': 0, 'ride_11': 4, 'ride_12': 3, 'ride_13': 4, 'ride_14': 4, 'ride_15': 5, 'ride_16': 2, 'ride_17': 2, 'ride_18': 4}. Best is trial 1 with value: 692.4307686033684.\n",
      "[I 2024-10-18 21:44:13,819] Trial 6 finished with value: 552.8269223580263 and parameters: {'n_rides': 19, 'ride_0': 0, 'ride_1': 3, 'ride_2': 2, 'ride_3': 5, 'ride_4': 3, 'ride_5': 5, 'ride_6': 4, 'ride_7': 6, 'ride_8': 5, 'ride_9': 4, 'ride_10': 4, 'ride_11': 5, 'ride_12': 5, 'ride_13': 1, 'ride_14': 4, 'ride_15': 7, 'ride_16': 7, 'ride_17': 0, 'ride_18': 6}. Best is trial 1 with value: 692.4307686033684.\n",
      "[I 2024-10-18 21:44:13,819] Trial 7 finished with value: 471.69615817260524 and parameters: {'n_rides': 7, 'ride_0': 7, 'ride_1': 4, 'ride_2': 5, 'ride_3': 2, 'ride_4': 2, 'ride_5': 4, 'ride_6': 5}. Best is trial 1 with value: 692.4307686033684.\n",
      "[I 2024-10-18 21:44:13,830] Trial 8 finished with value: 465.71154179460524 and parameters: {'n_rides': 6, 'ride_0': 1, 'ride_1': 2, 'ride_2': 1, 'ride_3': 5, 'ride_4': 2, 'ride_5': 7}. Best is trial 1 with value: 692.4307686033684.\n",
      "[I 2024-10-18 21:44:13,832] Trial 9 finished with value: 365.90769147115793 and parameters: {'n_rides': 17, 'ride_0': 1, 'ride_1': 6, 'ride_2': 6, 'ride_3': 2, 'ride_4': 7, 'ride_5': 0, 'ride_6': 7, 'ride_7': 6, 'ride_8': 4, 'ride_9': 6, 'ride_10': 5, 'ride_11': 6, 'ride_12': 2, 'ride_13': 1, 'ride_14': 3, 'ride_15': 5, 'ride_16': 3}. Best is trial 1 with value: 692.4307686033684.\n",
      "[I 2024-10-18 21:44:13,849] Trial 10 finished with value: 442.0846235146841 and parameters: {'n_rides': 1, 'ride_0': 4}. Best is trial 1 with value: 692.4307686033684.\n",
      "[I 2024-10-18 21:44:13,929] Trial 11 finished with value: 561.5923068296316 and parameters: {'n_rides': 20, 'ride_0': 0, 'ride_1': 4, 'ride_2': 3, 'ride_3': 6, 'ride_4': 5, 'ride_5': 4, 'ride_6': 2, 'ride_7': 1, 'ride_8': 3, 'ride_9': 0, 'ride_10': 2, 'ride_11': 4, 'ride_12': 7, 'ride_13': 0, 'ride_14': 5, 'ride_15': 2, 'ride_16': 7, 'ride_17': 0, 'ride_18': 7, 'ride_19': 0}. Best is trial 1 with value: 692.4307686033684.\n"
     ]
    },
    {
     "name": "stdout",
     "output_type": "stream",
     "text": [
      "tt_best2: 22\n",
      "22\n",
      "total_time: 696\n",
      "total_popularity: 536\n",
      "total_time: 708\n",
      "total_popularity: 724\n",
      "total_time: 624\n",
      "total_popularity: 339\n",
      "total_time: 705\n",
      "total_popularity: 527\n",
      "total_time: 725\n",
      "total_popularity: 588\n",
      "total_time: 724\n",
      "total_popularity: 569\n",
      "total_time: 715\n",
      "total_popularity: 589\n",
      "total_time: 329\n",
      "total_popularity: 254\n",
      "total_time: 405\n",
      "total_popularity: 298\n",
      "total_time: 724\n",
      "total_popularity: 408\n",
      "total_time: 38\n",
      "total_popularity: 33\n",
      "total_time: 726\n",
      "total_popularity: 605\n"
     ]
    },
    {
     "name": "stderr",
     "output_type": "stream",
     "text": [
      "[I 2024-10-18 21:44:13,994] Trial 12 finished with value: 562.9153832821579 and parameters: {'n_rides': 15, 'ride_0': 4, 'ride_1': 5, 'ride_2': 3, 'ride_3': 7, 'ride_4': 6, 'ride_5': 3, 'ride_6': 1, 'ride_7': 0, 'ride_8': 2, 'ride_9': 0, 'ride_10': 1, 'ride_11': 2, 'ride_12': 7, 'ride_13': 0, 'ride_14': 6}. Best is trial 1 with value: 692.4307686033684.\n",
      "[I 2024-10-18 21:44:14,059] Trial 13 finished with value: 620.7730762826053 and parameters: {'n_rides': 15, 'ride_0': 4, 'ride_1': 7, 'ride_2': 4, 'ride_3': 7, 'ride_4': 5, 'ride_5': 2, 'ride_6': 0, 'ride_7': 0, 'ride_8': 1, 'ride_9': 0, 'ride_10': 0, 'ride_11': 2, 'ride_12': 0, 'ride_13': 0, 'ride_14': 0}. Best is trial 1 with value: 692.4307686033684.\n",
      "[I 2024-10-18 21:44:14,119] Trial 14 finished with value: 603.9615375465789 and parameters: {'n_rides': 14, 'ride_0': 3, 'ride_1': 7, 'ride_2': 0, 'ride_3': 0, 'ride_4': 5, 'ride_5': 2, 'ride_6': 0, 'ride_7': 2, 'ride_8': 1, 'ride_9': 1, 'ride_10': 0, 'ride_11': 2, 'ride_12': 0, 'ride_13': 3}. Best is trial 1 with value: 692.4307686033684.\n",
      "[I 2024-10-18 21:44:14,161] Trial 15 finished with value: 500.55000356834205 and parameters: {'n_rides': 8, 'ride_0': 5, 'ride_1': 6, 'ride_2': 4, 'ride_3': 6, 'ride_4': 5, 'ride_5': 2, 'ride_6': 2, 'ride_7': 0}. Best is trial 1 with value: 692.4307686033684.\n"
     ]
    },
    {
     "name": "stdout",
     "output_type": "stream",
     "text": [
      "total_time: 762\n",
      "total_popularity: 630\n",
      "total_time: 709\n",
      "total_popularity: 653\n",
      "total_time: 730\n",
      "total_popularity: 650\n",
      "total_time: 387\n",
      "total_popularity: 321\n",
      "total_time: 714\n",
      "total_popularity: 668\n"
     ]
    },
    {
     "name": "stderr",
     "output_type": "stream",
     "text": [
      "[I 2024-10-18 21:44:14,219] Trial 16 finished with value: 632.4846146787895 and parameters: {'n_rides': 14, 'ride_0': 2, 'ride_1': 7, 'ride_2': 4, 'ride_3': 5, 'ride_4': 4, 'ride_5': 2, 'ride_6': 2, 'ride_7': 2, 'ride_8': 0, 'ride_9': 1, 'ride_10': 1, 'ride_11': 2, 'ride_12': 0, 'ride_13': 2}. Best is trial 1 with value: 692.4307686033684.\n",
      "[I 2024-10-18 21:44:14,295] Trial 17 finished with value: 595.8538453957368 and parameters: {'n_rides': 17, 'ride_0': 2, 'ride_1': 5, 'ride_2': 2, 'ride_3': 3, 'ride_4': 0, 'ride_5': 5, 'ride_6': 2, 'ride_7': 2, 'ride_8': 0, 'ride_9': 2, 'ride_10': 3, 'ride_11': 0, 'ride_12': 1, 'ride_13': 3, 'ride_14': 0, 'ride_15': 0, 'ride_16': 0}. Best is trial 1 with value: 692.4307686033684.\n",
      "[I 2024-10-18 21:44:14,355] Trial 18 finished with value: 492.00769181100003 and parameters: {'n_rides': 13, 'ride_0': 2, 'ride_1': 5, 'ride_2': 4, 'ride_3': 5, 'ride_4': 4, 'ride_5': 1, 'ride_6': 3, 'ride_7': 3, 'ride_8': 3, 'ride_9': 1, 'ride_10': 7, 'ride_11': 3, 'ride_12': 1}. Best is trial 1 with value: 692.4307686033684.\n",
      "[I 2024-10-18 21:44:14,397] Trial 19 finished with value: 529.4538474347895 and parameters: {'n_rides': 9, 'ride_0': 1, 'ride_1': 0, 'ride_2': 7, 'ride_3': 4, 'ride_4': 4, 'ride_5': 3, 'ride_6': 1, 'ride_7': 2, 'ride_8': 2}. Best is trial 1 with value: 692.4307686033684.\n",
      "[I 2024-10-18 21:44:14,422] Trial 20 finished with value: 434.1961598718157 and parameters: {'n_rides': 4, 'ride_0': 3, 'ride_1': 7, 'ride_2': 3, 'ride_3': 6}. Best is trial 1 with value: 692.4307686033684.\n",
      "[I 2024-10-18 21:44:14,494] Trial 21 finished with value: 568.6192298673421 and parameters: {'n_rides': 17, 'ride_0': 4, 'ride_1': 7, 'ride_2': 4, 'ride_3': 7, 'ride_4': 6, 'ride_5': 2, 'ride_6': 0, 'ride_7': 1, 'ride_8': 1, 'ride_9': 0, 'ride_10': 1, 'ride_11': 2, 'ride_12': 0, 'ride_13': 2, 'ride_14': 0, 'ride_15': 2, 'ride_16': 0}. Best is trial 1 with value: 692.4307686033684.\n"
     ]
    },
    {
     "name": "stdout",
     "output_type": "stream",
     "text": [
      "total_time: 718\n",
      "total_popularity: 634\n",
      "total_time: 698\n",
      "total_popularity: 517\n",
      "total_time: 562\n",
      "total_popularity: 465\n",
      "total_time: 199\n",
      "total_popularity: 131\n",
      "total_time: 729\n",
      "total_popularity: 614\n"
     ]
    },
    {
     "name": "stderr",
     "output_type": "stream",
     "text": [
      "[I 2024-10-18 21:44:14,554] Trial 22 finished with value: 553.7192302071842 and parameters: {'n_rides': 14, 'ride_0': 3, 'ride_1': 6, 'ride_2': 5, 'ride_3': 5, 'ride_4': 4, 'ride_5': 1, 'ride_6': 1, 'ride_7': 0, 'ride_8': 1, 'ride_9': 1, 'ride_10': 1, 'ride_11': 1, 'ride_12': 0, 'ride_13': 0}. Best is trial 1 with value: 692.4307686033684.\n",
      "[I 2024-10-18 21:44:14,630] Trial 23 finished with value: 671.5384607542105 and parameters: {'n_rides': 18, 'ride_0': 5, 'ride_1': 7, 'ride_2': 4, 'ride_3': 6, 'ride_4': 6, 'ride_5': 2, 'ride_6': 1, 'ride_7': 3, 'ride_8': 0, 'ride_9': 0, 'ride_10': 0, 'ride_11': 3, 'ride_12': 1, 'ride_13': 1, 'ride_14': 2, 'ride_15': 0, 'ride_16': 5, 'ride_17': 6}. Best is trial 1 with value: 692.4307686033684.\n",
      "[I 2024-10-18 21:44:14,714] Trial 24 finished with value: 544.3576913012369 and parameters: {'n_rides': 18, 'ride_0': 5, 'ride_1': 6, 'ride_2': 3, 'ride_3': 6, 'ride_4': 7, 'ride_5': 4, 'ride_6': 3, 'ride_7': 3, 'ride_8': 0, 'ride_9': 2, 'ride_10': 3, 'ride_11': 3, 'ride_12': 2, 'ride_13': 2, 'ride_14': 3, 'ride_15': 0, 'ride_16': 5, 'ride_17': 7}. Best is trial 1 with value: 692.4307686033684.\n"
     ]
    },
    {
     "name": "stdout",
     "output_type": "stream",
     "text": [
      "total_time: 703\n",
      "total_popularity: 582\n",
      "total_time: 720\n",
      "total_popularity: 711\n",
      "total_time: 737\n",
      "total_popularity: 595\n"
     ]
    },
    {
     "name": "stderr",
     "output_type": "stream",
     "text": [
      "[I 2024-10-18 21:44:14,800] Trial 25 finished with value: 633.1423069995526 and parameters: {'n_rides': 20, 'ride_0': 5, 'ride_1': 5, 'ride_2': 1, 'ride_3': 4, 'ride_4': 6, 'ride_5': 3, 'ride_6': 1, 'ride_7': 3, 'ride_8': 0, 'ride_9': 1, 'ride_10': 1, 'ride_11': 1, 'ride_12': 1, 'ride_13': 2, 'ride_14': 2, 'ride_15': 2, 'ride_16': 5, 'ride_17': 6, 'ride_18': 0, 'ride_19': 7}. Best is trial 1 with value: 692.4307686033684.\n",
      "[I 2024-10-18 21:44:14,889] Trial 26 finished with value: 569.9615375465789 and parameters: {'n_rides': 20, 'ride_0': 5, 'ride_1': 5, 'ride_2': 0, 'ride_3': 3, 'ride_4': 6, 'ride_5': 3, 'ride_6': 1, 'ride_7': 3, 'ride_8': 4, 'ride_9': 4, 'ride_10': 2, 'ride_11': 7, 'ride_12': 2, 'ride_13': 1, 'ride_14': 2, 'ride_15': 2, 'ride_16': 5, 'ride_17': 6, 'ride_18': 0, 'ride_19': 7}. Best is trial 1 with value: 692.4307686033684.\n",
      "[I 2024-10-18 21:44:14,979] Trial 27 finished with value: 577.1153839618421 and parameters: {'n_rides': 20, 'ride_0': 7, 'ride_1': 4, 'ride_2': 1, 'ride_3': 2, 'ride_4': 7, 'ride_5': 5, 'ride_6': 1, 'ride_7': 5, 'ride_8': 2, 'ride_9': 0, 'ride_10': 0, 'ride_11': 1, 'ride_12': 4, 'ride_13': 5, 'ride_14': 2, 'ride_15': 1, 'ride_16': 5, 'ride_17': 5, 'ride_18': 0, 'ride_19': 7}. Best is trial 1 with value: 692.4307686033684.\n"
     ]
    },
    {
     "name": "stdout",
     "output_type": "stream",
     "text": [
      "total_time: 713\n",
      "total_popularity: 668\n",
      "total_time: 730\n",
      "total_popularity: 616\n",
      "total_time: 710\n",
      "total_popularity: 610\n"
     ]
    },
    {
     "name": "stderr",
     "output_type": "stream",
     "text": [
      "[I 2024-10-18 21:44:15,059] Trial 28 finished with value: 638.3038452258158 and parameters: {'n_rides': 18, 'ride_0': 5, 'ride_1': 6, 'ride_2': 1, 'ride_3': 4, 'ride_4': 6, 'ride_5': 4, 'ride_6': 0, 'ride_7': 4, 'ride_8': 1, 'ride_9': 3, 'ride_10': 1, 'ride_11': 0, 'ride_12': 1, 'ride_13': 1, 'ride_14': 2, 'ride_15': 3, 'ride_16': 4, 'ride_17': 4}. Best is trial 1 with value: 692.4307686033684.\n",
      "[I 2024-10-18 21:44:15,139] Trial 29 finished with value: 534.969229357579 and parameters: {'n_rides': 18, 'ride_0': 6, 'ride_1': 6, 'ride_2': 2, 'ride_3': 3, 'ride_4': 6, 'ride_5': 4, 'ride_6': 0, 'ride_7': 7, 'ride_8': 3, 'ride_9': 3, 'ride_10': 3, 'ride_11': 0, 'ride_12': 1, 'ride_13': 7, 'ride_14': 1, 'ride_15': 3, 'ride_16': 3, 'ride_17': 3}. Best is trial 1 with value: 692.4307686033684.\n",
      "[I 2024-10-18 21:44:15,139] A new study created in memory with name: no-name-4fb76f05-f09d-4f72-9e2d-f812fd3f9905\n",
      "[I 2024-10-18 21:44:15,151] Trial 0 finished with value: 605.0 and parameters: {'n_rides': 15, 'ride_0': 7, 'ride_1': 5, 'ride_2': 2, 'ride_3': 0, 'ride_4': 3, 'ride_5': 7, 'ride_6': 3, 'ride_7': 3, 'ride_8': 1, 'ride_9': 1, 'ride_10': 4, 'ride_11': 1, 'ride_12': 6, 'ride_13': 6, 'ride_14': 2, 'lamb_x': 1.1992327844181414}. Best is trial 0 with value: 605.0.\n",
      "[I 2024-10-18 21:44:15,151] Trial 1 finished with value: 566.0 and parameters: {'n_rides': 12, 'ride_0': 6, 'ride_1': 2, 'ride_2': 0, 'ride_3': 6, 'ride_4': 1, 'ride_5': 2, 'ride_6': 5, 'ride_7': 7, 'ride_8': 0, 'ride_9': 5, 'ride_10': 0, 'ride_11': 6, 'lamb_x': 1.9406653245763652}. Best is trial 1 with value: 566.0.\n",
      "[I 2024-10-18 21:44:15,165] Trial 2 finished with value: 607.0 and parameters: {'n_rides': 14, 'ride_0': 1, 'ride_1': 3, 'ride_2': 7, 'ride_3': 0, 'ride_4': 6, 'ride_5': 1, 'ride_6': 3, 'ride_7': 4, 'ride_8': 1, 'ride_9': 2, 'ride_10': 3, 'ride_11': 4, 'ride_12': 6, 'ride_13': 6, 'lamb_x': 1.8866165331945113}. Best is trial 1 with value: 566.0.\n",
      "[I 2024-10-18 21:44:15,169] Trial 3 finished with value: 446.0 and parameters: {'n_rides': 8, 'ride_0': 0, 'ride_1': 0, 'ride_2': 1, 'ride_3': 1, 'ride_4': 1, 'ride_5': 6, 'ride_6': 6, 'ride_7': 4, 'lamb_x': 1.7625573949604436}. Best is trial 3 with value: 446.0.\n",
      "[I 2024-10-18 21:44:15,174] Trial 4 finished with value: 503.0 and parameters: {'n_rides': 12, 'ride_0': 0, 'ride_1': 7, 'ride_2': 5, 'ride_3': 5, 'ride_4': 1, 'ride_5': 5, 'ride_6': 6, 'ride_7': 4, 'ride_8': 1, 'ride_9': 3, 'ride_10': 3, 'ride_11': 4, 'lamb_x': 1.8266208708222562}. Best is trial 3 with value: 446.0.\n",
      "[I 2024-10-18 21:44:15,182] Trial 5 finished with value: 515.0 and parameters: {'n_rides': 13, 'ride_0': 6, 'ride_1': 0, 'ride_2': 7, 'ride_3': 2, 'ride_4': 7, 'ride_5': 2, 'ride_6': 0, 'ride_7': 2, 'ride_8': 6, 'ride_9': 3, 'ride_10': 4, 'ride_11': 7, 'ride_12': 4, 'lamb_x': 0.8850478984676999}. Best is trial 3 with value: 446.0.\n",
      "[I 2024-10-18 21:44:15,189] Trial 6 finished with value: 273.0 and parameters: {'n_rides': 7, 'ride_0': 2, 'ride_1': 7, 'ride_2': 2, 'ride_3': 5, 'ride_4': 7, 'ride_5': 7, 'ride_6': 1, 'lamb_x': 0.7293019383456671}. Best is trial 6 with value: 273.0.\n",
      "[I 2024-10-18 21:44:15,196] Trial 7 finished with value: 513.0 and parameters: {'n_rides': 14, 'ride_0': 7, 'ride_1': 3, 'ride_2': 7, 'ride_3': 6, 'ride_4': 1, 'ride_5': 2, 'ride_6': 0, 'ride_7': 3, 'ride_8': 5, 'ride_9': 5, 'ride_10': 7, 'ride_11': 2, 'ride_12': 6, 'ride_13': 1, 'lamb_x': 1.2302899670456846}. Best is trial 6 with value: 273.0.\n",
      "[I 2024-10-18 21:44:15,201] Trial 8 finished with value: 536.0 and parameters: {'n_rides': 15, 'ride_0': 2, 'ride_1': 5, 'ride_2': 2, 'ride_3': 7, 'ride_4': 3, 'ride_5': 0, 'ride_6': 5, 'ride_7': 4, 'ride_8': 2, 'ride_9': 6, 'ride_10': 0, 'ride_11': 5, 'ride_12': 4, 'ride_13': 3, 'ride_14': 1, 'lamb_x': 1.099096071770584}. Best is trial 6 with value: 273.0.\n",
      "[I 2024-10-18 21:44:15,209] Trial 9 finished with value: 238.0 and parameters: {'n_rides': 6, 'ride_0': 1, 'ride_1': 2, 'ride_2': 3, 'ride_3': 6, 'ride_4': 5, 'ride_5': 7, 'lamb_x': 1.9743012387344618}. Best is trial 9 with value: 238.0.\n",
      "[I 2024-10-18 21:44:15,224] Trial 10 finished with value: 33.0 and parameters: {'n_rides': 1, 'ride_0': 4, 'lamb_x': 1.541043082673858}. Best is trial 10 with value: 33.0.\n",
      "[I 2024-10-18 21:44:15,239] Trial 11 finished with value: 33.0 and parameters: {'n_rides': 1, 'ride_0': 4, 'lamb_x': 1.5734298076154056}. Best is trial 10 with value: 33.0.\n",
      "[I 2024-10-18 21:44:15,251] Trial 12 finished with value: 33.0 and parameters: {'n_rides': 1, 'ride_0': 4, 'lamb_x': 1.535838489123674}. Best is trial 10 with value: 33.0.\n"
     ]
    },
    {
     "name": "stdout",
     "output_type": "stream",
     "text": [
      "total_time: 731\n",
      "total_popularity: 685\n",
      "total_time: 768\n",
      "total_popularity: 606\n"
     ]
    },
    {
     "name": "stderr",
     "output_type": "stream",
     "text": [
      "[I 2024-10-18 21:44:15,329] Trial 13 finished with value: 540.0 and parameters: {'n_rides': 20, 'ride_0': 4, 'ride_1': 5, 'ride_2': 5, 'ride_3': 3, 'ride_4': 4, 'ride_5': 4, 'ride_6': 7, 'ride_7': 0, 'ride_8': 7, 'ride_9': 0, 'ride_10': 7, 'ride_11': 0, 'ride_12': 0, 'ride_13': 0, 'ride_14': 7, 'ride_15': 2, 'ride_16': 4, 'ride_17': 6, 'ride_18': 3, 'ride_19': 3, 'lamb_x': 1.522308543039424}. Best is trial 10 with value: 33.0.\n",
      "[I 2024-10-18 21:44:15,347] Trial 14 finished with value: 28.0 and parameters: {'n_rides': 1, 'ride_0': 5, 'lamb_x': 1.4970653822489175}. Best is trial 14 with value: 28.0.\n",
      "[I 2024-10-18 21:44:15,374] Trial 15 finished with value: 170.0 and parameters: {'n_rides': 4, 'ride_0': 5, 'ride_1': 1, 'ride_2': 5, 'ride_3': 3, 'lamb_x': 1.3969869123741034}. Best is trial 14 with value: 28.0.\n",
      "[I 2024-10-18 21:44:15,398] Trial 16 finished with value: 181.0 and parameters: {'n_rides': 4, 'ride_0': 3, 'ride_1': 6, 'ride_2': 0, 'ride_3': 4, 'lamb_x': 1.6767496165930589}. Best is trial 14 with value: 28.0.\n",
      "[I 2024-10-18 21:44:15,419] Trial 17 finished with value: 94.0 and parameters: {'n_rides': 3, 'ride_0': 5, 'ride_1': 4, 'ride_2': 4, 'lamb_x': 1.3909932237156588}. Best is trial 14 with value: 28.0.\n",
      "[I 2024-10-18 21:44:15,464] Trial 18 finished with value: 398.0 and parameters: {'n_rides': 9, 'ride_0': 5, 'ride_1': 1, 'ride_2': 6, 'ride_3': 2, 'ride_4': 0, 'ride_5': 4, 'ride_6': 2, 'ride_7': 7, 'ride_8': 4, 'lamb_x': 1.3782313247571574}. Best is trial 14 with value: 28.0.\n",
      "[I 2024-10-18 21:44:15,495] Trial 19 finished with value: 178.0 and parameters: {'n_rides': 5, 'ride_0': 3, 'ride_1': 4, 'ride_2': 3, 'ride_3': 7, 'ride_4': 4, 'lamb_x': 0.9849180992231266}. Best is trial 14 with value: 28.0.\n",
      "[I 2024-10-18 21:44:15,514] Trial 20 finished with value: 38.0 and parameters: {'n_rides': 2, 'ride_0': 6, 'ride_1': 6, 'lamb_x': 0.5240906049539122}. Best is trial 14 with value: 28.0.\n",
      "[I 2024-10-18 21:44:15,530] Trial 21 finished with value: 33.0 and parameters: {'n_rides': 1, 'ride_0': 4, 'lamb_x': 1.614744952801107}. Best is trial 14 with value: 28.0.\n",
      "[I 2024-10-18 21:44:15,546] Trial 22 finished with value: 45.0 and parameters: {'n_rides': 1, 'ride_0': 3, 'lamb_x': 1.4813570285111552}. Best is trial 14 with value: 28.0.\n",
      "[I 2024-10-18 21:44:15,569] Trial 23 finished with value: 116.0 and parameters: {'n_rides': 3, 'ride_0': 5, 'ride_1': 2, 'ride_2': 4, 'lamb_x': 1.6042962374309029}. Best is trial 14 with value: 28.0.\n",
      "[I 2024-10-18 21:44:15,599] Trial 24 finished with value: 182.0 and parameters: {'n_rides': 5, 'ride_0': 4, 'ride_1': 6, 'ride_2': 1, 'ride_3': 4, 'ride_4': 5, 'lamb_x': 1.6867744356705183}. Best is trial 14 with value: 28.0.\n",
      "[I 2024-10-18 21:44:15,619] Trial 25 finished with value: 116.0 and parameters: {'n_rides': 3, 'ride_0': 5, 'ride_1': 1, 'ride_2': 6, 'lamb_x': 1.318376792515225}. Best is trial 14 with value: 28.0.\n",
      "[I 2024-10-18 21:44:15,699] Trial 26 finished with value: 645.0 and parameters: {'n_rides': 19, 'ride_0': 2, 'ride_1': 3, 'ride_2': 1, 'ride_3': 1, 'ride_4': 0, 'ride_5': 0, 'ride_6': 4, 'ride_7': 0, 'ride_8': 3, 'ride_9': 7, 'ride_10': 2, 'ride_11': 2, 'ride_12': 0, 'ride_13': 3, 'ride_14': 6, 'ride_15': 7, 'ride_16': 0, 'ride_17': 0, 'ride_18': 7, 'lamb_x': 1.7616258009343}. Best is trial 14 with value: 28.0.\n",
      "[I 2024-10-18 21:44:15,745] Trial 27 finished with value: 337.0 and parameters: {'n_rides': 9, 'ride_0': 3, 'ride_1': 7, 'ride_2': 6, 'ride_3': 2, 'ride_4': 2, 'ride_5': 3, 'ride_6': 2, 'ride_7': 6, 'ride_8': 7, 'lamb_x': 1.1124050823210192}. Best is trial 14 with value: 28.0.\n",
      "[I 2024-10-18 21:44:15,766] Trial 28 finished with value: 52.0 and parameters: {'n_rides': 2, 'ride_0': 6, 'ride_1': 4, 'lamb_x': 1.4544895033933003}. Best is trial 14 with value: 28.0.\n",
      "[I 2024-10-18 21:44:15,803] Trial 29 finished with value: 267.0 and parameters: {'n_rides': 6, 'ride_0': 7, 'ride_1': 0, 'ride_2': 3, 'ride_3': 1, 'ride_4': 6, 'ride_5': 5, 'lamb_x': 1.2792581697924619}. Best is trial 14 with value: 28.0.\n",
      "[I 2024-10-18 21:44:15,803] A new study created in memory with name: no-name-f117ba4f-ef48-431f-b878-4f912f030c39\n",
      "[I 2024-10-18 21:44:15,808] Trial 0 finished with value: 836.2703951622964 and parameters: {'n_rides': 5, 'ride_0': 6, 'ride_1': 0, 'ride_2': 3, 'ride_3': 4, 'ride_4': 5}. Best is trial 0 with value: 836.2703951622964.\n",
      "[I 2024-10-18 21:44:15,813] Trial 1 finished with value: 858.9945410936947 and parameters: {'n_rides': 2, 'ride_0': 7, 'ride_1': 1}. Best is trial 1 with value: 858.9945410936947.\n",
      "[I 2024-10-18 21:44:15,814] Trial 2 finished with value: 589.3151190816818 and parameters: {'n_rides': 8, 'ride_0': 2, 'ride_1': 2, 'ride_2': 0, 'ride_3': 0, 'ride_4': 6, 'ride_5': 3, 'ride_6': 0, 'ride_7': 1}. Best is trial 1 with value: 858.9945410936947.\n",
      "[I 2024-10-18 21:44:15,819] Trial 3 finished with value: 774.4171260498506 and parameters: {'n_rides': 5, 'ride_0': 6, 'ride_1': 2, 'ride_2': 3, 'ride_3': 0, 'ride_4': 6}. Best is trial 1 with value: 858.9945410936947.\n",
      "[I 2024-10-18 21:44:15,829] Trial 4 finished with value: 649.9277495385389 and parameters: {'n_rides': 10, 'ride_0': 5, 'ride_1': 7, 'ride_2': 6, 'ride_3': 3, 'ride_4': 7, 'ride_5': 0, 'ride_6': 5, 'ride_7': 4, 'ride_8': 2, 'ride_9': 7}. Best is trial 1 with value: 858.9945410936947.\n",
      "[I 2024-10-18 21:44:15,831] Trial 5 finished with value: 592.5774150438441 and parameters: {'n_rides': 9, 'ride_0': 6, 'ride_1': 5, 'ride_2': 6, 'ride_3': 7, 'ride_4': 0, 'ride_5': 4, 'ride_6': 0, 'ride_7': 6, 'ride_8': 1}. Best is trial 1 with value: 858.9945410936947.\n",
      "[I 2024-10-18 21:44:15,831] Trial 6 finished with value: 889.3918294724068 and parameters: {'n_rides': 1, 'ride_0': 1}. Best is trial 6 with value: 889.3918294724068.\n",
      "[I 2024-10-18 21:44:15,839] Trial 7 finished with value: 531.4911961467468 and parameters: {'n_rides': 11, 'ride_0': 6, 'ride_1': 1, 'ride_2': 2, 'ride_3': 5, 'ride_4': 5, 'ride_5': 0, 'ride_6': 2, 'ride_7': 7, 'ride_8': 2, 'ride_9': 5, 'ride_10': 0}. Best is trial 6 with value: 889.3918294724068.\n",
      "[I 2024-10-18 21:44:15,849] Trial 8 finished with value: 810.9317991386059 and parameters: {'n_rides': 6, 'ride_0': 4, 'ride_1': 3, 'ride_2': 2, 'ride_3': 3, 'ride_4': 4, 'ride_5': 2}. Best is trial 6 with value: 889.3918294724068.\n",
      "[I 2024-10-18 21:44:15,850] Trial 9 finished with value: 444.6320577987987 and parameters: {'n_rides': 15, 'ride_0': 5, 'ride_1': 7, 'ride_2': 5, 'ride_3': 7, 'ride_4': 1, 'ride_5': 3, 'ride_6': 7, 'ride_7': 6, 'ride_8': 3, 'ride_9': 4, 'ride_10': 7, 'ride_11': 1, 'ride_12': 4, 'ride_13': 2, 'ride_14': 1}. Best is trial 6 with value: 889.3918294724068.\n",
      "[I 2024-10-18 21:44:15,929] Trial 10 finished with value: 503.1819463005671 and parameters: {'n_rides': 20, 'ride_0': 0, 'ride_1': 5, 'ride_2': 0, 'ride_3': 2, 'ride_4': 2, 'ride_5': 7, 'ride_6': 4, 'ride_7': 0, 'ride_8': 7, 'ride_9': 0, 'ride_10': 3, 'ride_11': 7, 'ride_12': 0, 'ride_13': 7, 'ride_14': 7, 'ride_15': 2, 'ride_16': 5, 'ride_17': 7, 'ride_18': 3, 'ride_19': 1}. Best is trial 6 with value: 889.3918294724068.\n",
      "[I 2024-10-18 21:44:15,939] Trial 11 finished with value: 867.9065025611623 and parameters: {'n_rides': 1, 'ride_0': 2}. Best is trial 6 with value: 889.3918294724068.\n",
      "[I 2024-10-18 21:44:15,950] Trial 12 finished with value: 889.3918294724068 and parameters: {'n_rides': 1, 'ride_0': 1}. Best is trial 6 with value: 889.3918294724068.\n",
      "[I 2024-10-18 21:44:15,965] Trial 13 finished with value: 877.4446525919262 and parameters: {'n_rides': 1, 'ride_0': 0}. Best is trial 6 with value: 889.3918294724068.\n",
      "[I 2024-10-18 21:44:15,982] Trial 14 finished with value: 742.7498528380388 and parameters: {'n_rides': 3, 'ride_0': 2, 'ride_1': 5, 'ride_2': 7}. Best is trial 6 with value: 889.3918294724068.\n"
     ]
    },
    {
     "name": "stdout",
     "output_type": "stream",
     "text": [
      "tt_best2: 708\n",
      "708\n",
      "total_time: 241\n",
      "total_popularity: 209\n",
      "total_time: 147\n",
      "total_popularity: 91\n",
      "total_time: 597\n",
      "total_popularity: 495\n",
      "total_time: 291\n",
      "total_popularity: 222\n",
      "total_time: 465\n",
      "total_popularity: 358\n",
      "total_time: 516\n",
      "total_popularity: 377\n",
      "total_time: 112\n",
      "total_popularity: 69\n",
      "total_time: 657\n",
      "total_popularity: 527\n",
      "total_time: 296\n",
      "total_popularity: 266\n",
      "total_time: 705\n",
      "total_popularity: 512\n",
      "total_time: 722\n",
      "total_popularity: 596\n",
      "total_time: 117\n",
      "total_popularity: 55\n",
      "total_time: 112\n",
      "total_popularity: 69\n",
      "total_time: 130\n",
      "total_popularity: 84\n",
      "total_time: 234\n",
      "total_popularity: 105\n"
     ]
    },
    {
     "name": "stderr",
     "output_type": "stream",
     "text": [
      "[I 2024-10-18 21:44:16,037] Trial 15 finished with value: 370.1819463005671 and parameters: {'n_rides': 13, 'ride_0': 1, 'ride_1': 4, 'ride_2': 4, 'ride_3': 5, 'ride_4': 3, 'ride_5': 7, 'ride_6': 7, 'ride_7': 3, 'ride_8': 6, 'ride_9': 0, 'ride_10': 7, 'ride_11': 6, 'ride_12': 7}. Best is trial 6 with value: 889.3918294724068.\n",
      "[I 2024-10-18 21:44:16,103] Trial 16 finished with value: 596.1349924165498 and parameters: {'n_rides': 17, 'ride_0': 3, 'ride_1': 6, 'ride_2': 1, 'ride_3': 1, 'ride_4': 0, 'ride_5': 5, 'ride_6': 2, 'ride_7': 3, 'ride_8': 5, 'ride_9': 2, 'ride_10': 0, 'ride_11': 0, 'ride_12': 0, 'ride_13': 0, 'ride_14': 6, 'ride_15': 7, 'ride_16': 0}. Best is trial 6 with value: 889.3918294724068.\n",
      "[I 2024-10-18 21:44:16,128] Trial 17 finished with value: 710.4875568758765 and parameters: {'n_rides': 4, 'ride_0': 1, 'ride_1': 0, 'ride_2': 7, 'ride_3': 6}. Best is trial 6 with value: 889.3918294724068.\n",
      "[I 2024-10-18 21:44:16,159] Trial 18 finished with value: 745.6518954699371 and parameters: {'n_rides': 7, 'ride_0': 1, 'ride_1': 3, 'ride_2': 4, 'ride_3': 2, 'ride_4': 2, 'ride_5': 5, 'ride_6': 5}. Best is trial 6 with value: 889.3918294724068.\n",
      "[I 2024-10-18 21:44:16,180] Trial 19 finished with value: 894.9534564451795 and parameters: {'n_rides': 3, 'ride_0': 3, 'ride_1': 4, 'ride_2': 5}. Best is trial 19 with value: 894.9534564451795.\n",
      "[I 2024-10-18 21:44:16,200] Trial 20 finished with value: 894.9534564451795 and parameters: {'n_rides': 3, 'ride_0': 3, 'ride_1': 4, 'ride_2': 5}. Best is trial 19 with value: 894.9534564451795.\n",
      "[I 2024-10-18 21:44:16,219] Trial 21 finished with value: 927.865417912647 and parameters: {'n_rides': 3, 'ride_0': 4, 'ride_1': 4, 'ride_2': 5}. Best is trial 21 with value: 927.865417912647.\n"
     ]
    },
    {
     "name": "stdout",
     "output_type": "stream",
     "text": [
      "total_time: 722\n",
      "total_popularity: 463\n",
      "total_time: 706\n",
      "total_popularity: 665\n",
      "total_time: 315\n",
      "total_popularity: 194\n",
      "total_time: 371\n",
      "total_popularity: 313\n",
      "total_time: 133\n",
      "total_popularity: 106\n",
      "total_time: 133\n",
      "total_popularity: 106\n",
      "total_time: 103\n",
      "total_popularity: 94\n"
     ]
    },
    {
     "name": "stderr",
     "output_type": "stream",
     "text": [
      "[I 2024-10-18 21:44:16,239] Trial 22 finished with value: 927.865417912647 and parameters: {'n_rides': 3, 'ride_0': 4, 'ride_1': 4, 'ride_2': 5}. Best is trial 21 with value: 927.865417912647.\n",
      "[I 2024-10-18 21:44:16,270] Trial 23 finished with value: 771.4053875788462 and parameters: {'n_rides': 6, 'ride_0': 4, 'ride_1': 4, 'ride_2': 5, 'ride_3': 5, 'ride_4': 7, 'ride_5': 1}. Best is trial 21 with value: 927.865417912647.\n",
      "[I 2024-10-18 21:44:16,295] Trial 24 finished with value: 815.7263758960302 and parameters: {'n_rides': 4, 'ride_0': 4, 'ride_1': 3, 'ride_2': 6, 'ride_3': 1}. Best is trial 21 with value: 927.865417912647.\n",
      "[I 2024-10-18 21:44:16,314] Trial 25 finished with value: 846.5385603599609 and parameters: {'n_rides': 3, 'ride_0': 3, 'ride_1': 5, 'ride_2': 5}. Best is trial 21 with value: 927.865417912647.\n",
      "[I 2024-10-18 21:44:16,355] Trial 26 finished with value: 808.505164582383 and parameters: {'n_rides': 8, 'ride_0': 5, 'ride_1': 6, 'ride_2': 4, 'ride_3': 4, 'ride_4': 3, 'ride_5': 6, 'ride_6': 2, 'ride_7': 1}. Best is trial 21 with value: 927.865417912647.\n",
      "[I 2024-10-18 21:44:16,404] Trial 27 finished with value: 526.8063152284285 and parameters: {'n_rides': 12, 'ride_0': 4, 'ride_1': 4, 'ride_2': 6, 'ride_3': 6, 'ride_4': 4, 'ride_5': 2, 'ride_6': 6, 'ride_7': 4, 'ride_8': 0, 'ride_9': 7, 'ride_10': 4, 'ride_11': 3}. Best is trial 21 with value: 927.865417912647.\n",
      "[I 2024-10-18 21:44:16,439] Trial 28 finished with value: 696.7986263574912 and parameters: {'n_rides': 7, 'ride_0': 3, 'ride_1': 2, 'ride_2': 5, 'ride_3': 1, 'ride_4': 1, 'ride_5': 5, 'ride_6': 3}. Best is trial 21 with value: 927.865417912647.\n"
     ]
    },
    {
     "name": "stdout",
     "output_type": "stream",
     "text": [
      "total_time: 103\n",
      "total_popularity: 94\n",
      "total_time: 287\n",
      "total_popularity: 213\n",
      "total_time: 226\n",
      "total_popularity: 166\n",
      "total_time: 162\n",
      "total_popularity: 101\n",
      "total_time: 321\n",
      "total_popularity: 301\n",
      "total_time: 594\n",
      "total_popularity: 428\n",
      "total_time: 421\n",
      "total_popularity: 339\n"
     ]
    },
    {
     "name": "stderr",
     "output_type": "stream",
     "text": [
      "[I 2024-10-18 21:44:16,469] Trial 29 finished with value: 838.2293105137812 and parameters: {'n_rides': 5, 'ride_0': 5, 'ride_1': 6, 'ride_2': 4, 'ride_3': 2, 'ride_4': 2}. Best is trial 21 with value: 927.865417912647.\n",
      "[I 2024-10-18 21:44:16,469] A new study created in memory with name: no-name-b9b81f7c-3f8c-4074-94cd-7fe4db3d6011\n",
      "[I 2024-10-18 21:44:16,469] Trial 0 finished with value: 672.1429328581692 and parameters: {'n_rides': 6, 'ride_0': 5, 'ride_1': 2, 'ride_2': 6, 'ride_3': 6, 'ride_4': 2, 'ride_5': 3, 'lamb_x': 0.8099514054904293}. Best is trial 0 with value: 672.1429328581692.\n",
      "[I 2024-10-18 21:44:16,481] Trial 1 finished with value: 1250.7489697895285 and parameters: {'n_rides': 6, 'ride_0': 2, 'ride_1': 7, 'ride_2': 6, 'ride_3': 3, 'ride_4': 4, 'ride_5': 3, 'lamb_x': 1.852332082207412}. Best is trial 0 with value: 672.1429328581692.\n",
      "[I 2024-10-18 21:44:16,489] Trial 2 finished with value: 1494.6768449473907 and parameters: {'n_rides': 12, 'ride_0': 4, 'ride_1': 5, 'ride_2': 5, 'ride_3': 5, 'ride_4': 5, 'ride_5': 7, 'ride_6': 5, 'ride_7': 2, 'ride_8': 7, 'ride_9': 2, 'ride_10': 1, 'ride_11': 7, 'lamb_x': 1.9329925403005217}. Best is trial 0 with value: 672.1429328581692.\n",
      "[I 2024-10-18 21:44:16,489] Trial 3 finished with value: 1149.4599681428406 and parameters: {'n_rides': 2, 'ride_0': 5, 'ride_1': 2, 'lamb_x': 1.914649853039211}. Best is trial 0 with value: 672.1429328581692.\n",
      "[I 2024-10-18 21:44:16,500] Trial 4 finished with value: 990.4373457529833 and parameters: {'n_rides': 14, 'ride_0': 2, 'ride_1': 1, 'ride_2': 0, 'ride_3': 1, 'ride_4': 4, 'ride_5': 5, 'ride_6': 7, 'ride_7': 7, 'ride_8': 1, 'ride_9': 0, 'ride_10': 1, 'ride_11': 4, 'ride_12': 1, 'ride_13': 4, 'lamb_x': 0.7584153424649611}. Best is trial 0 with value: 672.1429328581692.\n",
      "[I 2024-10-18 21:44:16,504] Trial 5 finished with value: 461.2419547016715 and parameters: {'n_rides': 2, 'ride_0': 4, 'ride_1': 4, 'lamb_x': 0.7095905829473456}. Best is trial 5 with value: 461.2419547016715.\n",
      "[I 2024-10-18 21:44:16,512] Trial 6 finished with value: 903.4710863455241 and parameters: {'n_rides': 18, 'ride_0': 4, 'ride_1': 0, 'ride_2': 6, 'ride_3': 1, 'ride_4': 3, 'ride_5': 0, 'ride_6': 1, 'ride_7': 7, 'ride_8': 2, 'ride_9': 0, 'ride_10': 5, 'ride_11': 6, 'ride_12': 2, 'ride_13': 2, 'ride_14': 1, 'ride_15': 2, 'ride_16': 3, 'ride_17': 0, 'lamb_x': 0.5250827402971707}. Best is trial 5 with value: 461.2419547016715.\n",
      "[I 2024-10-18 21:44:16,519] Trial 7 finished with value: 1532.8765311189907 and parameters: {'n_rides': 13, 'ride_0': 4, 'ride_1': 0, 'ride_2': 1, 'ride_3': 6, 'ride_4': 4, 'ride_5': 2, 'ride_6': 5, 'ride_7': 3, 'ride_8': 6, 'ride_9': 1, 'ride_10': 2, 'ride_11': 1, 'ride_12': 1, 'lamb_x': 1.7143205226552796}. Best is trial 5 with value: 461.2419547016715.\n",
      "[I 2024-10-18 21:44:16,524] Trial 8 finished with value: 882.4223716466356 and parameters: {'n_rides': 13, 'ride_0': 1, 'ride_1': 7, 'ride_2': 6, 'ride_3': 6, 'ride_4': 0, 'ride_5': 3, 'ride_6': 4, 'ride_7': 2, 'ride_8': 2, 'ride_9': 3, 'ride_10': 7, 'ride_11': 0, 'ride_12': 3, 'lamb_x': 0.6632358557390228}. Best is trial 5 with value: 461.2419547016715.\n",
      "[I 2024-10-18 21:44:16,531] Trial 9 finished with value: 1400.3897516323937 and parameters: {'n_rides': 13, 'ride_0': 6, 'ride_1': 5, 'ride_2': 1, 'ride_3': 6, 'ride_4': 0, 'ride_5': 4, 'ride_6': 1, 'ride_7': 5, 'ride_8': 1, 'ride_9': 7, 'ride_10': 4, 'ride_11': 1, 'ride_12': 2, 'lamb_x': 1.4423514391963979}. Best is trial 5 with value: 461.2419547016715.\n",
      "[I 2024-10-18 21:44:16,546] Trial 10 finished with value: 627.7854773491085 and parameters: {'n_rides': 1, 'ride_0': 7, 'lamb_x': 1.087586135276676}. Best is trial 5 with value: 461.2419547016715.\n",
      "[I 2024-10-18 21:44:16,562] Trial 11 finished with value: 625.3448277994924 and parameters: {'n_rides': 1, 'ride_0': 7, 'lamb_x': 1.0832043587064495}. Best is trial 5 with value: 461.2419547016715.\n",
      "[I 2024-10-18 21:44:16,590] Trial 12 finished with value: 754.4578274541589 and parameters: {'n_rides': 5, 'ride_0': 7, 'ride_1': 4, 'ride_2': 3, 'ride_3': 3, 'ride_4': 7, 'lamb_x': 1.0546819164347556}. Best is trial 5 with value: 461.2419547016715.\n",
      "[I 2024-10-18 21:44:16,617] Trial 13 finished with value: 985.6063726607136 and parameters: {'n_rides': 4, 'ride_0': 0, 'ride_1': 3, 'ride_2': 3, 'ride_3': 0, 'lamb_x': 1.3062951035201322}. Best is trial 5 with value: 461.2419547016715.\n",
      "[I 2024-10-18 21:44:16,661] Trial 14 finished with value: 908.0231387344159 and parameters: {'n_rides': 9, 'ride_0': 6, 'ride_1': 5, 'ride_2': 4, 'ride_3': 4, 'ride_4': 7, 'ride_5': 7, 'ride_6': 0, 'ride_7': 0, 'ride_8': 5, 'lamb_x': 0.9964508774406029}. Best is trial 5 with value: 461.2419547016715.\n"
     ]
    },
    {
     "name": "stdout",
     "output_type": "stream",
     "text": [
      "total_time: 227\n",
      "total_popularity: 190\n"
     ]
    },
    {
     "name": "stderr",
     "output_type": "stream",
     "text": [
      "[I 2024-10-18 21:44:16,701] Trial 15 finished with value: 924.0027911914444 and parameters: {'n_rides': 8, 'ride_0': 3, 'ride_1': 6, 'ride_2': 2, 'ride_3': 2, 'ride_4': 2, 'ride_5': 0, 'ride_6': 7, 'ride_7': 0, 'lamb_x': 0.9066477400205465}. Best is trial 5 with value: 461.2419547016715.\n",
      "[I 2024-10-18 21:44:16,723] Trial 16 finished with value: 810.0275512203865 and parameters: {'n_rides': 3, 'ride_0': 6, 'ride_1': 3, 'ride_2': 7, 'lamb_x': 1.2998699303777137}. Best is trial 5 with value: 461.2419547016715.\n",
      "[I 2024-10-18 21:44:16,730] Trial 17 finished with value: 329.1567316131083 and parameters: {'n_rides': 1, 'ride_0': 3, 'lamb_x': 0.5101557120522591}. Best is trial 17 with value: 329.1567316131083.\n",
      "[I 2024-10-18 21:44:16,805] Trial 18 finished with value: 746.8411074744274 and parameters: {'n_rides': 16, 'ride_0': 3, 'ride_1': 4, 'ride_2': 0, 'ride_3': 7, 'ride_4': 6, 'ride_5': 5, 'ride_6': 2, 'ride_7': 5, 'ride_8': 4, 'ride_9': 6, 'ride_10': 7, 'ride_11': 4, 'ride_12': 7, 'ride_13': 7, 'ride_14': 7, 'ride_15': 7, 'lamb_x': 0.5059983976201571}. Best is trial 17 with value: 329.1567316131083.\n",
      "[I 2024-10-18 21:44:16,844] Trial 19 finished with value: 816.0756379581178 and parameters: {'n_rides': 8, 'ride_0': 2, 'ride_1': 2, 'ride_2': 4, 'ride_3': 0, 'ride_4': 1, 'ride_5': 1, 'ride_6': 3, 'ride_7': 5, 'lamb_x': 0.6787713428332456}. Best is trial 17 with value: 329.1567316131083.\n",
      "[I 2024-10-18 21:44:16,924] Trial 20 finished with value: 1360.8570490667912 and parameters: {'n_rides': 20, 'ride_0': 3, 'ride_1': 6, 'ride_2': 2, 'ride_3': 4, 'ride_4': 6, 'ride_5': 6, 'ride_6': 6, 'ride_7': 1, 'ride_8': 0, 'ride_9': 5, 'ride_10': 0, 'ride_11': 3, 'ride_12': 6, 'ride_13': 0, 'ride_14': 6, 'ride_15': 0, 'ride_16': 7, 'ride_17': 7, 'ride_18': 2, 'ride_19': 3, 'lamb_x': 1.5114130144825693}. Best is trial 17 with value: 329.1567316131083.\n",
      "[I 2024-10-18 21:44:16,939] Trial 21 finished with value: 371.7985758917917 and parameters: {'n_rides': 1, 'ride_0': 5, 'lamb_x': 0.6172326317626422}. Best is trial 17 with value: 329.1567316131083.\n",
      "[I 2024-10-18 21:44:16,964] Trial 22 finished with value: 476.5794862767222 and parameters: {'n_rides': 3, 'ride_0': 5, 'ride_1': 1, 'ride_2': 7, 'lamb_x': 0.6419739430461799}. Best is trial 17 with value: 329.1567316131083.\n",
      "[I 2024-10-18 21:44:16,980] Trial 23 finished with value: 510.90610606929044 and parameters: {'n_rides': 1, 'ride_0': 4, 'lamb_x': 0.8580001904296058}. Best is trial 17 with value: 329.1567316131083.\n",
      "[I 2024-10-18 21:44:17,006] Trial 24 finished with value: 450.0580711178851 and parameters: {'n_rides': 4, 'ride_0': 5, 'ride_1': 4, 'ride_2': 5, 'ride_3': 2, 'lamb_x': 0.5494758906963826}. Best is trial 17 with value: 329.1567316131083.\n",
      "[I 2024-10-18 21:44:17,038] Trial 25 finished with value: 498.4591614914496 and parameters: {'n_rides': 5, 'ride_0': 5, 'ride_1': 6, 'ride_2': 5, 'ride_3': 2, 'ride_4': 2, 'lamb_x': 0.5627633060887784}. Best is trial 17 with value: 329.1567316131083.\n",
      "[I 2024-10-18 21:44:17,066] Trial 26 finished with value: 658.672351196442 and parameters: {'n_rides': 4, 'ride_0': 6, 'ride_1': 3, 'ride_2': 5, 'ride_3': 2, 'lamb_x': 0.9186218154334687}. Best is trial 17 with value: 329.1567316131083.\n",
      "[I 2024-10-18 21:44:17,114] Trial 27 finished with value: 816.8145808394795 and parameters: {'n_rides': 10, 'ride_0': 5, 'ride_1': 1, 'ride_2': 4, 'ride_3': 1, 'ride_4': 1, 'ride_5': 1, 'ride_6': 3, 'ride_7': 4, 'ride_8': 4, 'ride_9': 4, 'lamb_x': 0.6028987088680062}. Best is trial 17 with value: 329.1567316131083.\n",
      "[I 2024-10-18 21:44:17,152] Trial 28 finished with value: 723.6204449664447 and parameters: {'n_rides': 7, 'ride_0': 3, 'ride_1': 5, 'ride_2': 2, 'ride_3': 4, 'ride_4': 5, 'ride_5': 5, 'ride_6': 0, 'lamb_x': 0.7587440663670459}. Best is trial 17 with value: 329.1567316131083.\n",
      "[I 2024-10-18 21:44:17,177] Trial 29 finished with value: 552.0925020579291 and parameters: {'n_rides': 3, 'ride_0': 1, 'ride_1': 7, 'ride_2': 7, 'lamb_x': 0.7883168798167489}. Best is trial 17 with value: 329.1567316131083.\n",
      "[I 2024-10-18 21:44:17,178] A new study created in memory with name: no-name-bef53c5d-0328-4db1-a3d1-06d664d2e166\n",
      "[I 2024-10-18 21:44:17,185] Trial 0 finished with value: 557.0633043817529 and parameters: {'n_rides': 13, 'ride_0': 4, 'ride_1': 3, 'ride_2': 5, 'ride_3': 3, 'ride_4': 3, 'ride_5': 1, 'ride_6': 5, 'ride_7': 0, 'ride_8': 6, 'ride_9': 7, 'ride_10': 0, 'ride_11': 2, 'ride_12': 7}. Best is trial 0 with value: 557.0633043817529.\n",
      "[I 2024-10-18 21:44:17,192] Trial 1 finished with value: 427.0047402188786 and parameters: {'n_rides': 15, 'ride_0': 4, 'ride_1': 7, 'ride_2': 1, 'ride_3': 0, 'ride_4': 4, 'ride_5': 7, 'ride_6': 2, 'ride_7': 7, 'ride_8': 2, 'ride_9': 6, 'ride_10': 7, 'ride_11': 6, 'ride_12': 7, 'ride_13': 4, 'ride_14': 2}. Best is trial 0 with value: 557.0633043817529.\n",
      "[I 2024-10-18 21:44:17,199] Trial 2 finished with value: 588.9414358371257 and parameters: {'n_rides': 17, 'ride_0': 5, 'ride_1': 1, 'ride_2': 3, 'ride_3': 5, 'ride_4': 7, 'ride_5': 3, 'ride_6': 0, 'ride_7': 3, 'ride_8': 5, 'ride_9': 6, 'ride_10': 1, 'ride_11': 1, 'ride_12': 4, 'ride_13': 4, 'ride_14': 1, 'ride_15': 5, 'ride_16': 1}. Best is trial 2 with value: 588.9414358371257.\n",
      "[I 2024-10-18 21:44:17,205] Trial 3 finished with value: 599.3500344286554 and parameters: {'n_rides': 17, 'ride_0': 1, 'ride_1': 3, 'ride_2': 5, 'ride_3': 2, 'ride_4': 3, 'ride_5': 0, 'ride_6': 1, 'ride_7': 1, 'ride_8': 4, 'ride_9': 5, 'ride_10': 1, 'ride_11': 6, 'ride_12': 6, 'ride_13': 2, 'ride_14': 1, 'ride_15': 2, 'ride_16': 1}. Best is trial 3 with value: 599.3500344286554.\n",
      "[I 2024-10-18 21:44:17,209] Trial 4 finished with value: 402.57244053295585 and parameters: {'n_rides': 4, 'ride_0': 6, 'ride_1': 2, 'ride_2': 1, 'ride_3': 2}. Best is trial 3 with value: 599.3500344286554.\n",
      "[I 2024-10-18 21:44:17,214] Trial 5 finished with value: 366.4302605642242 and parameters: {'n_rides': 4, 'ride_0': 3, 'ride_1': 1, 'ride_2': 4, 'ride_3': 7}. Best is trial 3 with value: 599.3500344286554.\n",
      "[I 2024-10-18 21:44:17,220] Trial 6 finished with value: 531.4312801250735 and parameters: {'n_rides': 16, 'ride_0': 7, 'ride_1': 4, 'ride_2': 4, 'ride_3': 6, 'ride_4': 5, 'ride_5': 0, 'ride_6': 0, 'ride_7': 5, 'ride_8': 7, 'ride_9': 2, 'ride_10': 1, 'ride_11': 3, 'ride_12': 6, 'ride_13': 0, 'ride_14': 0, 'ride_15': 6}. Best is trial 3 with value: 599.3500344286554.\n",
      "[I 2024-10-18 21:44:17,225] Trial 7 finished with value: 355.831748827436 and parameters: {'n_rides': 2, 'ride_0': 2, 'ride_1': 4}. Best is trial 3 with value: 599.3500344286554.\n",
      "[I 2024-10-18 21:44:17,231] Trial 8 finished with value: 398.8412292651932 and parameters: {'n_rides': 6, 'ride_0': 3, 'ride_1': 4, 'ride_2': 6, 'ride_3': 0, 'ride_4': 5, 'ride_5': 7}. Best is trial 3 with value: 599.3500344286554.\n",
      "[I 2024-10-18 21:44:17,231] Trial 9 finished with value: 455.7538928013065 and parameters: {'n_rides': 11, 'ride_0': 4, 'ride_1': 1, 'ride_2': 7, 'ride_3': 3, 'ride_4': 1, 'ride_5': 2, 'ride_6': 7, 'ride_7': 7, 'ride_8': 3, 'ride_9': 5, 'ride_10': 4}. Best is trial 3 with value: 599.3500344286554.\n",
      "[I 2024-10-18 21:44:17,310] Trial 10 finished with value: 629.2687887322373 and parameters: {'n_rides': 19, 'ride_0': 0, 'ride_1': 6, 'ride_2': 2, 'ride_3': 1, 'ride_4': 0, 'ride_5': 5, 'ride_6': 3, 'ride_7': 0, 'ride_8': 1, 'ride_9': 0, 'ride_10': 3, 'ride_11': 7, 'ride_12': 2, 'ride_13': 0, 'ride_14': 7, 'ride_15': 1, 'ride_16': 5, 'ride_17': 1, 'ride_18': 0}. Best is trial 10 with value: 629.2687887322373.\n"
     ]
    },
    {
     "name": "stdout",
     "output_type": "stream",
     "text": [
      "tt_best2: 103\n",
      "103\n",
      "total_time: 703\n",
      "total_popularity: 579\n",
      "total_time: 758\n",
      "total_popularity: 477\n",
      "total_time: 715\n",
      "total_popularity: 617\n",
      "total_time: 724\n",
      "total_popularity: 632\n",
      "total_time: 259\n",
      "total_popularity: 198\n",
      "total_time: 273\n",
      "total_popularity: 169\n",
      "total_time: 716\n",
      "total_popularity: 560\n",
      "total_time: 135\n",
      "total_popularity: 88\n",
      "total_time: 331\n",
      "total_popularity: 231\n",
      "total_time: 635\n",
      "total_popularity: 443\n",
      "total_time: 732\n",
      "total_popularity: 666\n"
     ]
    },
    {
     "name": "stderr",
     "output_type": "stream",
     "text": [
      "[I 2024-10-18 21:44:17,394] Trial 11 finished with value: 612.0226815335438 and parameters: {'n_rides': 20, 'ride_0': 0, 'ride_1': 6, 'ride_2': 2, 'ride_3': 1, 'ride_4': 0, 'ride_5': 5, 'ride_6': 3, 'ride_7': 0, 'ride_8': 0, 'ride_9': 0, 'ride_10': 3, 'ride_11': 7, 'ride_12': 0, 'ride_13': 0, 'ride_14': 7, 'ride_15': 0, 'ride_16': 6, 'ride_17': 1, 'ride_18': 0, 'ride_19': 6}. Best is trial 10 with value: 629.2687887322373.\n",
      "[I 2024-10-18 21:44:17,474] Trial 12 finished with value: 602.4945845068263 and parameters: {'n_rides': 20, 'ride_0': 0, 'ride_1': 7, 'ride_2': 2, 'ride_3': 1, 'ride_4': 0, 'ride_5': 5, 'ride_6': 4, 'ride_7': 2, 'ride_8': 0, 'ride_9': 0, 'ride_10': 4, 'ride_11': 7, 'ride_12': 0, 'ride_13': 0, 'ride_14': 7, 'ride_15': 0, 'ride_16': 7, 'ride_17': 1, 'ride_18': 0, 'ride_19': 6}. Best is trial 10 with value: 629.2687887322373.\n",
      "[I 2024-10-18 21:44:17,552] Trial 13 finished with value: 612.0226815335438 and parameters: {'n_rides': 20, 'ride_0': 0, 'ride_1': 6, 'ride_2': 2, 'ride_3': 1, 'ride_4': 0, 'ride_5': 5, 'ride_6': 3, 'ride_7': 0, 'ride_8': 0, 'ride_9': 0, 'ride_10': 3, 'ride_11': 5, 'ride_12': 0, 'ride_13': 7, 'ride_14': 7, 'ride_15': 0, 'ride_16': 6, 'ride_17': 1, 'ride_18': 0, 'ride_19': 7}. Best is trial 10 with value: 629.2687887322373.\n",
      "[I 2024-10-18 21:44:17,594] Trial 14 finished with value: 487.3202425667937 and parameters: {'n_rides': 8, 'ride_0': 1, 'ride_1': 6, 'ride_2': 0, 'ride_3': 1, 'ride_4': 1, 'ride_5': 5, 'ride_6': 5, 'ride_7': 2}. Best is trial 10 with value: 629.2687887322373.\n"
     ]
    },
    {
     "name": "stdout",
     "output_type": "stream",
     "text": [
      "total_time: 707\n",
      "total_popularity: 636\n",
      "total_time: 759\n",
      "total_popularity: 653\n",
      "total_time: 707\n",
      "total_popularity: 636\n",
      "total_time: 530\n",
      "total_popularity: 421\n"
     ]
    },
    {
     "name": "stderr",
     "output_type": "stream",
     "text": [
      "[I 2024-10-18 21:44:17,678] Trial 15 finished with value: 568.0023701094393 and parameters: {'n_rides': 20, 'ride_0': 1, 'ride_1': 5, 'ride_2': 2, 'ride_3': 4, 'ride_4': 2, 'ride_5': 4, 'ride_6': 3, 'ride_7': 0, 'ride_8': 1, 'ride_9': 2, 'ride_10': 3, 'ride_11': 7, 'ride_12': 2, 'ride_13': 2, 'ride_14': 5, 'ride_15': 2, 'ride_16': 5, 'ride_17': 4, 'ride_18': 0, 'ride_19': 0}. Best is trial 10 with value: 629.2687887322373.\n",
      "[I 2024-10-18 21:44:17,732] Trial 16 finished with value: 536.492214397387 and parameters: {'n_rides': 12, 'ride_0': 0, 'ride_1': 6, 'ride_2': 0, 'ride_3': 2, 'ride_4': 0, 'ride_5': 6, 'ride_6': 2, 'ride_7': 4, 'ride_8': 2, 'ride_9': 2, 'ride_10': 6, 'ride_11': 4}. Best is trial 10 with value: 629.2687887322373.\n",
      "[I 2024-10-18 21:44:17,808] Trial 17 finished with value: 637.1875430358193 and parameters: {'n_rides': 18, 'ride_0': 2, 'ride_1': 5, 'ride_2': 3, 'ride_3': 0, 'ride_4': 2, 'ride_5': 3, 'ride_6': 4, 'ride_7': 1, 'ride_8': 1, 'ride_9': 0, 'ride_10': 5, 'ride_11': 5, 'ride_12': 2, 'ride_13': 0, 'ride_14': 5, 'ride_15': 2, 'ride_16': 4, 'ride_17': 0}. Best is trial 17 with value: 637.1875430358193.\n",
      "[I 2024-10-18 21:44:17,869] Trial 18 finished with value: 601.4312801250735 and parameters: {'n_rides': 14, 'ride_0': 2, 'ride_1': 5, 'ride_2': 3, 'ride_3': 0, 'ride_4': 2, 'ride_5': 3, 'ride_6': 5, 'ride_7': 2, 'ride_8': 2, 'ride_9': 1, 'ride_10': 5, 'ride_11': 5, 'ride_12': 2, 'ride_13': 2}. Best is trial 17 with value: 637.1875430358193.\n"
     ]
    },
    {
     "name": "stdout",
     "output_type": "stream",
     "text": [
      "total_time: 709\n",
      "total_popularity: 593\n",
      "total_time: 710\n",
      "total_popularity: 562\n",
      "total_time: 740\n",
      "total_popularity: 678\n",
      "total_time: 716\n",
      "total_popularity: 630\n"
     ]
    },
    {
     "name": "stderr",
     "output_type": "stream",
     "text": [
      "[I 2024-10-18 21:44:17,940] Trial 19 finished with value: 576.9414358371257 and parameters: {'n_rides': 18, 'ride_0': 2, 'ride_1': 5, 'ride_2': 3, 'ride_3': 4, 'ride_4': 2, 'ride_5': 2, 'ride_6': 7, 'ride_7': 1, 'ride_8': 1, 'ride_9': 3, 'ride_10': 5, 'ride_11': 5, 'ride_12': 3, 'ride_13': 1, 'ride_14': 5, 'ride_15': 3, 'ride_16': 3, 'ride_17': 7}. Best is trial 17 with value: 637.1875430358193.\n",
      "[I 2024-10-18 21:44:17,990] Trial 20 finished with value: 560.8507097029504 and parameters: {'n_rides': 9, 'ride_0': 1, 'ride_1': 7, 'ride_2': 1, 'ride_3': 0, 'ride_4': 1, 'ride_5': 4, 'ride_6': 4, 'ride_7': 1, 'ride_8': 3}. Best is trial 17 with value: 637.1875430358193.\n",
      "[I 2024-10-18 21:44:18,059] Trial 21 finished with value: 567.6976987478715 and parameters: {'n_rides': 18, 'ride_0': 0, 'ride_1': 6, 'ride_2': 2, 'ride_3': 1, 'ride_4': 0, 'ride_5': 6, 'ride_6': 2, 'ride_7': 0, 'ride_8': 0, 'ride_9': 0, 'ride_10': 2, 'ride_11': 7, 'ride_12': 1, 'ride_13': 0, 'ride_14': 5, 'ride_15': 1, 'ride_16': 4, 'ride_17': 0}. Best is trial 17 with value: 637.1875430358193.\n",
      "[I 2024-10-18 21:44:18,149] Trial 22 finished with value: 595.4336502345128 and parameters: {'n_rides': 19, 'ride_0': 2, 'ride_1': 5, 'ride_2': 4, 'ride_3': 2, 'ride_4': 1, 'ride_5': 4, 'ride_6': 3, 'ride_7': 1, 'ride_8': 1, 'ride_9': 1, 'ride_10': 5, 'ride_11': 6, 'ride_12': 2, 'ride_13': 1, 'ride_14': 7, 'ride_15': 1, 'ride_16': 4, 'ride_17': 2, 'ride_18': 5}. Best is trial 17 with value: 637.1875430358193.\n"
     ]
    },
    {
     "name": "stdout",
     "output_type": "stream",
     "text": [
      "total_time: 715\n",
      "total_popularity: 605\n",
      "total_time: 527\n",
      "total_popularity: 493\n",
      "total_time: 739\n",
      "total_popularity: 608\n",
      "total_time: 765\n",
      "total_popularity: 649\n"
     ]
    },
    {
     "name": "stderr",
     "output_type": "stream",
     "text": [
      "[I 2024-10-18 21:44:18,209] Trial 23 finished with value: 569.9414358371257 and parameters: {'n_rides': 15, 'ride_0': 1, 'ride_1': 6, 'ride_2': 3, 'ride_3': 1, 'ride_4': 2, 'ride_5': 6, 'ride_6': 4, 'ride_7': 0, 'ride_8': 1, 'ride_9': 1, 'ride_10': 3, 'ride_11': 7, 'ride_12': 4, 'ride_13': 0, 'ride_14': 6}. Best is trial 17 with value: 637.1875430358193.\n",
      "[I 2024-10-18 21:44:18,294] Trial 24 finished with value: 684.410968700969 and parameters: {'n_rides': 18, 'ride_0': 0, 'ride_1': 5, 'ride_2': 1, 'ride_3': 0, 'ride_4': 0, 'ride_5': 3, 'ride_6': 6, 'ride_7': 3, 'ride_8': 0, 'ride_9': 0, 'ride_10': 2, 'ride_11': 4, 'ride_12': 1, 'ride_13': 1, 'ride_14': 4, 'ride_15': 2, 'ride_16': 6, 'ride_17': 0}. Best is trial 24 with value: 684.410968700969.\n",
      "[I 2024-10-18 21:44:18,364] Trial 25 finished with value: 553.9617472612302 and parameters: {'n_rides': 16, 'ride_0': 3, 'ride_1': 5, 'ride_2': 1, 'ride_3': 0, 'ride_4': 1, 'ride_5': 2, 'ride_6': 6, 'ride_7': 4, 'ride_8': 2, 'ride_9': 1, 'ride_10': 2, 'ride_11': 3, 'ride_12': 3, 'ride_13': 1, 'ride_14': 3, 'ride_15': 3}. Best is trial 24 with value: 684.410968700969.\n"
     ]
    },
    {
     "name": "stdout",
     "output_type": "stream",
     "text": [
      "total_time: 715\n",
      "total_popularity: 598\n",
      "total_time: 718\n",
      "total_popularity: 714\n",
      "total_time: 713\n",
      "total_popularity: 581\n"
     ]
    },
    {
     "name": "stderr",
     "output_type": "stream",
     "text": [
      "[I 2024-10-18 21:44:18,450] Trial 26 finished with value: 630.9414358371257 and parameters: {'n_rides': 18, 'ride_0': 1, 'ride_1': 4, 'ride_2': 0, 'ride_3': 0, 'ride_4': 4, 'ride_5': 3, 'ride_6': 6, 'ride_7': 3, 'ride_8': 1, 'ride_9': 3, 'ride_10': 2, 'ride_11': 4, 'ride_12': 1, 'ride_13': 3, 'ride_14': 4, 'ride_15': 2, 'ride_16': 3, 'ride_17': 0}. Best is trial 24 with value: 684.410968700969.\n",
      "[I 2024-10-18 21:44:18,512] Trial 27 finished with value: 559.918754303582 and parameters: {'n_rides': 13, 'ride_0': 2, 'ride_1': 3, 'ride_2': 0, 'ride_3': 0, 'ride_4': 4, 'ride_5': 3, 'ride_6': 6, 'ride_7': 3, 'ride_8': 4, 'ride_9': 4, 'ride_10': 2, 'ride_11': 4, 'ride_12': 1}. Best is trial 24 with value: 684.410968700969.\n",
      "[I 2024-10-18 21:44:18,589] Trial 28 finished with value: 640.451591549178 and parameters: {'n_rides': 17, 'ride_0': 1, 'ride_1': 2, 'ride_2': 0, 'ride_3': 0, 'ride_4': 5, 'ride_5': 2, 'ride_6': 6, 'ride_7': 5, 'ride_8': 0, 'ride_9': 3, 'ride_10': 0, 'ride_11': 4, 'ride_12': 1, 'ride_13': 3, 'ride_14': 4, 'ride_15': 4, 'ride_16': 2}. Best is trial 24 with value: 684.410968700969.\n",
      "[I 2024-10-18 21:44:18,652] Trial 29 finished with value: 591.2078544599237 and parameters: {'n_rides': 13, 'ride_0': 3, 'ride_1': 0, 'ride_2': 1, 'ride_3': 3, 'ride_4': 7, 'ride_5': 1, 'ride_6': 7, 'ride_7': 6, 'ride_8': 0, 'ride_9': 4, 'ride_10': 0, 'ride_11': 2, 'ride_12': 1}. Best is trial 24 with value: 684.410968700969.\n"
     ]
    },
    {
     "name": "stdout",
     "output_type": "stream",
     "text": [
      "total_time: 715\n",
      "total_popularity: 659\n",
      "total_time: 668\n",
      "total_popularity: 564\n",
      "total_time: 714\n",
      "total_popularity: 668\n",
      "total_time: 738\n",
      "total_popularity: 631\n"
     ]
    },
    {
     "name": "stderr",
     "output_type": "stream",
     "text": [
      "[I 2024-10-18 21:44:18,654] A new study created in memory with name: no-name-f073068d-195d-42ef-9e89-2e07eadf754e\n",
      "[I 2024-10-18 21:44:18,659] Trial 0 finished with value: 356.0 and parameters: {'n_rides': 6, 'ride_0': 0, 'ride_1': 2, 'ride_2': 6, 'ride_3': 0, 'ride_4': 1, 'ride_5': 3, 'lamb_x': 1.1089810098697397}. Best is trial 0 with value: 356.0.\n",
      "[I 2024-10-18 21:44:18,663] Trial 1 finished with value: 28.0 and parameters: {'n_rides': 1, 'ride_0': 5, 'lamb_x': 0.6605095090846244}. Best is trial 1 with value: 28.0.\n",
      "[I 2024-10-18 21:44:18,663] Trial 2 finished with value: 55.0 and parameters: {'n_rides': 1, 'ride_0': 2, 'lamb_x': 1.2029929769009895}. Best is trial 1 with value: 28.0.\n",
      "[I 2024-10-18 21:44:18,669] Trial 3 finished with value: 156.0 and parameters: {'n_rides': 4, 'ride_0': 4, 'ride_1': 4, 'ride_2': 3, 'ride_3': 3, 'lamb_x': 1.1908207331448541}. Best is trial 1 with value: 28.0.\n",
      "[I 2024-10-18 21:44:18,677] Trial 4 finished with value: 388.0 and parameters: {'n_rides': 9, 'ride_0': 6, 'ride_1': 3, 'ride_2': 5, 'ride_3': 7, 'ride_4': 5, 'ride_5': 0, 'ride_6': 4, 'ride_7': 0, 'ride_8': 3, 'lamb_x': 1.8922909328122404}. Best is trial 1 with value: 28.0.\n",
      "[I 2024-10-18 21:44:18,680] Trial 5 finished with value: 655.0 and parameters: {'n_rides': 20, 'ride_0': 4, 'ride_1': 4, 'ride_2': 1, 'ride_3': 3, 'ride_4': 5, 'ride_5': 6, 'ride_6': 2, 'ride_7': 0, 'ride_8': 2, 'ride_9': 2, 'ride_10': 2, 'ride_11': 1, 'ride_12': 2, 'ride_13': 4, 'ride_14': 1, 'ride_15': 5, 'ride_16': 6, 'ride_17': 0, 'ride_18': 5, 'ride_19': 3, 'lamb_x': 1.3339965368183668}. Best is trial 1 with value: 28.0.\n",
      "[I 2024-10-18 21:44:18,680] Trial 6 finished with value: 307.0 and parameters: {'n_rides': 4, 'ride_0': 2, 'ride_1': 0, 'ride_2': 0, 'ride_3': 0, 'lamb_x': 1.6221784946313933}. Best is trial 1 with value: 28.0.\n",
      "[I 2024-10-18 21:44:18,696] Trial 7 finished with value: 657.0 and parameters: {'n_rides': 18, 'ride_0': 5, 'ride_1': 0, 'ride_2': 2, 'ride_3': 5, 'ride_4': 0, 'ride_5': 0, 'ride_6': 2, 'ride_7': 0, 'ride_8': 7, 'ride_9': 4, 'ride_10': 2, 'ride_11': 0, 'ride_12': 3, 'ride_13': 0, 'ride_14': 1, 'ride_15': 3, 'ride_16': 4, 'ride_17': 3, 'lamb_x': 1.1585766894773704}. Best is trial 1 with value: 28.0.\n",
      "[I 2024-10-18 21:44:18,699] Trial 8 finished with value: 172.0 and parameters: {'n_rides': 4, 'ride_0': 7, 'ride_1': 0, 'ride_2': 4, 'ride_3': 4, 'lamb_x': 0.7465412707494774}. Best is trial 1 with value: 28.0.\n",
      "[I 2024-10-18 21:44:18,704] Trial 9 finished with value: 86.0 and parameters: {'n_rides': 3, 'ride_0': 6, 'ride_1': 3, 'ride_2': 7, 'lamb_x': 0.9710964531318447}. Best is trial 1 with value: 28.0.\n",
      "[I 2024-10-18 21:44:18,762] Trial 10 finished with value: 334.0 and parameters: {'n_rides': 14, 'ride_0': 2, 'ride_1': 7, 'ride_2': 7, 'ride_3': 7, 'ride_4': 7, 'ride_5': 7, 'ride_6': 7, 'ride_7': 6, 'ride_8': 0, 'ride_9': 7, 'ride_10': 7, 'ride_11': 7, 'ride_12': 7, 'ride_13': 7, 'lamb_x': 0.5220596826694419}. Best is trial 1 with value: 28.0.\n",
      "[I 2024-10-18 21:44:18,778] Trial 11 finished with value: 55.0 and parameters: {'n_rides': 1, 'ride_0': 2, 'lamb_x': 0.5179952798007483}. Best is trial 1 with value: 28.0.\n",
      "[I 2024-10-18 21:44:18,822] Trial 12 finished with value: 461.0 and parameters: {'n_rides': 9, 'ride_0': 0, 'ride_1': 7, 'ride_2': 0, 'ride_3': 2, 'ride_4': 2, 'ride_5': 4, 'ride_6': 0, 'ride_7': 7, 'ride_8': 7, 'lamb_x': 1.5776382314866562}. Best is trial 1 with value: 28.0.\n",
      "[I 2024-10-18 21:44:18,830] Trial 13 finished with value: 45.0 and parameters: {'n_rides': 1, 'ride_0': 3, 'lamb_x': 0.8388400826689775}. Best is trial 1 with value: 28.0.\n",
      "[I 2024-10-18 21:44:18,893] Trial 14 finished with value: 519.0 and parameters: {'n_rides': 13, 'ride_0': 3, 'ride_1': 6, 'ride_2': 3, 'ride_3': 5, 'ride_4': 3, 'ride_5': 3, 'ride_6': 7, 'ride_7': 4, 'ride_8': 5, 'ride_9': 0, 'ride_10': 7, 'ride_11': 6, 'ride_12': 0, 'lamb_x': 0.7373886185915298}. Best is trial 1 with value: 28.0.\n",
      "[I 2024-10-18 21:44:18,930] Trial 15 finished with value: 231.0 and parameters: {'n_rides': 7, 'ride_0': 5, 'ride_1': 5, 'ride_2': 5, 'ride_3': 1, 'ride_4': 7, 'ride_5': 5, 'ride_6': 5, 'lamb_x': 0.8709207813988823}. Best is trial 1 with value: 28.0.\n",
      "[I 2024-10-18 21:44:18,946] Trial 16 finished with value: 45.0 and parameters: {'n_rides': 1, 'ride_0': 3, 'lamb_x': 0.7329227387401026}. Best is trial 1 with value: 28.0.\n",
      "[I 2024-10-18 21:44:19,003] Trial 17 finished with value: 626.0 and parameters: {'n_rides': 13, 'ride_0': 5, 'ride_1': 2, 'ride_2': 2, 'ride_3': 6, 'ride_4': 5, 'ride_5': 2, 'ride_6': 0, 'ride_7': 3, 'ride_8': 0, 'ride_9': 7, 'ride_10': 0, 'ride_11': 3, 'ride_12': 7, 'lamb_x': 0.9234964312725473}. Best is trial 1 with value: 28.0.\n",
      "[I 2024-10-18 21:44:19,039] Trial 18 finished with value: 382.0 and parameters: {'n_rides': 7, 'ride_0': 7, 'ride_1': 1, 'ride_2': 5, 'ride_3': 2, 'ride_4': 0, 'ride_5': 1, 'ride_6': 2, 'lamb_x': 0.6106101378186529}. Best is trial 1 with value: 28.0.\n",
      "[I 2024-10-18 21:44:19,088] Trial 19 finished with value: 435.0 and parameters: {'n_rides': 11, 'ride_0': 1, 'ride_1': 5, 'ride_2': 1, 'ride_3': 5, 'ride_4': 3, 'ride_5': 7, 'ride_6': 5, 'ride_7': 3, 'ride_8': 5, 'ride_9': 3, 'ride_10': 5, 'lamb_x': 1.4063084275506927}. Best is trial 1 with value: 28.0.\n",
      "[I 2024-10-18 21:44:19,111] Trial 20 finished with value: 85.0 and parameters: {'n_rides': 3, 'ride_0': 4, 'ride_1': 6, 'ride_2': 4, 'lamb_x': 0.9997186466308474}. Best is trial 1 with value: 28.0.\n",
      "[I 2024-10-18 21:44:19,130] Trial 21 finished with value: 100.0 and parameters: {'n_rides': 2, 'ride_0': 3, 'ride_1': 2, 'lamb_x': 0.7570412475466656}. Best is trial 1 with value: 28.0.\n",
      "[I 2024-10-18 21:44:19,145] Trial 22 finished with value: 45.0 and parameters: {'n_rides': 1, 'ride_0': 3, 'lamb_x': 0.6562871349839926}. Best is trial 1 with value: 28.0.\n",
      "[I 2024-10-18 21:44:19,175] Trial 23 finished with value: 209.0 and parameters: {'n_rides': 5, 'ride_0': 4, 'ride_1': 1, 'ride_2': 6, 'ride_3': 1, 'ride_4': 6, 'lamb_x': 0.83544625217058}. Best is trial 1 with value: 28.0.\n",
      "[I 2024-10-18 21:44:19,195] Trial 24 finished with value: 73.0 and parameters: {'n_rides': 2, 'ride_0': 3, 'ride_1': 5, 'lamb_x': 0.6364044457590927}. Best is trial 1 with value: 28.0.\n",
      "[I 2024-10-18 21:44:19,234] Trial 25 finished with value: 237.0 and parameters: {'n_rides': 6, 'ride_0': 1, 'ride_1': 6, 'ride_2': 2, 'ride_3': 4, 'ride_4': 4, 'ride_5': 5, 'lamb_x': 1.0518901648454027}. Best is trial 1 with value: 28.0.\n",
      "[I 2024-10-18 21:44:19,251] Trial 26 finished with value: 19.0 and parameters: {'n_rides': 1, 'ride_0': 6, 'lamb_x': 0.8272207807460474}. Best is trial 26 with value: 19.0.\n",
      "[I 2024-10-18 21:44:19,274] Trial 27 finished with value: 157.0 and parameters: {'n_rides': 3, 'ride_0': 6, 'ride_1': 1, 'ride_2': 1, 'lamb_x': 0.8747013983747144}. Best is trial 26 with value: 19.0.\n",
      "[I 2024-10-18 21:44:19,339] Trial 28 finished with value: 575.0 and parameters: {'n_rides': 16, 'ride_0': 5, 'ride_1': 4, 'ride_2': 6, 'ride_3': 2, 'ride_4': 2, 'ride_5': 2, 'ride_6': 6, 'ride_7': 5, 'ride_8': 2, 'ride_9': 5, 'ride_10': 4, 'ride_11': 4, 'ride_12': 5, 'ride_13': 0, 'ride_14': 7, 'ride_15': 0, 'lamb_x': 0.5024759007083464}. Best is trial 26 with value: 19.0.\n",
      "[I 2024-10-18 21:44:19,376] Trial 29 finished with value: 202.0 and parameters: {'n_rides': 6, 'ride_0': 6, 'ride_1': 7, 'ride_2': 3, 'ride_3': 6, 'ride_4': 1, 'ride_5': 5, 'lamb_x': 1.0321163382059442}. Best is trial 26 with value: 19.0.\n",
      "[I 2024-10-18 21:44:19,377] A new study created in memory with name: no-name-d78f2487-0cf9-47db-82ea-2f3ee0fd8a3e\n",
      "[I 2024-10-18 21:44:19,384] Trial 0 finished with value: 563.885090812999 and parameters: {'n_rides': 16, 'ride_0': 5, 'ride_1': 6, 'ride_2': 6, 'ride_3': 5, 'ride_4': 5, 'ride_5': 3, 'ride_6': 0, 'ride_7': 2, 'ride_8': 5, 'ride_9': 2, 'ride_10': 0, 'ride_11': 2, 'ride_12': 1, 'ride_13': 6, 'ride_14': 6, 'ride_15': 3}. Best is trial 0 with value: 563.885090812999.\n",
      "[I 2024-10-18 21:44:19,389] Trial 1 finished with value: 528.8785458175593 and parameters: {'n_rides': 7, 'ride_0': 3, 'ride_1': 4, 'ride_2': 6, 'ride_3': 0, 'ride_4': 3, 'ride_5': 7, 'ride_6': 0}. Best is trial 0 with value: 563.885090812999.\n",
      "[I 2024-10-18 21:44:19,395] Trial 2 finished with value: 562.6748054007164 and parameters: {'n_rides': 9, 'ride_0': 6, 'ride_1': 3, 'ride_2': 0, 'ride_3': 5, 'ride_4': 1, 'ride_5': 7, 'ride_6': 3, 'ride_7': 2, 'ride_8': 0}. Best is trial 0 with value: 563.885090812999.\n",
      "[I 2024-10-18 21:44:19,399] Trial 3 finished with value: 484.74898690926875 and parameters: {'n_rides': 16, 'ride_0': 5, 'ride_1': 7, 'ride_2': 7, 'ride_3': 4, 'ride_4': 6, 'ride_5': 6, 'ride_6': 2, 'ride_7': 0, 'ride_8': 7, 'ride_9': 6, 'ride_10': 5, 'ride_11': 1, 'ride_12': 4, 'ride_13': 2, 'ride_14': 4, 'ride_15': 4}. Best is trial 0 with value: 563.885090812999.\n",
      "[I 2024-10-18 21:44:19,399] Trial 4 finished with value: 485.8997405342885 and parameters: {'n_rides': 8, 'ride_0': 7, 'ride_1': 0, 'ride_2': 7, 'ride_3': 3, 'ride_4': 5, 'ride_5': 7, 'ride_6': 3, 'ride_7': 1}. Best is trial 0 with value: 563.885090812999.\n",
      "[I 2024-10-18 21:44:19,414] Trial 5 finished with value: 405.1312206633004 and parameters: {'n_rides': 17, 'ride_0': 1, 'ride_1': 7, 'ride_2': 2, 'ride_3': 5, 'ride_4': 4, 'ride_5': 6, 'ride_6': 2, 'ride_7': 4, 'ride_8': 7, 'ride_9': 2, 'ride_10': 7, 'ride_11': 1, 'ride_12': 0, 'ride_13': 2, 'ride_14': 5, 'ride_15': 2, 'ride_16': 0}. Best is trial 0 with value: 563.885090812999.\n",
      "[I 2024-10-18 21:44:19,419] Trial 6 finished with value: 697.7489869092688 and parameters: {'n_rides': 15, 'ride_0': 2, 'ride_1': 3, 'ride_2': 0, 'ride_3': 0, 'ride_4': 0, 'ride_5': 4, 'ride_6': 0, 'ride_7': 3, 'ride_8': 4, 'ride_9': 3, 'ride_10': 0, 'ride_11': 4, 'ride_12': 3, 'ride_13': 4, 'ride_14': 1}. Best is trial 6 with value: 697.7489869092688.\n",
      "[I 2024-10-18 21:44:19,430] Trial 7 finished with value: 588.6756362782213 and parameters: {'n_rides': 18, 'ride_0': 7, 'ride_1': 1, 'ride_2': 5, 'ride_3': 3, 'ride_4': 4, 'ride_5': 6, 'ride_6': 4, 'ride_7': 2, 'ride_8': 3, 'ride_9': 2, 'ride_10': 3, 'ride_11': 1, 'ride_12': 0, 'ride_13': 4, 'ride_14': 5, 'ride_15': 3, 'ride_16': 7, 'ride_17': 4}. Best is trial 6 with value: 697.7489869092688.\n",
      "[I 2024-10-18 21:44:19,430] Trial 8 finished with value: 493.0317920750939 and parameters: {'n_rides': 18, 'ride_0': 4, 'ride_1': 7, 'ride_2': 0, 'ride_3': 4, 'ride_4': 2, 'ride_5': 5, 'ride_6': 5, 'ride_7': 0, 'ride_8': 2, 'ride_9': 4, 'ride_10': 6, 'ride_11': 1, 'ride_12': 7, 'ride_13': 5, 'ride_14': 5, 'ride_15': 3, 'ride_16': 6, 'ride_17': 3}. Best is trial 6 with value: 697.7489869092688.\n",
      "[I 2024-10-18 21:44:19,445] Trial 9 finished with value: 501.98451940120555 and parameters: {'n_rides': 15, 'ride_0': 5, 'ride_1': 0, 'ride_2': 4, 'ride_3': 0, 'ride_4': 7, 'ride_5': 5, 'ride_6': 7, 'ride_7': 5, 'ride_8': 4, 'ride_9': 1, 'ride_10': 6, 'ride_11': 5, 'ride_12': 7, 'ride_13': 3, 'ride_14': 5}. Best is trial 6 with value: 697.7489869092688.\n",
      "[I 2024-10-18 21:44:19,463] Trial 10 finished with value: 545.0089356033548 and parameters: {'n_rides': 4, 'ride_0': 0, 'ride_1': 3, 'ride_2': 2, 'ride_3': 1}. Best is trial 6 with value: 697.7489869092688.\n",
      "[I 2024-10-18 21:44:19,524] Trial 11 finished with value: 503.4034284707609 and parameters: {'n_rides': 13, 'ride_0': 2, 'ride_1': 2, 'ride_2': 4, 'ride_3': 7, 'ride_4': 0, 'ride_5': 1, 'ride_6': 5, 'ride_7': 7, 'ride_8': 2, 'ride_9': 4, 'ride_10': 1, 'ride_11': 4, 'ride_12': 3}. Best is trial 6 with value: 697.7489869092688.\n"
     ]
    },
    {
     "name": "stdout",
     "output_type": "stream",
     "text": [
      "tt_best2: 718\n",
      "718\n",
      "total_time: 723\n",
      "total_popularity: 616\n",
      "total_time: 422\n",
      "total_popularity: 332\n",
      "total_time: 525\n",
      "total_popularity: 451\n",
      "total_time: 728\n",
      "total_popularity: 541\n",
      "total_time: 480\n",
      "total_popularity: 337\n",
      "total_time: 736\n",
      "total_popularity: 468\n",
      "total_time: 728\n",
      "total_popularity: 754\n",
      "total_time: 716\n",
      "total_popularity: 635\n",
      "total_time: 747\n",
      "total_popularity: 565\n",
      "total_time: 712\n",
      "total_popularity: 545\n",
      "total_time: 307\n",
      "total_popularity: 253\n",
      "total_time: 726\n",
      "total_popularity: 558\n"
     ]
    },
    {
     "name": "stderr",
     "output_type": "stream",
     "text": [
      "[I 2024-10-18 21:44:19,604] Trial 12 finished with value: 521.1051427061414 and parameters: {'n_rides': 20, 'ride_0': 2, 'ride_1': 1, 'ride_2': 2, 'ride_3': 2, 'ride_4': 3, 'ride_5': 3, 'ride_6': 5, 'ride_7': 3, 'ride_8': 3, 'ride_9': 0, 'ride_10': 2, 'ride_11': 7, 'ride_12': 2, 'ride_13': 4, 'ride_14': 0, 'ride_15': 7, 'ride_16': 7, 'ride_17': 7, 'ride_18': 5, 'ride_19': 7}. Best is trial 6 with value: 697.7489869092688.\n",
      "[I 2024-10-18 21:44:19,662] Trial 13 finished with value: 585.2770910478903 and parameters: {'n_rides': 12, 'ride_0': 7, 'ride_1': 5, 'ride_2': 5, 'ride_3': 2, 'ride_4': 0, 'ride_5': 4, 'ride_6': 1, 'ride_7': 5, 'ride_8': 5, 'ride_9': 3, 'ride_10': 3, 'ride_11': 3}. Best is trial 6 with value: 697.7489869092688.\n",
      "[I 2024-10-18 21:44:19,744] Trial 14 finished with value: 555.1572986204595 and parameters: {'n_rides': 20, 'ride_0': 3, 'ride_1': 2, 'ride_2': 3, 'ride_3': 7, 'ride_4': 2, 'ride_5': 1, 'ride_6': 4, 'ride_7': 3, 'ride_8': 3, 'ride_9': 6, 'ride_10': 4, 'ride_11': 5, 'ride_12': 5, 'ride_13': 7, 'ride_14': 2, 'ride_15': 0, 'ride_16': 3, 'ride_17': 0, 'ride_18': 0, 'ride_19': 0}. Best is trial 6 with value: 697.7489869092688.\n",
      "[I 2024-10-18 21:44:19,804] Trial 15 finished with value: 571.7383895509041 and parameters: {'n_rides': 13, 'ride_0': 0, 'ride_1': 2, 'ride_2': 1, 'ride_3': 2, 'ride_4': 4, 'ride_5': 4, 'ride_6': 7, 'ride_7': 2, 'ride_8': 1, 'ride_9': 3, 'ride_10': 0, 'ride_11': 0, 'ride_12': 0}. Best is trial 6 with value: 697.7489869092688.\n"
     ]
    },
    {
     "name": "stdout",
     "output_type": "stream",
     "text": [
      "total_time: 759\n",
      "total_popularity: 603\n",
      "total_time: 569\n",
      "total_popularity: 510\n",
      "total_time: 713\n",
      "total_popularity: 599\n",
      "total_time: 699\n",
      "total_popularity: 604\n"
     ]
    },
    {
     "name": "stderr",
     "output_type": "stream",
     "text": [
      "[I 2024-10-18 21:44:19,857] Trial 16 finished with value: 591.9470132081769 and parameters: {'n_rides': 11, 'ride_0': 2, 'ride_1': 4, 'ride_2': 5, 'ride_3': 1, 'ride_4': 2, 'ride_5': 2, 'ride_6': 4, 'ride_7': 4, 'ride_8': 5, 'ride_9': 5, 'ride_10': 2}. Best is trial 6 with value: 697.7489869092688.\n",
      "[I 2024-10-18 21:44:19,874] Trial 17 finished with value: 522.2909098916749 and parameters: {'n_rides': 2, 'ride_0': 2, 'ride_1': 4}. Best is trial 6 with value: 697.7489869092688.\n",
      "[I 2024-10-18 21:44:19,926] Trial 18 finished with value: 586.0154805987945 and parameters: {'n_rides': 11, 'ride_0': 1, 'ride_1': 5, 'ride_2': 3, 'ride_3': 1, 'ride_4': 1, 'ride_5': 2, 'ride_6': 2, 'ride_7': 5, 'ride_8': 5, 'ride_9': 5, 'ride_10': 1}. Best is trial 6 with value: 697.7489869092688.\n",
      "[I 2024-10-18 21:44:19,958] Trial 19 finished with value: 558.0513250368133 and parameters: {'n_rides': 6, 'ride_0': 1, 'ride_1': 5, 'ride_2': 5, 'ride_3': 0, 'ride_4': 1, 'ride_5': 0}. Best is trial 6 with value: 697.7489869092688.\n",
      "[I 2024-10-18 21:44:20,009] Trial 20 finished with value: 441.4971429410326 and parameters: {'n_rides': 10, 'ride_0': 4, 'ride_1': 4, 'ride_2': 1, 'ride_3': 1, 'ride_4': 2, 'ride_5': 2, 'ride_6': 6, 'ride_7': 7, 'ride_8': 6, 'ride_9': 7}. Best is trial 6 with value: 697.7489869092688.\n"
     ]
    },
    {
     "name": "stdout",
     "output_type": "stream",
     "text": [
      "total_time: 515\n",
      "total_popularity: 472\n",
      "total_time: 135\n",
      "total_popularity: 88\n",
      "total_time: 608\n",
      "total_popularity: 543\n",
      "total_time: 423\n",
      "total_popularity: 362\n",
      "total_time: 605\n",
      "total_popularity: 396\n"
     ]
    },
    {
     "name": "stderr",
     "output_type": "stream",
     "text": [
      "[I 2024-10-18 21:44:20,074] Trial 21 finished with value: 567.8117401819516 and parameters: {'n_rides': 14, 'ride_0': 3, 'ride_1': 1, 'ride_2': 5, 'ride_3': 3, 'ride_4': 0, 'ride_5': 5, 'ride_6': 4, 'ride_7': 3, 'ride_8': 4, 'ride_9': 2, 'ride_10': 3, 'ride_11': 3, 'ride_12': 2, 'ride_13': 0}. Best is trial 6 with value: 697.7489869092688.\n",
      "[I 2024-10-18 21:44:20,154] Trial 22 finished with value: 509.15729862045947 and parameters: {'n_rides': 18, 'ride_0': 2, 'ride_1': 3, 'ride_2': 6, 'ride_3': 1, 'ride_4': 3, 'ride_5': 2, 'ride_6': 4, 'ride_7': 4, 'ride_8': 4, 'ride_9': 5, 'ride_10': 2, 'ride_11': 7, 'ride_12': 5, 'ride_13': 4, 'ride_14': 2, 'ride_15': 6, 'ride_16': 4, 'ride_17': 5}. Best is trial 6 with value: 697.7489869092688.\n",
      "[I 2024-10-18 21:44:20,219] Trial 23 finished with value: 587.3300778397135 and parameters: {'n_rides': 14, 'ride_0': 6, 'ride_1': 1, 'ride_2': 4, 'ride_3': 0, 'ride_4': 5, 'ride_5': 4, 'ride_6': 3, 'ride_7': 1, 'ride_8': 3, 'ride_9': 1, 'ride_10': 2, 'ride_11': 5, 'ride_12': 2, 'ride_13': 5}. Best is trial 6 with value: 697.7489869092688.\n",
      "[I 2024-10-18 21:44:20,294] Trial 24 finished with value: 475.1678959788241 and parameters: {'n_rides': 18, 'ride_0': 4, 'ride_1': 2, 'ride_2': 5, 'ride_3': 2, 'ride_4': 4, 'ride_5': 6, 'ride_6': 1, 'ride_7': 4, 'ride_8': 6, 'ride_9': 3, 'ride_10': 4, 'ride_11': 4, 'ride_12': 4, 'ride_13': 2, 'ride_14': 7, 'ride_15': 0, 'ride_16': 5, 'ride_17': 3}. Best is trial 6 with value: 697.7489869092688.\n"
     ]
    },
    {
     "name": "stdout",
     "output_type": "stream",
     "text": [
      "total_time: 711\n",
      "total_popularity: 610\n",
      "total_time: 713\n",
      "total_popularity: 553\n",
      "total_time: 714\n",
      "total_popularity: 632\n",
      "total_time: 742\n",
      "total_popularity: 543\n"
     ]
    },
    {
     "name": "stderr",
     "output_type": "stream",
     "text": [
      "[I 2024-10-18 21:44:20,352] Trial 25 finished with value: 565.9682079249061 and parameters: {'n_rides': 11, 'ride_0': 1, 'ride_1': 3, 'ride_2': 3, 'ride_3': 3, 'ride_4': 2, 'ride_5': 3, 'ride_6': 6, 'ride_7': 6, 'ride_8': 2, 'ride_9': 5, 'ride_10': 1}. Best is trial 6 with value: 697.7489869092688.\n",
      "[I 2024-10-18 21:44:20,419] Trial 26 finished with value: 523.6128830055385 and parameters: {'n_rides': 15, 'ride_0': 3, 'ride_1': 6, 'ride_2': 6, 'ride_3': 1, 'ride_4': 1, 'ride_5': 1, 'ride_6': 4, 'ride_7': 2, 'ride_8': 5, 'ride_9': 4, 'ride_10': 3, 'ride_11': 2, 'ride_12': 1, 'ride_13': 3, 'ride_14': 0}. Best is trial 6 with value: 697.7489869092688.\n",
      "[I 2024-10-18 21:44:20,499] Trial 27 finished with value: 518.9478440856818 and parameters: {'n_rides': 19, 'ride_0': 2, 'ride_1': 4, 'ride_2': 4, 'ride_3': 6, 'ride_4': 3, 'ride_5': 0, 'ride_6': 5, 'ride_7': 1, 'ride_8': 6, 'ride_9': 1, 'ride_10': 0, 'ride_11': 0, 'ride_12': 6, 'ride_13': 5, 'ride_14': 2, 'ride_15': 5, 'ride_16': 2, 'ride_17': 0, 'ride_18': 7}. Best is trial 6 with value: 697.7489869092688.\n"
     ]
    },
    {
     "name": "stdout",
     "output_type": "stream",
     "text": [
      "total_time: 573\n",
      "total_popularity: 494\n",
      "total_time: 733\n",
      "total_popularity: 584\n",
      "total_time: 706\n",
      "total_popularity: 557\n"
     ]
    },
    {
     "name": "stderr",
     "output_type": "stream",
     "text": [
      "[I 2024-10-18 21:44:20,574] Trial 28 finished with value: 548.5028570589674 and parameters: {'n_rides': 16, 'ride_0': 6, 'ride_1': 1, 'ride_2': 5, 'ride_3': 0, 'ride_4': 6, 'ride_5': 5, 'ride_6': 1, 'ride_7': 3, 'ride_8': 4, 'ride_9': 3, 'ride_10': 2, 'ride_11': 2, 'ride_12': 3, 'ride_13': 1, 'ride_14': 3, 'ride_15': 2}. Best is trial 6 with value: 697.7489869092688.\n",
      "[I 2024-10-18 21:44:20,639] Trial 29 finished with value: 565.8484154974753 and parameters: {'n_rides': 12, 'ride_0': 0, 'ride_1': 6, 'ride_2': 1, 'ride_3': 2, 'ride_4': 0, 'ride_5': 2, 'ride_6': 3, 'ride_7': 4, 'ride_8': 3, 'ride_9': 2, 'ride_10': 1, 'ride_11': 6}. Best is trial 6 with value: 697.7489869092688.\n",
      "[I 2024-10-18 21:44:20,640] A new study created in memory with name: no-name-f9ead844-9b0f-4b36-89e7-702364d4e5b6\n",
      "[I 2024-10-18 21:44:20,646] Trial 0 finished with value: 512.0 and parameters: {'n_rides': 14, 'ride_0': 5, 'ride_1': 6, 'ride_2': 6, 'ride_3': 7, 'ride_4': 6, 'ride_5': 1, 'ride_6': 5, 'ride_7': 3, 'ride_8': 1, 'ride_9': 4, 'ride_10': 1, 'ride_11': 3, 'ride_12': 5, 'ride_13': 6, 'lamb_x': 1.9074039704346983}. Best is trial 0 with value: 512.0.\n",
      "[I 2024-10-18 21:44:20,649] Trial 1 finished with value: 308.0 and parameters: {'n_rides': 6, 'ride_0': 1, 'ride_1': 3, 'ride_2': 7, 'ride_3': 1, 'ride_4': 6, 'ride_5': 0, 'lamb_x': 1.2302965937524708}. Best is trial 1 with value: 308.0.\n",
      "[I 2024-10-18 21:44:20,654] Trial 2 finished with value: 395.0 and parameters: {'n_rides': 11, 'ride_0': 2, 'ride_1': 5, 'ride_2': 5, 'ride_3': 5, 'ride_4': 2, 'ride_5': 4, 'ride_6': 6, 'ride_7': 4, 'ride_8': 6, 'ride_9': 1, 'ride_10': 5, 'lamb_x': 0.6898811194625454}. Best is trial 1 with value: 308.0.\n",
      "[I 2024-10-18 21:44:20,663] Trial 3 finished with value: 554.0 and parameters: {'n_rides': 11, 'ride_0': 3, 'ride_1': 2, 'ride_2': 1, 'ride_3': 0, 'ride_4': 1, 'ride_5': 5, 'ride_6': 4, 'ride_7': 1, 'ride_8': 5, 'ride_9': 2, 'ride_10': 6, 'lamb_x': 0.6701334833088612}. Best is trial 1 with value: 308.0.\n",
      "[I 2024-10-18 21:44:20,669] Trial 4 finished with value: 268.0 and parameters: {'n_rides': 4, 'ride_0': 2, 'ride_1': 0, 'ride_2': 3, 'ride_3': 0, 'lamb_x': 0.5089383019326599}. Best is trial 4 with value: 268.0.\n",
      "[I 2024-10-18 21:44:20,674] Trial 5 finished with value: 489.0 and parameters: {'n_rides': 17, 'ride_0': 6, 'ride_1': 2, 'ride_2': 1, 'ride_3': 6, 'ride_4': 7, 'ride_5': 0, 'ride_6': 6, 'ride_7': 3, 'ride_8': 4, 'ride_9': 7, 'ride_10': 4, 'ride_11': 1, 'ride_12': 6, 'ride_13': 0, 'ride_14': 7, 'ride_15': 2, 'ride_16': 4, 'lamb_x': 0.814137286568291}. Best is trial 4 with value: 268.0.\n",
      "[I 2024-10-18 21:44:20,680] Trial 6 finished with value: 275.0 and parameters: {'n_rides': 5, 'ride_0': 0, 'ride_1': 3, 'ride_2': 2, 'ride_3': 7, 'ride_4': 1, 'lamb_x': 0.6054773394790457}. Best is trial 4 with value: 268.0.\n",
      "[I 2024-10-18 21:44:20,680] Trial 7 finished with value: 52.0 and parameters: {'n_rides': 2, 'ride_0': 4, 'ride_1': 6, 'lamb_x': 1.0624191659227822}. Best is trial 7 with value: 52.0.\n",
      "[I 2024-10-18 21:44:20,680] Trial 8 finished with value: 28.0 and parameters: {'n_rides': 1, 'ride_0': 5, 'lamb_x': 0.5299556066217983}. Best is trial 8 with value: 28.0.\n",
      "[I 2024-10-18 21:44:20,689] Trial 9 finished with value: 90.0 and parameters: {'n_rides': 2, 'ride_0': 3, 'ride_1': 3, 'lamb_x': 1.260019867417978}. Best is trial 8 with value: 28.0.\n",
      "[I 2024-10-18 21:44:20,761] Trial 10 finished with value: 557.0 and parameters: {'n_rides': 20, 'ride_0': 7, 'ride_1': 0, 'ride_2': 4, 'ride_3': 3, 'ride_4': 4, 'ride_5': 7, 'ride_6': 0, 'ride_7': 7, 'ride_8': 0, 'ride_9': 7, 'ride_10': 0, 'ride_11': 7, 'ride_12': 0, 'ride_13': 1, 'ride_14': 0, 'ride_15': 7, 'ride_16': 0, 'ride_17': 3, 'ride_18': 2, 'ride_19': 2, 'lamb_x': 1.7743778309926135}. Best is trial 8 with value: 28.0.\n"
     ]
    },
    {
     "name": "stdout",
     "output_type": "stream",
     "text": [
      "total_time: 715\n",
      "total_popularity: 594\n",
      "total_time: 717\n",
      "total_popularity: 613\n"
     ]
    },
    {
     "name": "stderr",
     "output_type": "stream",
     "text": [
      "[I 2024-10-18 21:44:20,779] Trial 11 finished with value: 28.0 and parameters: {'n_rides': 1, 'ride_0': 5, 'lamb_x': 1.0089075756034604}. Best is trial 8 with value: 28.0.\n",
      "[I 2024-10-18 21:44:20,823] Trial 12 finished with value: 325.0 and parameters: {'n_rides': 8, 'ride_0': 5, 'ride_1': 7, 'ride_2': 0, 'ride_3': 3, 'ride_4': 4, 'ride_5': 7, 'ride_6': 1, 'ride_7': 7, 'lamb_x': 0.95999347952201}. Best is trial 8 with value: 28.0.\n",
      "[I 2024-10-18 21:44:20,834] Trial 13 finished with value: 22.0 and parameters: {'n_rides': 1, 'ride_0': 7, 'lamb_x': 1.464675021639216}. Best is trial 13 with value: 22.0.\n",
      "[I 2024-10-18 21:44:20,879] Trial 14 finished with value: 383.0 and parameters: {'n_rides': 8, 'ride_0': 7, 'ride_1': 5, 'ride_2': 7, 'ride_3': 4, 'ride_4': 0, 'ride_5': 2, 'ride_6': 2, 'ride_7': 0, 'lamb_x': 1.5848535194078737}. Best is trial 13 with value: 22.0.\n",
      "[I 2024-10-18 21:44:20,894] Trial 15 finished with value: 19.0 and parameters: {'n_rides': 1, 'ride_0': 6, 'lamb_x': 1.546238568422321}. Best is trial 15 with value: 19.0.\n",
      "[I 2024-10-18 21:44:20,931] Trial 16 finished with value: 314.0 and parameters: {'n_rides': 7, 'ride_0': 7, 'ride_1': 1, 'ride_2': 4, 'ride_3': 2, 'ride_4': 3, 'ride_5': 3, 'ride_6': 3, 'lamb_x': 1.5074749851990725}. Best is trial 15 with value: 19.0.\n",
      "[I 2024-10-18 21:44:20,956] Trial 17 finished with value: 164.0 and parameters: {'n_rides': 4, 'ride_0': 6, 'ride_1': 4, 'ride_2': 0, 'ride_3': 5, 'lamb_x': 1.4930307126262519}. Best is trial 15 with value: 19.0.\n",
      "[I 2024-10-18 21:44:21,011] Trial 18 finished with value: 398.0 and parameters: {'n_rides': 13, 'ride_0': 6, 'ride_1': 7, 'ride_2': 5, 'ride_3': 2, 'ride_4': 5, 'ride_5': 5, 'ride_6': 7, 'ride_7': 5, 'ride_8': 7, 'ride_9': 4, 'ride_10': 7, 'ride_11': 7, 'ride_12': 1, 'lamb_x': 1.6673146086548067}. Best is trial 15 with value: 19.0.\n",
      "[I 2024-10-18 21:44:21,036] Trial 19 finished with value: 147.0 and parameters: {'n_rides': 3, 'ride_0': 4, 'ride_1': 1, 'ride_2': 3, 'lamb_x': 1.3563600197211914}. Best is trial 15 with value: 19.0.\n",
      "[I 2024-10-18 21:44:21,080] Trial 20 finished with value: 446.0 and parameters: {'n_rides': 9, 'ride_0': 6, 'ride_1': 4, 'ride_2': 2, 'ride_3': 5, 'ride_4': 0, 'ride_5': 6, 'ride_6': 0, 'ride_7': 1, 'ride_8': 2, 'lamb_x': 1.9970643560801773}. Best is trial 15 with value: 19.0.\n",
      "[I 2024-10-18 21:44:21,095] Trial 21 finished with value: 28.0 and parameters: {'n_rides': 1, 'ride_0': 5, 'lamb_x': 1.3765948998179107}. Best is trial 15 with value: 19.0.\n",
      "[I 2024-10-18 21:44:21,111] Trial 22 finished with value: 22.0 and parameters: {'n_rides': 1, 'ride_0': 7, 'lamb_x': 1.7212613713670875}. Best is trial 15 with value: 19.0.\n",
      "[I 2024-10-18 21:44:21,137] Trial 23 finished with value: 138.0 and parameters: {'n_rides': 4, 'ride_0': 7, 'ride_1': 5, 'ride_2': 6, 'ride_3': 1, 'lamb_x': 1.7499946372820852}. Best is trial 15 with value: 19.0.\n",
      "[I 2024-10-18 21:44:21,161] Trial 24 finished with value: 119.0 and parameters: {'n_rides': 3, 'ride_0': 7, 'ride_1': 1, 'ride_2': 5, 'lamb_x': 1.841758678779481}. Best is trial 15 with value: 19.0.\n",
      "[I 2024-10-18 21:44:21,194] Trial 25 finished with value: 193.0 and parameters: {'n_rides': 6, 'ride_0': 6, 'ride_1': 6, 'ride_2': 2, 'ride_3': 4, 'ride_4': 7, 'ride_5': 3, 'lamb_x': 1.6352817679988614}. Best is trial 15 with value: 19.0.\n",
      "[I 2024-10-18 21:44:21,218] Trial 26 finished with value: 96.0 and parameters: {'n_rides': 3, 'ride_0': 7, 'ride_1': 2, 'ride_2': 6, 'lamb_x': 1.433440548169707}. Best is trial 15 with value: 19.0.\n",
      "[I 2024-10-18 21:44:21,233] Trial 27 finished with value: 19.0 and parameters: {'n_rides': 1, 'ride_0': 6, 'lamb_x': 1.1987429709661763}. Best is trial 15 with value: 19.0.\n",
      "[I 2024-10-18 21:44:21,265] Trial 28 finished with value: 199.0 and parameters: {'n_rides': 5, 'ride_0': 4, 'ride_1': 4, 'ride_2': 1, 'ride_3': 6, 'ride_4': 3, 'lamb_x': 1.2268320633928957}. Best is trial 15 with value: 19.0.\n",
      "[I 2024-10-18 21:44:21,329] Trial 29 finished with value: 657.0 and parameters: {'n_rides': 15, 'ride_0': 6, 'ride_1': 0, 'ride_2': 3, 'ride_3': 2, 'ride_4': 5, 'ride_5': 2, 'ride_6': 3, 'ride_7': 5, 'ride_8': 3, 'ride_9': 0, 'ride_10': 2, 'ride_11': 1, 'ride_12': 3, 'ride_13': 7, 'ride_14': 3, 'lamb_x': 1.1225895049215358}. Best is trial 15 with value: 19.0.\n",
      "[I 2024-10-18 21:44:21,329] A new study created in memory with name: no-name-59db643f-cd82-4c91-8fae-7b089d3215eb\n",
      "[I 2024-10-18 21:44:21,335] Trial 0 finished with value: 868.9084571795346 and parameters: {'n_rides': 2, 'ride_0': 1, 'ride_1': 0}. Best is trial 0 with value: 868.9084571795346.\n",
      "[I 2024-10-18 21:44:21,340] Trial 1 finished with value: 645.4858687999036 and parameters: {'n_rides': 16, 'ride_0': 7, 'ride_1': 4, 'ride_2': 1, 'ride_3': 3, 'ride_4': 5, 'ride_5': 1, 'ride_6': 3, 'ride_7': 0, 'ride_8': 0, 'ride_9': 3, 'ride_10': 3, 'ride_11': 2, 'ride_12': 4, 'ride_13': 0, 'ride_14': 7, 'ride_15': 5}. Best is trial 0 with value: 868.9084571795346.\n",
      "[I 2024-10-18 21:44:21,346] Trial 2 finished with value: 587.5869701893938 and parameters: {'n_rides': 11, 'ride_0': 0, 'ride_1': 1, 'ride_2': 2, 'ride_3': 0, 'ride_4': 3, 'ride_5': 0, 'ride_6': 4, 'ride_7': 4, 'ride_8': 0, 'ride_9': 3, 'ride_10': 1}. Best is trial 0 with value: 868.9084571795346.\n",
      "[I 2024-10-18 21:44:21,349] Trial 3 finished with value: 475.8557773472822 and parameters: {'n_rides': 13, 'ride_0': 0, 'ride_1': 1, 'ride_2': 3, 'ride_3': 5, 'ride_4': 6, 'ride_5': 4, 'ride_6': 7, 'ride_7': 0, 'ride_8': 3, 'ride_9': 7, 'ride_10': 1, 'ride_11': 5, 'ride_12': 4}. Best is trial 0 with value: 868.9084571795346.\n",
      "[I 2024-10-18 21:44:21,349] Trial 4 finished with value: 905.2117613480051 and parameters: {'n_rides': 2, 'ride_0': 3, 'ride_1': 0}. Best is trial 4 with value: 905.2117613480051.\n",
      "[I 2024-10-18 21:44:21,363] Trial 5 finished with value: 491.6794473262384 and parameters: {'n_rides': 20, 'ride_0': 2, 'ride_1': 2, 'ride_2': 2, 'ride_3': 6, 'ride_4': 4, 'ride_5': 1, 'ride_6': 3, 'ride_7': 0, 'ride_8': 6, 'ride_9': 6, 'ride_10': 4, 'ride_11': 3, 'ride_12': 2, 'ride_13': 5, 'ride_14': 5, 'ride_15': 0, 'ride_16': 4, 'ride_17': 0, 'ride_18': 4, 'ride_19': 2}. Best is trial 4 with value: 905.2117613480051.\n",
      "[I 2024-10-18 21:44:21,369] Trial 6 finished with value: 713.0368866528383 and parameters: {'n_rides': 11, 'ride_0': 5, 'ride_1': 6, 'ride_2': 4, 'ride_3': 2, 'ride_4': 3, 'ride_5': 6, 'ride_6': 3, 'ride_7': 2, 'ride_8': 3, 'ride_9': 4, 'ride_10': 0}. Best is trial 4 with value: 905.2117613480051.\n",
      "[I 2024-10-18 21:44:21,376] Trial 7 finished with value: 887.3967156216944 and parameters: {'n_rides': 3, 'ride_0': 5, 'ride_1': 7, 'ride_2': 2}. Best is trial 4 with value: 905.2117613480051.\n",
      "[I 2024-10-18 21:44:21,380] Trial 8 finished with value: 420.49449305254916 and parameters: {'n_rides': 18, 'ride_0': 1, 'ride_1': 5, 'ride_2': 5, 'ride_3': 1, 'ride_4': 4, 'ride_5': 5, 'ride_6': 7, 'ride_7': 0, 'ride_8': 7, 'ride_9': 2, 'ride_10': 4, 'ride_11': 5, 'ride_12': 7, 'ride_13': 1, 'ride_14': 7, 'ride_15': 6, 'ride_16': 6, 'ride_17': 2}. Best is trial 4 with value: 905.2117613480051.\n",
      "[I 2024-10-18 21:44:21,380] Trial 9 finished with value: 899.7752484217185 and parameters: {'n_rides': 2, 'ride_0': 2, 'ride_1': 4}. Best is trial 4 with value: 905.2117613480051.\n",
      "[I 2024-10-18 21:44:21,416] Trial 10 finished with value: 609.1897335582016 and parameters: {'n_rides': 6, 'ride_0': 4, 'ride_1': 2, 'ride_2': 6, 'ride_3': 7, 'ride_4': 0, 'ride_5': 7}. Best is trial 4 with value: 905.2117613480051.\n",
      "[I 2024-10-18 21:44:21,445] Trial 11 finished with value: 804.359828968856 and parameters: {'n_rides': 6, 'ride_0': 3, 'ride_1': 3, 'ride_2': 7, 'ride_3': 4, 'ride_4': 0, 'ride_5': 3}. Best is trial 4 with value: 905.2117613480051.\n",
      "[I 2024-10-18 21:44:21,457] Trial 12 finished with value: 968.1044253481257 and parameters: {'n_rides': 1, 'ride_0': 3}. Best is trial 12 with value: 968.1044253481257.\n",
      "[I 2024-10-18 21:44:21,486] Trial 13 finished with value: 698.2069820634927 and parameters: {'n_rides': 6, 'ride_0': 4, 'ride_1': 0, 'ride_2': 0, 'ride_3': 7, 'ride_4': 7, 'ride_5': 3}. Best is trial 12 with value: 968.1044253481257.\n",
      "[I 2024-10-18 21:44:21,498] Trial 14 finished with value: 968.1044253481257 and parameters: {'n_rides': 1, 'ride_0': 3}. Best is trial 12 with value: 968.1044253481257.\n",
      "[I 2024-10-18 21:44:21,534] Trial 15 finished with value: 561.9357852633482 and parameters: {'n_rides': 8, 'ride_0': 6, 'ride_1': 7, 'ride_2': 7, 'ride_3': 0, 'ride_4': 2, 'ride_5': 7, 'ride_6': 0, 'ride_7': 7}. Best is trial 12 with value: 968.1044253481257.\n"
     ]
    },
    {
     "name": "stdout",
     "output_type": "stream",
     "text": [
      "tt_best2: 728\n",
      "728\n",
      "total_time: 197\n",
      "total_popularity: 153\n",
      "total_time: 736\n",
      "total_popularity: 763\n",
      "total_time: 723\n",
      "total_popularity: 685\n",
      "total_time: 728\n",
      "total_popularity: 581\n",
      "total_time: 158\n",
      "total_popularity: 129\n",
      "total_time: 721\n",
      "total_popularity: 586\n",
      "total_time: 497\n",
      "total_popularity: 461\n",
      "total_time: 154\n",
      "total_popularity: 105\n",
      "total_time: 725\n",
      "total_popularity: 521\n",
      "total_time: 135\n",
      "total_popularity: 88\n",
      "total_time: 418\n",
      "total_popularity: 235\n",
      "total_time: 317\n",
      "total_popularity: 274\n",
      "total_time: 63\n",
      "total_popularity: 45\n",
      "total_time: 396\n",
      "total_popularity: 290\n",
      "total_time: 63\n",
      "total_popularity: 45\n",
      "total_time: 510\n",
      "total_popularity: 330\n"
     ]
    },
    {
     "name": "stderr",
     "output_type": "stream",
     "text": [
      "[I 2024-10-18 21:44:21,554] Trial 16 finished with value: 773.2846003373025 and parameters: {'n_rides': 4, 'ride_0': 2, 'ride_1': 5, 'ride_2': 0, 'ride_3': 3}. Best is trial 12 with value: 968.1044253481257.\n",
      "[I 2024-10-18 21:44:21,562] Trial 17 finished with value: 1014.5002066534408 and parameters: {'n_rides': 1, 'ride_0': 5}. Best is trial 17 with value: 1014.5002066534408.\n",
      "[I 2024-10-18 21:44:21,607] Trial 18 finished with value: 679.1638608002651 and parameters: {'n_rides': 8, 'ride_0': 5, 'ride_1': 3, 'ride_2': 5, 'ride_3': 5, 'ride_4': 1, 'ride_5': 2, 'ride_6': 0, 'ride_7': 6}. Best is trial 17 with value: 1014.5002066534408.\n",
      "[I 2024-10-18 21:44:21,629] Trial 19 finished with value: 889.749375663782 and parameters: {'n_rides': 4, 'ride_0': 7, 'ride_1': 6, 'ride_2': 4, 'ride_3': 2}. Best is trial 17 with value: 1014.5002066534408.\n",
      "[I 2024-10-18 21:44:21,687] Trial 20 finished with value: 396.4858687999036 and parameters: {'n_rides': 14, 'ride_0': 6, 'ride_1': 5, 'ride_2': 6, 'ride_3': 5, 'ride_4': 7, 'ride_5': 5, 'ride_6': 5, 'ride_7': 4, 'ride_8': 5, 'ride_9': 1, 'ride_10': 7, 'ride_11': 0, 'ride_12': 0, 'ride_13': 7}. Best is trial 17 with value: 1014.5002066534408.\n",
      "[I 2024-10-18 21:44:21,699] Trial 21 finished with value: 994.7603895586836 and parameters: {'n_rides': 1, 'ride_0': 4}. Best is trial 17 with value: 1014.5002066534408.\n",
      "[I 2024-10-18 21:44:21,711] Trial 22 finished with value: 994.7603895586836 and parameters: {'n_rides': 1, 'ride_0': 4}. Best is trial 17 with value: 1014.5002066534408.\n",
      "[I 2024-10-18 21:44:21,734] Trial 23 finished with value: 874.6137772637096 and parameters: {'n_rides': 4, 'ride_0': 4, 'ride_1': 2, 'ride_2': 3, 'ride_3': 1}. Best is trial 17 with value: 1014.5002066534408.\n",
      "[I 2024-10-18 21:44:21,770] Trial 24 finished with value: 693.6928508633964 and parameters: {'n_rides': 8, 'ride_0': 6, 'ride_1': 6, 'ride_2': 1, 'ride_3': 4, 'ride_4': 2, 'ride_5': 0, 'ride_6': 1, 'ride_7': 2}. Best is trial 17 with value: 1014.5002066534408.\n"
     ]
    },
    {
     "name": "stdout",
     "output_type": "stream",
     "text": [
      "total_time: 297\n",
      "total_popularity: 212\n",
      "total_time: 22\n",
      "total_popularity: 28\n",
      "total_time: 451\n",
      "total_popularity: 356\n",
      "total_time: 168\n",
      "total_popularity: 129\n",
      "total_time: 736\n",
      "total_popularity: 514\n",
      "total_time: 38\n",
      "total_popularity: 33\n",
      "total_time: 38\n",
      "total_popularity: 33\n",
      "total_time: 225\n",
      "total_popularity: 202\n",
      "total_time: 472\n",
      "total_popularity: 403\n"
     ]
    },
    {
     "name": "stderr",
     "output_type": "stream",
     "text": [
      "[I 2024-10-18 21:44:21,798] Trial 25 finished with value: 773.4868031162829 and parameters: {'n_rides': 5, 'ride_0': 5, 'ride_1': 1, 'ride_2': 5, 'ride_3': 6, 'ride_4': 5}. Best is trial 17 with value: 1014.5002066534408.\n",
      "[I 2024-10-18 21:44:21,809] Trial 26 finished with value: 994.7603895586836 and parameters: {'n_rides': 1, 'ride_0': 4}. Best is trial 17 with value: 1014.5002066534408.\n",
      "[I 2024-10-18 21:44:21,829] Trial 27 finished with value: 979.9108468217909 and parameters: {'n_rides': 3, 'ride_0': 5, 'ride_1': 4, 'ride_2': 6}. Best is trial 17 with value: 1014.5002066534408.\n",
      "[I 2024-10-18 21:44:21,849] Trial 28 finished with value: 870.5557971374471 and parameters: {'n_rides': 3, 'ride_0': 6, 'ride_1': 3, 'ride_2': 1}. Best is trial 17 with value: 1014.5002066534408.\n",
      "[I 2024-10-18 21:44:21,861] Trial 29 finished with value: 994.7603895586836 and parameters: {'n_rides': 1, 'ride_0': 4}. Best is trial 17 with value: 1014.5002066534408.\n",
      "[I 2024-10-18 21:44:21,862] A new study created in memory with name: no-name-a3ce52ab-8999-4d89-892a-bdc02b07ce45\n",
      "[I 2024-10-18 21:44:21,870] Trial 0 finished with value: 1563.6484781074298 and parameters: {'n_rides': 20, 'ride_0': 6, 'ride_1': 0, 'ride_2': 1, 'ride_3': 1, 'ride_4': 1, 'ride_5': 5, 'ride_6': 1, 'ride_7': 2, 'ride_8': 2, 'ride_9': 3, 'ride_10': 1, 'ride_11': 1, 'ride_12': 4, 'ride_13': 3, 'ride_14': 3, 'ride_15': 2, 'ride_16': 0, 'ride_17': 1, 'ride_18': 3, 'ride_19': 6, 'lamb_x': 1.3395744170962849}. Best is trial 0 with value: 1563.6484781074298.\n",
      "[I 2024-10-18 21:44:21,876] Trial 1 finished with value: 1014.2727315304907 and parameters: {'n_rides': 5, 'ride_0': 5, 'ride_1': 5, 'ride_2': 5, 'ride_3': 4, 'ride_4': 6, 'lamb_x': 1.376603027477258}. Best is trial 1 with value: 1014.2727315304907.\n",
      "[I 2024-10-18 21:44:21,879] Trial 2 finished with value: 779.0849314663623 and parameters: {'n_rides': 8, 'ride_0': 5, 'ride_1': 7, 'ride_2': 1, 'ride_3': 3, 'ride_4': 5, 'ride_5': 5, 'ride_6': 1, 'ride_7': 4, 'lamb_x': 0.716434061859502}. Best is trial 2 with value: 779.0849314663623.\n",
      "[I 2024-10-18 21:44:21,879] Trial 3 finished with value: 846.916994594934 and parameters: {'n_rides': 3, 'ride_0': 6, 'ride_1': 1, 'ride_2': 6, 'lamb_x': 1.1597445056346927}. Best is trial 2 with value: 779.0849314663623.\n",
      "[I 2024-10-18 21:44:21,889] Trial 4 finished with value: 1066.8197986726123 and parameters: {'n_rides': 8, 'ride_0': 0, 'ride_1': 2, 'ride_2': 1, 'ride_3': 1, 'ride_4': 0, 'ride_5': 7, 'ride_6': 3, 'ride_7': 0, 'lamb_x': 0.8696235088912416}. Best is trial 2 with value: 779.0849314663623.\n",
      "[I 2024-10-18 21:44:21,896] Trial 5 finished with value: 1378.8419479793529 and parameters: {'n_rides': 13, 'ride_0': 2, 'ride_1': 7, 'ride_2': 3, 'ride_3': 0, 'ride_4': 4, 'ride_5': 2, 'ride_6': 2, 'ride_7': 7, 'ride_8': 2, 'ride_9': 1, 'ride_10': 4, 'ride_11': 7, 'ride_12': 4, 'lamb_x': 1.2991253103124651}. Best is trial 2 with value: 779.0849314663623.\n",
      "[I 2024-10-18 21:44:21,899] Trial 6 finished with value: 1106.9697728700694 and parameters: {'n_rides': 6, 'ride_0': 2, 'ride_1': 0, 'ride_2': 0, 'ride_3': 3, 'ride_4': 7, 'ride_5': 2, 'lamb_x': 1.19430998882456}. Best is trial 2 with value: 779.0849314663623.\n",
      "[I 2024-10-18 21:44:21,899] Trial 7 finished with value: 469.079415017616 and parameters: {'n_rides': 3, 'ride_0': 3, 'ride_1': 5, 'ride_2': 1, 'lamb_x': 0.5126636599022194}. Best is trial 7 with value: 469.079415017616.\n",
      "[I 2024-10-18 21:44:21,913] Trial 8 finished with value: 1510.517885712325 and parameters: {'n_rides': 19, 'ride_0': 5, 'ride_1': 1, 'ride_2': 0, 'ride_3': 4, 'ride_4': 0, 'ride_5': 6, 'ride_6': 3, 'ride_7': 5, 'ride_8': 0, 'ride_9': 3, 'ride_10': 1, 'ride_11': 2, 'ride_12': 4, 'ride_13': 1, 'ride_14': 2, 'ride_15': 6, 'ride_16': 2, 'ride_17': 4, 'ride_18': 4, 'lamb_x': 1.3080217644393812}. Best is trial 7 with value: 469.079415017616.\n",
      "[I 2024-10-18 21:44:21,920] Trial 9 finished with value: 434.98751838732306 and parameters: {'n_rides': 2, 'ride_0': 5, 'ride_1': 2, 'lamb_x': 0.551704574274801}. Best is trial 9 with value: 434.98751838732306.\n",
      "[I 2024-10-18 21:44:21,977] Trial 10 finished with value: 1700.917940313638 and parameters: {'n_rides': 13, 'ride_0': 7, 'ride_1': 3, 'ride_2': 7, 'ride_3': 7, 'ride_4': 2, 'ride_5': 0, 'ride_6': 7, 'ride_7': 0, 'ride_8': 7, 'ride_9': 7, 'ride_10': 7, 'ride_11': 6, 'ride_12': 0, 'lamb_x': 1.974793009895984}. Best is trial 9 with value: 434.98751838732306.\n"
     ]
    },
    {
     "name": "stdout",
     "output_type": "stream",
     "text": [
      "total_time: 271\n",
      "total_popularity: 172\n",
      "total_time: 38\n",
      "total_popularity: 33\n",
      "total_time: 78\n",
      "total_popularity: 80\n",
      "total_time: 183\n",
      "total_popularity: 133\n",
      "total_time: 38\n",
      "total_popularity: 33\n"
     ]
    },
    {
     "name": "stderr",
     "output_type": "stream",
     "text": [
      "[I 2024-10-18 21:44:21,989] Trial 11 finished with value: 375.94137137080116 and parameters: {'n_rides': 1, 'ride_0': 3, 'lamb_x': 0.5187168830263341}. Best is trial 11 with value: 375.94137137080116.\n",
      "[I 2024-10-18 21:44:22,005] Trial 12 finished with value: 377.20770746459743 and parameters: {'n_rides': 1, 'ride_0': 3, 'lamb_x': 0.520701735837927}. Best is trial 11 with value: 375.94137137080116.\n",
      "[I 2024-10-18 21:44:22,019] Trial 13 finished with value: 626.5134860830407 and parameters: {'n_rides': 1, 'ride_0': 3, 'lamb_x': 0.9114631443307847}. Best is trial 11 with value: 375.94137137080116.\n",
      "[I 2024-10-18 21:44:22,070] Trial 14 finished with value: 1434.4699039595328 and parameters: {'n_rides': 11, 'ride_0': 1, 'ride_1': 5, 'ride_2': 4, 'ride_3': 7, 'ride_4': 3, 'ride_5': 0, 'ride_6': 6, 'ride_7': 7, 'ride_8': 7, 'ride_9': 7, 'ride_10': 7, 'lamb_x': 1.6402349591842207}. Best is trial 11 with value: 375.94137137080116.\n",
      "[I 2024-10-18 21:44:22,080] Trial 15 finished with value: 499.4163735366743 and parameters: {'n_rides': 1, 'ride_0': 4, 'lamb_x': 0.7310601466092074}. Best is trial 11 with value: 375.94137137080116.\n",
      "[I 2024-10-18 21:44:22,113] Trial 16 finished with value: 824.5216943886545 and parameters: {'n_rides': 5, 'ride_0': 2, 'ride_1': 4, 'ride_2': 3, 'ride_3': 5, 'ride_4': 7, 'lamb_x': 1.0055198971609005}. Best is trial 11 with value: 375.94137137080116.\n",
      "[I 2024-10-18 21:44:22,179] Trial 17 finished with value: 939.9135205828525 and parameters: {'n_rides': 17, 'ride_0': 4, 'ride_1': 6, 'ride_2': 7, 'ride_3': 6, 'ride_4': 3, 'ride_5': 3, 'ride_6': 5, 'ride_7': 2, 'ride_8': 5, 'ride_9': 0, 'ride_10': 4, 'ride_11': 4, 'ride_12': 7, 'ride_13': 7, 'ride_14': 7, 'ride_15': 0, 'ride_16': 7, 'lamb_x': 0.6738456435467907}. Best is trial 11 with value: 375.94137137080116.\n",
      "[I 2024-10-18 21:44:22,222] Trial 18 finished with value: 1492.7103034929412 and parameters: {'n_rides': 8, 'ride_0': 0, 'ride_1': 3, 'ride_2': 4, 'ride_3': 2, 'ride_4': 5, 'ride_5': 4, 'ride_6': 0, 'ride_7': 5, 'lamb_x': 1.7283860556315693}. Best is trial 11 with value: 375.94137137080116.\n",
      "[I 2024-10-18 21:44:22,249] Trial 19 finished with value: 870.1506792053335 and parameters: {'n_rides': 4, 'ride_0': 3, 'ride_1': 4, 'ride_2': 2, 'ride_3': 0, 'lamb_x': 1.0237471460898644}. Best is trial 11 with value: 375.94137137080116.\n",
      "[I 2024-10-18 21:44:22,286] Trial 20 finished with value: 649.0757816084761 and parameters: {'n_rides': 7, 'ride_0': 1, 'ride_1': 6, 'ride_2': 5, 'ride_3': 5, 'ride_4': 2, 'ride_5': 7, 'ride_6': 5, 'lamb_x': 0.6270780275994923}. Best is trial 11 with value: 375.94137137080116.\n",
      "[I 2024-10-18 21:44:22,299] Trial 21 finished with value: 377.44587062845017 and parameters: {'n_rides': 1, 'ride_0': 4, 'lamb_x': 0.5398838097624611}. Best is trial 11 with value: 375.94137137080116.\n",
      "[I 2024-10-18 21:44:22,312] Trial 22 finished with value: 353.22615883059524 and parameters: {'n_rides': 1, 'ride_0': 4, 'lamb_x': 0.5019218790448201}. Best is trial 22 with value: 353.22615883059524.\n",
      "[I 2024-10-18 21:44:22,339] Trial 23 finished with value: 635.9110639053049 and parameters: {'n_rides': 3, 'ride_0': 3, 'ride_1': 2, 'ride_2': 6, 'lamb_x': 0.8102054293186598}. Best is trial 22 with value: 353.22615883059524.\n",
      "[I 2024-10-18 21:44:22,355] Trial 24 finished with value: 441.66484694470444 and parameters: {'n_rides': 1, 'ride_0': 4, 'lamb_x': 0.6405405124525148}. Best is trial 22 with value: 353.22615883059524.\n",
      "[I 2024-10-18 21:44:22,382] Trial 25 finished with value: 738.327499283277 and parameters: {'n_rides': 4, 'ride_0': 2, 'ride_1': 1, 'ride_2': 2, 'ride_3': 2, 'lamb_x': 0.7904819737982398}. Best is trial 22 with value: 353.22615883059524.\n",
      "[I 2024-10-18 21:44:22,417] Trial 26 finished with value: 851.5945376938861 and parameters: {'n_rides': 6, 'ride_0': 1, 'ride_1': 6, 'ride_2': 5, 'ride_3': 6, 'ride_4': 5, 'ride_5': 1, 'lamb_x': 0.9711513129998214}. Best is trial 22 with value: 353.22615883059524.\n",
      "[I 2024-10-18 21:44:22,440] Trial 27 finished with value: 479.6434680037854 and parameters: {'n_rides': 3, 'ride_0': 3, 'ride_1': 4, 'ride_2': 6, 'lamb_x': 0.5997546520435508}. Best is trial 22 with value: 353.22615883059524.\n",
      "[I 2024-10-18 21:44:22,488] Trial 28 finished with value: 772.091117507827 and parameters: {'n_rides': 10, 'ride_0': 4, 'ride_1': 3, 'ride_2': 2, 'ride_3': 2, 'ride_4': 1, 'ride_5': 3, 'ride_6': 4, 'ride_7': 2, 'ride_8': 4, 'ride_9': 5, 'lamb_x': 0.5032776136486315}. Best is trial 22 with value: 353.22615883059524.\n",
      "[I 2024-10-18 21:44:22,505] Trial 29 finished with value: 1021.5146833231933 and parameters: {'n_rides': 2, 'ride_0': 6, 'ride_1': 0, 'lamb_x': 1.4396781870269486}. Best is trial 22 with value: 353.22615883059524.\n",
      "[I 2024-10-18 21:44:22,505] A new study created in memory with name: no-name-73e4db0b-f5c5-4669-a583-d89e41e30f2c\n",
      "[I 2024-10-18 21:44:22,514] Trial 0 finished with value: 480.8731559830419 and parameters: {'n_rides': 13, 'ride_0': 6, 'ride_1': 4, 'ride_2': 3, 'ride_3': 7, 'ride_4': 7, 'ride_5': 1, 'ride_6': 7, 'ride_7': 4, 'ride_8': 7, 'ride_9': 2, 'ride_10': 6, 'ride_11': 0, 'ride_12': 1}. Best is trial 0 with value: 480.8731559830419.\n",
      "[I 2024-10-18 21:44:22,519] Trial 1 finished with value: 300.9439540593535 and parameters: {'n_rides': 7, 'ride_0': 4, 'ride_1': 3, 'ride_2': 7, 'ride_3': 7, 'ride_4': 7, 'ride_5': 6, 'ride_6': 7}. Best is trial 0 with value: 480.8731559830419.\n",
      "[I 2024-10-18 21:44:22,528] Trial 2 finished with value: 531.436577991521 and parameters: {'n_rides': 13, 'ride_0': 2, 'ride_1': 3, 'ride_2': 1, 'ride_3': 0, 'ride_4': 5, 'ride_5': 2, 'ride_6': 6, 'ride_7': 2, 'ride_8': 6, 'ride_9': 7, 'ride_10': 5, 'ride_11': 1, 'ride_12': 0}. Best is trial 2 with value: 531.436577991521.\n",
      "[I 2024-10-18 21:44:22,534] Trial 3 finished with value: 369.8885310154004 and parameters: {'n_rides': 16, 'ride_0': 4, 'ride_1': 7, 'ride_2': 5, 'ride_3': 7, 'ride_4': 3, 'ride_5': 6, 'ride_6': 7, 'ride_7': 6, 'ride_8': 6, 'ride_9': 3, 'ride_10': 0, 'ride_11': 6, 'ride_12': 7, 'ride_13': 0, 'ride_14': 2, 'ride_15': 5}. Best is trial 2 with value: 531.436577991521.\n",
      "[I 2024-10-18 21:44:22,542] Trial 4 finished with value: 541.9500311448347 and parameters: {'n_rides': 15, 'ride_0': 7, 'ride_1': 7, 'ride_2': 5, 'ride_3': 5, 'ride_4': 1, 'ride_5': 2, 'ride_6': 4, 'ride_7': 2, 'ride_8': 1, 'ride_9': 7, 'ride_10': 1, 'ride_11': 2, 'ride_12': 5, 'ride_13': 1, 'ride_14': 1}. Best is trial 4 with value: 541.9500311448347.\n",
      "[I 2024-10-18 21:44:22,549] Trial 5 finished with value: 581.4903906047759 and parameters: {'n_rides': 13, 'ride_0': 1, 'ride_1': 4, 'ride_2': 2, 'ride_3': 3, 'ride_4': 0, 'ride_5': 4, 'ride_6': 4, 'ride_7': 2, 'ride_8': 5, 'ride_9': 5, 'ride_10': 4, 'ride_11': 1, 'ride_12': 6}. Best is trial 5 with value: 581.4903906047759.\n",
      "[I 2024-10-18 21:44:22,554] Trial 6 finished with value: 547.8962185315797 and parameters: {'n_rides': 14, 'ride_0': 4, 'ride_1': 4, 'ride_2': 0, 'ride_3': 2, 'ride_4': 2, 'ride_5': 1, 'ride_6': 4, 'ride_7': 6, 'ride_8': 7, 'ride_9': 6, 'ride_10': 5, 'ride_11': 5, 'ride_12': 1, 'ride_13': 5}. Best is trial 5 with value: 581.4903906047759.\n",
      "[I 2024-10-18 21:44:22,563] Trial 7 finished with value: 557.9077498058487 and parameters: {'n_rides': 13, 'ride_0': 7, 'ride_1': 2, 'ride_2': 5, 'ride_3': 3, 'ride_4': 0, 'ride_5': 4, 'ride_6': 4, 'ride_7': 2, 'ride_8': 7, 'ride_9': 6, 'ride_10': 0, 'ride_11': 1, 'ride_12': 4}. Best is trial 5 with value: 581.4903906047759.\n",
      "[I 2024-10-18 21:44:22,569] Trial 8 finished with value: 601.8116558536076 and parameters: {'n_rides': 17, 'ride_0': 7, 'ride_1': 4, 'ride_2': 4, 'ride_3': 4, 'ride_4': 0, 'ride_5': 2, 'ride_6': 2, 'ride_7': 7, 'ride_8': 5, 'ride_9': 4, 'ride_10': 3, 'ride_11': 6, 'ride_12': 5, 'ride_13': 0, 'ride_14': 2, 'ride_15': 7, 'ride_16': 0}. Best is trial 8 with value: 601.8116558536076.\n",
      "[I 2024-10-18 21:44:22,577] Trial 9 finished with value: 556.6402971702719 and parameters: {'n_rides': 11, 'ride_0': 6, 'ride_1': 4, 'ride_2': 6, 'ride_3': 2, 'ride_4': 0, 'ride_5': 2, 'ride_6': 0, 'ride_7': 2, 'ride_8': 2, 'ride_9': 4, 'ride_10': 5}. Best is trial 8 with value: 601.8116558536076.\n",
      "[I 2024-10-18 21:44:22,654] Trial 10 finished with value: 618.9039060477589 and parameters: {'n_rides': 20, 'ride_0': 5, 'ride_1': 0, 'ride_2': 3, 'ride_3': 5, 'ride_4': 4, 'ride_5': 0, 'ride_6': 1, 'ride_7': 7, 'ride_8': 3, 'ride_9': 0, 'ride_10': 2, 'ride_11': 7, 'ride_12': 3, 'ride_13': 7, 'ride_14': 7, 'ride_15': 7, 'ride_16': 0, 'ride_17': 7, 'ride_18': 7, 'ride_19': 4}. Best is trial 10 with value: 618.9039060477589.\n"
     ]
    },
    {
     "name": "stdout",
     "output_type": "stream",
     "text": [
      "tt_best2: 22\n",
      "22\n",
      "total_time: 726\n",
      "total_popularity: 514\n",
      "total_time: 429\n",
      "total_popularity: 185\n",
      "total_time: 693\n",
      "total_popularity: 548\n",
      "total_time: 718\n",
      "total_popularity: 399\n",
      "total_time: 686\n",
      "total_popularity: 555\n",
      "total_time: 665\n",
      "total_popularity: 584\n",
      "total_time: 714\n",
      "total_popularity: 575\n",
      "total_time: 708\n",
      "total_popularity: 582\n",
      "total_time: 758\n",
      "total_popularity: 651\n",
      "total_time: 587\n",
      "total_popularity: 520\n",
      "total_time: 710\n",
      "total_popularity: 644\n"
     ]
    },
    {
     "name": "stderr",
     "output_type": "stream",
     "text": [
      "[I 2024-10-18 21:44:22,730] Trial 11 finished with value: 606.2905151841146 and parameters: {'n_rides': 18, 'ride_0': 5, 'ride_1': 0, 'ride_2': 3, 'ride_3': 5, 'ride_4': 5, 'ride_5': 0, 'ride_6': 1, 'ride_7': 7, 'ride_8': 3, 'ride_9': 0, 'ride_10': 2, 'ride_11': 7, 'ride_12': 3, 'ride_13': 7, 'ride_14': 7, 'ride_15': 7, 'ride_16': 0, 'ride_17': 7}. Best is trial 10 with value: 618.9039060477589.\n",
      "[I 2024-10-18 21:44:22,809] Trial 12 finished with value: 644.8577809506833 and parameters: {'n_rides': 20, 'ride_0': 5, 'ride_1': 0, 'ride_2': 3, 'ride_3': 5, 'ride_4': 5, 'ride_5': 0, 'ride_6': 0, 'ride_7': 5, 'ride_8': 3, 'ride_9': 0, 'ride_10': 2, 'ride_11': 7, 'ride_12': 3, 'ride_13': 7, 'ride_14': 7, 'ride_15': 7, 'ride_16': 0, 'ride_17': 7, 'ride_18': 7, 'ride_19': 4}. Best is trial 12 with value: 644.8577809506833.\n",
      "[I 2024-10-18 21:44:22,889] Trial 13 finished with value: 649.9077498058487 and parameters: {'n_rides': 20, 'ride_0': 2, 'ride_1': 0, 'ride_2': 2, 'ride_3': 5, 'ride_4': 5, 'ride_5': 0, 'ride_6': 0, 'ride_7': 4, 'ride_8': 0, 'ride_9': 0, 'ride_10': 2, 'ride_11': 4, 'ride_12': 3, 'ride_13': 7, 'ride_14': 7, 'ride_15': 0, 'ride_16': 4, 'ride_17': 7, 'ride_18': 7, 'ride_19': 4}. Best is trial 13 with value: 649.9077498058487.\n",
      "[I 2024-10-18 21:44:22,901] Trial 14 finished with value: 327.54358032133734 and parameters: {'n_rides': 1, 'ride_0': 2}. Best is trial 13 with value: 649.9077498058487.\n"
     ]
    },
    {
     "name": "stdout",
     "output_type": "stream",
     "text": [
      "total_time: 769\n",
      "total_popularity: 661\n",
      "total_time: 734\n",
      "total_popularity: 682\n",
      "total_time: 708\n",
      "total_popularity: 674\n",
      "total_time: 117\n",
      "total_popularity: 55\n"
     ]
    },
    {
     "name": "stderr",
     "output_type": "stream",
     "text": [
      "[I 2024-10-18 21:44:22,985] Trial 15 finished with value: 619.8885310154004 and parameters: {'n_rides': 20, 'ride_0': 2, 'ride_1': 1, 'ride_2': 1, 'ride_3': 6, 'ride_4': 5, 'ride_5': 0, 'ride_6': 0, 'ride_7': 4, 'ride_8': 0, 'ride_9': 1, 'ride_10': 2, 'ride_11': 4, 'ride_12': 2, 'ride_13': 5, 'ride_14': 5, 'ride_15': 0, 'ride_16': 5, 'ride_17': 5, 'ride_18': 7, 'ride_19': 4}. Best is trial 13 with value: 649.9077498058487.\n",
      "[I 2024-10-18 21:44:23,022] Trial 16 finished with value: 433.8363288328435 and parameters: {'n_rides': 7, 'ride_0': 0, 'ride_1': 1, 'ride_2': 2, 'ride_3': 6, 'ride_4': 6, 'ride_5': 3, 'ride_6': 2}. Best is trial 13 with value: 649.9077498058487.\n",
      "[I 2024-10-18 21:44:23,089] Trial 17 finished with value: 586.8885310154004 and parameters: {'n_rides': 18, 'ride_0': 3, 'ride_1': 1, 'ride_2': 2, 'ride_3': 4, 'ride_4': 4, 'ride_5': 7, 'ride_6': 2, 'ride_7': 5, 'ride_8': 0, 'ride_9': 1, 'ride_10': 3, 'ride_11': 3, 'ride_12': 4, 'ride_13': 5, 'ride_14': 5, 'ride_15': 0, 'ride_16': 3, 'ride_17': 1}. Best is trial 13 with value: 649.9077498058487.\n",
      "[I 2024-10-18 21:44:23,135] Trial 18 finished with value: 574.0807189198824 and parameters: {'n_rides': 8, 'ride_0': 0, 'ride_1': 0, 'ride_2': 0, 'ride_3': 6, 'ride_4': 3, 'ride_5': 1, 'ride_6': 0, 'ride_7': 0}. Best is trial 13 with value: 649.9077498058487.\n",
      "[I 2024-10-18 21:44:23,149] Trial 19 finished with value: 332.0262834099339 and parameters: {'n_rides': 2, 'ride_0': 3, 'ride_1': 6}. Best is trial 13 with value: 649.9077498058487.\n"
     ]
    },
    {
     "name": "stdout",
     "output_type": "stream",
     "text": [
      "total_time: 718\n",
      "total_popularity: 649\n",
      "total_time: 485\n",
      "total_popularity: 346\n",
      "total_time: 718\n",
      "total_popularity: 616\n",
      "total_time: 618\n",
      "total_popularity: 553\n",
      "total_time: 126\n",
      "total_popularity: 64\n"
     ]
    },
    {
     "name": "stderr",
     "output_type": "stream",
     "text": [
      "[I 2024-10-18 21:44:23,236] Trial 20 finished with value: 582.2982027002939 and parameters: {'n_rides': 20, 'ride_0': 5, 'ride_1': 2, 'ride_2': 4, 'ride_3': 1, 'ride_4': 6, 'ride_5': 3, 'ride_6': 1, 'ride_7': 5, 'ride_8': 2, 'ride_9': 2, 'ride_10': 1, 'ride_11': 4, 'ride_12': 2, 'ride_13': 7, 'ride_14': 5, 'ride_15': 2, 'ride_16': 3, 'ride_17': 5, 'ride_18': 1, 'ride_19': 4}. Best is trial 13 with value: 649.9077498058487.\n",
      "[I 2024-10-18 21:44:23,320] Trial 21 finished with value: 619.8885310154004 and parameters: {'n_rides': 20, 'ride_0': 2, 'ride_1': 1, 'ride_2': 1, 'ride_3': 6, 'ride_4': 5, 'ride_5': 0, 'ride_6': 0, 'ride_7': 4, 'ride_8': 0, 'ride_9': 1, 'ride_10': 2, 'ride_11': 4, 'ride_12': 2, 'ride_13': 5, 'ride_14': 6, 'ride_15': 0, 'ride_16': 6, 'ride_17': 5, 'ride_18': 7, 'ride_19': 4}. Best is trial 13 with value: 649.9077498058487.\n",
      "[I 2024-10-18 21:44:23,399] Trial 22 finished with value: 651.3904528944453 and parameters: {'n_rides': 18, 'ride_0': 1, 'ride_1': 0, 'ride_2': 1, 'ride_3': 5, 'ride_4': 6, 'ride_5': 0, 'ride_6': 0, 'ride_7': 3, 'ride_8': 1, 'ride_9': 0, 'ride_10': 1, 'ride_11': 3, 'ride_12': 2, 'ride_13': 6, 'ride_14': 5, 'ride_15': 2, 'ride_16': 5, 'ride_17': 7}. Best is trial 22 with value: 651.3904528944453.\n"
     ]
    },
    {
     "name": "stdout",
     "output_type": "stream",
     "text": [
      "total_time: 765\n",
      "total_popularity: 635\n",
      "total_time: 718\n",
      "total_popularity: 649\n",
      "total_time: 717\n",
      "total_popularity: 680\n"
     ]
    },
    {
     "name": "stderr",
     "output_type": "stream",
     "text": [
      "[I 2024-10-18 21:44:23,482] Trial 23 finished with value: 614.9000622896693 and parameters: {'n_rides': 18, 'ride_0': 1, 'ride_1': 0, 'ride_2': 2, 'ride_3': 4, 'ride_4': 6, 'ride_5': 1, 'ride_6': 1, 'ride_7': 3, 'ride_8': 1, 'ride_9': 0, 'ride_10': 1, 'ride_11': 3, 'ride_12': 3, 'ride_13': 6, 'ride_14': 7, 'ride_15': 3, 'ride_16': 4, 'ride_17': 7}. Best is trial 22 with value: 651.3904528944453.\n",
      "[I 2024-10-18 21:44:23,554] Trial 24 finished with value: 637.8808434992211 and parameters: {'n_rides': 16, 'ride_0': 1, 'ride_1': 0, 'ride_2': 1, 'ride_3': 5, 'ride_4': 6, 'ride_5': 0, 'ride_6': 3, 'ride_7': 3, 'ride_8': 1, 'ride_9': 0, 'ride_10': 3, 'ride_11': 5, 'ride_12': 1, 'ride_13': 3, 'ride_14': 4, 'ride_15': 2}. Best is trial 22 with value: 651.3904528944453.\n",
      "[I 2024-10-18 21:44:23,629] Trial 25 finished with value: 618.8424059183247 and parameters: {'n_rides': 18, 'ride_0': 3, 'ride_1': 2, 'ride_2': 0, 'ride_3': 5, 'ride_4': 4, 'ride_5': 1, 'ride_6': 0, 'ride_7': 5, 'ride_8': 2, 'ride_9': 2, 'ride_10': 1, 'ride_11': 2, 'ride_12': 4, 'ride_13': 6, 'ride_14': 6, 'ride_15': 5, 'ride_16': 2, 'ride_17': 7}. Best is trial 22 with value: 651.3904528944453.\n"
     ]
    },
    {
     "name": "stdout",
     "output_type": "stream",
     "text": [
      "total_time: 712\n",
      "total_popularity: 641\n",
      "total_time: 722\n",
      "total_popularity: 669\n",
      "total_time: 742\n",
      "total_popularity: 660\n"
     ]
    },
    {
     "name": "stderr",
     "output_type": "stream",
     "text": [
      "[I 2024-10-18 21:44:23,720] Trial 26 finished with value: 580.4058279268038 and parameters: {'n_rides': 19, 'ride_0': 1, 'ride_1': 1, 'ride_2': 3, 'ride_3': 4, 'ride_4': 7, 'ride_5': 0, 'ride_6': 1, 'ride_7': 0, 'ride_8': 4, 'ride_9': 1, 'ride_10': 0, 'ride_11': 5, 'ride_12': 2, 'ride_13': 3, 'ride_14': 6, 'ride_15': 2, 'ride_16': 7, 'ride_17': 6, 'ride_18': 4}. Best is trial 22 with value: 651.3904528944453.\n",
      "[I 2024-10-18 21:44:23,769] Trial 27 finished with value: 574.4827030885966 and parameters: {'n_rides': 10, 'ride_0': 0, 'ride_1': 2, 'ride_2': 2, 'ride_3': 3, 'ride_4': 5, 'ride_5': 1, 'ride_6': 3, 'ride_7': 3, 'ride_8': 1, 'ride_9': 0}. Best is trial 22 with value: 651.3904528944453.\n",
      "[I 2024-10-18 21:44:23,845] Trial 28 finished with value: 532.8962185315797 and parameters: {'n_rides': 16, 'ride_0': 3, 'ride_1': 0, 'ride_2': 4, 'ride_3': 6, 'ride_4': 6, 'ride_5': 0, 'ride_6': 5, 'ride_7': 5, 'ride_8': 4, 'ride_9': 3, 'ride_10': 4, 'ride_11': 3, 'ride_12': 3, 'ride_13': 6, 'ride_14': 4, 'ride_15': 1}. Best is trial 22 with value: 651.3904528944453.\n",
      "[I 2024-10-18 21:44:23,899] Trial 29 finished with value: 537.4711718143277 and parameters: {'n_rides': 11, 'ride_0': 6, 'ride_1': 1, 'ride_2': 1, 'ride_3': 5, 'ride_4': 4, 'ride_5': 5, 'ride_6': 2, 'ride_7': 1, 'ride_8': 0, 'ride_9': 1, 'ride_10': 7}. Best is trial 22 with value: 651.3904528944453.\n"
     ]
    },
    {
     "name": "stdout",
     "output_type": "stream",
     "text": [
      "total_time: 709\n",
      "total_popularity: 605\n",
      "total_time: 669\n",
      "total_popularity: 579\n",
      "total_time: 714\n",
      "total_popularity: 560\n",
      "total_time: 675\n",
      "total_popularity: 545\n"
     ]
    },
    {
     "name": "stderr",
     "output_type": "stream",
     "text": [
      "[I 2024-10-18 21:44:23,899] A new study created in memory with name: no-name-917a86ea-0605-4b12-860d-390d1397f8f7\n",
      "[I 2024-10-18 21:44:23,909] Trial 0 finished with value: 161.0 and parameters: {'n_rides': 5, 'ride_0': 5, 'ride_1': 7, 'ride_2': 3, 'ride_3': 4, 'ride_4': 4, 'lamb_x': 0.9166588573966807}. Best is trial 0 with value: 161.0.\n",
      "[I 2024-10-18 21:44:23,914] Trial 1 finished with value: 545.0 and parameters: {'n_rides': 12, 'ride_0': 1, 'ride_1': 3, 'ride_2': 6, 'ride_3': 3, 'ride_4': 1, 'ride_5': 6, 'ride_6': 3, 'ride_7': 7, 'ride_8': 2, 'ride_9': 0, 'ride_10': 5, 'ride_11': 3, 'lamb_x': 1.1670775863702767}. Best is trial 0 with value: 161.0.\n",
      "[I 2024-10-18 21:44:23,920] Trial 2 finished with value: 366.0 and parameters: {'n_rides': 9, 'ride_0': 7, 'ride_1': 3, 'ride_2': 7, 'ride_3': 7, 'ride_4': 2, 'ride_5': 0, 'ride_6': 5, 'ride_7': 2, 'ride_8': 4, 'lamb_x': 1.489056417413249}. Best is trial 0 with value: 161.0.\n",
      "[I 2024-10-18 21:44:23,929] Trial 3 finished with value: 316.0 and parameters: {'n_rides': 7, 'ride_0': 4, 'ride_1': 4, 'ride_2': 6, 'ride_3': 4, 'ride_4': 3, 'ride_5': 1, 'ride_6': 0, 'lamb_x': 1.2610377982564207}. Best is trial 0 with value: 161.0.\n",
      "[I 2024-10-18 21:44:23,929] Trial 4 finished with value: 480.0 and parameters: {'n_rides': 20, 'ride_0': 5, 'ride_1': 2, 'ride_2': 0, 'ride_3': 4, 'ride_4': 3, 'ride_5': 7, 'ride_6': 7, 'ride_7': 1, 'ride_8': 4, 'ride_9': 7, 'ride_10': 3, 'ride_11': 7, 'ride_12': 7, 'ride_13': 4, 'ride_14': 1, 'ride_15': 1, 'ride_16': 1, 'ride_17': 6, 'ride_18': 0, 'ride_19': 3, 'lamb_x': 1.9328066912034683}. Best is trial 0 with value: 161.0.\n",
      "[I 2024-10-18 21:44:23,940] Trial 5 finished with value: 221.0 and parameters: {'n_rides': 5, 'ride_0': 4, 'ride_1': 7, 'ride_2': 1, 'ride_3': 5, 'ride_4': 1, 'lamb_x': 1.3302526520645732}. Best is trial 0 with value: 161.0.\n",
      "[I 2024-10-18 21:44:23,946] Trial 6 finished with value: 22.0 and parameters: {'n_rides': 1, 'ride_0': 7, 'lamb_x': 1.7681063786163895}. Best is trial 6 with value: 22.0.\n",
      "[I 2024-10-18 21:44:23,949] Trial 7 finished with value: 197.0 and parameters: {'n_rides': 7, 'ride_0': 5, 'ride_1': 7, 'ride_2': 7, 'ride_3': 4, 'ride_4': 5, 'ride_5': 3, 'ride_6': 6, 'lamb_x': 0.860520571359108}. Best is trial 6 with value: 22.0.\n",
      "[I 2024-10-18 21:44:23,949] Trial 8 finished with value: 580.0 and parameters: {'n_rides': 14, 'ride_0': 4, 'ride_1': 1, 'ride_2': 6, 'ride_3': 1, 'ride_4': 5, 'ride_5': 2, 'ride_6': 7, 'ride_7': 4, 'ride_8': 5, 'ride_9': 3, 'ride_10': 1, 'ride_11': 2, 'ride_12': 2, 'ride_13': 2, 'lamb_x': 0.8109135796848953}. Best is trial 6 with value: 22.0.\n",
      "[I 2024-10-18 21:44:23,963] Trial 9 finished with value: 408.0 and parameters: {'n_rides': 6, 'ride_0': 1, 'ride_1': 4, 'ride_2': 1, 'ride_3': 1, 'ride_4': 0, 'ride_5': 0, 'lamb_x': 1.7381351954930913}. Best is trial 6 with value: 22.0.\n",
      "[I 2024-10-18 21:44:23,979] Trial 10 finished with value: 22.0 and parameters: {'n_rides': 1, 'ride_0': 7, 'lamb_x': 1.9954864144968756}. Best is trial 6 with value: 22.0.\n",
      "[I 2024-10-18 21:44:23,993] Trial 11 finished with value: 22.0 and parameters: {'n_rides': 1, 'ride_0': 7, 'lamb_x': 1.9718519836719157}. Best is trial 6 with value: 22.0.\n",
      "[I 2024-10-18 21:44:24,004] Trial 12 finished with value: 22.0 and parameters: {'n_rides': 1, 'ride_0': 7, 'lamb_x': 1.69557969205235}. Best is trial 6 with value: 22.0.\n",
      "[I 2024-10-18 21:44:24,025] Trial 13 finished with value: 103.0 and parameters: {'n_rides': 2, 'ride_0': 6, 'ride_1': 0, 'lamb_x': 1.6774612884538085}. Best is trial 6 with value: 22.0.\n",
      "[I 2024-10-18 21:44:24,045] Trial 14 finished with value: 80.0 and parameters: {'n_rides': 3, 'ride_0': 6, 'ride_1': 5, 'ride_2': 4, 'lamb_x': 0.5899590112751916}. Best is trial 6 with value: 22.0.\n",
      "[I 2024-10-18 21:44:24,108] Trial 15 finished with value: 463.0 and parameters: {'n_rides': 15, 'ride_0': 0, 'ride_1': 5, 'ride_2': 3, 'ride_3': 7, 'ride_4': 7, 'ride_5': 5, 'ride_6': 0, 'ride_7': 7, 'ride_8': 0, 'ride_9': 7, 'ride_10': 7, 'ride_11': 0, 'ride_12': 0, 'ride_13': 7, 'ride_14': 6, 'lamb_x': 1.8477481789270067}. Best is trial 6 with value: 22.0.\n",
      "[I 2024-10-18 21:44:24,134] Trial 16 finished with value: 256.0 and parameters: {'n_rides': 4, 'ride_0': 2, 'ride_1': 0, 'ride_2': 4, 'ride_3': 0, 'lamb_x': 1.4725227453776313}. Best is trial 6 with value: 22.0.\n",
      "[I 2024-10-18 21:44:24,179] Trial 17 finished with value: 387.0 and parameters: {'n_rides': 10, 'ride_0': 6, 'ride_1': 6, 'ride_2': 2, 'ride_3': 2, 'ride_4': 7, 'ride_5': 4, 'ride_6': 3, 'ride_7': 4, 'ride_8': 7, 'ride_9': 0, 'lamb_x': 1.5716366629531184}. Best is trial 6 with value: 22.0.\n",
      "[I 2024-10-18 21:44:24,208] Trial 18 finished with value: 128.0 and parameters: {'n_rides': 3, 'ride_0': 3, 'ride_1': 2, 'ride_2': 5, 'lamb_x': 1.7991650770482415}. Best is trial 6 with value: 22.0.\n",
      "[I 2024-10-18 21:44:24,280] Trial 19 finished with value: 575.0 and parameters: {'n_rides': 18, 'ride_0': 7, 'ride_1': 1, 'ride_2': 0, 'ride_3': 6, 'ride_4': 6, 'ride_5': 7, 'ride_6': 2, 'ride_7': 0, 'ride_8': 0, 'ride_9': 4, 'ride_10': 0, 'ride_11': 7, 'ride_12': 7, 'ride_13': 0, 'ride_14': 0, 'ride_15': 7, 'ride_16': 7, 'ride_17': 0, 'lamb_x': 1.9848568672685278}. Best is trial 6 with value: 22.0.\n",
      "[I 2024-10-18 21:44:24,320] Trial 20 finished with value: 371.0 and parameters: {'n_rides': 8, 'ride_0': 6, 'ride_1': 5, 'ride_2': 2, 'ride_3': 0, 'ride_4': 0, 'ride_5': 3, 'ride_6': 5, 'ride_7': 5, 'lamb_x': 1.1320409211709923}. Best is trial 6 with value: 22.0.\n",
      "[I 2024-10-18 21:44:24,334] Trial 21 finished with value: 22.0 and parameters: {'n_rides': 1, 'ride_0': 7, 'lamb_x': 1.9969226102589135}. Best is trial 6 with value: 22.0.\n",
      "[I 2024-10-18 21:44:24,349] Trial 22 finished with value: 22.0 and parameters: {'n_rides': 1, 'ride_0': 7, 'lamb_x': 1.879710682784992}. Best is trial 6 with value: 22.0.\n",
      "[I 2024-10-18 21:44:24,375] Trial 23 finished with value: 66.0 and parameters: {'n_rides': 3, 'ride_0': 6, 'ride_1': 6, 'ride_2': 5, 'lamb_x': 1.5894628757384812}. Best is trial 6 with value: 22.0.\n",
      "[I 2024-10-18 21:44:24,403] Trial 24 finished with value: 157.0 and parameters: {'n_rides': 4, 'ride_0': 5, 'ride_1': 2, 'ride_2': 2, 'ride_3': 6, 'lamb_x': 1.7824572152691627}. Best is trial 6 with value: 22.0.\n",
      "[I 2024-10-18 21:44:24,419] Trial 25 finished with value: 22.0 and parameters: {'n_rides': 1, 'ride_0': 7, 'lamb_x': 1.8843473307744085}. Best is trial 6 with value: 22.0.\n",
      "[I 2024-10-18 21:44:24,443] Trial 26 finished with value: 116.0 and parameters: {'n_rides': 3, 'ride_0': 6, 'ride_1': 1, 'ride_2': 5, 'lamb_x': 1.6311964900149476}. Best is trial 6 with value: 22.0.\n",
      "[I 2024-10-18 21:44:24,475] Trial 27 finished with value: 226.0 and parameters: {'n_rides': 6, 'ride_0': 7, 'ride_1': 6, 'ride_2': 1, 'ride_3': 2, 'ride_4': 4, 'ride_5': 5, 'lamb_x': 1.4080254846304605}. Best is trial 6 with value: 22.0.\n",
      "[I 2024-10-18 21:44:24,495] Trial 28 finished with value: 78.0 and parameters: {'n_rides': 2, 'ride_0': 3, 'ride_1': 4, 'lamb_x': 1.8134088699631405}. Best is trial 6 with value: 22.0.\n",
      "[I 2024-10-18 21:44:24,527] Trial 29 finished with value: 192.0 and parameters: {'n_rides': 5, 'ride_0': 5, 'ride_1': 3, 'ride_2': 3, 'ride_3': 6, 'ride_4': 2, 'lamb_x': 1.968720205884105}. Best is trial 6 with value: 22.0.\n",
      "[I 2024-10-18 21:44:24,528] A new study created in memory with name: no-name-62205d67-7542-4e44-b924-fdf81f188bc7\n",
      "[I 2024-10-18 21:44:24,534] Trial 0 finished with value: 572.4498300402494 and parameters: {'n_rides': 20, 'ride_0': 6, 'ride_1': 0, 'ride_2': 0, 'ride_3': 4, 'ride_4': 2, 'ride_5': 0, 'ride_6': 1, 'ride_7': 1, 'ride_8': 3, 'ride_9': 4, 'ride_10': 2, 'ride_11': 3, 'ride_12': 4, 'ride_13': 3, 'ride_14': 5, 'ride_15': 1, 'ride_16': 7, 'ride_17': 2, 'ride_18': 0, 'ride_19': 2}. Best is trial 0 with value: 572.4498300402494.\n",
      "[I 2024-10-18 21:44:24,539] Trial 1 finished with value: 914.0830833396377 and parameters: {'n_rides': 3, 'ride_0': 0, 'ride_1': 1, 'ride_2': 3}. Best is trial 1 with value: 914.0830833396377.\n",
      "[I 2024-10-18 21:44:24,546] Trial 2 finished with value: 569.0584683119478 and parameters: {'n_rides': 18, 'ride_0': 5, 'ride_1': 3, 'ride_2': 2, 'ride_3': 4, 'ride_4': 5, 'ride_5': 1, 'ride_6': 0, 'ride_7': 6, 'ride_8': 0, 'ride_9': 1, 'ride_10': 1, 'ride_11': 4, 'ride_12': 3, 'ride_13': 6, 'ride_14': 1, 'ride_15': 6, 'ride_16': 3, 'ride_17': 1}. Best is trial 1 with value: 914.0830833396377.\n",
      "[I 2024-10-18 21:44:24,549] Trial 3 finished with value: 458.01527695345607 and parameters: {'n_rides': 15, 'ride_0': 1, 'ride_1': 3, 'ride_2': 5, 'ride_3': 2, 'ride_4': 7, 'ride_5': 4, 'ride_6': 1, 'ride_7': 0, 'ride_8': 3, 'ride_9': 0, 'ride_10': 6, 'ride_11': 5, 'ride_12': 1, 'ride_13': 7, 'ride_14': 3}. Best is trial 1 with value: 914.0830833396377.\n",
      "[I 2024-10-18 21:44:24,559] Trial 4 finished with value: 950.3003598830344 and parameters: {'n_rides': 3, 'ride_0': 3, 'ride_1': 0, 'ride_2': 0}. Best is trial 4 with value: 950.3003598830344.\n",
      "[I 2024-10-18 21:44:24,563] Trial 5 finished with value: 373.5368726327019 and parameters: {'n_rides': 12, 'ride_0': 0, 'ride_1': 5, 'ride_2': 1, 'ride_3': 7, 'ride_4': 6, 'ride_5': 2, 'ride_6': 6, 'ride_7': 3, 'ride_8': 2, 'ride_9': 2, 'ride_10': 7, 'ride_11': 6}. Best is trial 4 with value: 950.3003598830344.\n",
      "[I 2024-10-18 21:44:24,569] Trial 6 finished with value: 854.6631473308313 and parameters: {'n_rides': 5, 'ride_0': 5, 'ride_1': 2, 'ride_2': 4, 'ride_3': 2, 'ride_4': 4}. Best is trial 4 with value: 950.3003598830344.\n",
      "[I 2024-10-18 21:44:24,575] Trial 7 finished with value: 786.5628074113301 and parameters: {'n_rides': 7, 'ride_0': 4, 'ride_1': 1, 'ride_2': 7, 'ride_3': 2, 'ride_4': 0, 'ride_5': 4, 'ride_6': 3}. Best is trial 4 with value: 950.3003598830344.\n",
      "[I 2024-10-18 21:44:24,580] Trial 8 finished with value: 676.0711057635273 and parameters: {'n_rides': 8, 'ride_0': 2, 'ride_1': 4, 'ride_2': 7, 'ride_3': 0, 'ride_4': 0, 'ride_5': 1, 'ride_6': 4, 'ride_7': 3}. Best is trial 4 with value: 950.3003598830344.\n",
      "[I 2024-10-18 21:44:24,584] Trial 9 finished with value: 392.9568086415083 and parameters: {'n_rides': 14, 'ride_0': 3, 'ride_1': 6, 'ride_2': 2, 'ride_3': 4, 'ride_4': 3, 'ride_5': 3, 'ride_6': 6, 'ride_7': 5, 'ride_8': 4, 'ride_9': 1, 'ride_10': 7, 'ride_11': 0, 'ride_12': 4, 'ride_13': 1}. Best is trial 4 with value: 950.3003598830344.\n",
      "[I 2024-10-18 21:44:24,596] Trial 10 finished with value: 1109.3854228490795 and parameters: {'n_rides': 1, 'ride_0': 7}. Best is trial 10 with value: 1109.3854228490795.\n",
      "[I 2024-10-18 21:44:24,614] Trial 11 finished with value: 1051.820635811342 and parameters: {'n_rides': 2, 'ride_0': 7, 'ride_1': 7}. Best is trial 10 with value: 1109.3854228490795.\n",
      "[I 2024-10-18 21:44:24,626] Trial 12 finished with value: 1109.3854228490795 and parameters: {'n_rides': 1, 'ride_0': 7}. Best is trial 10 with value: 1109.3854228490795.\n",
      "[I 2024-10-18 21:44:24,634] Trial 13 finished with value: 1109.3854228490795 and parameters: {'n_rides': 1, 'ride_0': 7}. Best is trial 10 with value: 1109.3854228490795.\n",
      "[I 2024-10-18 21:44:24,676] Trial 14 finished with value: 469.15814835597985 and parameters: {'n_rides': 9, 'ride_0': 6, 'ride_1': 7, 'ride_2': 5, 'ride_3': 7, 'ride_4': 2, 'ride_5': 7, 'ride_6': 7, 'ride_7': 7, 'ride_8': 7}. Best is trial 10 with value: 1109.3854228490795.\n",
      "[I 2024-10-18 21:44:24,699] Trial 15 finished with value: 811.9382323107067 and parameters: {'n_rides': 5, 'ride_0': 7, 'ride_1': 5, 'ride_2': 6, 'ride_3': 6, 'ride_4': 7}. Best is trial 10 with value: 1109.3854228490795.\n"
     ]
    },
    {
     "name": "stdout",
     "output_type": "stream",
     "text": [
      "tt_best2: 717\n",
      "717\n",
      "total_time: 718\n",
      "total_popularity: 675\n",
      "total_time: 255\n",
      "total_popularity: 198\n",
      "total_time: 712\n",
      "total_popularity: 661\n",
      "total_time: 742\n",
      "total_popularity: 603\n",
      "total_time: 243\n",
      "total_popularity: 213\n",
      "total_time: 727\n",
      "total_popularity: 492\n",
      "total_time: 292\n",
      "total_popularity: 204\n",
      "total_time: 408\n",
      "total_popularity: 341\n",
      "total_time: 518\n",
      "total_popularity: 425\n",
      "total_time: 690\n",
      "total_popularity: 446\n",
      "total_time: 45\n",
      "total_popularity: 22\n",
      "total_time: 90\n",
      "total_popularity: 44\n",
      "total_time: 45\n",
      "total_popularity: 22\n",
      "total_time: 45\n",
      "total_popularity: 22\n",
      "total_time: 527\n",
      "total_popularity: 234\n",
      "total_time: 263\n",
      "total_popularity: 110\n"
     ]
    },
    {
     "name": "stderr",
     "output_type": "stream",
     "text": [
      "[I 2024-10-18 21:44:24,729] Trial 16 finished with value: 975.0830833396377 and parameters: {'n_rides': 5, 'ride_0': 5, 'ride_1': 4, 'ride_2': 3, 'ride_3': 0, 'ride_4': 1}. Best is trial 10 with value: 1109.3854228490795.\n",
      "[I 2024-10-18 21:44:24,739] Trial 17 finished with value: 1118.7621674993943 and parameters: {'n_rides': 1, 'ride_0': 6}. Best is trial 17 with value: 1118.7621674993943.\n",
      "[I 2024-10-18 21:44:24,788] Trial 18 finished with value: 423.88372325157366 and parameters: {'n_rides': 11, 'ride_0': 6, 'ride_1': 2, 'ride_2': 5, 'ride_3': 5, 'ride_4': 4, 'ride_5': 7, 'ride_6': 3, 'ride_7': 2, 'ride_8': 7, 'ride_9': 7, 'ride_10': 4}. Best is trial 17 with value: 1118.7621674993943.\n",
      "[I 2024-10-18 21:44:24,817] Trial 19 finished with value: 875.4458707874347 and parameters: {'n_rides': 6, 'ride_0': 4, 'ride_1': 6, 'ride_2': 1, 'ride_3': 1, 'ride_4': 5, 'ride_5': 5}. Best is trial 17 with value: 1118.7621674993943.\n",
      "[I 2024-10-18 21:44:24,837] Trial 20 finished with value: 994.5894020654275 and parameters: {'n_rides': 3, 'ride_0': 6, 'ride_1': 2, 'ride_2': 4}. Best is trial 17 with value: 1118.7621674993943.\n",
      "[I 2024-10-18 21:44:24,842] Trial 21 finished with value: 1109.3854228490795 and parameters: {'n_rides': 1, 'ride_0': 7}. Best is trial 17 with value: 1118.7621674993943.\n",
      "[I 2024-10-18 21:44:24,860] Trial 22 finished with value: 1109.3854228490795 and parameters: {'n_rides': 1, 'ride_0': 7}. Best is trial 17 with value: 1118.7621674993943.\n",
      "[I 2024-10-18 21:44:24,879] Trial 23 finished with value: 870.039232105677 and parameters: {'n_rides': 4, 'ride_0': 6, 'ride_1': 5, 'ride_2': 6, 'ride_3': 6}. Best is trial 17 with value: 1118.7621674993943.\n",
      "[I 2024-10-18 21:44:24,895] Trial 24 finished with value: 1156.0518695572566 and parameters: {'n_rides': 1, 'ride_0': 5}. Best is trial 24 with value: 1156.0518695572566.\n",
      "[I 2024-10-18 21:44:24,916] Trial 25 finished with value: 937.039232105677 and parameters: {'n_rides': 3, 'ride_0': 5, 'ride_1': 1, 'ride_2': 2}. Best is trial 24 with value: 1156.0518695572566.\n"
     ]
    },
    {
     "name": "stdout",
     "output_type": "stream",
     "text": [
      "total_time: 255\n",
      "total_popularity: 259\n",
      "total_time: 38\n",
      "total_popularity: 19\n",
      "total_time: 625\n",
      "total_popularity: 362\n",
      "total_time: 304\n",
      "total_popularity: 246\n",
      "total_time: 158\n",
      "total_popularity: 107\n",
      "total_time: 45\n",
      "total_popularity: 22\n",
      "total_time: 45\n",
      "total_popularity: 22\n",
      "total_time: 216\n",
      "total_popularity: 85\n",
      "total_time: 22\n",
      "total_popularity: 28\n",
      "total_time: 216\n",
      "total_popularity: 152\n"
     ]
    },
    {
     "name": "stderr",
     "output_type": "stream",
     "text": [
      "[I 2024-10-18 21:44:24,956] Trial 26 finished with value: 811.9827434201366 and parameters: {'n_rides': 8, 'ride_0': 4, 'ride_1': 6, 'ride_2': 1, 'ride_3': 3, 'ride_4': 2, 'ride_5': 6, 'ride_6': 4, 'ride_7': 5}. Best is trial 24 with value: 1156.0518695572566.\n",
      "[I 2024-10-18 21:44:24,979] Trial 27 finished with value: 950.4737851924702 and parameters: {'n_rides': 4, 'ride_0': 5, 'ride_1': 3, 'ride_2': 7, 'ride_3': 5}. Best is trial 24 with value: 1156.0518695572566.\n",
      "[I 2024-10-18 21:44:25,010] Trial 28 finished with value: 801.721615642779 and parameters: {'n_rides': 6, 'ride_0': 6, 'ride_1': 4, 'ride_2': 6, 'ride_3': 1, 'ride_4': 6, 'ride_5': 0}. Best is trial 24 with value: 1156.0518695572566.\n",
      "[I 2024-10-18 21:44:25,091] Trial 29 finished with value: 613.0877024679216 and parameters: {'n_rides': 20, 'ride_0': 6, 'ride_1': 0, 'ride_2': 3, 'ride_3': 3, 'ride_4': 3, 'ride_5': 5, 'ride_6': 2, 'ride_7': 0, 'ride_8': 5, 'ride_9': 7, 'ride_10': 0, 'ride_11': 0, 'ride_12': 7, 'ride_13': 0, 'ride_14': 7, 'ride_15': 7, 'ride_16': 0, 'ride_17': 6, 'ride_18': 7, 'ride_19': 7}. Best is trial 24 with value: 1156.0518695572566.\n",
      "[I 2024-10-18 21:44:25,092] A new study created in memory with name: no-name-77fa06c3-f178-489a-924c-a75d0241cdb8\n",
      "[I 2024-10-18 21:44:25,097] Trial 0 finished with value: 1057.201787128343 and parameters: {'n_rides': 6, 'ride_0': 7, 'ride_1': 1, 'ride_2': 4, 'ride_3': 3, 'ride_4': 4, 'ride_5': 7, 'lamb_x': 1.3059589139942682}. Best is trial 0 with value: 1057.201787128343.\n",
      "[I 2024-10-18 21:44:25,103] Trial 1 finished with value: 878.3156968341528 and parameters: {'n_rides': 6, 'ride_0': 2, 'ride_1': 3, 'ride_2': 5, 'ride_3': 1, 'ride_4': 3, 'ride_5': 6, 'lamb_x': 0.9675794621224967}. Best is trial 1 with value: 878.3156968341528.\n",
      "[I 2024-10-18 21:44:25,109] Trial 2 finished with value: 1452.356211002022 and parameters: {'n_rides': 10, 'ride_0': 1, 'ride_1': 0, 'ride_2': 0, 'ride_3': 3, 'ride_4': 5, 'ride_5': 5, 'ride_6': 1, 'ride_7': 0, 'ride_8': 3, 'ride_9': 1, 'lamb_x': 1.3281445313511315}. Best is trial 1 with value: 878.3156968341528.\n",
      "[I 2024-10-18 21:44:25,115] Trial 3 finished with value: 1273.1624421217944 and parameters: {'n_rides': 13, 'ride_0': 5, 'ride_1': 0, 'ride_2': 1, 'ride_3': 3, 'ride_4': 3, 'ride_5': 3, 'ride_6': 0, 'ride_7': 5, 'ride_8': 6, 'ride_9': 2, 'ride_10': 2, 'ride_11': 4, 'ride_12': 3, 'lamb_x': 1.0002546114761666}. Best is trial 1 with value: 878.3156968341528.\n",
      "[I 2024-10-18 21:44:25,119] Trial 4 finished with value: 1151.6098129534068 and parameters: {'n_rides': 1, 'ride_0': 7, 'lamb_x': 1.7705482961652146}. Best is trial 1 with value: 878.3156968341528.\n",
      "[I 2024-10-18 21:44:25,119] Trial 5 finished with value: 1444.2018314556328 and parameters: {'n_rides': 7, 'ride_0': 7, 'ride_1': 2, 'ride_2': 1, 'ride_3': 1, 'ride_4': 2, 'ride_5': 7, 'ride_6': 4, 'lamb_x': 1.7542348455417442}. Best is trial 1 with value: 878.3156968341528.\n",
      "[I 2024-10-18 21:44:25,130] Trial 6 finished with value: 1677.4283575892982 and parameters: {'n_rides': 18, 'ride_0': 4, 'ride_1': 3, 'ride_2': 2, 'ride_3': 4, 'ride_4': 2, 'ride_5': 1, 'ride_6': 4, 'ride_7': 1, 'ride_8': 5, 'ride_9': 0, 'ride_10': 4, 'ride_11': 7, 'ride_12': 1, 'ride_13': 4, 'ride_14': 4, 'ride_15': 6, 'ride_16': 4, 'ride_17': 7, 'lamb_x': 1.593147895907991}. Best is trial 1 with value: 878.3156968341528.\n",
      "[I 2024-10-18 21:44:25,130] Trial 7 finished with value: 1336.9038935791325 and parameters: {'n_rides': 4, 'ride_0': 4, 'ride_1': 6, 'ride_2': 2, 'ride_3': 3, 'lamb_x': 1.8572161341365714}. Best is trial 1 with value: 878.3156968341528.\n",
      "[I 2024-10-18 21:44:25,144] Trial 8 finished with value: 1561.007817764949 and parameters: {'n_rides': 18, 'ride_0': 4, 'ride_1': 5, 'ride_2': 2, 'ride_3': 6, 'ride_4': 0, 'ride_5': 4, 'ride_6': 7, 'ride_7': 0, 'ride_8': 0, 'ride_9': 2, 'ride_10': 5, 'ride_11': 3, 'ride_12': 0, 'ride_13': 1, 'ride_14': 7, 'ride_15': 2, 'ride_16': 7, 'ride_17': 7, 'lamb_x': 1.3871595889732744}. Best is trial 1 with value: 878.3156968341528.\n"
     ]
    },
    {
     "name": "stdout",
     "output_type": "stream",
     "text": [
      "total_time: 371\n",
      "total_popularity: 301\n",
      "total_time: 192\n",
      "total_popularity: 123\n",
      "total_time: 344\n",
      "total_popularity: 243\n",
      "total_time: 738\n",
      "total_popularity: 751\n"
     ]
    },
    {
     "name": "stderr",
     "output_type": "stream",
     "text": [
      "[I 2024-10-18 21:44:25,145] Trial 9 finished with value: 909.0035622467071 and parameters: {'n_rides': 2, 'ride_0': 7, 'ride_1': 7, 'lamb_x': 1.355804956499541}. Best is trial 1 with value: 878.3156968341528.\n",
      "[I 2024-10-18 21:44:25,202] Trial 10 finished with value: 819.2832178472943 and parameters: {'n_rides': 12, 'ride_0': 0, 'ride_1': 4, 'ride_2': 7, 'ride_3': 0, 'ride_4': 7, 'ride_5': 0, 'ride_6': 7, 'ride_7': 7, 'ride_8': 0, 'ride_9': 7, 'ride_10': 0, 'ride_11': 0, 'lamb_x': 0.5333592756227182}. Best is trial 10 with value: 819.2832178472943.\n",
      "[I 2024-10-18 21:44:25,260] Trial 11 finished with value: 851.8283446754454 and parameters: {'n_rides': 13, 'ride_0': 0, 'ride_1': 4, 'ride_2': 7, 'ride_3': 0, 'ride_4': 7, 'ride_5': 0, 'ride_6': 7, 'ride_7': 7, 'ride_8': 0, 'ride_9': 7, 'ride_10': 0, 'ride_11': 0, 'ride_12': 7, 'lamb_x': 0.5498876875790679}. Best is trial 10 with value: 819.2832178472943.\n",
      "[I 2024-10-18 21:44:25,324] Trial 12 finished with value: 853.4509258827222 and parameters: {'n_rides': 14, 'ride_0': 0, 'ride_1': 5, 'ride_2': 7, 'ride_3': 0, 'ride_4': 7, 'ride_5': 0, 'ride_6': 7, 'ride_7': 7, 'ride_8': 0, 'ride_9': 7, 'ride_10': 0, 'ride_11': 0, 'ride_12': 7, 'ride_13': 6, 'lamb_x': 0.5947506675277778}. Best is trial 10 with value: 819.2832178472943.\n",
      "[I 2024-10-18 21:44:25,389] Trial 13 finished with value: 873.4120998594096 and parameters: {'n_rides': 14, 'ride_0': 0, 'ride_1': 4, 'ride_2': 7, 'ride_3': 0, 'ride_4': 7, 'ride_5': 2, 'ride_6': 6, 'ride_7': 7, 'ride_8': 2, 'ride_9': 7, 'ride_10': 0, 'ride_11': 0, 'ride_12': 7, 'ride_13': 0, 'lamb_x': 0.5476678681181969}. Best is trial 10 with value: 819.2832178472943.\n",
      "[I 2024-10-18 21:44:25,437] Trial 14 finished with value: 967.3918811667329 and parameters: {'n_rides': 10, 'ride_0': 2, 'ride_1': 4, 'ride_2': 6, 'ride_3': 1, 'ride_4': 6, 'ride_5': 0, 'ride_6': 5, 'ride_7': 5, 'ride_8': 1, 'ride_9': 5, 'lamb_x': 0.8391722275340641}. Best is trial 10 with value: 819.2832178472943.\n",
      "[I 2024-10-18 21:44:25,504] Trial 15 finished with value: 969.602636485058 and parameters: {'n_rides': 16, 'ride_0': 2, 'ride_1': 5, 'ride_2': 5, 'ride_3': 5, 'ride_4': 6, 'ride_5': 2, 'ride_6': 7, 'ride_7': 5, 'ride_8': 2, 'ride_9': 5, 'ride_10': 2, 'ride_11': 2, 'ride_12': 5, 'ride_13': 7, 'ride_14': 0, 'ride_15': 0, 'lamb_x': 0.7611326590674891}. Best is trial 10 with value: 819.2832178472943.\n",
      "[I 2024-10-18 21:44:25,564] Trial 16 finished with value: 874.9618402357585 and parameters: {'n_rides': 12, 'ride_0': 1, 'ride_1': 2, 'ride_2': 6, 'ride_3': 0, 'ride_4': 5, 'ride_5': 0, 'ride_6': 2, 'ride_7': 7, 'ride_8': 0, 'ride_9': 5, 'ride_10': 7, 'ride_11': 0, 'lamb_x': 0.5093445771720353}. Best is trial 10 with value: 819.2832178472943.\n",
      "[I 2024-10-18 21:44:25,644] Trial 17 finished with value: 1223.6910983620924 and parameters: {'n_rides': 20, 'ride_0': 0, 'ride_1': 7, 'ride_2': 7, 'ride_3': 2, 'ride_4': 7, 'ride_5': 1, 'ride_6': 5, 'ride_7': 3, 'ride_8': 4, 'ride_9': 7, 'ride_10': 1, 'ride_11': 2, 'ride_12': 5, 'ride_13': 3, 'ride_14': 0, 'ride_15': 7, 'ride_16': 0, 'ride_17': 0, 'ride_18': 4, 'ride_19': 6, 'lamb_x': 1.0935597153010854}. Best is trial 10 with value: 819.2832178472943.\n",
      "[I 2024-10-18 21:44:25,694] Trial 18 finished with value: 753.2173334299594 and parameters: {'n_rides': 9, 'ride_0': 1, 'ride_1': 4, 'ride_2': 4, 'ride_3': 7, 'ride_4': 6, 'ride_5': 2, 'ride_6': 6, 'ride_7': 6, 'ride_8': 7, 'lamb_x': 0.7244785790438235}. Best is trial 18 with value: 753.2173334299594.\n",
      "[I 2024-10-18 21:44:25,737] Trial 19 finished with value: 800.158834242834 and parameters: {'n_rides': 8, 'ride_0': 1, 'ride_1': 2, 'ride_2': 3, 'ride_3': 7, 'ride_4': 5, 'ride_5': 2, 'ride_6': 5, 'ride_7': 4, 'lamb_x': 0.7290890818853197}. Best is trial 18 with value: 753.2173334299594.\n",
      "[I 2024-10-18 21:44:25,780] Trial 20 finished with value: 806.424585790264 and parameters: {'n_rides': 8, 'ride_0': 3, 'ride_1': 2, 'ride_2': 3, 'ride_3': 7, 'ride_4': 5, 'ride_5': 3, 'ride_6': 3, 'ride_7': 3, 'lamb_x': 0.7467469996712601}. Best is trial 18 with value: 753.2173334299594.\n",
      "[I 2024-10-18 21:44:25,824] Trial 21 finished with value: 783.1471638888993 and parameters: {'n_rides': 8, 'ride_0': 3, 'ride_1': 2, 'ride_2': 3, 'ride_3': 7, 'ride_4': 5, 'ride_5': 3, 'ride_6': 3, 'ride_7': 3, 'lamb_x': 0.7102620123650458}. Best is trial 18 with value: 753.2173334299594.\n",
      "[I 2024-10-18 21:44:25,869] Trial 22 finished with value: 820.5404722480612 and parameters: {'n_rides': 9, 'ride_0': 1, 'ride_1': 1, 'ride_2': 4, 'ride_3': 7, 'ride_4': 4, 'ride_5': 2, 'ride_6': 5, 'ride_7': 4, 'ride_8': 7, 'lamb_x': 0.7155806775047981}. Best is trial 18 with value: 753.2173334299594.\n",
      "[I 2024-10-18 21:44:25,899] Trial 23 finished with value: 761.9656527703595 and parameters: {'n_rides': 4, 'ride_0': 3, 'ride_1': 1, 'ride_2': 3, 'ride_3': 6, 'lamb_x': 0.9153066657842626}. Best is trial 18 with value: 753.2173334299594.\n",
      "[I 2024-10-18 21:44:25,928] Trial 24 finished with value: 904.5266903411931 and parameters: {'n_rides': 3, 'ride_0': 3, 'ride_1': 1, 'ride_2': 3, 'lamb_x': 1.1685371321962275}. Best is trial 18 with value: 753.2173334299594.\n",
      "[I 2024-10-18 21:44:25,963] Trial 25 finished with value: 711.4945991408489 and parameters: {'n_rides': 5, 'ride_0': 5, 'ride_1': 3, 'ride_2': 4, 'ride_3': 6, 'ride_4': 6, 'lamb_x': 0.8894899673054057}. Best is trial 25 with value: 711.4945991408489.\n",
      "[I 2024-10-18 21:44:25,994] Trial 26 finished with value: 723.8323971795011 and parameters: {'n_rides': 5, 'ride_0': 5, 'ride_1': 3, 'ride_2': 4, 'ride_3': 6, 'ride_4': 6, 'lamb_x': 0.9088282087452995}. Best is trial 25 with value: 711.4945991408489.\n",
      "[I 2024-10-18 21:44:26,030] Trial 27 finished with value: 831.0038463717938 and parameters: {'n_rides': 5, 'ride_0': 6, 'ride_1': 3, 'ride_2': 5, 'ride_3': 5, 'ride_4': 6, 'lamb_x': 1.084645527228517}. Best is trial 25 with value: 711.4945991408489.\n",
      "[I 2024-10-18 21:44:26,066] Trial 28 finished with value: 720.9225078528123 and parameters: {'n_rides': 6, 'ride_0': 5, 'ride_1': 3, 'ride_2': 4, 'ride_3': 6, 'ride_4': 6, 'ride_5': 5, 'lamb_x': 0.8603801063523704}. Best is trial 25 with value: 711.4945991408489.\n",
      "[I 2024-10-18 21:44:26,102] Trial 29 finished with value: 744.4420721100871 and parameters: {'n_rides': 6, 'ride_0': 5, 'ride_1': 3, 'ride_2': 5, 'ride_3': 5, 'ride_4': 6, 'ride_5': 5, 'lamb_x': 0.890975034655309}. Best is trial 25 with value: 711.4945991408489.\n",
      "[I 2024-10-18 21:44:26,103] A new study created in memory with name: no-name-51a46e53-97f5-4ee6-a88d-31c4a057d67b\n",
      "[I 2024-10-18 21:44:26,110] Trial 0 finished with value: 570.4149916020351 and parameters: {'n_rides': 19, 'ride_0': 4, 'ride_1': 3, 'ride_2': 4, 'ride_3': 3, 'ride_4': 4, 'ride_5': 5, 'ride_6': 3, 'ride_7': 0, 'ride_8': 6, 'ride_9': 5, 'ride_10': 4, 'ride_11': 1, 'ride_12': 1, 'ride_13': 7, 'ride_14': 5, 'ride_15': 3, 'ride_16': 3, 'ride_17': 4, 'ride_18': 3}. Best is trial 0 with value: 570.4149916020351.\n",
      "[I 2024-10-18 21:44:26,118] Trial 1 finished with value: 549.6306019616757 and parameters: {'n_rides': 15, 'ride_0': 5, 'ride_1': 4, 'ride_2': 3, 'ride_3': 7, 'ride_4': 7, 'ride_5': 5, 'ride_6': 0, 'ride_7': 1, 'ride_8': 5, 'ride_9': 2, 'ride_10': 0, 'ride_11': 2, 'ride_12': 7, 'ride_13': 5, 'ride_14': 7}. Best is trial 0 with value: 570.4149916020351.\n",
      "[I 2024-10-18 21:44:26,125] Trial 2 finished with value: 546.4149916020351 and parameters: {'n_rides': 19, 'ride_0': 6, 'ride_1': 5, 'ride_2': 5, 'ride_3': 2, 'ride_4': 2, 'ride_5': 7, 'ride_6': 2, 'ride_7': 1, 'ride_8': 2, 'ride_9': 1, 'ride_10': 5, 'ride_11': 4, 'ride_12': 6, 'ride_13': 2, 'ride_14': 1, 'ride_15': 5, 'ride_16': 5, 'ride_17': 7, 'ride_18': 1}. Best is trial 0 with value: 570.4149916020351.\n",
      "[I 2024-10-18 21:44:26,134] Trial 3 finished with value: 487.97295147125675 and parameters: {'n_rides': 16, 'ride_0': 5, 'ride_1': 6, 'ride_2': 2, 'ride_3': 5, 'ride_4': 4, 'ride_5': 4, 'ride_6': 7, 'ride_7': 5, 'ride_8': 3, 'ride_9': 4, 'ride_10': 1, 'ride_11': 2, 'ride_12': 5, 'ride_13': 4, 'ride_14': 6, 'ride_15': 1}. Best is trial 0 with value: 570.4149916020351.\n",
      "[I 2024-10-18 21:44:26,140] Trial 4 finished with value: 545.2867144046786 and parameters: {'n_rides': 3, 'ride_0': 6, 'ride_1': 1, 'ride_2': 4}. Best is trial 0 with value: 570.4149916020351.\n",
      "[I 2024-10-18 21:44:26,142] Trial 5 finished with value: 531.3964465670676 and parameters: {'n_rides': 9, 'ride_0': 1, 'ride_1': 3, 'ride_2': 1, 'ride_3': 6, 'ride_4': 1, 'ride_5': 2, 'ride_6': 7, 'ride_7': 3, 'ride_8': 3}. Best is trial 0 with value: 570.4149916020351.\n",
      "[I 2024-10-18 21:44:26,154] Trial 6 finished with value: 556.7465217001189 and parameters: {'n_rides': 19, 'ride_0': 7, 'ride_1': 7, 'ride_2': 2, 'ride_3': 2, 'ride_4': 6, 'ride_5': 0, 'ride_6': 5, 'ride_7': 3, 'ride_8': 3, 'ride_9': 3, 'ride_10': 2, 'ride_11': 2, 'ride_12': 5, 'ride_13': 0, 'ride_14': 0, 'ride_15': 3, 'ride_16': 0, 'ride_17': 5, 'ride_18': 7}. Best is trial 0 with value: 570.4149916020351.\n",
      "[I 2024-10-18 21:44:26,161] Trial 7 finished with value: 502.73029258287295 and parameters: {'n_rides': 20, 'ride_0': 7, 'ride_1': 2, 'ride_2': 6, 'ride_3': 1, 'ride_4': 2, 'ride_5': 0, 'ride_6': 7, 'ride_7': 2, 'ride_8': 3, 'ride_9': 3, 'ride_10': 5, 'ride_11': 2, 'ride_12': 6, 'ride_13': 1, 'ride_14': 3, 'ride_15': 0, 'ride_16': 7, 'ride_17': 0, 'ride_18': 2, 'ride_19': 4}. Best is trial 0 with value: 570.4149916020351.\n",
      "[I 2024-10-18 21:44:26,161] Trial 8 finished with value: 569.0363298928245 and parameters: {'n_rides': 1, 'ride_0': 7}. Best is trial 0 with value: 570.4149916020351.\n",
      "[I 2024-10-18 21:44:26,175] Trial 9 finished with value: 647.6630601961675 and parameters: {'n_rides': 14, 'ride_0': 4, 'ride_1': 4, 'ride_2': 6, 'ride_3': 1, 'ride_4': 3, 'ride_5': 6, 'ride_6': 0, 'ride_7': 5, 'ride_8': 0, 'ride_9': 3, 'ride_10': 2, 'ride_11': 2, 'ride_12': 0, 'ride_13': 0}. Best is trial 9 with value: 647.6630601961675.\n",
      "[I 2024-10-18 21:44:26,219] Trial 10 finished with value: 503.4041721905378 and parameters: {'n_rides': 10, 'ride_0': 2, 'ride_1': 0, 'ride_2': 7, 'ride_3': 0, 'ride_4': 0, 'ride_5': 7, 'ride_6': 0, 'ride_7': 7, 'ride_8': 0, 'ride_9': 7}. Best is trial 9 with value: 647.6630601961675.\n",
      "[I 2024-10-18 21:44:26,279] Trial 11 finished with value: 532.3098912750892 and parameters: {'n_rides': 14, 'ride_0': 3, 'ride_1': 3, 'ride_2': 5, 'ride_3': 4, 'ride_4': 4, 'ride_5': 5, 'ride_6': 3, 'ride_7': 5, 'ride_8': 6, 'ride_9': 5, 'ride_10': 3, 'ride_11': 0, 'ride_12': 0, 'ride_13': 7}. Best is trial 9 with value: 647.6630601961675.\n"
     ]
    },
    {
     "name": "stdout",
     "output_type": "stream",
     "text": [
      "tt_best2: 22\n",
      "22\n",
      "total_time: 709\n",
      "total_popularity: 614\n",
      "total_time: 720\n",
      "total_popularity: 603\n",
      "total_time: 709\n",
      "total_popularity: 590\n",
      "total_time: 705\n",
      "total_popularity: 528\n",
      "total_time: 183\n",
      "total_popularity: 121\n",
      "total_time: 555\n",
      "total_popularity: 438\n",
      "total_time: 712\n",
      "total_popularity: 603\n",
      "total_time: 739\n",
      "total_popularity: 573\n",
      "total_time: 45\n",
      "total_popularity: 22\n",
      "total_time: 666\n",
      "total_popularity: 653\n",
      "total_time: 727\n",
      "total_popularity: 563\n",
      "total_time: 699\n",
      "total_popularity: 567\n"
     ]
    },
    {
     "name": "stderr",
     "output_type": "stream",
     "text": [
      "[I 2024-10-18 21:44:26,344] Trial 12 finished with value: 483.94049323676484 and parameters: {'n_rides': 14, 'ride_0': 4, 'ride_1': 4, 'ride_2': 7, 'ride_3': 3, 'ride_4': 5, 'ride_5': 6, 'ride_6': 2, 'ride_7': 0, 'ride_8': 0, 'ride_9': 6, 'ride_10': 7, 'ride_11': 7, 'ride_12': 0, 'ride_13': 7}. Best is trial 9 with value: 647.6630601961675.\n",
      "[I 2024-10-18 21:44:26,379] Trial 13 finished with value: 573.9575002243164 and parameters: {'n_rides': 7, 'ride_0': 3, 'ride_1': 5, 'ride_2': 4, 'ride_3': 0, 'ride_4': 3, 'ride_5': 3, 'ride_6': 5}. Best is trial 9 with value: 647.6630601961675.\n",
      "[I 2024-10-18 21:44:26,411] Trial 14 finished with value: 558.1514717609623 and parameters: {'n_rides': 6, 'ride_0': 0, 'ride_1': 5, 'ride_2': 5, 'ride_3': 0, 'ride_4': 2, 'ride_5': 2}. Best is trial 9 with value: 647.6630601961675.\n",
      "[I 2024-10-18 21:44:26,447] Trial 15 finished with value: 547.5881021859919 and parameters: {'n_rides': 7, 'ride_0': 3, 'ride_1': 6, 'ride_2': 0, 'ride_3': 1, 'ride_4': 3, 'ride_5': 3, 'ride_6': 5}. Best is trial 9 with value: 647.6630601961675.\n",
      "[I 2024-10-18 21:44:26,504] Trial 16 finished with value: 556.3098912750892 and parameters: {'n_rides': 12, 'ride_0': 2, 'ride_1': 5, 'ride_2': 6, 'ride_3': 0, 'ride_4': 3, 'ride_5': 3, 'ride_6': 5, 'ride_7': 7, 'ride_8': 1, 'ride_9': 0, 'ride_10': 0, 'ride_11': 5}. Best is trial 9 with value: 647.6630601961675.\n",
      "[I 2024-10-18 21:44:26,534] Trial 17 finished with value: 548.8523998973703 and parameters: {'n_rides': 6, 'ride_0': 2, 'ride_1': 7, 'ride_2': 3, 'ride_3': 1, 'ride_4': 5, 'ride_5': 2}. Best is trial 9 with value: 647.6630601961675.\n"
     ]
    },
    {
     "name": "stdout",
     "output_type": "stream",
     "text": [
      "total_time: 759\n",
      "total_popularity: 572\n",
      "total_time: 361\n",
      "total_popularity: 308\n",
      "total_time: 408\n",
      "total_popularity: 334\n",
      "total_time: 421\n",
      "total_popularity: 335\n",
      "total_time: 699\n",
      "total_popularity: 591\n",
      "total_time: 351\n",
      "total_popularity: 274\n"
     ]
    },
    {
     "name": "stderr",
     "output_type": "stream",
     "text": [
      "[I 2024-10-18 21:44:26,592] Trial 18 finished with value: 569.3207106865865 and parameters: {'n_rides': 12, 'ride_0': 4, 'ride_1': 2, 'ride_2': 6, 'ride_3': 2, 'ride_4': 0, 'ride_5': 4, 'ride_6': 1, 'ride_7': 5, 'ride_8': 1, 'ride_9': 1, 'ride_10': 2, 'ride_11': 6}. Best is trial 9 with value: 647.6630601961675.\n",
      "[I 2024-10-18 21:44:26,630] Trial 19 finished with value: 559.4049500608434 and parameters: {'n_rides': 8, 'ride_0': 5, 'ride_1': 6, 'ride_2': 4, 'ride_3': 1, 'ride_4': 1, 'ride_5': 6, 'ride_6': 4, 'ride_7': 6}. Best is trial 9 with value: 647.6630601961675.\n",
      "[I 2024-10-18 21:44:26,654] Trial 20 finished with value: 574.7612127699488 and parameters: {'n_rides': 3, 'ride_0': 3, 'ride_1': 4, 'ride_2': 5}. Best is trial 9 with value: 647.6630601961675.\n",
      "[I 2024-10-18 21:44:26,674] Trial 21 finished with value: 574.7612127699488 and parameters: {'n_rides': 3, 'ride_0': 3, 'ride_1': 4, 'ride_2': 5}. Best is trial 9 with value: 647.6630601961675.\n",
      "[I 2024-10-18 21:44:26,699] Trial 22 finished with value: 517.8013966279109 and parameters: {'n_rides': 4, 'ride_0': 1, 'ride_1': 4, 'ride_2': 6, 'ride_3': 4}. Best is trial 9 with value: 647.6630601961675.\n",
      "[I 2024-10-18 21:44:26,712] Trial 23 finished with value: 576.0255104813273 and parameters: {'n_rides': 1, 'ride_0': 3}. Best is trial 9 with value: 647.6630601961675.\n",
      "[I 2024-10-18 21:44:26,727] Trial 24 finished with value: 554.982232835338 and parameters: {'n_rides': 2, 'ride_0': 4, 'ride_1': 2}. Best is trial 9 with value: 647.6630601961675.\n",
      "[I 2024-10-18 21:44:26,740] Trial 25 finished with value: 537.9930522468353 and parameters: {'n_rides': 1, 'ride_0': 2}. Best is trial 9 with value: 647.6630601961675.\n",
      "[I 2024-10-18 21:44:26,768] Trial 26 finished with value: 474.7364801589271 and parameters: {'n_rides': 5, 'ride_0': 1, 'ride_1': 1, 'ride_2': 7, 'ride_3': 5, 'ride_4': 6}. Best is trial 9 with value: 647.6630601961675.\n"
     ]
    },
    {
     "name": "stdout",
     "output_type": "stream",
     "text": [
      "total_time: 681\n",
      "total_popularity: 588\n",
      "total_time: 356\n",
      "total_popularity: 289\n",
      "total_time: 133\n",
      "total_popularity: 106\n",
      "total_time: 133\n",
      "total_popularity: 106\n",
      "total_time: 251\n",
      "total_popularity: 154\n",
      "total_time: 63\n",
      "total_popularity: 45\n",
      "total_time: 135\n",
      "total_popularity: 88\n",
      "total_time: 117\n",
      "total_popularity: 55\n",
      "total_time: 359\n",
      "total_popularity: 207\n"
     ]
    },
    {
     "name": "stderr",
     "output_type": "stream",
     "text": [
      "[I 2024-10-18 21:44:26,843] Trial 27 finished with value: 523.5255016347297 and parameters: {'n_rides': 17, 'ride_0': 3, 'ride_1': 3, 'ride_2': 6, 'ride_3': 3, 'ride_4': 7, 'ride_5': 6, 'ride_6': 1, 'ride_7': 4, 'ride_8': 5, 'ride_9': 4, 'ride_10': 7, 'ride_11': 4, 'ride_12': 2, 'ride_13': 2, 'ride_14': 3, 'ride_15': 7, 'ride_16': 0}. Best is trial 9 with value: 647.6630601961675.\n",
      "[I 2024-10-18 21:44:26,899] Trial 28 finished with value: 532.5309113404784 and parameters: {'n_rides': 12, 'ride_0': 5, 'ride_1': 1, 'ride_2': 3, 'ride_3': 7, 'ride_4': 5, 'ride_5': 1, 'ride_6': 1, 'ride_7': 4, 'ride_8': 7, 'ride_9': 2, 'ride_10': 3, 'ride_11': 0}. Best is trial 9 with value: 647.6630601961675.\n",
      "[I 2024-10-18 21:44:26,927] Trial 29 finished with value: 539.4026341431218 and parameters: {'n_rides': 4, 'ride_0': 4, 'ride_1': 6, 'ride_2': 5, 'ride_3': 5}. Best is trial 9 with value: 647.6630601961675.\n",
      "[I 2024-10-18 21:44:26,929] A new study created in memory with name: no-name-5b6eba2b-54ba-4cb4-9508-cbed4fd6c216\n",
      "[I 2024-10-18 21:44:26,929] Trial 0 finished with value: 383.0 and parameters: {'n_rides': 10, 'ride_0': 7, 'ride_1': 4, 'ride_2': 1, 'ride_3': 0, 'ride_4': 6, 'ride_5': 5, 'ride_6': 4, 'ride_7': 5, 'ride_8': 7, 'ride_9': 3, 'lamb_x': 1.0284347919031958}. Best is trial 0 with value: 383.0.\n",
      "[I 2024-10-18 21:44:26,939] Trial 1 finished with value: 100.0 and parameters: {'n_rides': 2, 'ride_0': 2, 'ride_1': 3, 'lamb_x': 0.9140539959416558}. Best is trial 1 with value: 100.0.\n",
      "[I 2024-10-18 21:44:26,945] Trial 2 finished with value: 233.0 and parameters: {'n_rides': 5, 'ride_0': 1, 'ride_1': 4, 'ride_2': 5, 'ride_3': 6, 'ride_4': 0, 'lamb_x': 1.3691640506223473}. Best is trial 1 with value: 100.0.\n",
      "[I 2024-10-18 21:44:26,949] Trial 3 finished with value: 116.0 and parameters: {'n_rides': 3, 'ride_0': 6, 'ride_1': 5, 'ride_2': 1, 'lamb_x': 0.679861171506988}. Best is trial 1 with value: 100.0.\n",
      "[I 2024-10-18 21:44:26,958] Trial 4 finished with value: 588.0 and parameters: {'n_rides': 19, 'ride_0': 0, 'ride_1': 3, 'ride_2': 5, 'ride_3': 0, 'ride_4': 2, 'ride_5': 1, 'ride_6': 2, 'ride_7': 7, 'ride_8': 4, 'ride_9': 6, 'ride_10': 4, 'ride_11': 4, 'ride_12': 0, 'ride_13': 1, 'ride_14': 5, 'ride_15': 7, 'ride_16': 7, 'ride_17': 2, 'ride_18': 2, 'lamb_x': 0.7616927191414881}. Best is trial 1 with value: 100.0.\n",
      "[I 2024-10-18 21:44:26,961] Trial 5 finished with value: 28.0 and parameters: {'n_rides': 1, 'ride_0': 5, 'lamb_x': 0.9159702648751125}. Best is trial 5 with value: 28.0.\n",
      "[I 2024-10-18 21:44:26,961] Trial 6 finished with value: 232.0 and parameters: {'n_rides': 4, 'ride_0': 0, 'ride_1': 3, 'ride_2': 0, 'ride_3': 6, 'lamb_x': 0.5640800247146343}. Best is trial 5 with value: 28.0.\n",
      "[I 2024-10-18 21:44:26,970] Trial 7 finished with value: 468.0 and parameters: {'n_rides': 16, 'ride_0': 3, 'ride_1': 6, 'ride_2': 7, 'ride_3': 6, 'ride_4': 6, 'ride_5': 4, 'ride_6': 4, 'ride_7': 4, 'ride_8': 6, 'ride_9': 6, 'ride_10': 2, 'ride_11': 3, 'ride_12': 6, 'ride_13': 1, 'ride_14': 6, 'ride_15': 3, 'lamb_x': 1.2525705989975655}. Best is trial 5 with value: 28.0.\n",
      "[I 2024-10-18 21:44:26,980] Trial 8 finished with value: 683.0 and parameters: {'n_rides': 18, 'ride_0': 3, 'ride_1': 0, 'ride_2': 2, 'ride_3': 0, 'ride_4': 1, 'ride_5': 3, 'ride_6': 1, 'ride_7': 6, 'ride_8': 2, 'ride_9': 6, 'ride_10': 0, 'ride_11': 4, 'ride_12': 7, 'ride_13': 6, 'ride_14': 4, 'ride_15': 5, 'ride_16': 3, 'ride_17': 5, 'lamb_x': 1.6108643516474581}. Best is trial 5 with value: 28.0.\n",
      "[I 2024-10-18 21:44:26,980] Trial 9 finished with value: 304.0 and parameters: {'n_rides': 6, 'ride_0': 7, 'ride_1': 4, 'ride_2': 0, 'ride_3': 2, 'ride_4': 2, 'ride_5': 2, 'lamb_x': 1.7751196288554911}. Best is trial 5 with value: 28.0.\n",
      "[I 2024-10-18 21:44:27,038] Trial 10 finished with value: 599.0 and parameters: {'n_rides': 12, 'ride_0': 5, 'ride_1': 0, 'ride_2': 7, 'ride_3': 3, 'ride_4': 4, 'ride_5': 7, 'ride_6': 7, 'ride_7': 0, 'ride_8': 0, 'ride_9': 1, 'ride_10': 7, 'ride_11': 0, 'lamb_x': 1.056510273321174}. Best is trial 5 with value: 28.0.\n"
     ]
    },
    {
     "name": "stdout",
     "output_type": "stream",
     "text": [
      "total_time: 710\n",
      "total_popularity: 568\n",
      "total_time: 701\n",
      "total_popularity: 569\n",
      "total_time: 175\n",
      "total_popularity: 108\n"
     ]
    },
    {
     "name": "stderr",
     "output_type": "stream",
     "text": [
      "[I 2024-10-18 21:44:27,049] Trial 11 finished with value: 33.0 and parameters: {'n_rides': 1, 'ride_0': 4, 'lamb_x': 0.9490802962474609}. Best is trial 5 with value: 28.0.\n",
      "[I 2024-10-18 21:44:27,061] Trial 12 finished with value: 28.0 and parameters: {'n_rides': 1, 'ride_0': 5, 'lamb_x': 0.8948417297512222}. Best is trial 5 with value: 28.0.\n",
      "[I 2024-10-18 21:44:27,106] Trial 13 finished with value: 324.0 and parameters: {'n_rides': 8, 'ride_0': 5, 'ride_1': 7, 'ride_2': 4, 'ride_3': 4, 'ride_4': 4, 'ride_5': 0, 'ride_6': 7, 'ride_7': 1, 'lamb_x': 1.4423216881535594}. Best is trial 5 with value: 28.0.\n",
      "[I 2024-10-18 21:44:27,120] Trial 14 finished with value: 28.0 and parameters: {'n_rides': 1, 'ride_0': 5, 'lamb_x': 0.8451425718886445}. Best is trial 5 with value: 28.0.\n",
      "[I 2024-10-18 21:44:27,180] Trial 15 finished with value: 575.0 and parameters: {'n_rides': 13, 'ride_0': 4, 'ride_1': 1, 'ride_2': 3, 'ride_3': 4, 'ride_4': 7, 'ride_5': 7, 'ride_6': 0, 'ride_7': 2, 'ride_8': 0, 'ride_9': 0, 'ride_10': 7, 'ride_11': 7, 'ride_12': 1, 'lamb_x': 1.1359782701288383}. Best is trial 5 with value: 28.0.\n",
      "[I 2024-10-18 21:44:27,210] Trial 16 finished with value: 216.0 and parameters: {'n_rides': 7, 'ride_0': 6, 'ride_1': 2, 'ride_2': 6, 'ride_3': 7, 'ride_4': 3, 'ride_5': 5, 'ride_6': 5, 'lamb_x': 0.5222910948708489}. Best is trial 5 with value: 28.0.\n",
      "[I 2024-10-18 21:44:27,255] Trial 17 finished with value: 317.0 and parameters: {'n_rides': 8, 'ride_0': 6, 'ride_1': 7, 'ride_2': 3, 'ride_3': 2, 'ride_4': 5, 'ride_5': 0, 'ride_6': 6, 'ride_7': 3, 'lamb_x': 1.2226068091877633}. Best is trial 5 with value: 28.0.\n",
      "[I 2024-10-18 21:44:27,280] Trial 18 finished with value: 140.0 and parameters: {'n_rides': 4, 'ride_0': 4, 'ride_1': 6, 'ride_2': 4, 'ride_3': 2, 'lamb_x': 0.7090126017849588}. Best is trial 5 with value: 28.0.\n",
      "[I 2024-10-18 21:44:27,331] Trial 19 finished with value: 500.0 and parameters: {'n_rides': 10, 'ride_0': 5, 'ride_1': 1, 'ride_2': 2, 'ride_3': 5, 'ride_4': 0, 'ride_5': 6, 'ride_6': 2, 'ride_7': 0, 'ride_8': 4, 'ride_9': 3, 'lamb_x': 1.9918845626723023}. Best is trial 5 with value: 28.0.\n",
      "[I 2024-10-18 21:44:27,390] Trial 20 finished with value: 487.0 and parameters: {'n_rides': 15, 'ride_0': 2, 'ride_1': 2, 'ride_2': 6, 'ride_3': 1, 'ride_4': 7, 'ride_5': 3, 'ride_6': 3, 'ride_7': 7, 'ride_8': 2, 'ride_9': 7, 'ride_10': 4, 'ride_11': 0, 'ride_12': 3, 'ride_13': 7, 'ride_14': 0, 'lamb_x': 0.8286166064426826}. Best is trial 5 with value: 28.0.\n",
      "[I 2024-10-18 21:44:27,414] Trial 21 finished with value: 56.0 and parameters: {'n_rides': 2, 'ride_0': 5, 'ride_1': 5, 'lamb_x': 0.885734060296094}. Best is trial 5 with value: 28.0.\n",
      "[I 2024-10-18 21:44:27,432] Trial 22 finished with value: 88.0 and parameters: {'n_rides': 2, 'ride_0': 6, 'ride_1': 1, 'lamb_x': 1.0843427313018974}. Best is trial 5 with value: 28.0.\n",
      "[I 2024-10-18 21:44:27,448] Trial 23 finished with value: 28.0 and parameters: {'n_rides': 1, 'ride_0': 5, 'lamb_x': 0.6366941810325679}. Best is trial 5 with value: 28.0.\n",
      "[I 2024-10-18 21:44:27,474] Trial 24 finished with value: 129.0 and parameters: {'n_rides': 4, 'ride_0': 4, 'ride_1': 6, 'ride_2': 2, 'ride_3': 7, 'lamb_x': 0.7952610338328616}. Best is trial 5 with value: 28.0.\n",
      "[I 2024-10-18 21:44:27,489] Trial 25 finished with value: 45.0 and parameters: {'n_rides': 1, 'ride_0': 3, 'lamb_x': 0.9779027694395019}. Best is trial 5 with value: 28.0.\n",
      "[I 2024-10-18 21:44:27,520] Trial 26 finished with value: 223.0 and parameters: {'n_rides': 6, 'ride_0': 7, 'ride_1': 5, 'ride_2': 5, 'ride_3': 3, 'ride_4': 3, 'ride_5': 2, 'lamb_x': 1.1806782713552426}. Best is trial 5 with value: 28.0.\n",
      "[I 2024-10-18 21:44:27,546] Trial 27 finished with value: 93.0 and parameters: {'n_rides': 3, 'ride_0': 6, 'ride_1': 2, 'ride_2': 6, 'lamb_x': 0.8614971431074264}. Best is trial 5 with value: 28.0.\n",
      "[I 2024-10-18 21:44:27,576] Trial 28 finished with value: 175.0 and parameters: {'n_rides': 5, 'ride_0': 5, 'ride_1': 7, 'ride_2': 1, 'ride_3': 5, 'ride_4': 5, 'lamb_x': 1.4015388485614793}. Best is trial 5 with value: 28.0.\n",
      "[I 2024-10-18 21:44:27,599] Trial 29 finished with value: 151.0 and parameters: {'n_rides': 3, 'ride_0': 7, 'ride_1': 0, 'ride_2': 3, 'lamb_x': 1.00578064031887}. Best is trial 5 with value: 28.0.\n"
     ]
    },
    {
     "name": "stdout",
     "output_type": "stream",
     "text": [
      "tt_best2: 666\n"
     ]
    }
   ],
   "source": [
    "#initial value.\n",
    "lamb=1.0\n",
    "tt_best=720\n",
    "j=0\n",
    "NN=30\n",
    "#while((j<15)& (tt_best>660)):\n",
    "#while((j<15)& (np.abs(tt_best-500)>160)):\n",
    "while(np.abs(tt_best-615)>60):\n",
    "#for j in range(2):\n",
    "    print(tt_best)\n",
    "    total_time_list=[]\n",
    "    def objective(trial):\n",
    "        # アトラクションの所要時間と人気度\n",
    "        required_times = [5, 7, 2, 3, 3, 2, 23, 30]  # 所要時間\n",
    "        popularity = [84, 69, 55, 45, 33, 28, 19, 22]  # 人気度\n",
    "        move_time = 15\n",
    "\n",
    "        file_path = '0724/2022-07-24.csv'\n",
    "        # print(file_path)\n",
    "        data = pd.read_csv(file_path)\n",
    "        data = data.set_index('時間')\n",
    "\n",
    "        # 乗り物の数を決定\n",
    "        n_rides = trial.suggest_int('n_rides', 1, 20)  # 最大15の乗り物を仮定\n",
    "\n",
    "        # 乗り物の定義\n",
    "        ride_lst = [trial.suggest_int(f'ride_{i}', 0, 7) for i in range(n_rides)]\n",
    "\n",
    "        # ride_calculation関数の呼び出し\n",
    "        total_popularity, total_time, new_ride_lst, ride_time = ride_calculation(data, ride_lst, required_times, popularity, move_time)\n",
    "\n",
    "        # 制約条件の範囲\n",
    "        max_allowed_time = 660  # パーク内にいる時間 9:00~20:00 計660分 (20時以降はファストパスのみ受け入れと仮定)\n",
    "        #trial.set_user_attr(\"constraints\", [1000*(max_allowed_time - total_time)])\n",
    "        print(\"total_time:\",total_time)\n",
    "        print(\"total_popularity:\",total_popularity)\n",
    "        total_time_list.append(total_time)\n",
    "        return total_popularity+lamb*(max_allowed_time - total_time)\n",
    "    \n",
    "    # Optunaによる最適化\n",
    "    study = optuna.create_study(direction=\"maximize\")  # 人気度を最大化\n",
    "    study.optimize(objective, n_trials = NN)\n",
    "    best_trial = study.best_trial\n",
    "    tt_best = total_time_list[best_trial.number] #最適解における所要時間の値。これをペナルティに用いる。\n",
    "    \n",
    "    best_trial = study.best_trial\n",
    "    #print(f\"Best trial: {best_trial.number}\")\n",
    "    #print(f\"Best popularity: {best_trial.value}\")\n",
    "    #print(f\"Parameters: {best_trial.params}\")\n",
    "    #print(\"total_time here is:\", tt_best)\n",
    "    \n",
    "    \n",
    "    lamb_list=[]\n",
    "    def objective_dual(trial_dual):\n",
    "        #lamb_list=[]\n",
    "        # アトラクションの所要時間と人気度\n",
    "        required_times = [5, 7, 2, 3, 3, 2, 23, 30]  # 所要時間\n",
    "        popularity = [84, 69, 55, 45, 33, 28, 19, 22]  # 人気度\n",
    "        move_time = 15\n",
    "\n",
    "        file_path = '0724/2022-07-24.csv'\n",
    "        # print(file_path)\n",
    "        data = pd.read_csv(file_path)\n",
    "        data = data.set_index('時間')\n",
    "\n",
    "        # 乗り物の数を決定\n",
    "        n_rides = trial_dual.suggest_int('n_rides', 1, 20)  # 最大15の乗り物を仮定\n",
    "\n",
    "        # 乗り物の定義\n",
    "        ride_lst = [trial_dual.suggest_int(f'ride_{i}', 0, 7) for i in range(n_rides)]\n",
    "\n",
    "        # ride_calculation関数の呼び出し\n",
    "        total_popularity, total_time, new_ride_lst, ride_time = ride_calculation(data, ride_lst, required_times, popularity, move_time)\n",
    "\n",
    "        # 制約条件の範囲\n",
    "        max_allowed_time = 660  # パーク内にいる時間 9:00~20:00 計660分 (20時以降はファストパスのみ受け入れと仮定)\n",
    "        #lamb_x = 0.8*trial_dual.suggest_int('n_rides', 1, 3)\n",
    "        lamb_x = trial_dual.suggest_float('lamb_x', 0.5, 2)\n",
    "        #print(\"lamb:\",lamb_x)\n",
    "        lamb_list.append(lamb_x)\n",
    "        #print(\"total_time:\",total_time)\n",
    "        #print(\"total_popularity:\",total_popularity)\n",
    "        penalty=max(0,(max_allowed_time - tt_best))\n",
    "        #print(\"penalty\",penalty)\n",
    "        return total_popularity+lamb_x*penalty\n",
    "    \n",
    "    \n",
    "    study_dual = optuna.create_study(direction=\"minimize\")  # 人気度を最小化\n",
    "    study_dual.optimize(objective_dual, n_trials = NN)\n",
    "    \n",
    "    \n",
    "    best_trial_dual = study_dual.best_trial\n",
    "    lamb = lamb_list[best_trial_dual.number]\n",
    "    j=j+1\n",
    "    print(\"tt_best2:\",tt_best)\n",
    "    #print(\"lamb is\",lamb)"
   ]
  },
  {
   "cell_type": "code",
   "execution_count": 27,
   "id": "e4eac3ee",
   "metadata": {},
   "outputs": [
    {
     "name": "stdout",
     "output_type": "stream",
     "text": [
      "Best trial: 9\n",
      "Best popularity: 647.6630601961675\n",
      "Parameters: {'n_rides': 14, 'ride_0': 4, 'ride_1': 4, 'ride_2': 6, 'ride_3': 1, 'ride_4': 3, 'ride_5': 6, 'ride_6': 0, 'ride_7': 5, 'ride_8': 0, 'ride_9': 3, 'ride_10': 2, 'ride_11': 2, 'ride_12': 0, 'ride_13': 0}\n",
      "total_time here is: 666\n"
     ]
    }
   ],
   "source": [
    "print(f\"Best trial: {best_trial.number}\")\n",
    "print(f\"Best popularity: {best_trial.value}\")\n",
    "print(f\"Parameters: {best_trial.params}\")\n",
    "print(\"total_time here is:\", tt_best)\n",
    "#print(\"lamb is\",lamb)"
   ]
  }
 ],
 "metadata": {
  "kernelspec": {
   "display_name": "Python 3 (ipykernel)",
   "language": "python",
   "name": "python3"
  },
  "language_info": {
   "codemirror_mode": {
    "name": "ipython",
    "version": 3
   },
   "file_extension": ".py",
   "mimetype": "text/x-python",
   "name": "python",
   "nbconvert_exporter": "python",
   "pygments_lexer": "ipython3",
   "version": "3.9.7"
  }
 },
 "nbformat": 4,
 "nbformat_minor": 5
}
