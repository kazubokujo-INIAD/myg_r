{
 "cells": [
  {
   "cell_type": "code",
   "execution_count": null,
   "id": "1e725ca5-85a9-4fc1-9a47-3e436d5fbb7a",
   "metadata": {},
   "outputs": [],
   "source": []
  },
  {
   "cell_type": "code",
   "execution_count": 96,
   "id": "3c7a355e-7ec4-46de-ad82-aea07d7790f5",
   "metadata": {},
   "outputs": [],
   "source": [
    "import numpy as np\n",
    "import pandas as pd\n",
    "from datetime import datetime, timedelta\n",
    "import os"
   ]
  },
  {
   "cell_type": "code",
   "execution_count": 97,
   "id": "17d54289-d489-427c-b58c-c9f789b3f0ff",
   "metadata": {},
   "outputs": [],
   "source": [
    "# ナップザック問題を解く関数（アトラクション1個目は移動時間10分を加える）\n",
    "def knapsack(max_time, required_times, popularity, waiting_times, move_time):\n",
    "    n = len(required_times)\n",
    "    dp = np.zeros((n + 1, max_time + 1))\n",
    "    keep = np.zeros((n + 1, max_time + 1), dtype=bool)\n",
    "\n",
    "    for i in range(1, n + 1):\n",
    "        for w in range(max_time + 1):\n",
    "            total_time = required_times[i - 1] + waiting_times[i - 1] + (10 if i == 1 else move_time)\n",
    "            if total_time <= w and w <= 1200:  # 20:00までの制約を追加\n",
    "                if dp[i - 1][w] < dp[i - 1][w - total_time] + popularity[i - 1]:\n",
    "                    dp[i][w] = dp[i - 1][w - total_time] + popularity[i - 1]\n",
    "                    keep[i][w] = True\n",
    "                else:\n",
    "                    dp[i][w] = dp[i - 1][w]\n",
    "            else:\n",
    "                dp[i][w] = dp[i - 1][w]\n",
    "\n",
    "    # 解を復元する\n",
    "    res = []\n",
    "    times = []\n",
    "    w = max_time\n",
    "    for i in range(n, 0, -1):\n",
    "        if keep[i][w]:\n",
    "            total_time = required_times[i - 1] + waiting_times[i - 1] + (10 if i == 1 else move_time)\n",
    "            w -= total_time\n",
    "            times.append(w)\n",
    "            res.append(attractions[i - 1])\n",
    "\n",
    "    res.reverse()\n",
    "    times.reverse()\n",
    "    return res, times, dp[n][max_time]"
   ]
  },
  {
   "cell_type": "code",
   "execution_count": 98,
   "id": "6d94d0af-a5f5-4bd5-bc7c-06b5d8b4281d",
   "metadata": {},
   "outputs": [],
   "source": [
    "# アトラクションの所要時間と人気度\n",
    "attractions = ['ソアリン', 'トイストーリーマニア', 'タワーオブテラー', 'センターオブジアース', 'インディージョーンズ', 'レイジングスピリッツ', 'マジックランプシアター', 'タートルトーク']\n",
    "required_times = [5, 10, 5, 5, 5, 5, 25, 30]\n",
    "popularity = [84, 69, 55, 45, 33, 28, 19, 22]\n",
    "max_time = 60  # パーク内にいる時間 9:00~20:00 計660分 (20時以降はファストパスのみ受け入れと仮定)\n",
    "move_time = 10"
   ]
  },
  {
   "cell_type": "code",
   "execution_count": 99,
   "id": "a43d2de4-6b5e-47b7-bc07-ece5e179cc88",
   "metadata": {},
   "outputs": [
    {
     "ename": "ValueError",
     "evalue": "time data '09:00' does not match format '%Y-%m-%d %H:%M:%S'",
     "output_type": "error",
     "traceback": [
      "\u001b[0;31m---------------------------------------------------------------------------\u001b[0m",
      "\u001b[0;31mValueError\u001b[0m                                Traceback (most recent call last)",
      "Input \u001b[0;32mIn [99]\u001b[0m, in \u001b[0;36m<cell line: 4>\u001b[0;34m()\u001b[0m\n\u001b[1;32m      6\u001b[0m \u001b[38;5;28;01mif\u001b[39;00m file_path\u001b[38;5;241m.\u001b[39mendswith(\u001b[38;5;124m'\u001b[39m\u001b[38;5;124m.csv\u001b[39m\u001b[38;5;124m'\u001b[39m):\n\u001b[1;32m      7\u001b[0m     data \u001b[38;5;241m=\u001b[39m pd\u001b[38;5;241m.\u001b[39mread_csv(file_path)\n\u001b[0;32m----> 8\u001b[0m     start_time \u001b[38;5;241m=\u001b[39m \u001b[43mdatetime\u001b[49m\u001b[38;5;241;43m.\u001b[39;49m\u001b[43mstrptime\u001b[49m\u001b[43m(\u001b[49m\u001b[43mdata\u001b[49m\u001b[38;5;241;43m.\u001b[39;49m\u001b[43miloc\u001b[49m\u001b[43m[\u001b[49m\u001b[38;5;241;43m0\u001b[39;49m\u001b[43m]\u001b[49m\u001b[43m[\u001b[49m\u001b[38;5;124;43m'\u001b[39;49m\u001b[38;5;124;43m時間\u001b[39;49m\u001b[38;5;124;43m'\u001b[39;49m\u001b[43m]\u001b[49m\u001b[43m,\u001b[49m\u001b[43m \u001b[49m\u001b[38;5;124;43m'\u001b[39;49m\u001b[38;5;124;43m%\u001b[39;49m\u001b[38;5;124;43mY-\u001b[39;49m\u001b[38;5;124;43m%\u001b[39;49m\u001b[38;5;124;43mm-\u001b[39;49m\u001b[38;5;132;43;01m%d\u001b[39;49;00m\u001b[38;5;124;43m \u001b[39;49m\u001b[38;5;124;43m%\u001b[39;49m\u001b[38;5;124;43mH:\u001b[39;49m\u001b[38;5;124;43m%\u001b[39;49m\u001b[38;5;124;43mM:\u001b[39;49m\u001b[38;5;124;43m%\u001b[39;49m\u001b[38;5;124;43mS\u001b[39;49m\u001b[38;5;124;43m'\u001b[39;49m\u001b[43m)\u001b[49m\n\u001b[1;32m     10\u001b[0m     best_plan \u001b[38;5;241m=\u001b[39m []\n\u001b[1;32m     11\u001b[0m     best_times \u001b[38;5;241m=\u001b[39m []\n",
      "File \u001b[0;32m~/miniconda3/lib/python3.9/_strptime.py:568\u001b[0m, in \u001b[0;36m_strptime_datetime\u001b[0;34m(cls, data_string, format)\u001b[0m\n\u001b[1;32m    565\u001b[0m \u001b[38;5;28;01mdef\u001b[39;00m \u001b[38;5;21m_strptime_datetime\u001b[39m(\u001b[38;5;28mcls\u001b[39m, data_string, \u001b[38;5;28mformat\u001b[39m\u001b[38;5;241m=\u001b[39m\u001b[38;5;124m\"\u001b[39m\u001b[38;5;132;01m%a\u001b[39;00m\u001b[38;5;124m \u001b[39m\u001b[38;5;124m%\u001b[39m\u001b[38;5;124mb \u001b[39m\u001b[38;5;132;01m%d\u001b[39;00m\u001b[38;5;124m \u001b[39m\u001b[38;5;124m%\u001b[39m\u001b[38;5;124mH:\u001b[39m\u001b[38;5;124m%\u001b[39m\u001b[38;5;124mM:\u001b[39m\u001b[38;5;124m%\u001b[39m\u001b[38;5;124mS \u001b[39m\u001b[38;5;124m%\u001b[39m\u001b[38;5;124mY\u001b[39m\u001b[38;5;124m\"\u001b[39m):\n\u001b[1;32m    566\u001b[0m     \u001b[38;5;124;03m\"\"\"Return a class cls instance based on the input string and the\u001b[39;00m\n\u001b[1;32m    567\u001b[0m \u001b[38;5;124;03m    format string.\"\"\"\u001b[39;00m\n\u001b[0;32m--> 568\u001b[0m     tt, fraction, gmtoff_fraction \u001b[38;5;241m=\u001b[39m \u001b[43m_strptime\u001b[49m\u001b[43m(\u001b[49m\u001b[43mdata_string\u001b[49m\u001b[43m,\u001b[49m\u001b[43m \u001b[49m\u001b[38;5;28;43mformat\u001b[39;49m\u001b[43m)\u001b[49m\n\u001b[1;32m    569\u001b[0m     tzname, gmtoff \u001b[38;5;241m=\u001b[39m tt[\u001b[38;5;241m-\u001b[39m\u001b[38;5;241m2\u001b[39m:]\n\u001b[1;32m    570\u001b[0m     args \u001b[38;5;241m=\u001b[39m tt[:\u001b[38;5;241m6\u001b[39m] \u001b[38;5;241m+\u001b[39m (fraction,)\n",
      "File \u001b[0;32m~/miniconda3/lib/python3.9/_strptime.py:349\u001b[0m, in \u001b[0;36m_strptime\u001b[0;34m(data_string, format)\u001b[0m\n\u001b[1;32m    347\u001b[0m found \u001b[38;5;241m=\u001b[39m format_regex\u001b[38;5;241m.\u001b[39mmatch(data_string)\n\u001b[1;32m    348\u001b[0m \u001b[38;5;28;01mif\u001b[39;00m \u001b[38;5;129;01mnot\u001b[39;00m found:\n\u001b[0;32m--> 349\u001b[0m     \u001b[38;5;28;01mraise\u001b[39;00m \u001b[38;5;167;01mValueError\u001b[39;00m(\u001b[38;5;124m\"\u001b[39m\u001b[38;5;124mtime data \u001b[39m\u001b[38;5;132;01m%r\u001b[39;00m\u001b[38;5;124m does not match format \u001b[39m\u001b[38;5;132;01m%r\u001b[39;00m\u001b[38;5;124m\"\u001b[39m \u001b[38;5;241m%\u001b[39m\n\u001b[1;32m    350\u001b[0m                      (data_string, \u001b[38;5;28mformat\u001b[39m))\n\u001b[1;32m    351\u001b[0m \u001b[38;5;28;01mif\u001b[39;00m \u001b[38;5;28mlen\u001b[39m(data_string) \u001b[38;5;241m!=\u001b[39m found\u001b[38;5;241m.\u001b[39mend():\n\u001b[1;32m    352\u001b[0m     \u001b[38;5;28;01mraise\u001b[39;00m \u001b[38;5;167;01mValueError\u001b[39;00m(\u001b[38;5;124m\"\u001b[39m\u001b[38;5;124munconverted data remains: \u001b[39m\u001b[38;5;132;01m%s\u001b[39;00m\u001b[38;5;124m\"\u001b[39m \u001b[38;5;241m%\u001b[39m\n\u001b[1;32m    353\u001b[0m                       data_string[found\u001b[38;5;241m.\u001b[39mend():])\n",
      "\u001b[0;31mValueError\u001b[0m: time data '09:00' does not match format '%Y-%m-%d %H:%M:%S'"
     ]
    }
   ],
   "source": [
    "# date_dataフォルダからCSVファイルを取り出して処理\n",
    "folder_path = 'file'\n",
    "file_names = sorted(os.listdir(folder_path))  # フォルダ名をソート\n",
    "for file_name in file_names:\n",
    "    file_path = os.path.join(folder_path, file_name)\n",
    "    if file_path.endswith('.csv'):\n",
    "        data = pd.read_csv(file_path)\n",
    "        start_time = datetime.strptime(data.iloc[0]['時間'], '%Y-%m-%d %H:%M:%S')\n",
    "\n",
    "        best_plan = []\n",
    "        best_times = []\n",
    "        max_popularity = 0\n",
    "\n",
    "        for index, row in data.iterrows():\n",
    "            waiting_times = [row[attr] for attr in attractions]\n",
    "            plan, times, popularity_score = knapsack(max_time, required_times, popularity, waiting_times, move_time)\n",
    "            if popularity_score > max_popularity:\n",
    "                max_popularity = popularity_score\n",
    "                best_plan = plan\n",
    "                best_times = times\n",
    "\n",
    "        # 日付に従ってスケジュールを計算する\n",
    "        ride_times = [start_time + timedelta(minutes=(max_time - t)) for t in best_times]\n",
    "        ride_schedule = list(zip(ride_times, best_plan))\n",
    "        ride_schedule.sort(key=lambda x: x[0])\n",
    "\n",
    "        print(f\"ファイル: {file_name}\")\n",
    "        for time, attraction in ride_schedule:\n",
    "            print(f\"{time.strftime('%Y-%m-%d %H:%M:%S')} に {attraction} に乗ります\")\n",
    "        print(\"最大人気度スコア:\", max_popularity)\n",
    "        print(\"-\" * 40)"
   ]
  },
  {
   "cell_type": "code",
   "execution_count": null,
   "id": "b6f383d3-569d-42e9-b0ae-daca7412ae35",
   "metadata": {},
   "outputs": [],
   "source": []
  }
 ],
 "metadata": {
  "kernelspec": {
   "display_name": "Python 3 (ipykernel)",
   "language": "python",
   "name": "python3"
  },
  "language_info": {
   "codemirror_mode": {
    "name": "ipython",
    "version": 3
   },
   "file_extension": ".py",
   "mimetype": "text/x-python",
   "name": "python",
   "nbconvert_exporter": "python",
   "pygments_lexer": "ipython3",
   "version": "3.9.7"
  }
 },
 "nbformat": 4,
 "nbformat_minor": 5
}
