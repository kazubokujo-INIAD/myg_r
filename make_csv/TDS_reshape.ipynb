{
 "cells": [
  {
   "cell_type": "code",
   "execution_count": null,
   "id": "cd8021d6-b3ff-4045-8845-57fd182ca54c",
   "metadata": {},
   "outputs": [],
   "source": []
  },
  {
   "cell_type": "code",
   "execution_count": 1,
   "id": "7dae01b1-79e2-4dda-a7f4-4870b3b5b5a3",
   "metadata": {},
   "outputs": [],
   "source": [
    "import pandas as pd\n",
    "import os\n",
    "\n",
    "new_column_names = {'ソアリン': 'ソアリン', 'トイ・\\nストーリ\\n・マニア': 'トイストーリーマニア','タワー・\\nオブ・\\nテラー':'タワーオブテラー','センター\\n・オブ・\\nジアース':'センターオブジアース','インディ\\nジョー\\nンズ':'インディージョーンズ','レイジング\\nスピリッツ':'レイジングスピリッツ','マジック\\nランプ\\nシアター':'マジックランプシアター','タートル\\n・トーク':'タートルトーク'}\n",
    "\n",
    "# フォルダのパス\n",
    "folder_path = 'folder'\n",
    "\n",
    "# フォルダ内のCSVファイルをすべて取得\n",
    "for filename in os.listdir(folder_path):\n",
    "    if filename.endswith('.csv'):\n",
    "        file_path = os.path.join(folder_path, filename)\n",
    "        \n",
    "        # CSV読み込み\n",
    "        df = pd.read_csv(file_path)\n",
    "\n",
    "        # 'Unnamed: 0'列があれば削除\n",
    "        if 'Unnamed: 0' in df.columns:\n",
    "            df = df.drop(columns=['Unnamed: 0'])\n",
    "            \n",
    "        df.rename(columns=new_column_names, inplace=True)\n",
    "        df.drop(columns=['曜日_数値', '曜日', '休日'])\n",
    "        # 同じファイル名で保存（上書き）\n",
    "        df.to_csv(file_path, index=False)\n"
   ]
  },
  {
   "cell_type": "code",
   "execution_count": null,
   "id": "98aa989b-9f8e-45c4-ac07-c5a93bb2cd60",
   "metadata": {},
   "outputs": [],
   "source": []
  }
 ],
 "metadata": {
  "kernelspec": {
   "display_name": "Python 3 (ipykernel)",
   "language": "python",
   "name": "python3"
  },
  "language_info": {
   "codemirror_mode": {
    "name": "ipython",
    "version": 3
   },
   "file_extension": ".py",
   "mimetype": "text/x-python",
   "name": "python",
   "nbconvert_exporter": "python",
   "pygments_lexer": "ipython3",
   "version": "3.9.7"
  }
 },
 "nbformat": 4,
 "nbformat_minor": 5
}
