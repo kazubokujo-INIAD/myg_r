{
 "cells": [
  {
   "cell_type": "code",
   "execution_count": 2,
   "id": "aef970a1-3aca-4433-a16c-c88de55179db",
   "metadata": {},
   "outputs": [
    {
     "name": "stdout",
     "output_type": "stream",
     "text": [
      "\n",
      "行と列を反転し、「時間」行をカラム名に設定したデータフレームをCSVファイルに出力しました。\n"
     ]
    }
   ],
   "source": [
    "import pandas as pd\n",
    "\n",
    "# CSVファイルの読み込み\n",
    "df = pd.read_csv('../graduation-research/date_data2/2022-07-20.csv')  # 'data.csv' は対象のCSVファイル名に置き換えてください\n",
    "\n",
    "# 行と列を反転\n",
    "transposed_df = df.transpose()\n",
    "\n",
    "# 「時間」行を新しいカラム名に設定\n",
    "new_columns = transposed_df.loc[\"時間\"].values\n",
    "\n",
    "# 「時間」行を削除\n",
    "edit_df = transposed_df.drop(index=\"時間\")\n",
    "\n",
    "# 新しいカラム名に設定\n",
    "edit_df.columns = new_columns\n",
    "\n",
    "# 結果を新しいCSVファイルに出力\n",
    "edit_df.to_csv('../graduation-research/2022-07-20_waittime.csv', index=True)\n",
    "\n",
    "print(\"\\n行と列を反転し、「時間」行をカラム名に設定したデータフレームをCSVファイルに出力しました。\")\n"
   ]
  },
  {
   "cell_type": "code",
   "execution_count": null,
   "id": "1a7c4236-4bbc-474a-b86e-ddf9cb5e82fa",
   "metadata": {},
   "outputs": [],
   "source": []
  }
 ],
 "metadata": {
  "kernelspec": {
   "display_name": "Python 3 (ipykernel)",
   "language": "python",
   "name": "python3"
  },
  "language_info": {
   "codemirror_mode": {
    "name": "ipython",
    "version": 3
   },
   "file_extension": ".py",
   "mimetype": "text/x-python",
   "name": "python",
   "nbconvert_exporter": "python",
   "pygments_lexer": "ipython3",
   "version": "3.9.7"
  }
 },
 "nbformat": 4,
 "nbformat_minor": 5
}
