{
 "cells": [
  {
   "cell_type": "code",
   "execution_count": 27,
   "id": "71924189-03e0-4b2d-bd38-2604adb1391e",
   "metadata": {},
   "outputs": [],
   "source": [
    "import pandas as pd\n",
    "import numpy as np"
   ]
  },
  {
   "cell_type": "code",
   "execution_count": 28,
   "id": "35c022bd-9fa6-41a0-ac84-e6ee981fdef8",
   "metadata": {},
   "outputs": [],
   "source": [
    "TDS_7=pd.read_csv('data/TDS_7.csv',header=0)\n",
    "TDS_8=pd.read_csv('data/TDS_8.csv',header=0)"
   ]
  },
  {
   "cell_type": "code",
   "execution_count": 29,
   "id": "82826add-b8ec-4d73-9bdf-6dfb27da6f21",
   "metadata": {},
   "outputs": [
    {
     "data": {
      "text/html": [
       "<div>\n",
       "<style scoped>\n",
       "    .dataframe tbody tr th:only-of-type {\n",
       "        vertical-align: middle;\n",
       "    }\n",
       "\n",
       "    .dataframe tbody tr th {\n",
       "        vertical-align: top;\n",
       "    }\n",
       "\n",
       "    .dataframe thead th {\n",
       "        text-align: right;\n",
       "    }\n",
       "</style>\n",
       "<table border=\"1\" class=\"dataframe\">\n",
       "  <thead>\n",
       "    <tr style=\"text-align: right;\">\n",
       "      <th></th>\n",
       "      <th>ソアリン</th>\n",
       "      <th>トイストーリーマニア</th>\n",
       "      <th>タワーオブテラー</th>\n",
       "      <th>センターオブジアース</th>\n",
       "      <th>インディージョーンズ</th>\n",
       "      <th>レイジングスピリッツ</th>\n",
       "      <th>マジックランプシアター</th>\n",
       "      <th>タートルトーク</th>\n",
       "    </tr>\n",
       "  </thead>\n",
       "  <tbody>\n",
       "    <tr>\n",
       "      <th>0</th>\n",
       "      <td>95</td>\n",
       "      <td>65</td>\n",
       "      <td>50</td>\n",
       "      <td>25</td>\n",
       "      <td>5</td>\n",
       "      <td>5</td>\n",
       "      <td>0</td>\n",
       "      <td>0</td>\n",
       "    </tr>\n",
       "    <tr>\n",
       "      <th>1</th>\n",
       "      <td>80</td>\n",
       "      <td>65</td>\n",
       "      <td>45</td>\n",
       "      <td>35</td>\n",
       "      <td>10</td>\n",
       "      <td>5</td>\n",
       "      <td>0</td>\n",
       "      <td>0</td>\n",
       "    </tr>\n",
       "    <tr>\n",
       "      <th>2</th>\n",
       "      <td>110</td>\n",
       "      <td>65</td>\n",
       "      <td>55</td>\n",
       "      <td>45</td>\n",
       "      <td>10</td>\n",
       "      <td>10</td>\n",
       "      <td>0</td>\n",
       "      <td>0</td>\n",
       "    </tr>\n",
       "    <tr>\n",
       "      <th>3</th>\n",
       "      <td>110</td>\n",
       "      <td>65</td>\n",
       "      <td>60</td>\n",
       "      <td>45</td>\n",
       "      <td>10</td>\n",
       "      <td>10</td>\n",
       "      <td>0</td>\n",
       "      <td>0</td>\n",
       "    </tr>\n",
       "    <tr>\n",
       "      <th>4</th>\n",
       "      <td>120</td>\n",
       "      <td>65</td>\n",
       "      <td>55</td>\n",
       "      <td>40</td>\n",
       "      <td>20</td>\n",
       "      <td>20</td>\n",
       "      <td>30</td>\n",
       "      <td>15</td>\n",
       "    </tr>\n",
       "  </tbody>\n",
       "</table>\n",
       "</div>"
      ],
      "text/plain": [
       "   ソアリン  トイストーリーマニア  タワーオブテラー  センターオブジアース  インディージョーンズ  レイジングスピリッツ  \\\n",
       "0    95          65        50          25           5           5   \n",
       "1    80          65        45          35          10           5   \n",
       "2   110          65        55          45          10          10   \n",
       "3   110          65        60          45          10          10   \n",
       "4   120          65        55          40          20          20   \n",
       "\n",
       "   マジックランプシアター  タートルトーク  \n",
       "0            0        0  \n",
       "1            0        0  \n",
       "2            0        0  \n",
       "3            0        0  \n",
       "4           30       15  "
      ]
     },
     "execution_count": 29,
     "metadata": {},
     "output_type": "execute_result"
    }
   ],
   "source": [
    "df=pd.concat([TDS_7, TDS_8], ignore_index=True)\n",
    "df = df.drop(columns=['Unnamed: 0', '時間', '曜日_数値', '曜日', '休日'])\n",
    "df.head()"
   ]
  },
  {
   "cell_type": "code",
   "execution_count": 30,
   "id": "2cc7b0ca-4a70-4054-b41a-6d131e95f54d",
   "metadata": {},
   "outputs": [
    {
     "data": {
      "text/plain": [
       "ソアリン           84.413842\n",
       "トイストーリーマニア     68.810028\n",
       "タワーオブテラー       55.205685\n",
       "センターオブジアース     45.221575\n",
       "インディージョーンズ     33.131179\n",
       "レイジングスピリッツ     28.129414\n",
       "マジックランプシアター    19.480932\n",
       "タートルトーク        21.972105\n",
       "dtype: float64"
      ]
     },
     "metadata": {},
     "output_type": "display_data"
    }
   ],
   "source": [
    "ranking=df.mean()\n",
    "display(ranking)"
   ]
  },
  {
   "cell_type": "code",
   "execution_count": 31,
   "id": "6b90a61a-6d5f-4e94-b6ce-718d1d3b9314",
   "metadata": {},
   "outputs": [
    {
     "name": "stdout",
     "output_type": "stream",
     "text": [
      "待ち時間でソート（降順）:\n",
      "        アトラクション       待ち時間\n",
      "0         ソアリン  84.413842\n",
      "1   トイストーリーマニア  68.810028\n",
      "2     タワーオブテラー  55.205685\n",
      "3   センターオブジアース  45.221575\n",
      "4   インディージョーンズ  33.131179\n",
      "5   レイジングスピリッツ  28.129414\n",
      "7      タートルトーク  21.972105\n",
      "6  マジックランプシアター  19.480932\n"
     ]
    }
   ],
   "source": [
    "data = {\n",
    "    'アトラクション': ['ソアリン', 'トイストーリーマニア', 'タワーオブテラー', 'センターオブジアース', 'インディージョーンズ', 'レイジングスピリッツ', 'マジックランプシアター', 'タートルトーク'],\n",
    "    '待ち時間': [84.413842, 68.810028, 55.205685, 45.221575, 33.131179, 28.129414, 19.480932, 21.972105]\n",
    "}\n",
    "\n",
    "# DataFrameに変換\n",
    "df = pd.DataFrame(data)\n",
    "\n",
    "sorted_df_desc = df.sort_values(by='待ち時間', ascending=False)\n",
    "print(\"待ち時間でソート（降順）:\\n\", sorted_df_desc)"
   ]
  },
  {
   "cell_type": "code",
   "execution_count": 32,
   "id": "4cf6e3ea-82a6-4c9b-8db4-7aa4a6938722",
   "metadata": {},
   "outputs": [
    {
     "name": "stdout",
     "output_type": "stream",
     "text": [
      "四捨五入したデータフレーム:\n",
      "        アトラクション  weight\n",
      "0         ソアリン    84.0\n",
      "1   トイストーリーマニア    69.0\n",
      "2     タワーオブテラー    55.0\n",
      "3   センターオブジアース    45.0\n",
      "4   インディージョーンズ    33.0\n",
      "5   レイジングスピリッツ    28.0\n",
      "6  マジックランプシアター    19.0\n",
      "7      タートルトーク    22.0\n"
     ]
    }
   ],
   "source": [
    "df['weight'] = df['待ち時間'].round()\n",
    "df=df.drop(columns=['待ち時間'])\n",
    "\n",
    "# 結果を表示\n",
    "print(\"四捨五入したデータフレーム:\\n\", df)"
   ]
  },
  {
   "cell_type": "code",
   "execution_count": 35,
   "id": "6ce36bc0-74a3-4069-b6e6-5f360d5b03a6",
   "metadata": {},
   "outputs": [
    {
     "data": {
      "text/html": [
       "<div>\n",
       "<style scoped>\n",
       "    .dataframe tbody tr th:only-of-type {\n",
       "        vertical-align: middle;\n",
       "    }\n",
       "\n",
       "    .dataframe tbody tr th {\n",
       "        vertical-align: top;\n",
       "    }\n",
       "\n",
       "    .dataframe thead th {\n",
       "        text-align: right;\n",
       "    }\n",
       "</style>\n",
       "<table border=\"1\" class=\"dataframe\">\n",
       "  <thead>\n",
       "    <tr style=\"text-align: right;\">\n",
       "      <th></th>\n",
       "      <th>アトラクション</th>\n",
       "      <th>weight</th>\n",
       "    </tr>\n",
       "  </thead>\n",
       "  <tbody>\n",
       "    <tr>\n",
       "      <th>0</th>\n",
       "      <td>ソアリン</td>\n",
       "      <td>84</td>\n",
       "    </tr>\n",
       "    <tr>\n",
       "      <th>1</th>\n",
       "      <td>トイストーリーマニア</td>\n",
       "      <td>69</td>\n",
       "    </tr>\n",
       "    <tr>\n",
       "      <th>2</th>\n",
       "      <td>タワーオブテラー</td>\n",
       "      <td>55</td>\n",
       "    </tr>\n",
       "    <tr>\n",
       "      <th>3</th>\n",
       "      <td>センターオブジアース</td>\n",
       "      <td>45</td>\n",
       "    </tr>\n",
       "    <tr>\n",
       "      <th>4</th>\n",
       "      <td>インディージョーンズ</td>\n",
       "      <td>33</td>\n",
       "    </tr>\n",
       "  </tbody>\n",
       "</table>\n",
       "</div>"
      ],
      "text/plain": [
       "      アトラクション  weight\n",
       "0        ソアリン      84\n",
       "1  トイストーリーマニア      69\n",
       "2    タワーオブテラー      55\n",
       "3  センターオブジアース      45\n",
       "4  インディージョーンズ      33"
      ]
     },
     "execution_count": 35,
     "metadata": {},
     "output_type": "execute_result"
    }
   ],
   "source": [
    "data = {\n",
    "    'アトラクション': ['ソアリン', 'トイストーリーマニア', 'タワーオブテラー', 'センターオブジアース', 'インディージョーンズ', 'レイジングスピリッツ', 'マジックランプシアター', 'タートルトーク'],\n",
    "    'weight': [84, 69, 55, 45, 33, 28, 19, 22]\n",
    "}\n",
    "\n",
    "df = pd.DataFrame(data)\n",
    "\n",
    "# 結果を表示\n",
    "df.head()\n"
   ]
  },
  {
   "cell_type": "code",
   "execution_count": null,
   "id": "2b774665-00c1-4c4d-a2ae-ebca75abde10",
   "metadata": {},
   "outputs": [],
   "source": []
  },
  {
   "cell_type": "code",
   "execution_count": null,
   "id": "cf933bac-8f51-42d7-8752-482c7216f641",
   "metadata": {},
   "outputs": [],
   "source": []
  },
  {
   "cell_type": "code",
   "execution_count": null,
   "id": "9b0cf08d-ba65-4aa1-8e69-a36cf356a4e1",
   "metadata": {},
   "outputs": [],
   "source": []
  },
  {
   "cell_type": "raw",
   "id": "0e370f93-4798-4b2c-a763-eb06c83e2697",
   "metadata": {},
   "source": [
    "# ナップザック問題の定義\n",
    "max_time = 705  # パーク内にいる時間 9:00~20:45 計705分\n",
    "move_time = 30  # アトラクション間の移動時間 30分\n",
    "start_time = datetime.strptime('2022-07-01 09:00:00', '%Y-%m-%d %H:%M:%S')\n",
    "\n",
    "# 時間と待ち時間を含めたナップザック問題を解く\n",
    "def knapsack(max_time, required_times, popularity, waiting_times, move_time):\n",
    "    n = len(required_times)\n",
    "    dp = np.zeros((n+1, max_time+1))\n",
    "    keep = np.zeros((n+1, max_time+1), dtype=bool)\n",
    "\n",
    "    for i in range(1, n+1):\n",
    "        for w in range(max_time+1):\n",
    "            total_time = required_times[i-1] + waiting_times[i-1] + (move_time if i > 1 else 0)\n",
    "            if total_time <= w:\n",
    "                if dp[i-1][w] < dp[i-1][w-total_time] + popularity[i-1]:\n",
    "                    dp[i][w] = dp[i-1][w-total_time] + popularity[i-1]\n",
    "                    keep[i][w] = True\n",
    "                else:\n",
    "                    dp[i][w] = dp[i-1][w]\n",
    "            else:\n",
    "                dp[i][w] = dp[i-1][w]\n",
    "\n",
    "    # 解を復元する\n",
    "    res = []\n",
    "    times = []\n",
    "    w = max_time\n",
    "    for i in range(n, 0, -1):\n",
    "        if keep[i][w]:\n",
    "            res.append(attractions[i-1])\n",
    "            total_time = required_times[i-1] + waiting_times[i-1] + (move_time if i > 1 else 0)\n",
    "            w -= total_time\n",
    "            times.append(w)\n",
    "\n",
    "    res.reverse()\n",
    "    times.reverse()\n",
    "    return res, times, dp[n][max_time]\n",
    "\n",
    "# 各時間帯の待ち時間を使ってナップザック問題を解く\n",
    "best_plan = []\n",
    "best_times = []\n",
    "max_popularity = 0\n",
    "for index, row in data.iterrows():\n",
    "    waiting_times = [row[attr] for attr in attractions]\n",
    "    plan, times, popularity_score = knapsack(max_time, required_times, popularity, waiting_times, move_time)\n",
    "    if popularity_score > max_popularity:\n",
    "        max_popularity = popularity_score\n",
    "        best_plan = plan\n",
    "        best_times = times\n",
    "\n",
    "# アトラクションに乗った時間を計算\n",
    "ride_times = [start_time + timedelta(minutes=(max_time - t)) for t in best_times]\n",
    "\n",
    "# アトラクションとその乗る時間をペアにする\n",
    "ride_schedule = list(zip(ride_times, best_plan))\n",
    "\n",
    "# 時間でソートする\n",
    "ride_schedule.sort(key=lambda x: x[0])\n",
    "\n",
    "# 結果を表示\n",
    "for time, attraction in ride_schedule:\n",
    "    print(f\"{time.strftime('%Y-%m-%d %H:%M:%S')} に {attraction} に乗ります\")\n",
    "\n",
    "print(\"最大人気度スコア:\", max_popularity)\n"
   ]
  }
 ],
 "metadata": {
  "kernelspec": {
   "display_name": "Python 3 (ipykernel)",
   "language": "python",
   "name": "python3"
  },
  "language_info": {
   "codemirror_mode": {
    "name": "ipython",
    "version": 3
   },
   "file_extension": ".py",
   "mimetype": "text/x-python",
   "name": "python",
   "nbconvert_exporter": "python",
   "pygments_lexer": "ipython3",
   "version": "3.9.7"
  }
 },
 "nbformat": 4,
 "nbformat_minor": 5
}
