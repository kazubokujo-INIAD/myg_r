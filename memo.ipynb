{
 "cells": [
  {
   "cell_type": "code",
   "execution_count": 27,
   "id": "71924189-03e0-4b2d-bd38-2604adb1391e",
   "metadata": {},
   "outputs": [],
   "source": [
    "import pandas as pd\n",
    "import numpy as np"
   ]
  },
  {
   "cell_type": "code",
   "execution_count": 28,
   "id": "35c022bd-9fa6-41a0-ac84-e6ee981fdef8",
   "metadata": {},
   "outputs": [],
   "source": [
    "TDS_7=pd.read_csv('data/TDS_7.csv',header=0)\n",
    "TDS_8=pd.read_csv('data/TDS_8.csv',header=0)"
   ]
  },
  {
   "cell_type": "code",
   "execution_count": 29,
   "id": "82826add-b8ec-4d73-9bdf-6dfb27da6f21",
   "metadata": {},
   "outputs": [
    {
     "data": {
      "text/html": [
       "<div>\n",
       "<style scoped>\n",
       "    .dataframe tbody tr th:only-of-type {\n",
       "        vertical-align: middle;\n",
       "    }\n",
       "\n",
       "    .dataframe tbody tr th {\n",
       "        vertical-align: top;\n",
       "    }\n",
       "\n",
       "    .dataframe thead th {\n",
       "        text-align: right;\n",
       "    }\n",
       "</style>\n",
       "<table border=\"1\" class=\"dataframe\">\n",
       "  <thead>\n",
       "    <tr style=\"text-align: right;\">\n",
       "      <th></th>\n",
       "      <th>ソアリン</th>\n",
       "      <th>トイストーリーマニア</th>\n",
       "      <th>タワーオブテラー</th>\n",
       "      <th>センターオブジアース</th>\n",
       "      <th>インディージョーンズ</th>\n",
       "      <th>レイジングスピリッツ</th>\n",
       "      <th>マジックランプシアター</th>\n",
       "      <th>タートルトーク</th>\n",
       "    </tr>\n",
       "  </thead>\n",
       "  <tbody>\n",
       "    <tr>\n",
       "      <th>0</th>\n",
       "      <td>95</td>\n",
       "      <td>65</td>\n",
       "      <td>50</td>\n",
       "      <td>25</td>\n",
       "      <td>5</td>\n",
       "      <td>5</td>\n",
       "      <td>0</td>\n",
       "      <td>0</td>\n",
       "    </tr>\n",
       "    <tr>\n",
       "      <th>1</th>\n",
       "      <td>80</td>\n",
       "      <td>65</td>\n",
       "      <td>45</td>\n",
       "      <td>35</td>\n",
       "      <td>10</td>\n",
       "      <td>5</td>\n",
       "      <td>0</td>\n",
       "      <td>0</td>\n",
       "    </tr>\n",
       "    <tr>\n",
       "      <th>2</th>\n",
       "      <td>110</td>\n",
       "      <td>65</td>\n",
       "      <td>55</td>\n",
       "      <td>45</td>\n",
       "      <td>10</td>\n",
       "      <td>10</td>\n",
       "      <td>0</td>\n",
       "      <td>0</td>\n",
       "    </tr>\n",
       "    <tr>\n",
       "      <th>3</th>\n",
       "      <td>110</td>\n",
       "      <td>65</td>\n",
       "      <td>60</td>\n",
       "      <td>45</td>\n",
       "      <td>10</td>\n",
       "      <td>10</td>\n",
       "      <td>0</td>\n",
       "      <td>0</td>\n",
       "    </tr>\n",
       "    <tr>\n",
       "      <th>4</th>\n",
       "      <td>120</td>\n",
       "      <td>65</td>\n",
       "      <td>55</td>\n",
       "      <td>40</td>\n",
       "      <td>20</td>\n",
       "      <td>20</td>\n",
       "      <td>30</td>\n",
       "      <td>15</td>\n",
       "    </tr>\n",
       "  </tbody>\n",
       "</table>\n",
       "</div>"
      ],
      "text/plain": [
       "   ソアリン  トイストーリーマニア  タワーオブテラー  センターオブジアース  インディージョーンズ  レイジングスピリッツ  \\\n",
       "0    95          65        50          25           5           5   \n",
       "1    80          65        45          35          10           5   \n",
       "2   110          65        55          45          10          10   \n",
       "3   110          65        60          45          10          10   \n",
       "4   120          65        55          40          20          20   \n",
       "\n",
       "   マジックランプシアター  タートルトーク  \n",
       "0            0        0  \n",
       "1            0        0  \n",
       "2            0        0  \n",
       "3            0        0  \n",
       "4           30       15  "
      ]
     },
     "execution_count": 29,
     "metadata": {},
     "output_type": "execute_result"
    }
   ],
   "source": [
    "df=pd.concat([TDS_7, TDS_8], ignore_index=True)\n",
    "df = df.drop(columns=['Unnamed: 0', '時間', '曜日_数値', '曜日', '休日'])\n",
    "df.head()"
   ]
  },
  {
   "cell_type": "code",
   "execution_count": 30,
   "id": "2cc7b0ca-4a70-4054-b41a-6d131e95f54d",
   "metadata": {},
   "outputs": [
    {
     "data": {
      "text/plain": [
       "ソアリン           84.413842\n",
       "トイストーリーマニア     68.810028\n",
       "タワーオブテラー       55.205685\n",
       "センターオブジアース     45.221575\n",
       "インディージョーンズ     33.131179\n",
       "レイジングスピリッツ     28.129414\n",
       "マジックランプシアター    19.480932\n",
       "タートルトーク        21.972105\n",
       "dtype: float64"
      ]
     },
     "metadata": {},
     "output_type": "display_data"
    }
   ],
   "source": [
    "ranking=df.mean()\n",
    "display(ranking)"
   ]
  },
  {
   "cell_type": "code",
   "execution_count": 31,
   "id": "6b90a61a-6d5f-4e94-b6ce-718d1d3b9314",
   "metadata": {},
   "outputs": [
    {
     "name": "stdout",
     "output_type": "stream",
     "text": [
      "待ち時間でソート（降順）:\n",
      "        アトラクション       待ち時間\n",
      "0         ソアリン  84.413842\n",
      "1   トイストーリーマニア  68.810028\n",
      "2     タワーオブテラー  55.205685\n",
      "3   センターオブジアース  45.221575\n",
      "4   インディージョーンズ  33.131179\n",
      "5   レイジングスピリッツ  28.129414\n",
      "7      タートルトーク  21.972105\n",
      "6  マジックランプシアター  19.480932\n"
     ]
    }
   ],
   "source": [
    "data = {\n",
    "    'アトラクション': ['ソアリン', 'トイストーリーマニア', 'タワーオブテラー', 'センターオブジアース', 'インディージョーンズ', 'レイジングスピリッツ', 'マジックランプシアター', 'タートルトーク'],\n",
    "    '待ち時間': [84.413842, 68.810028, 55.205685, 45.221575, 33.131179, 28.129414, 19.480932, 21.972105]\n",
    "}\n",
    "\n",
    "# DataFrameに変換\n",
    "df = pd.DataFrame(data)\n",
    "\n",
    "sorted_df_desc = df.sort_values(by='待ち時間', ascending=False)\n",
    "print(\"待ち時間でソート（降順）:\\n\", sorted_df_desc)"
   ]
  },
  {
   "cell_type": "code",
   "execution_count": 32,
   "id": "4cf6e3ea-82a6-4c9b-8db4-7aa4a6938722",
   "metadata": {},
   "outputs": [
    {
     "name": "stdout",
     "output_type": "stream",
     "text": [
      "四捨五入したデータフレーム:\n",
      "        アトラクション  weight\n",
      "0         ソアリン    84.0\n",
      "1   トイストーリーマニア    69.0\n",
      "2     タワーオブテラー    55.0\n",
      "3   センターオブジアース    45.0\n",
      "4   インディージョーンズ    33.0\n",
      "5   レイジングスピリッツ    28.0\n",
      "6  マジックランプシアター    19.0\n",
      "7      タートルトーク    22.0\n"
     ]
    }
   ],
   "source": [
    "df['weight'] = df['待ち時間'].round()\n",
    "df=df.drop(columns=['待ち時間'])\n",
    "\n",
    "# 結果を表示\n",
    "print(\"四捨五入したデータフレーム:\\n\", df)"
   ]
  },
  {
   "cell_type": "code",
   "execution_count": 35,
   "id": "6ce36bc0-74a3-4069-b6e6-5f360d5b03a6",
   "metadata": {},
   "outputs": [
    {
     "data": {
      "text/html": [
       "<div>\n",
       "<style scoped>\n",
       "    .dataframe tbody tr th:only-of-type {\n",
       "        vertical-align: middle;\n",
       "    }\n",
       "\n",
       "    .dataframe tbody tr th {\n",
       "        vertical-align: top;\n",
       "    }\n",
       "\n",
       "    .dataframe thead th {\n",
       "        text-align: right;\n",
       "    }\n",
       "</style>\n",
       "<table border=\"1\" class=\"dataframe\">\n",
       "  <thead>\n",
       "    <tr style=\"text-align: right;\">\n",
       "      <th></th>\n",
       "      <th>アトラクション</th>\n",
       "      <th>weight</th>\n",
       "    </tr>\n",
       "  </thead>\n",
       "  <tbody>\n",
       "    <tr>\n",
       "      <th>0</th>\n",
       "      <td>ソアリン</td>\n",
       "      <td>84</td>\n",
       "    </tr>\n",
       "    <tr>\n",
       "      <th>1</th>\n",
       "      <td>トイストーリーマニア</td>\n",
       "      <td>69</td>\n",
       "    </tr>\n",
       "    <tr>\n",
       "      <th>2</th>\n",
       "      <td>タワーオブテラー</td>\n",
       "      <td>55</td>\n",
       "    </tr>\n",
       "    <tr>\n",
       "      <th>3</th>\n",
       "      <td>センターオブジアース</td>\n",
       "      <td>45</td>\n",
       "    </tr>\n",
       "    <tr>\n",
       "      <th>4</th>\n",
       "      <td>インディージョーンズ</td>\n",
       "      <td>33</td>\n",
       "    </tr>\n",
       "  </tbody>\n",
       "</table>\n",
       "</div>"
      ],
      "text/plain": [
       "      アトラクション  weight\n",
       "0        ソアリン      84\n",
       "1  トイストーリーマニア      69\n",
       "2    タワーオブテラー      55\n",
       "3  センターオブジアース      45\n",
       "4  インディージョーンズ      33"
      ]
     },
     "execution_count": 35,
     "metadata": {},
     "output_type": "execute_result"
    }
   ],
   "source": [
    "data = {\n",
    "    'アトラクション': ['ソアリン', 'トイストーリーマニア', 'タワーオブテラー', 'センターオブジアース', 'インディージョーンズ', 'レイジングスピリッツ', 'マジックランプシアター', 'タートルトーク'],\n",
    "    'weight': [84, 69, 55, 45, 33, 28, 19, 22]\n",
    "}\n",
    "\n",
    "df = pd.DataFrame(data)\n",
    "\n",
    "# 結果を表示\n",
    "df.head()\n"
   ]
  },
  {
   "cell_type": "code",
   "execution_count": null,
   "id": "cf933bac-8f51-42d7-8752-482c7216f641",
   "metadata": {},
   "outputs": [],
   "source": []
  },
  {
   "cell_type": "code",
   "execution_count": null,
   "id": "c82bbb3f-115e-4e3a-864f-4200d73f632b",
   "metadata": {},
   "outputs": [],
   "source": [
    "attractions = {\n",
    "    0: 'ソアリン',\n",
    "    1: 'トイストーリーマニア',\n",
    "    2: 'タワーオブテラー',\n",
    "    3: 'センターオブジアース',\n",
    "    4: 'インディージョーンズ',\n",
    "    5: 'レイジングスピリッツ',\n",
    "    6: 'マジックランプシアター',\n",
    "    7: 'タートルトーク'\n",
    "}"
   ]
  },
  {
   "cell_type": "code",
   "execution_count": null,
   "id": "987ee2e0-3be4-4e49-a6e9-c1a3da7866e3",
   "metadata": {},
   "outputs": [],
   "source": [
    "move_time = [\n",
    "    [0,4],\n",
    "    [],\n",
    "    [],\n",
    "    [],\n",
    "    [],\n",
    "    [],\n",
    "    [],\n",
    "    []\n",
    "]"
   ]
  },
  {
   "cell_type": "code",
   "execution_count": null,
   "id": "bfdf55a0-cd07-4554-8367-34772c968e10",
   "metadata": {},
   "outputs": [],
   "source": []
  },
  {
   "cell_type": "code",
   "execution_count": 1,
   "id": "51af64b2-4d20-44c5-8d8f-410e9233a171",
   "metadata": {},
   "outputs": [
    {
     "name": "stdout",
     "output_type": "stream",
     "text": [
      "組み合わせの総数: 170544\n",
      "(1, 1, 1, 1, 1, 1, 1, 1, 1, 1, 1, 1, 1, 1, 1)\n",
      "(1, 1, 1, 1, 1, 1, 1, 1, 1, 1, 1, 1, 1, 1, 2)\n",
      "(1, 1, 1, 1, 1, 1, 1, 1, 1, 1, 1, 1, 1, 1, 3)\n",
      "(1, 1, 1, 1, 1, 1, 1, 1, 1, 1, 1, 1, 1, 1, 4)\n",
      "(1, 1, 1, 1, 1, 1, 1, 1, 1, 1, 1, 1, 1, 1, 5)\n",
      "(1, 1, 1, 1, 1, 1, 1, 1, 1, 1, 1, 1, 1, 1, 6)\n",
      "(1, 1, 1, 1, 1, 1, 1, 1, 1, 1, 1, 1, 1, 1, 7)\n",
      "(1, 1, 1, 1, 1, 1, 1, 1, 1, 1, 1, 1, 1, 1, 8)\n",
      "(1, 1, 1, 1, 1, 1, 1, 1, 1, 1, 1, 1, 1, 2, 2)\n",
      "(1, 1, 1, 1, 1, 1, 1, 1, 1, 1, 1, 1, 1, 2, 3)\n"
     ]
    }
   ],
   "source": [
    "import itertools\n",
    "\n",
    "# 8種類のアイテムを定義\n",
    "items = list(range(1, 9))\n",
    "\n",
    "# 重複を許す組み合わせを計算\n",
    "combinations = list(itertools.combinations_with_replacement(items, 15))\n",
    "\n",
    "# 組み合わせの数を表示\n",
    "print(f\"組み合わせの総数: {len(combinations)}\")\n",
    "\n",
    "# 最初の10個の組み合わせを表示\n",
    "for comb in combinations[:10]:\n",
    "    print(comb)\n"
   ]
  },
  {
   "cell_type": "code",
   "execution_count": null,
   "id": "281de4fc-303b-41d4-b411-4affa5f59afd",
   "metadata": {},
   "outputs": [],
   "source": []
  },
  {
   "cell_type": "code",
   "execution_count": 1,
   "id": "415df2b9-3547-43c5-a7fb-a47f19ae0d72",
   "metadata": {},
   "outputs": [
    {
     "data": {
      "text/plain": [
       "1152921504606846976"
      ]
     },
     "execution_count": 1,
     "metadata": {},
     "output_type": "execute_result"
    }
   ],
   "source": [
    "8**20"
   ]
  },
  {
   "cell_type": "code",
   "execution_count": null,
   "id": "4cfaa8c0-5eeb-44a1-94c9-0093e7a02087",
   "metadata": {},
   "outputs": [],
   "source": []
  },
  {
   "cell_type": "code",
   "execution_count": null,
   "id": "482829eb-de12-41a3-ad00-581a41de35cb",
   "metadata": {},
   "outputs": [],
   "source": []
  },
  {
   "cell_type": "code",
   "execution_count": 5,
   "id": "3c544afd-ef38-4449-b370-a7882a096177",
   "metadata": {},
   "outputs": [
    {
     "data": {
      "text/html": [
       "<div>\n",
       "<style scoped>\n",
       "    .dataframe tbody tr th:only-of-type {\n",
       "        vertical-align: middle;\n",
       "    }\n",
       "\n",
       "    .dataframe tbody tr th {\n",
       "        vertical-align: top;\n",
       "    }\n",
       "\n",
       "    .dataframe thead th {\n",
       "        text-align: right;\n",
       "    }\n",
       "</style>\n",
       "<table border=\"1\" class=\"dataframe\">\n",
       "  <thead>\n",
       "    <tr style=\"text-align: right;\">\n",
       "      <th></th>\n",
       "      <th>File Name</th>\n",
       "      <th>Sum</th>\n",
       "    </tr>\n",
       "  </thead>\n",
       "  <tbody>\n",
       "    <tr>\n",
       "      <th>64</th>\n",
       "      <td>2023-08-10.csv</td>\n",
       "      <td>45915</td>\n",
       "    </tr>\n",
       "    <tr>\n",
       "      <th>97</th>\n",
       "      <td>2022-08-12.csv</td>\n",
       "      <td>43990</td>\n",
       "    </tr>\n",
       "    <tr>\n",
       "      <th>38</th>\n",
       "      <td>2022-07-17.csv</td>\n",
       "      <td>43685</td>\n",
       "    </tr>\n",
       "    <tr>\n",
       "      <th>113</th>\n",
       "      <td>2022-08-14.csv</td>\n",
       "      <td>42800</td>\n",
       "    </tr>\n",
       "    <tr>\n",
       "      <th>76</th>\n",
       "      <td>2023-08-17.csv</td>\n",
       "      <td>42235</td>\n",
       "    </tr>\n",
       "    <tr>\n",
       "      <th>...</th>\n",
       "      <td>...</td>\n",
       "      <td>...</td>\n",
       "    </tr>\n",
       "    <tr>\n",
       "      <th>54</th>\n",
       "      <td>2022-07-13.csv</td>\n",
       "      <td>25590</td>\n",
       "    </tr>\n",
       "    <tr>\n",
       "      <th>55</th>\n",
       "      <td>2022-07-07.csv</td>\n",
       "      <td>25050</td>\n",
       "    </tr>\n",
       "    <tr>\n",
       "      <th>66</th>\n",
       "      <td>2022-07-20.csv</td>\n",
       "      <td>24680</td>\n",
       "    </tr>\n",
       "    <tr>\n",
       "      <th>47</th>\n",
       "      <td>2022-07-04.csv</td>\n",
       "      <td>24615</td>\n",
       "    </tr>\n",
       "    <tr>\n",
       "      <th>56</th>\n",
       "      <td>2022-07-06.csv</td>\n",
       "      <td>23860</td>\n",
       "    </tr>\n",
       "  </tbody>\n",
       "</table>\n",
       "<p>118 rows × 2 columns</p>\n",
       "</div>"
      ],
      "text/plain": [
       "          File Name    Sum\n",
       "64   2023-08-10.csv  45915\n",
       "97   2022-08-12.csv  43990\n",
       "38   2022-07-17.csv  43685\n",
       "113  2022-08-14.csv  42800\n",
       "76   2023-08-17.csv  42235\n",
       "..              ...    ...\n",
       "54   2022-07-13.csv  25590\n",
       "55   2022-07-07.csv  25050\n",
       "66   2022-07-20.csv  24680\n",
       "47   2022-07-04.csv  24615\n",
       "56   2022-07-06.csv  23860\n",
       "\n",
       "[118 rows x 2 columns]"
      ]
     },
     "metadata": {},
     "output_type": "display_data"
    }
   ],
   "source": [
    "import os\n",
    "import pandas as pd\n",
    "\n",
    "# ディレクトリの指定\n",
    "directory = './date_data2/'\n",
    "\n",
    "# 空のリストを作成\n",
    "file_sums = []\n",
    "\n",
    "# \"re\"で始まり\"review.csv\"で終わるファイルをリストに格納\n",
    "csv_files = [f for f in os.listdir(directory) if f.endswith('.csv')]\n",
    "\n",
    "# 各ファイルについて処理を行う\n",
    "for file in csv_files:\n",
    "    file_path = os.path.join(directory, file)\n",
    "    \n",
    "    # CSVファイルを読み込み、2行目以降を取得\n",
    "    df = pd.read_csv(file_path)\n",
    "    \n",
    "    # 2行目以降の数値部分の合計を計算\n",
    "    numeric_sum = df.iloc[1:].select_dtypes(include='number').sum().sum()  # 数値列だけを選び、合計\n",
    "    \n",
    "    # ファイル名と合計値をリストに追加\n",
    "    file_sums.append({'File Name': file, 'Sum': numeric_sum})\n",
    "\n",
    "# データフレームに変換\n",
    "summary_df = pd.DataFrame(file_sums)\n",
    "\n",
    "sorted_df = summary_df.sort_values(by='Sum', ascending=False)\n",
    "\n",
    "# 結果を表示\n",
    "display(sorted_df)\n"
   ]
  },
  {
   "cell_type": "code",
   "execution_count": null,
   "id": "6863ad0c-f721-4c58-9ab1-f87bb1a0c536",
   "metadata": {},
   "outputs": [],
   "source": []
  },
  {
   "cell_type": "code",
   "execution_count": null,
   "id": "577911d8-20a4-481e-8664-4da36c308664",
   "metadata": {},
   "outputs": [],
   "source": []
  },
  {
   "cell_type": "code",
   "execution_count": 6,
   "id": "acd2134a-abc7-4457-8dd0-3baac11dca01",
   "metadata": {},
   "outputs": [
    {
     "name": "stdout",
     "output_type": "stream",
     "text": [
      "Renamed: re_best_results_2023-08-20_r10_t35_review.csv -> re_best_results_2023-08-20_r10_t30_take2_review.csv\n",
      "Renamed: re_best_results_2023-08-30_r10_t35_review.csv -> re_best_results_2023-08-30_r10_t30_take2_review.csv\n",
      "Renamed: re_best_results_2023-08-23_r10_t35_review.csv -> re_best_results_2023-08-23_r10_t30_take2_review.csv\n",
      "Renamed: re_best_results_2023-08-25_r10_t35_review.csv -> re_best_results_2023-08-25_r10_t30_take2_review.csv\n",
      "Renamed: re_best_results_2023-08-28_r10_t35_review.csv -> re_best_results_2023-08-28_r10_t30_take2_review.csv\n",
      "Renamed: re_best_results_2023-08-18_r10_t35_review.csv -> re_best_results_2023-08-18_r10_t30_take2_review.csv\n",
      "Renamed: re_best_results_2023-08-26_r10_t35_review.csv -> re_best_results_2023-08-26_r10_t30_take2_review.csv\n",
      "Renamed: re_best_results_2023-08-27_r10_t35_review.csv -> re_best_results_2023-08-27_r10_t30_take2_review.csv\n",
      "Renamed: re_best_results_2023-08-24_r10_t35_review.csv -> re_best_results_2023-08-24_r10_t30_take2_review.csv\n",
      "Renamed: re_best_results_2023-08-29_r10_t35_review.csv -> re_best_results_2023-08-29_r10_t30_take2_review.csv\n",
      "Renamed: re_best_results_2023-08-19_r10_t35_review.csv -> re_best_results_2023-08-19_r10_t30_take2_review.csv\n",
      "Renamed: re_best_results_2023-08-22_r10_t35_review.csv -> re_best_results_2023-08-22_r10_t30_take2_review.csv\n",
      "Renamed: re_best_results_2023-08-21_r10_t35_review.csv -> re_best_results_2023-08-21_r10_t30_take2_review.csv\n"
     ]
    }
   ],
   "source": [
    "import os\n",
    "\n",
    "def rename_files_in_folder(folder_path):\n",
    "    # 指定フォルダ内のすべてのファイルを取得\n",
    "    for filename in os.listdir(folder_path):\n",
    "        # ファイルが指定のパターンに一致するか確認\n",
    "        if filename.startswith(\"re_best_results_2023-08-\") and filename.endswith(\"t35_review.csv\"):\n",
    "            # 新しいファイル名を作成\n",
    "            new_filename = filename.replace(\"t35_review.csv\", \"t30_take2_review.csv\")\n",
    "            # ファイルのフルパスを取得\n",
    "            old_filepath = os.path.join(folder_path, filename)\n",
    "            new_filepath = os.path.join(folder_path, new_filename)\n",
    "            # ファイルの名前を変更\n",
    "            os.rename(old_filepath, new_filepath)\n",
    "            print(f\"Renamed: {filename} -> {new_filename}\")\n",
    "\n",
    "# 使用例\n",
    "folder_path = \"../graduation-research/automation_best_result_csv/\"  # フォルダのパスを指定\n",
    "rename_files_in_folder(folder_path)\n"
   ]
  },
  {
   "cell_type": "code",
   "execution_count": null,
   "id": "316b3b3f-e931-4ee9-8d9a-0cf6aef791f8",
   "metadata": {},
   "outputs": [],
   "source": []
  },
  {
   "cell_type": "code",
   "execution_count": null,
   "id": "9f9403a6-d7d0-4d5d-a1b9-7fac0d797d39",
   "metadata": {},
   "outputs": [],
   "source": []
  },
  {
   "cell_type": "code",
   "execution_count": null,
   "id": "f35e4c54-8209-4a8a-bdaf-c3685e7c85b6",
   "metadata": {},
   "outputs": [],
   "source": []
  },
  {
   "cell_type": "code",
   "execution_count": null,
   "id": "f566cc6d-e659-4c19-b9c0-59d309140cc3",
   "metadata": {},
   "outputs": [],
   "source": [
    "from sympy import symbols, Eq, Min\n",
    "\n",
    "# 例: アトラクションの待ち時間を変数として定義\n",
    "w1, w2, w3 = symbols('w1 w2 w3')  # 各アトラクションの待ち時間\n",
    "total_wait_time = w1 + w2 + w3  # 総待ち時間の式\n",
    "\n",
    "# 目的関数（例: 待ち時間の最小化）\n",
    "objective_function = Min(total_wait_time)\n",
    "\n",
    "print(\"目的関数:\", objective_function)\n"
   ]
  }
 ],
 "metadata": {
  "kernelspec": {
   "display_name": "Python 3 (ipykernel)",
   "language": "python",
   "name": "python3"
  },
  "language_info": {
   "codemirror_mode": {
    "name": "ipython",
    "version": 3
   },
   "file_extension": ".py",
   "mimetype": "text/x-python",
   "name": "python",
   "nbconvert_exporter": "python",
   "pygments_lexer": "ipython3",
   "version": "3.9.7"
  }
 },
 "nbformat": 4,
 "nbformat_minor": 5
}
